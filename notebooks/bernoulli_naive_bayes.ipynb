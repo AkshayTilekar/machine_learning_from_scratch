{
 "cells": [
  {
   "cell_type": "markdown",
   "metadata": {},
   "source": [
    "# Bernoulli Naive Bayes"
   ]
  },
  {
   "cell_type": "code",
   "execution_count": 1,
   "metadata": {
    "ExecuteTime": {
     "end_time": "2017-10-17T23:30:24.074471Z",
     "start_time": "2017-10-17T23:30:23.497295Z"
    },
    "collapsed": true
   },
   "outputs": [],
   "source": [
    "import numpy as np\n",
    "import random\n",
    "import matplotlib.pyplot as plt\n",
    "import pandas as pd\n",
    "import math\n",
    "import scipy\n",
    "%matplotlib inline\n",
    "plt.style.use('seaborn')"
   ]
  },
  {
   "cell_type": "code",
   "execution_count": 2,
   "metadata": {
    "ExecuteTime": {
     "end_time": "2017-10-17T23:30:24.217451Z",
     "start_time": "2017-10-17T23:30:24.079382Z"
    }
   },
   "outputs": [
    {
     "name": "stdout",
     "output_type": "stream",
     "text": [
      "Python Version: 3.6.2 |Anaconda, Inc.| (default, Sep 21 2017, 18:29:43) \n",
      "[GCC 4.2.1 Compatible Clang 4.0.1 (tags/RELEASE_401/final)] \n",
      "\n",
      "Matplotlib Version: 2.0.2\n",
      "Numpy Version: 1.13.1\n",
      "Pandas Version: 0.20.3\n"
     ]
    }
   ],
   "source": [
    "import numpy as np\n",
    "import sklearn\n",
    "import matplotlib\n",
    "import pandas as pd\n",
    "import sys\n",
    "libraries = (('Matplotlib', matplotlib), ('Numpy', np), ('Pandas', pd))\n",
    "\n",
    "print(\"Python Version:\", sys.version, '\\n')\n",
    "for lib in libraries:\n",
    "    print('{0} Version: {1}'.format(lib[0], lib[1].__version__))"
   ]
  },
  {
   "cell_type": "code",
   "execution_count": 3,
   "metadata": {
    "ExecuteTime": {
     "end_time": "2017-10-17T23:30:24.642553Z",
     "start_time": "2017-10-17T23:30:24.468704Z"
    },
    "collapsed": true
   },
   "outputs": [],
   "source": [
    "import pandas as pd\n",
    "import numpy as np\n",
    "from collections import defaultdict\n",
    "\n",
    "class bernoulli_naive_bayes:\n",
    "    \n",
    "    def __init__(self, smoothing = 1.):\n",
    "        self._prob_by_class = defaultdict(float)\n",
    "        self._cond_probs = defaultdict(lambda: defaultdict(float))\n",
    "        self._data_cols = None\n",
    "        self._smoothing = smoothing\n",
    "    \n",
    "    def fit(self, X, y):\n",
    "        X = self.pandas_to_numpy(X)\n",
    "        y = self.pandas_to_numpy(y)\n",
    "        if not self._data_cols:\n",
    "            try: \n",
    "                self._data_cols = X.shape[1]\n",
    "            except IndexError:\n",
    "                self._data_cols = 1\n",
    "        X = self.check_feature_shape(X)\n",
    "                \n",
    "        self._classes = np.unique(y)\n",
    "        for cl in self._classes:\n",
    "            self._prob_by_class[cl] = len(y[y == cl])/len(y)\n",
    "            denom = len(y[y == cl])\n",
    "            filt = (y == cl)\n",
    "            filtered_data = X[filt]\n",
    "            for col in range(self._data_cols):\n",
    "                binarized_column = filtered_data.T[col] > 0\n",
    "                self._cond_probs[cl][col] = (np.sum(binarized_column)+self._smoothing)/(denom+self._smoothing) \n",
    "                \n",
    "    def predict(self, X):\n",
    "        X = self.pandas_to_numpy(X)\n",
    "        X = self.check_feature_shape(X)\n",
    "        X = (X > 0).astype(int) # convert to 1 or 0\n",
    "        results = []\n",
    "        for row in X:\n",
    "            beliefs = []\n",
    "            for cl in self._classes:\n",
    "                prob_for_class = self._prob_by_class[cl]\n",
    "                for col in range(self._data_cols):\n",
    "                    p = self._cond_probs[cl][col]\n",
    "                    prob_for_class *= (p*row[col] + (1-p)*(1-row[col]))\n",
    "                beliefs.append([cl, prob_for_class])\n",
    "            sort_beliefs = sorted(beliefs, key=lambda x: x[1], reverse=True)\n",
    "            results.append(sort_beliefs[0][0])\n",
    "        return results\n",
    "    \n",
    "    def score(self, X, y):\n",
    "        \"\"\"\n",
    "        Uses the predict method to measure the accuracy of the model.\n",
    "        ---\n",
    "        In: X (list or array), feature matrix; y (list or array) labels\n",
    "        Out: accuracy (float)\n",
    "        \"\"\"\n",
    "        pred = self.predict(X)\n",
    "        correct = 0\n",
    "        for i,j in zip(y,pred):\n",
    "            if i == j:\n",
    "                correct+=1\n",
    "        return float(correct)/float(len(y))\n",
    "      \n",
    "    def check_feature_shape(self, X):\n",
    "        \"\"\"\n",
    "        Helper function to make sure any new data conforms to the fit data shape\n",
    "        ---\n",
    "        In: numpy array, (unknown shape)\n",
    "        Out: numpy array, shape: (rows, self.data_cols)\"\"\"\n",
    "        return X.reshape(-1,self._data_cols)\n",
    "            \n",
    "    \n",
    "    def pandas_to_numpy(self, x):\n",
    "        \"\"\"\n",
    "        Checks if the input is a Dataframe or series, converts to numpy matrix for\n",
    "        calculation purposes.\n",
    "        ---\n",
    "        Input: X (array, dataframe, or series)\n",
    "        \n",
    "        Output: X (array)\n",
    "        \"\"\"\n",
    "        if type(x) == type(pd.DataFrame()) or type(x) == type(pd.Series()):\n",
    "            return np.array(x)\n",
    "        if type(x) == type(np.array([1,2])):\n",
    "            return x\n",
    "        return np.array(x)"
   ]
  },
  {
   "cell_type": "code",
   "execution_count": 4,
   "metadata": {
    "ExecuteTime": {
     "end_time": "2017-10-17T23:30:26.474891Z",
     "start_time": "2017-10-17T23:30:26.224934Z"
    },
    "collapsed": true
   },
   "outputs": [],
   "source": [
    "from sklearn.datasets import load_iris\n",
    "def get_data():\n",
    "    votes = [0,1]\n",
    "    senators = np.random.choice(votes, replace=True, size=(100,4))\n",
    "    df = pd.DataFrame(senators, columns=['vote1','vote2','vote3','vote4'])\n",
    "    \n",
    "    def calculate_party(row):\n",
    "        x = row['vote1']\n",
    "        y = row['vote2']\n",
    "        z = row['vote3']\n",
    "\n",
    "        party = 0.7*x + 0.5*y - z + np.random.normal(0,0.3)\n",
    "        if party > 0.1:\n",
    "            return 'Dem'\n",
    "        elif party > 0.01:\n",
    "            return 'Ind'\n",
    "        else:\n",
    "            return 'Rep'\n",
    "    \n",
    "    df['party'] = df.apply(calculate_party,axis=1)\n",
    "    print(df.party.value_counts())\n",
    "    return df.iloc[:,:-1],df.iloc[:,-1]\n",
    "    "
   ]
  },
  {
   "cell_type": "code",
   "execution_count": 5,
   "metadata": {
    "ExecuteTime": {
     "end_time": "2017-10-17T23:30:27.121914Z",
     "start_time": "2017-10-17T23:30:27.109433Z"
    }
   },
   "outputs": [
    {
     "name": "stdout",
     "output_type": "stream",
     "text": [
      "Dem    52\n",
      "Rep    44\n",
      "Ind     4\n",
      "Name: party, dtype: int64\n"
     ]
    }
   ],
   "source": [
    "X, y = get_data()"
   ]
  },
  {
   "cell_type": "code",
   "execution_count": 7,
   "metadata": {
    "ExecuteTime": {
     "end_time": "2017-10-17T23:30:32.118475Z",
     "start_time": "2017-10-17T23:30:32.113253Z"
    }
   },
   "outputs": [],
   "source": [
    "nb = bernoulli_naive_bayes()\n",
    "nb.fit(X.iloc[:90],y.iloc[:90])"
   ]
  },
  {
   "cell_type": "code",
   "execution_count": 8,
   "metadata": {
    "ExecuteTime": {
     "end_time": "2017-10-17T23:30:32.692721Z",
     "start_time": "2017-10-17T23:30:32.685634Z"
    }
   },
   "outputs": [
    {
     "data": {
      "text/plain": [
       "defaultdict(<function __main__.bernoulli_naive_bayes.__init__.<locals>.<lambda>>,\n",
       "            {'Dem': defaultdict(float,\n",
       "                         {0: 0.65957446808510634,\n",
       "                          1: 0.63829787234042556,\n",
       "                          2: 0.19148936170212766,\n",
       "                          3: 0.55319148936170215}),\n",
       "             'Ind': defaultdict(float,\n",
       "                         {0: 0.40000000000000002,\n",
       "                          1: 0.80000000000000004,\n",
       "                          2: 0.40000000000000002,\n",
       "                          3: 0.40000000000000002}),\n",
       "             'Rep': defaultdict(float,\n",
       "                         {0: 0.41463414634146339,\n",
       "                          1: 0.31707317073170732,\n",
       "                          2: 0.85365853658536583,\n",
       "                          3: 0.53658536585365857})})"
      ]
     },
     "execution_count": 8,
     "metadata": {},
     "output_type": "execute_result"
    }
   ],
   "source": [
    "nb._cond_probs"
   ]
  },
  {
   "cell_type": "code",
   "execution_count": 9,
   "metadata": {
    "ExecuteTime": {
     "end_time": "2017-10-17T23:30:34.304215Z",
     "start_time": "2017-10-17T23:30:34.298471Z"
    }
   },
   "outputs": [
    {
     "data": {
      "text/plain": [
       "defaultdict(float,\n",
       "            {'Dem': 0.5111111111111111,\n",
       "             'Ind': 0.044444444444444446,\n",
       "             'Rep': 0.4444444444444444})"
      ]
     },
     "execution_count": 9,
     "metadata": {},
     "output_type": "execute_result"
    }
   ],
   "source": [
    "nb._prob_by_class"
   ]
  },
  {
   "cell_type": "code",
   "execution_count": 10,
   "metadata": {
    "ExecuteTime": {
     "end_time": "2017-10-17T23:30:37.001830Z",
     "start_time": "2017-10-17T23:30:36.995914Z"
    }
   },
   "outputs": [
    {
     "data": {
      "text/plain": [
       "['Rep', 'Rep']"
      ]
     },
     "execution_count": 10,
     "metadata": {},
     "output_type": "execute_result"
    }
   ],
   "source": [
    "nb.predict(X.iloc[0:2])"
   ]
  },
  {
   "cell_type": "code",
   "execution_count": 11,
   "metadata": {
    "ExecuteTime": {
     "end_time": "2017-10-17T23:30:39.470659Z",
     "start_time": "2017-10-17T23:30:39.464401Z"
    }
   },
   "outputs": [
    {
     "data": {
      "text/plain": [
       "0.8"
      ]
     },
     "execution_count": 11,
     "metadata": {},
     "output_type": "execute_result"
    }
   ],
   "source": [
    "nb.score(X.iloc[90:],y.iloc[90:])"
   ]
  },
  {
   "cell_type": "code",
   "execution_count": 12,
   "metadata": {
    "ExecuteTime": {
     "end_time": "2017-10-17T23:30:41.742948Z",
     "start_time": "2017-10-17T23:30:41.627225Z"
    }
   },
   "outputs": [
    {
     "data": {
      "text/plain": [
       "0.80000000000000004"
      ]
     },
     "execution_count": 12,
     "metadata": {},
     "output_type": "execute_result"
    }
   ],
   "source": [
    "from sklearn.naive_bayes import BernoulliNB\n",
    "\n",
    "nb_sk = BernoulliNB()\n",
    "nb_sk.fit(X.iloc[:90],y.iloc[:90])\n",
    "nb_sk.score(X.iloc[90:],y.iloc[90:])"
   ]
  },
  {
   "cell_type": "code",
   "execution_count": null,
   "metadata": {
    "collapsed": true
   },
   "outputs": [],
   "source": []
  }
 ],
 "metadata": {
  "kernelspec": {
   "display_name": "Python [default]",
   "language": "python",
   "name": "python3"
  },
  "language_info": {
   "codemirror_mode": {
    "name": "ipython",
    "version": 3
   },
   "file_extension": ".py",
   "mimetype": "text/x-python",
   "name": "python",
   "nbconvert_exporter": "python",
   "pygments_lexer": "ipython3",
   "version": "3.6.2"
  },
  "toc": {
   "nav_menu": {},
   "number_sections": true,
   "sideBar": true,
   "skip_h1_title": false,
   "toc_cell": false,
   "toc_position": {},
   "toc_section_display": "block",
   "toc_window_display": false
  }
 },
 "nbformat": 4,
 "nbformat_minor": 2
}
