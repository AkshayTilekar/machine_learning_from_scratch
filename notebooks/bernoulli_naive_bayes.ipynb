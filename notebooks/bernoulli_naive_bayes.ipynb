{
 "cells": [
  {
   "cell_type": "markdown",
   "metadata": {},
   "source": [
    "# Bernoulli Naive Bayes"
   ]
  },
  {
   "cell_type": "code",
   "execution_count": 1,
   "metadata": {
    "ExecuteTime": {
     "end_time": "2017-10-18T17:48:31.276420Z",
     "start_time": "2017-10-18T17:48:30.721399Z"
    },
    "collapsed": true
   },
   "outputs": [],
   "source": [
    "import numpy as np\n",
    "import random\n",
    "import matplotlib.pyplot as plt\n",
    "import pandas as pd\n",
    "import math\n",
    "import scipy\n",
    "%matplotlib inline\n",
    "plt.style.use('seaborn')"
   ]
  },
  {
   "cell_type": "code",
   "execution_count": 2,
   "metadata": {
    "ExecuteTime": {
     "end_time": "2017-10-18T17:48:31.372270Z",
     "start_time": "2017-10-18T17:48:31.278805Z"
    }
   },
   "outputs": [
    {
     "name": "stdout",
     "output_type": "stream",
     "text": [
      "Python Version: 3.6.2 |Anaconda, Inc.| (default, Sep 21 2017, 18:29:43) \n",
      "[GCC 4.2.1 Compatible Clang 4.0.1 (tags/RELEASE_401/final)] \n",
      "\n",
      "Matplotlib Version: 2.0.2\n",
      "Numpy Version: 1.13.1\n",
      "Pandas Version: 0.20.3\n"
     ]
    }
   ],
   "source": [
    "import numpy as np\n",
    "import sklearn\n",
    "import matplotlib\n",
    "import pandas as pd\n",
    "import sys\n",
    "libraries = (('Matplotlib', matplotlib), ('Numpy', np), ('Pandas', pd))\n",
    "\n",
    "print(\"Python Version:\", sys.version, '\\n')\n",
    "for lib in libraries:\n",
    "    print('{0} Version: {1}'.format(lib[0], lib[1].__version__))"
   ]
  },
  {
   "cell_type": "code",
   "execution_count": 1010,
   "metadata": {
    "ExecuteTime": {
     "end_time": "2017-10-19T14:33:04.250092Z",
     "start_time": "2017-10-19T14:33:03.935880Z"
    },
    "collapsed": true
   },
   "outputs": [],
   "source": [
    "import pandas as pd\n",
    "import numpy as np\n",
    "from collections import defaultdict\n",
    "\n",
    "class bernoulli_naive_bayes:\n",
    "    \n",
    "    def __init__(self, smoothing = 1.):\n",
    "        \"\"\"\n",
    "        Bernoulli Naive Bayes builds it's understanding of the data by\n",
    "        applying Bayes rule and calculating the conditional probability of\n",
    "        being a class based on a probabilistic understanding of how the \n",
    "        class has behaved before. We only care if a feature is zero or non-zero\n",
    "        in this style of naive bayes and will calculate our conditional probabilities\n",
    "        accordingly. \n",
    "        ---\n",
    "        Inputs:\n",
    "        smoothing: the Laplace smoothing factor overcome the problem of multiplying\n",
    "        a 0 probability, that causes the total probability to be 0.\n",
    "        \"\"\"\n",
    "        self._prob_by_class = defaultdict(float)\n",
    "        self._cond_probs = defaultdict(lambda: defaultdict(float))\n",
    "        self._log_prob_by_class = defaultdict(float)\n",
    "        self._log_cond_probs = defaultdict(lambda: defaultdict(float))\n",
    "        self._data_cols = None\n",
    "        self._smoothing = smoothing\n",
    "    \n",
    "    def fit(self, X, y):\n",
    "        \"\"\"\n",
    "        For each class, we find out what percentage of the data is that class.\n",
    "        We then filter the data so only the rows that are that class remain,\n",
    "        and then go column by column - calculating what percentage of rows are\n",
    "        non-zero, given the class. We store all of these values to be used later \n",
    "        for predictions. We also store the log of these values for later prediction.\n",
    "        ---\n",
    "        Input: X, data (array/DataFrame)\n",
    "        y, targets (array/Series)\n",
    "        \"\"\"\n",
    "        X = self.pandas_to_numpy(X)\n",
    "        y = self.pandas_to_numpy(y)\n",
    "        if not self._data_cols:\n",
    "            try: \n",
    "                self._data_cols = X.shape[1]\n",
    "            except IndexError:\n",
    "                self._data_cols = 1\n",
    "        X = self.check_feature_shape(X)\n",
    "        self._classes = np.unique(y)\n",
    "        \n",
    "        for cl in self._classes:\n",
    "            self._prob_by_class[cl] = len(y[y == cl])/len(y)\n",
    "            self._log_prob_by_class[cl] = np.log(self._prob_by_class[cl])\n",
    "            denom = len(y[y == cl])\n",
    "            filt = (y == cl)\n",
    "            filtered_data = X[filt]\n",
    "            for col in range(self._data_cols):\n",
    "                binarized_column = filtered_data.T[col] > 0\n",
    "                num_ones = np.sum(binarized_column)\n",
    "                #smoothing applied here so we never get a zero probability\n",
    "                self._cond_probs[cl][col] = (num_ones+self._smoothing)/(denom+self._smoothing) \n",
    "                self._log_cond_probs[cl][col] = np.log(self._cond_probs[cl][col])\n",
    "                \n",
    "    def predict(self, X):\n",
    "        \"\"\"\n",
    "        Wrapper to return only the class of the prediction\n",
    "        ---\n",
    "        Input: X, data (array/dataframe)\n",
    "        \"\"\"\n",
    "        return self._predict(X, mode=\"predict\")\n",
    "    \n",
    "    def predict_proba(self, X):\n",
    "        \"\"\"\n",
    "        Wrapper to return probability of each class of the prediction\n",
    "        ---\n",
    "        Input: X, data (array/dataframe)\n",
    "        \"\"\"\n",
    "        return self._predict(X, mode=\"predict_proba\")\n",
    "    \n",
    "    def predict_log_proba(self, X):\n",
    "        \"\"\"\n",
    "        Wrapper to return log of the probability of each class of \n",
    "        the prediction.\n",
    "        ---\n",
    "        Input: X, data (array/dataframe)\n",
    "        \"\"\"\n",
    "        return self._predict(X, mode=\"predict_log_proba\")\n",
    "    \n",
    "    def _predict(self, X, mode=\"predict\"):\n",
    "        \"\"\"\n",
    "        For each data point, we go through and calculate the probability\n",
    "        of it being each class. We do so by using the probability of\n",
    "        seeing each value per feature, then combining them together with \n",
    "        the class probability. We work in the log space to fight against\n",
    "        combining too many really small or large values and under/over \n",
    "        flowing Python's memory capabilities for a float. Depending on the mode\n",
    "        we return either the prediction, the probabilities for each class,\n",
    "        or the log of the probabilities for each class.\n",
    "        ---\n",
    "        Inputs: X, data (array/DataFrame)\n",
    "        mode: type of prediction to return, defaults to single prediction mode\n",
    "        \"\"\"\n",
    "        X = self.pandas_to_numpy(X)\n",
    "        X = self.check_feature_shape(X)\n",
    "        X = (X > 0).astype(int) # convert to 1 or 0\n",
    "        results = []\n",
    "        for row in X:\n",
    "            beliefs = []\n",
    "            for cl in self._classes:\n",
    "                prob_for_class = self._log_prob_by_class[cl]\n",
    "                for col in range(self._data_cols):\n",
    "                    p = self._log_cond_probs[cl][col]\n",
    "                    # The row or (1-row) chooses either the 0 or 1 probability\n",
    "                    # based on whether our row is a 0 or 1.\n",
    "                    prob_for_class += p*row[col] + (1-p)*(1-row[col])\n",
    "                beliefs.append([cl, prob_for_class])\n",
    "            \n",
    "            if mode == \"predict_log_proba\":\n",
    "                _, log_probs = zip(*beliefs)\n",
    "                results.append(log_probs)\n",
    "            \n",
    "            elif mode == \"predict_proba\":\n",
    "                _, probs = zip(*beliefs)\n",
    "                unlog_probs = np.exp(probs)\n",
    "                normed_probs = unlog_probs/np.sum(unlog_probs)\n",
    "                results.append(normed_probs)\n",
    "            \n",
    "            else:\n",
    "                sort_beliefs = sorted(beliefs, key=lambda x: x[1], reverse=True)\n",
    "                results.append(sort_beliefs[0][0])\n",
    "        \n",
    "        return results\n",
    "    \n",
    "    def score(self, X, y):\n",
    "        \"\"\"\n",
    "        Uses the predict method to measure the accuracy of the model.\n",
    "        ---\n",
    "        In: X (list or array), feature matrix; y (list or array) labels\n",
    "        Out: accuracy (float)\n",
    "        \"\"\"\n",
    "        pred = self.predict(X)\n",
    "        correct = 0\n",
    "        for i,j in zip(y,pred):\n",
    "            if i == j:\n",
    "                correct+=1\n",
    "        return float(correct)/float(len(y))\n",
    "      \n",
    "    def check_feature_shape(self, X):\n",
    "        \"\"\"\n",
    "        Helper function to make sure any new data conforms to the fit data shape\n",
    "        ---\n",
    "        In: numpy array, (unknown shape)\n",
    "        Out: numpy array, shape: (rows, self.data_cols)\"\"\"\n",
    "        return X.reshape(-1,self._data_cols)\n",
    "            \n",
    "    \n",
    "    def pandas_to_numpy(self, x):\n",
    "        \"\"\"\n",
    "        Checks if the input is a Dataframe or series, converts to numpy matrix for\n",
    "        calculation purposes.\n",
    "        ---\n",
    "        Input: X (array, dataframe, or series)\n",
    "        \n",
    "        Output: X (array)\n",
    "        \"\"\"\n",
    "        if type(x) == type(pd.DataFrame()) or type(x) == type(pd.Series()):\n",
    "            return np.array(x)\n",
    "        if type(x) == type(np.array([1,2])):\n",
    "            return x\n",
    "        return np.array(x)"
   ]
  },
  {
   "cell_type": "markdown",
   "metadata": {},
   "source": [
    "### Let's test it!\n",
    "\n",
    "Let's generate some data to test with. We'll use the example of senators voting on 4 different issues (only 3 of which are relevant) and then trying to predict which party the senator is from."
   ]
  },
  {
   "cell_type": "code",
   "execution_count": 1009,
   "metadata": {
    "ExecuteTime": {
     "end_time": "2017-10-19T14:32:47.741276Z",
     "start_time": "2017-10-19T14:32:47.713305Z"
    },
    "collapsed": true
   },
   "outputs": [],
   "source": [
    "def get_data():\n",
    "    votes = [0,1]\n",
    "    senators = np.random.choice(votes, replace=True, size=(100,4))\n",
    "    df = pd.DataFrame(senators, columns=['vote1','vote2','vote3','vote4'])\n",
    "    \n",
    "    def calculate_party(row):\n",
    "        x = row['vote1']\n",
    "        y = row['vote2']\n",
    "        z = row['vote3']\n",
    "\n",
    "        party = 0.7*x + 0.5*y - z + np.random.normal(0,0.3)\n",
    "        if party > 0.1:\n",
    "            return 'Dem'\n",
    "        elif party > 0.01:\n",
    "            return 'Ind'\n",
    "        else:\n",
    "            return 'Rep'\n",
    "    \n",
    "    df['party'] = df.apply(calculate_party,axis=1)\n",
    "    print(df.party.value_counts())\n",
    "    return df.iloc[:,:-1],df.iloc[:,-1]\n",
    "    "
   ]
  },
  {
   "cell_type": "code",
   "execution_count": 1022,
   "metadata": {
    "ExecuteTime": {
     "end_time": "2017-10-19T14:36:28.425107Z",
     "start_time": "2017-10-19T14:36:28.413209Z"
    }
   },
   "outputs": [
    {
     "name": "stdout",
     "output_type": "stream",
     "text": [
      "Rep    51\n",
      "Dem    46\n",
      "Ind     3\n",
      "Name: party, dtype: int64\n"
     ]
    }
   ],
   "source": [
    "X, y = get_data()"
   ]
  },
  {
   "cell_type": "code",
   "execution_count": 1023,
   "metadata": {
    "ExecuteTime": {
     "end_time": "2017-10-19T14:36:30.364575Z",
     "start_time": "2017-10-19T14:36:30.358671Z"
    },
    "collapsed": true
   },
   "outputs": [],
   "source": [
    "nb = bernoulli_naive_bayes()\n",
    "nb.fit(X.iloc[:90],y.iloc[:90])"
   ]
  },
  {
   "cell_type": "markdown",
   "metadata": {},
   "source": [
    "Let's look at the probability of voting YES on each issue by what party the senators in our training data were."
   ]
  },
  {
   "cell_type": "code",
   "execution_count": 1024,
   "metadata": {
    "ExecuteTime": {
     "end_time": "2017-10-19T14:36:30.996782Z",
     "start_time": "2017-10-19T14:36:30.990052Z"
    }
   },
   "outputs": [
    {
     "data": {
      "text/plain": [
       "defaultdict(<function __main__.bernoulli_naive_bayes.__init__.<locals>.<lambda>>,\n",
       "            {'Dem': defaultdict(float,\n",
       "                         {0: 0.75,\n",
       "                          1: 0.63636363636363635,\n",
       "                          2: 0.27272727272727271,\n",
       "                          3: 0.45454545454545453}),\n",
       "             'Ind': defaultdict(float,\n",
       "                         {0: 1.0,\n",
       "                          1: 0.66666666666666663,\n",
       "                          2: 1.0,\n",
       "                          3: 0.66666666666666663}),\n",
       "             'Rep': defaultdict(float,\n",
       "                         {0: 0.34782608695652173,\n",
       "                          1: 0.30434782608695654,\n",
       "                          2: 0.78260869565217395,\n",
       "                          3: 0.43478260869565216})})"
      ]
     },
     "execution_count": 1024,
     "metadata": {},
     "output_type": "execute_result"
    }
   ],
   "source": [
    "nb._cond_probs"
   ]
  },
  {
   "cell_type": "markdown",
   "metadata": {},
   "source": [
    "Now we can predict!"
   ]
  },
  {
   "cell_type": "code",
   "execution_count": 1025,
   "metadata": {
    "ExecuteTime": {
     "end_time": "2017-10-19T14:36:31.526009Z",
     "start_time": "2017-10-19T14:36:31.518103Z"
    }
   },
   "outputs": [
    {
     "data": {
      "text/plain": [
       "['Rep', 'Dem']"
      ]
     },
     "execution_count": 1025,
     "metadata": {},
     "output_type": "execute_result"
    }
   ],
   "source": [
    "nb.predict(X.iloc[0:2])"
   ]
  },
  {
   "cell_type": "code",
   "execution_count": 1026,
   "metadata": {
    "ExecuteTime": {
     "end_time": "2017-10-19T14:36:31.870223Z",
     "start_time": "2017-10-19T14:36:31.862802Z"
    }
   },
   "outputs": [
    {
     "data": {
      "text/plain": [
       "[array([ 0.24045621,  0.04725688,  0.71228691]),\n",
       " array([ 0.91187001,  0.01101625,  0.07711374])]"
      ]
     },
     "execution_count": 1026,
     "metadata": {},
     "output_type": "execute_result"
    }
   ],
   "source": [
    "nb.predict_proba(X.iloc[0:2])"
   ]
  },
  {
   "cell_type": "code",
   "execution_count": 1027,
   "metadata": {
    "ExecuteTime": {
     "end_time": "2017-10-19T14:36:32.220591Z",
     "start_time": "2017-10-19T14:36:32.213740Z"
    }
   },
   "outputs": [
    {
     "data": {
      "text/plain": [
       "[(-1.9906529504225101, -3.6175927059866488, -0.90471015415255707),\n",
       " (2.6094635936629902, -1.8066624897703198, 0.13924765928499383)]"
      ]
     },
     "execution_count": 1027,
     "metadata": {},
     "output_type": "execute_result"
    }
   ],
   "source": [
    "nb.predict_log_proba(X.iloc[0:2])"
   ]
  },
  {
   "cell_type": "markdown",
   "metadata": {},
   "source": [
    "We have an accuracy of 90%, which is the same as SkLearn's accuracy!"
   ]
  },
  {
   "cell_type": "code",
   "execution_count": 1028,
   "metadata": {
    "ExecuteTime": {
     "end_time": "2017-10-19T14:36:33.193002Z",
     "start_time": "2017-10-19T14:36:33.185473Z"
    }
   },
   "outputs": [
    {
     "data": {
      "text/plain": [
       "0.9"
      ]
     },
     "execution_count": 1028,
     "metadata": {},
     "output_type": "execute_result"
    }
   ],
   "source": [
    "nb.score(X.iloc[90:],y.iloc[90:])"
   ]
  },
  {
   "cell_type": "code",
   "execution_count": 1029,
   "metadata": {
    "ExecuteTime": {
     "end_time": "2017-10-19T14:36:33.710167Z",
     "start_time": "2017-10-19T14:36:33.699020Z"
    }
   },
   "outputs": [
    {
     "data": {
      "text/plain": [
       "0.90000000000000002"
      ]
     },
     "execution_count": 1029,
     "metadata": {},
     "output_type": "execute_result"
    }
   ],
   "source": [
    "from sklearn.naive_bayes import BernoulliNB\n",
    "\n",
    "nb_sk = BernoulliNB()\n",
    "nb_sk.fit(X.iloc[:90],y.iloc[:90])\n",
    "nb_sk.score(X.iloc[90:],y.iloc[90:])"
   ]
  },
  {
   "cell_type": "markdown",
   "metadata": {},
   "source": [
    "Let's visualize the vote probability by party - by looking at this we can see which YES votes tend to indicate Democrat, Independent, or Republican. Our model is just learning that - in this data sample at least - that Democrats are much more likely to vote yes on the first issue than Republicans. The same is true for Independents, but since they are such a small part of our sample, we aren't likely to guess Independent unless we're VERY sure."
   ]
  },
  {
   "cell_type": "code",
   "execution_count": null,
   "metadata": {
    "ExecuteTime": {
     "end_time": "2017-10-19T14:36:34.544049Z",
     "start_time": "2017-10-19T14:36:34.531183Z"
    }
   },
   "outputs": [],
   "source": [
    "probs = np.zeros((3,4))\n",
    "for cl, d in nb._cond_probs.items():\n",
    "    for val in d.items():\n",
    "        if cl == 'Dem':\n",
    "            i=0\n",
    "        if cl == 'Ind':\n",
    "            i=1\n",
    "        if cl == 'Rep':\n",
    "            i=2\n",
    "        probs[i][val[0]] = val[1]"
   ]
  },
  {
   "cell_type": "code",
   "execution_count": 1031,
   "metadata": {
    "ExecuteTime": {
     "end_time": "2017-10-19T14:36:35.324410Z",
     "start_time": "2017-10-19T14:36:35.120732Z"
    }
   },
   "outputs": [
    {
     "data": {
      "image/png": "[encoded data removed]",
      "text/plain": [
       "<matplotlib.figure.Figure at 0x1a1800b518>"
      ]
     },
     "metadata": {},
     "output_type": "display_data"
    }
   ],
   "source": [
    "plt.style.use('seaborn')\n",
    "fig_plot = plt.imshow(probs, cmap='Blues', interpolation='nearest')\n",
    "plt.grid(False)\n",
    "plt.xticks()\n",
    "ax = plt.gca()\n",
    "ax.set_xticks([0,1,2,3])\n",
    "ax.set_xticklabels(['vote 1','vote 2','vote 3','vote 4'], fontsize=14)\n",
    "ax.set_yticks([0,1,2])\n",
    "ax.set_yticklabels(['Dem','Ind','Rep'], fontsize=14);\n",
    "fig = plt.gcf()\n",
    "cbar = fig.colorbar(fig_plot, ticks=[0, 0.5, 1]);\n",
    "plt.title(\"Probability of Vote by Party (Training Data)\", fontsize=16);"
   ]
  },
  {
   "cell_type": "code",
   "execution_count": null,
   "metadata": {
    "collapsed": true
   },
   "outputs": [],
   "source": []
  }
 ],
 "metadata": {
  "kernelspec": {
   "display_name": "Python [default]",
   "language": "python",
   "name": "python3"
  },
  "language_info": {
   "codemirror_mode": {
    "name": "ipython",
    "version": 3
   },
   "file_extension": ".py",
   "mimetype": "text/x-python",
   "name": "python",
   "nbconvert_exporter": "python",
   "pygments_lexer": "ipython3",
   "version": "3.6.2"
  },
  "toc": {
   "nav_menu": {},
   "number_sections": true,
   "sideBar": true,
   "skip_h1_title": false,
   "toc_cell": false,
   "toc_position": {},
   "toc_section_display": "block",
   "toc_window_display": false
  }
 },
 "nbformat": 4,
 "nbformat_minor": 2
}
