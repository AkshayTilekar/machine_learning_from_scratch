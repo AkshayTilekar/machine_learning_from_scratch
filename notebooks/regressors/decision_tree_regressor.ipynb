{
 "cells": [
  {
   "cell_type": "markdown",
   "metadata": {
    "run_control": {
     "frozen": false,
     "read_only": false
    }
   },
   "source": [
    "# Decision Tree Regressor"
   ]
  },
  {
   "cell_type": "markdown",
   "metadata": {},
   "source": [
    "###### Imports (All imports here for cleanliness)"
   ]
  },
  {
   "cell_type": "code",
   "execution_count": 4,
   "metadata": {
    "ExecuteTime": {
     "end_time": "2017-10-16T19:21:04.341195Z",
     "start_time": "2017-10-16T19:21:04.200250Z"
    },
    "collapsed": true
   },
   "outputs": [],
   "source": [
    "import numpy as np\n",
    "import random\n",
    "import matplotlib.pyplot as plt\n",
    "import pandas as pd\n",
    "import math\n",
    "%matplotlib inline\n",
    "plt.style.use('seaborn')"
   ]
  },
  {
   "cell_type": "markdown",
   "metadata": {},
   "source": [
    "Version Checking"
   ]
  },
  {
   "cell_type": "code",
   "execution_count": 3,
   "metadata": {
    "ExecuteTime": {
     "end_time": "2017-10-13T15:58:04.267354Z",
     "start_time": "2017-10-13T15:58:04.131899Z"
    }
   },
   "outputs": [
    {
     "name": "stdout",
     "output_type": "stream",
     "text": [
      "Python Version: 3.6.2 |Anaconda, Inc.| (default, Sep 21 2017, 18:29:43) \n",
      "[GCC 4.2.1 Compatible Clang 4.0.1 (tags/RELEASE_401/final)] \n",
      "\n",
      "Matplotlib Version: 2.0.2\n",
      "Numpy Version: 1.13.1\n",
      "Pandas Version: 0.20.3\n",
      "Scipy Version: 0.19.1\n",
      "Sklearn Version: 0.19.0\n"
     ]
    }
   ],
   "source": [
    "import sklearn\n",
    "import matplotlib\n",
    "import sys\n",
    "import scipy\n",
    "libraries = (('Matplotlib', matplotlib), ('Numpy', np), ('Pandas', pd), ('Scipy', scipy), ('Sklearn', sklearn))\n",
    "\n",
    "print(\"Python Version:\", sys.version, '\\n')\n",
    "for lib in libraries:\n",
    "    print('{0} Version: {1}'.format(lib[0], lib[1].__version__))"
   ]
  },
  {
   "cell_type": "markdown",
   "metadata": {},
   "source": [
    "###### Silly function to generate the test data, just to keep it clean"
   ]
  },
  {
   "cell_type": "code",
   "execution_count": 5,
   "metadata": {
    "ExecuteTime": {
     "end_time": "2017-10-16T19:21:45.066313Z",
     "start_time": "2017-10-16T19:21:45.061399Z"
    },
    "collapsed": true
   },
   "outputs": [],
   "source": [
    "def get_data():\n",
    "    x = np.linspace(-10,10,300)\n",
    "    y = np.sin(x)\n",
    "    return x, y"
   ]
  },
  {
   "cell_type": "markdown",
   "metadata": {},
   "source": [
    "Now let's actually build our tree class, using recursion!"
   ]
  },
  {
   "cell_type": "code",
   "execution_count": 276,
   "metadata": {
    "ExecuteTime": {
     "end_time": "2017-10-16T20:48:34.701388Z",
     "start_time": "2017-10-16T20:48:33.877287Z"
    },
    "collapsed": true
   },
   "outputs": [],
   "source": [
    "import math\n",
    "import numpy as np\n",
    "\n",
    "class decision_tree_regressor:\n",
    "    \n",
    "    def __init__(self, max_depth = None, criteria='std'):\n",
    "        self.tree = self.tree_split()\n",
    "        self.data_cols = None\n",
    "        self.max_depth = max_depth\n",
    "        self.current_depth = 0\n",
    "        self.criteria = criteria\n",
    "    \n",
    "    # Sub class for handling recursive nodes (only makes sense in the scope of a tree)\n",
    "    class tree_split:\n",
    "        \"\"\"\n",
    "        A sub class for handling recursive nodes. Each node will contain the value and column\n",
    "        for the current split, as well as links to the resulting nodes from the split. The \n",
    "        results attribute remains empty unless the current node is a leaf. \n",
    "        \"\"\"\n",
    "        def __init__(self,col=-1,value=None,results=None,label=None,tb=None,fb=None):\n",
    "            self.col=col # column index of criteria being tested\n",
    "            self.value=value # vlaue necessary to get a true result\n",
    "            self.results=results # dict of results for a branch, None for everything except endpoints\n",
    "            self.tb=tb # true decision nodes \n",
    "            self.fb=fb # false decision nodes\n",
    "    \n",
    "    def split_data(self, X, y, colnum, value):\n",
    "        \"\"\"\n",
    "        Returns: Two sets of data from the initial data. Set 1 contains those that passed\n",
    "        the condition of data[colnum] >= value\n",
    "        ----------\n",
    "        Input: The dataset, the column to split on, the value on which to split\n",
    "        \"\"\"\n",
    "        splitter = None\n",
    "        if isinstance(value, int) or isinstance(value,float):\n",
    "            splitter = lambda x: x[colnum] >= value\n",
    "        else:\n",
    "            splitter = lambda x: x[colnum] == value\n",
    "        split1 = [i for i,row in enumerate(X) if splitter(row)]\n",
    "        split2 = [i for i,row in enumerate(X) if not splitter(row)]\n",
    "        set1X = X[split1]\n",
    "        set1Y = y[split1]\n",
    "        set2X = X[split2]\n",
    "        set2Y = y[split2]\n",
    "        return set1X, set1Y, set2X, set2Y\n",
    "\n",
    "    def get_mean_target_value(self, data):\n",
    "        \"\"\"\n",
    "        Returns: A dictionary of target variable counts in the data\n",
    "        \"\"\"\n",
    "        return np.mean(data)\n",
    "\n",
    "    def split_criteria(self, y):\n",
    "        \"\"\"\n",
    "        Returns the criteria we're trying to minimize by splitting.\n",
    "        Current options are target Mean Absolute Error (from the target \n",
    "        mean) or Standard deviation of the target.\n",
    "        ---\n",
    "        Input: targets in the split\n",
    "        Output: Criteria\n",
    "        \"\"\"\n",
    "        if self.criteria == 'mae':\n",
    "            mu = np.mean(y)\n",
    "            return np.mean(np.abs(y-mu))\n",
    "        else:\n",
    "            return np.std(y)\n",
    "    \n",
    "    def pandas_to_numpy(self, x):\n",
    "        \"\"\"\n",
    "        Checks if the input is a Dataframe or series, converts to numpy matrix for\n",
    "        calculation purposes.\n",
    "        ---\n",
    "        Input: X (array, dataframe, or series)\n",
    "        \n",
    "        Output: X (array)\n",
    "        \"\"\"\n",
    "        if type(x) == type(pd.DataFrame()) or type(x) == type(pd.Series()):\n",
    "            return x.as_matrix()\n",
    "        if type(x) == type(np.array([1,2])):\n",
    "            return x\n",
    "        return np.array(x)\n",
    "    \n",
    "    def check_feature_shape(self, x):\n",
    "        \"\"\"\n",
    "        Helper function to make sure any new data conforms to the fit data shape\n",
    "        ---\n",
    "        In: numpy array, (unknown shape)\n",
    "        Out: numpy array, shape: (rows, self.data_cols)\"\"\"\n",
    "        return x.reshape(-1,self.data_cols)\n",
    "    \n",
    "    def fit(self, X, y):\n",
    "        \"\"\"\n",
    "        Helper function to wrap the fit method. This makes sure the full nested, \n",
    "        recursively built tree gets assigned to the correct variable name and \n",
    "        persists after training.\n",
    "        \"\"\"\n",
    "        self.tree = self._fit(X,y)\n",
    "    \n",
    "    def _fit(self, X, y, depth=0):\n",
    "        \"\"\"\n",
    "        Builds the decision tree via a greedy approach, checking every possible\n",
    "        branch for the best current decision. Decision strength is measured by\n",
    "        information gain/entropy reduction. If no information gain is possible,\n",
    "        sets a leaf node. Recursive calls to this method allow the nesting. If\n",
    "        max_depth is met, all further nodes become leaves as well.\n",
    "        ---\n",
    "        Input: X (feature matrix), y (labels)\n",
    "        Output: A nested tree built upon the node class.\"\"\"\n",
    "        X = self.pandas_to_numpy(X)\n",
    "        y = self.pandas_to_numpy(y)\n",
    "        if not self.data_cols:\n",
    "            try: \n",
    "                self.data_cols = X.shape[1]\n",
    "            except IndexError:\n",
    "                self.data_cols = 1\n",
    "        X = self.check_feature_shape(X)\n",
    "        if len(X) == 0: return tree_split()\n",
    "        current_score = self.split_criteria(y)\n",
    "\n",
    "        best_gain = 0.0\n",
    "        best_criteria = None\n",
    "        best_sets = None\n",
    "        \n",
    "        cols = self.data_cols\n",
    "        \n",
    "        \n",
    "        # Here we go through column by column and try every possible split, measuring the\n",
    "        # information gain. We keep track of the best split then use that to send the split\n",
    "        # data sets into the next phase of splitting.\n",
    "        \n",
    "        for col in range(cols):\n",
    "            column_values = set(X.T[col])\n",
    "            for value in column_values:\n",
    "                set1, set1_y, set2, set2_y = self.split_data(X, y, col, value)\n",
    "                p = float(len(set1)) / len(y)\n",
    "                gain = current_score - p*self.split_criteria(set1_y) - (1-p)*self.split_criteria(set2_y)\n",
    "                if gain > best_gain and len(set1_y) and len(set2_y):\n",
    "                    best_gain = gain\n",
    "                    best_criteria = (col, value)\n",
    "                    best_sets = (np.array(set1), np.array(set1_y), np.array(set2), np.array(set2_y))\n",
    "        \n",
    "        # Now decide whether it's an endpoint or we need to split again.\n",
    "        if (self.max_depth and depth < self.max_depth) or not self.max_depth:\n",
    "            if best_gain > 0:\n",
    "                self.current_depth += 1\n",
    "                true_branch = self._fit(best_sets[0], best_sets[1], depth=depth+1)\n",
    "                false_branch = self._fit(best_sets[2], best_sets[3], depth=depth+1)\n",
    "                return self.tree_split(col=best_criteria[0], value=best_criteria[1],\n",
    "                        tb=true_branch, fb=false_branch)\n",
    "            else:\n",
    "                return self.tree_split(results=self.get_mean_target_value(y))\n",
    "        else:\n",
    "            return self.tree_split(results=self.get_mean_target_value(y))\n",
    "\n",
    "    def print_tree(self, indent=\"---\"):\n",
    "        \"\"\"\n",
    "        Helper function to make sure the correct tree gets printed.\n",
    "        ---\n",
    "        In: indent (how to show splits between nodes)\n",
    "        \"\"\"\n",
    "        self.__original_indent = indent\n",
    "        self._print_tree_(self.tree, indent)\n",
    "    \n",
    "    def _print_tree_(self, tree, indent):\n",
    "        \"\"\"\n",
    "        Goes through node by node and reports the column and value used to split\n",
    "        at that node. All sub-nodes are drawn in sequence below the node.\n",
    "        \"\"\"\n",
    "        if tree.results: # if this is a end node\n",
    "            print(str(tree.results))\n",
    "        else:\n",
    "            print('Column ' + str(tree.col)+' : '+str(tree.value)+'? ')\n",
    "            # Print the branches\n",
    "            print(indent+' True: ', end=' ')\n",
    "            next_indent = indent+self.__original_indent\n",
    "            self._print_tree_(tree.tb,indent=next_indent)\n",
    "            print(indent+' False: ', end=' ')\n",
    "            self._print_tree_(tree.fb,indent=next_indent)\n",
    "\n",
    "    def predict(self, newdata):\n",
    "        \"\"\"\n",
    "        Helper function to make sure the correct tree is used to\n",
    "        make predictions. Also manages multiple rows of input data\n",
    "        since the tree must predict one at a time.\n",
    "        ---\n",
    "        In: new data point of the same structure as the training X.\n",
    "        Out: numpy array of the resulting predictions\n",
    "        \"\"\"\n",
    "        results = []\n",
    "        newdata = self.pandas_to_numpy(newdata)\n",
    "        newdata = self.check_feature_shape(newdata)\n",
    "        for x in newdata:\n",
    "            results.append(self._predict(x,self.tree))\n",
    "        return np.array(results)\n",
    "            \n",
    "    def _predict(self, newdata, tree):\n",
    "        \"\"\"\n",
    "        Uses the reusive structure of the tree to follow each split for\n",
    "        a new data point. If the node is an endpoint, the available classes\n",
    "        are sorted by \"most common\" and then the top choice is returned.\n",
    "        \"\"\"\n",
    "        if tree.results: # if this is a end node\n",
    "            return tree.results\n",
    "\n",
    "        if isinstance(newdata[tree.col], int) or isinstance(newdata[tree.col],float):\n",
    "            if newdata[tree.col] >= tree.value:\n",
    "                return self._predict(newdata, tree.tb)\n",
    "\n",
    "            else:\n",
    "                return self._predict(newdata, tree.fb)\n",
    "        else:\n",
    "            if newdata[tree.col] == tree.value:\n",
    "                return self._predict(newdata, tree.tb)\n",
    "            else:\n",
    "                return self._predict(newdata, tree.fb) \n",
    "\n",
    "    def score(self, X, y):\n",
    "        \"\"\"\n",
    "        Uses the predict method to measure the accuracy of the model.\n",
    "        ---\n",
    "        In: X (list or array), feature matrix; y (list or array) labels\n",
    "        Out: accuracy (float)\n",
    "        \"\"\"\n",
    "        pred = self.predict(X)\n",
    "        return np.mean((pred-y)**2)"
   ]
  },
  {
   "cell_type": "markdown",
   "metadata": {},
   "source": [
    "### Actually get the data, train, test, and report accuracy"
   ]
  },
  {
   "cell_type": "code",
   "execution_count": 277,
   "metadata": {
    "ExecuteTime": {
     "end_time": "2017-10-16T20:48:35.935055Z",
     "start_time": "2017-10-16T20:48:35.931743Z"
    },
    "collapsed": true
   },
   "outputs": [],
   "source": [
    "import pandas as pd\n",
    "X,y = get_data()"
   ]
  },
  {
   "cell_type": "code",
   "execution_count": 278,
   "metadata": {
    "ExecuteTime": {
     "end_time": "2017-10-16T20:48:36.340258Z",
     "start_time": "2017-10-16T20:48:36.126578Z"
    },
    "scrolled": true
   },
   "outputs": [
    {
     "data": {
      "image/png": "[encoded data removed]",
      "text/plain": [
       "<matplotlib.figure.Figure at 0x11cfa2c50>"
      ]
     },
     "metadata": {},
     "output_type": "display_data"
    }
   ],
   "source": [
    "plt.plot(X,y);"
   ]
  },
  {
   "cell_type": "code",
   "execution_count": 279,
   "metadata": {
    "ExecuteTime": {
     "end_time": "2017-10-16T20:48:37.671096Z",
     "start_time": "2017-10-16T20:48:36.753409Z"
    }
   },
   "outputs": [
    {
     "name": "stderr",
     "output_type": "stream",
     "text": [
      "/Users/zachariahmiller/anaconda3/lib/python3.6/site-packages/numpy/core/fromnumeric.py:2909: RuntimeWarning: Mean of empty slice.\n",
      "  out=out, **kwargs)\n",
      "/Users/zachariahmiller/anaconda3/lib/python3.6/site-packages/numpy/core/_methods.py:80: RuntimeWarning: invalid value encountered in double_scalars\n",
      "  ret = ret.dtype.type(ret / rcount)\n"
     ]
    }
   ],
   "source": [
    "dt = decision_tree_regressor(criteria='mae')\n",
    "dt.fit(X,y)"
   ]
  },
  {
   "cell_type": "code",
   "execution_count": 280,
   "metadata": {
    "ExecuteTime": {
     "end_time": "2017-10-16T20:48:38.631854Z",
     "start_time": "2017-10-16T20:48:38.626466Z"
    }
   },
   "outputs": [
    {
     "data": {
      "text/plain": [
       "1"
      ]
     },
     "execution_count": 280,
     "metadata": {},
     "output_type": "execute_result"
    }
   ],
   "source": [
    "dt.data_cols"
   ]
  },
  {
   "cell_type": "code",
   "execution_count": 281,
   "metadata": {
    "ExecuteTime": {
     "end_time": "2017-10-16T20:48:40.931006Z",
     "start_time": "2017-10-16T20:48:40.917439Z"
    },
    "collapsed": true
   },
   "outputs": [],
   "source": [
    "def shuffle_data(X, y):\n",
    "    assert len(X) == len(y)\n",
    "    permute = np.random.permutation(len(y))\n",
    "    return X[permute], y[permute]\n",
    "\n",
    "def train_test_split_manual(X, y, test_size=0.3):\n",
    "    nX, ny = shuffle_data(X,y)\n",
    "    split_index = int(len(X)*test_size)\n",
    "    testX = nX[:split_index]\n",
    "    trainX = nX[split_index:]\n",
    "    testy = ny[:split_index]\n",
    "    trainy = ny[split_index:]\n",
    "    return trainX, testX, trainy, testy"
   ]
  },
  {
   "cell_type": "code",
   "execution_count": 282,
   "metadata": {
    "ExecuteTime": {
     "end_time": "2017-10-16T20:48:41.249607Z",
     "start_time": "2017-10-16T20:48:41.245623Z"
    },
    "collapsed": true
   },
   "outputs": [],
   "source": [
    "x_train, x_test, y_train, y_test = train_test_split_manual(X,y,test_size=0.3)"
   ]
  },
  {
   "cell_type": "code",
   "execution_count": 283,
   "metadata": {
    "ExecuteTime": {
     "end_time": "2017-10-16T20:48:42.248181Z",
     "start_time": "2017-10-16T20:48:41.600310Z"
    }
   },
   "outputs": [
    {
     "name": "stderr",
     "output_type": "stream",
     "text": [
      "/Users/zachariahmiller/anaconda3/lib/python3.6/site-packages/numpy/core/_methods.py:135: RuntimeWarning: Degrees of freedom <= 0 for slice\n",
      "  keepdims=keepdims)\n",
      "/Users/zachariahmiller/anaconda3/lib/python3.6/site-packages/numpy/core/_methods.py:105: RuntimeWarning: invalid value encountered in true_divide\n",
      "  arrmean, rcount, out=arrmean, casting='unsafe', subok=False)\n",
      "/Users/zachariahmiller/anaconda3/lib/python3.6/site-packages/numpy/core/_methods.py:127: RuntimeWarning: invalid value encountered in double_scalars\n",
      "  ret = ret.dtype.type(ret / rcount)\n"
     ]
    },
    {
     "data": {
      "text/plain": [
       "0.0055340002791084662"
      ]
     },
     "execution_count": 283,
     "metadata": {},
     "output_type": "execute_result"
    }
   ],
   "source": [
    "dt = decision_tree_regressor()\n",
    "dt.fit(x_train,y_train)\n",
    "dt.score(x_test, y_test)"
   ]
  },
  {
   "cell_type": "code",
   "execution_count": 284,
   "metadata": {
    "ExecuteTime": {
     "end_time": "2017-10-16T20:48:44.043759Z",
     "start_time": "2017-10-16T20:48:44.035344Z"
    }
   },
   "outputs": [
    {
     "data": {
      "text/plain": [
       "array([-0.42523609,  0.86190232,  0.42724437,  0.17300932, -0.4808924 ,\n",
       "       -0.10458297,  0.9788121 , -0.9917899 ,  0.86077446,  0.10237483,\n",
       "       -0.82104518, -0.59532619, -0.89186815,  0.78793621,  0.94349327,\n",
       "       -0.85850603, -0.48283771, -0.99091623,  0.98102465,  0.89086183,\n",
       "       -0.03121969, -0.9978373 ,  0.98102465, -0.89287007,  0.86077446,\n",
       "       -0.94349327,  0.29435762,  0.96529429,  0.94495538,  0.29647859,\n",
       "       -0.30071613, -0.64938942, -0.41516343,  0.4191987 , -0.9999846 ,\n",
       "       -0.89287007,  0.82104518, -0.86302593,  0.35550365, -0.91835688,\n",
       "        0.36378965, -0.86302593, -0.64431029,  0.86190232, -0.99091623,\n",
       "       -0.41516343, -0.99798077,  0.5881677 , -0.35550365, -0.23413989,\n",
       "        0.42322571, -0.41516343, -0.03121969, -0.89287007, -0.8938676 ,\n",
       "        0.94349327, -0.64431029, -0.73906432, -0.91835688,  0.99999446,\n",
       "       -0.86302593, -0.23413989, -0.64431029,  0.54402111, -0.9978373 ,\n",
       "       -0.99753561, -0.59532619, -0.82104518,  0.99737739,  0.78381772,\n",
       "        0.42724437,  0.09574744, -0.73756699,  0.17300932, -0.10458297,\n",
       "        0.9978373 ,  0.69558279, -0.41516343, -0.8938676 , -0.9917899 ,\n",
       "       -0.9978373 ,  0.42724437, -0.94639886, -0.23413989,  0.5971085 ,\n",
       "       -0.4191987 ,  0.64431029, -0.58996169, -0.96529429, -0.89287007])"
      ]
     },
     "execution_count": 284,
     "metadata": {},
     "output_type": "execute_result"
    }
   ],
   "source": [
    "pred = dt.predict(x_test)\n",
    "pred"
   ]
  },
  {
   "cell_type": "code",
   "execution_count": 285,
   "metadata": {
    "ExecuteTime": {
     "end_time": "2017-10-16T20:48:46.122161Z",
     "start_time": "2017-10-16T20:48:45.970341Z"
    }
   },
   "outputs": [
    {
     "data": {
      "image/png": "[encoded data removed]",
      "text/plain": [
       "<matplotlib.figure.Figure at 0x11ca18be0>"
      ]
     },
     "metadata": {},
     "output_type": "display_data"
    }
   ],
   "source": [
    "plt.plot(X,y)\n",
    "plt.scatter(x_test,pred,c='r', marker='x');"
   ]
  },
  {
   "cell_type": "markdown",
   "metadata": {},
   "source": [
    "### Let's try again, but limit the depth"
   ]
  },
  {
   "cell_type": "code",
   "execution_count": 295,
   "metadata": {
    "ExecuteTime": {
     "end_time": "2017-10-16T20:49:38.346132Z",
     "start_time": "2017-10-16T20:49:38.014063Z"
    }
   },
   "outputs": [
    {
     "name": "stderr",
     "output_type": "stream",
     "text": [
      "/Users/zachariahmiller/anaconda3/lib/python3.6/site-packages/numpy/core/fromnumeric.py:2909: RuntimeWarning: Mean of empty slice.\n",
      "  out=out, **kwargs)\n",
      "/Users/zachariahmiller/anaconda3/lib/python3.6/site-packages/numpy/core/_methods.py:80: RuntimeWarning: invalid value encountered in double_scalars\n",
      "  ret = ret.dtype.type(ret / rcount)\n"
     ]
    }
   ],
   "source": [
    "dt2 = decision_tree_regressor(max_depth=3, criteria='mae')\n",
    "dt2.fit(X,y)"
   ]
  },
  {
   "cell_type": "code",
   "execution_count": 296,
   "metadata": {
    "ExecuteTime": {
     "end_time": "2017-10-16T20:49:38.598802Z",
     "start_time": "2017-10-16T20:49:38.381541Z"
    }
   },
   "outputs": [
    {
     "data": {
      "image/png": "[encoded data removed]",
      "text/plain": [
       "<matplotlib.figure.Figure at 0x11ca97cc0>"
      ]
     },
     "metadata": {},
     "output_type": "display_data"
    }
   ],
   "source": [
    "preds = dt2.predict(X[:])\n",
    "plt.plot(X,y)\n",
    "plt.scatter(X[:],preds,c='r', marker='x');"
   ]
  },
  {
   "cell_type": "code",
   "execution_count": 233,
   "metadata": {
    "ExecuteTime": {
     "end_time": "2017-10-16T20:37:56.008723Z",
     "start_time": "2017-10-16T20:37:55.999833Z"
    }
   },
   "outputs": [
    {
     "name": "stdout",
     "output_type": "stream",
     "text": [
      "Column 0 : 6.45484949833? \n",
      "--- True:  Column 0 : 9.19732441472? \n",
      "------ True:  Column 0 : 9.59866220736? \n",
      "--------- True:  Column 0 : 9.79933110368? \n",
      "------------ True:  Column 0 : 9.93311036789? \n",
      "--------------- True:  -0.515371148573\n",
      "--------------- False:  -0.396550531497\n",
      "------------ False:  -0.238098753025\n",
      "--------- False:  0.0598010424639\n",
      "------ False:  0.713584047004\n",
      "--- False:  -0.110071595783\n"
     ]
    }
   ],
   "source": [
    "dt2.print_tree()"
   ]
  },
  {
   "cell_type": "code",
   "execution_count": null,
   "metadata": {
    "collapsed": true
   },
   "outputs": [],
   "source": []
  }
 ],
 "metadata": {
  "kernelspec": {
   "display_name": "Python [default]",
   "language": "python",
   "name": "python3"
  },
  "language_info": {
   "codemirror_mode": {
    "name": "ipython",
    "version": 3
   },
   "file_extension": ".py",
   "mimetype": "text/x-python",
   "name": "python",
   "nbconvert_exporter": "python",
   "pygments_lexer": "ipython3",
   "version": "3.6.2"
  },
  "latex_envs": {
   "LaTeX_envs_menu_present": true,
   "bibliofile": "biblio.bib",
   "cite_by": "apalike",
   "current_citInitial": 1,
   "eqLabelWithNumbers": true,
   "eqNumInitial": 1,
   "hotkeys": {
    "equation": "Ctrl-E",
    "itemize": "Ctrl-I"
   },
   "labels_anchors": false,
   "latex_user_defs": false,
   "report_style_numbering": false,
   "user_envs_cfg": false
  },
  "toc": {
   "nav_menu": {},
   "number_sections": true,
   "sideBar": true,
   "skip_h1_title": false,
   "toc_cell": false,
   "toc_position": {},
   "toc_section_display": "block",
   "toc_window_display": false
  }
 },
 "nbformat": 4,
 "nbformat_minor": 2
}
