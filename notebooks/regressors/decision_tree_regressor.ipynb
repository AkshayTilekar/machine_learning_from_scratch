{
 "cells": [
  {
   "cell_type": "markdown",
   "metadata": {
    "run_control": {
     "frozen": false,
     "read_only": false
    }
   },
   "source": [
    "# Decision Tree Regressor"
   ]
  },
  {
   "cell_type": "markdown",
   "metadata": {},
   "source": [
    "###### Imports (All imports here for cleanliness)"
   ]
  },
  {
   "cell_type": "code",
   "execution_count": 1,
   "metadata": {
    "ExecuteTime": {
     "end_time": "2018-03-06T14:31:47.590576Z",
     "start_time": "2018-03-06T14:31:46.825053Z"
    },
    "collapsed": true
   },
   "outputs": [],
   "source": [
    "import numpy as np\n",
    "import random\n",
    "import matplotlib.pyplot as plt\n",
    "import pandas as pd\n",
    "import math\n",
    "%matplotlib inline\n",
    "plt.style.use('seaborn')"
   ]
  },
  {
   "cell_type": "markdown",
   "metadata": {},
   "source": [
    "Version Checking"
   ]
  },
  {
   "cell_type": "code",
   "execution_count": 2,
   "metadata": {
    "ExecuteTime": {
     "end_time": "2018-03-06T14:31:47.962754Z",
     "start_time": "2018-03-06T14:31:47.616439Z"
    }
   },
   "outputs": [
    {
     "name": "stdout",
     "output_type": "stream",
     "text": [
      "Python Version: 3.6.2 |Anaconda custom (64-bit)| (default, Sep 21 2017, 18:29:43) \n",
      "[GCC 4.2.1 Compatible Clang 4.0.1 (tags/RELEASE_401/final)] \n",
      "\n",
      "Matplotlib Version: 2.0.2\n",
      "Numpy Version: 1.12.1\n",
      "Pandas Version: 0.20.3\n",
      "Scipy Version: 0.19.1\n",
      "Sklearn Version: 0.19.0\n"
     ]
    }
   ],
   "source": [
    "import sklearn\n",
    "import matplotlib\n",
    "import sys\n",
    "import scipy\n",
    "libraries = (('Matplotlib', matplotlib), ('Numpy', np), ('Pandas', pd), ('Scipy', scipy), ('Sklearn', sklearn))\n",
    "\n",
    "print(\"Python Version:\", sys.version, '\\n')\n",
    "for lib in libraries:\n",
    "    print('{0} Version: {1}'.format(lib[0], lib[1].__version__))"
   ]
  },
  {
   "cell_type": "markdown",
   "metadata": {},
   "source": [
    "Now let's actually build our tree class, using recursion!"
   ]
  },
  {
   "cell_type": "code",
   "execution_count": 8,
   "metadata": {
    "ExecuteTime": {
     "end_time": "2018-03-06T14:32:52.113039Z",
     "start_time": "2018-03-06T14:32:51.295389Z"
    },
    "collapsed": true
   },
   "outputs": [],
   "source": [
    "import math\n",
    "import numpy as np\n",
    "\n",
    "class decision_tree_regressor:\n",
    "    \n",
    "    def __init__(self, max_depth = None, criteria='std'):\n",
    "        \"\"\"\n",
    "        Builds a decision tree to regress on the target data. The\n",
    "        decision tree is built by trying to minimize the requested\n",
    "        criteria at each possible split. Starting with the whole data\n",
    "        the tree will try every possible split (column and value pair)\n",
    "        and choose the split which results in the greatest reduction \n",
    "        of the criteria. Then for each sub-group of that split, the \n",
    "        process is repeated recursively until no more splits are possible\n",
    "        or no splits cause a reductuion of the criteria.\n",
    "        ---\n",
    "        KWargs:\n",
    "        max_depth: how many splits to allow in the tree (depth not breadth)\n",
    "        criteria: what metric to use as a measure of split strength \n",
    "        ('std'= reduction of standard deviation in the data, 'mae'=\n",
    "        minimize the mean error size (abs value))\n",
    "        \"\"\"\n",
    "        self.tree = self.tree_split()\n",
    "        self.data_cols = None\n",
    "        self.max_depth = max_depth\n",
    "        self.current_depth = 0\n",
    "        self.criteria = criteria\n",
    "    \n",
    "    # Sub class for handling recursive nodes (only makes sense in the scope of a tree)\n",
    "    class tree_split:\n",
    "        \"\"\"\n",
    "        A sub class for handling recursive nodes. Each node will contain the value and column\n",
    "        for the current split, as well as links to the resulting nodes from the split. The \n",
    "        results attribute remains empty unless the current node is a leaf. \n",
    "        \"\"\"\n",
    "        def __init__(self,col=-1,value=None,results=None,label=None,tb=None,fb=None):\n",
    "            self.col=col # column index of criteria being tested\n",
    "            self.value=value # vlaue necessary to get a true result\n",
    "            self.results=results # dict of results for a branch, None for everything except endpoints\n",
    "            self.tb=tb # true decision nodes \n",
    "            self.fb=fb # false decision nodes\n",
    "    \n",
    "    def split_data(self, X, y, colnum, value):\n",
    "        \"\"\"\n",
    "        Returns: Two sets of data from the initial data. Set 1 contains those that passed\n",
    "        the condition of data[colnum] >= value\n",
    "        ----------\n",
    "        Input: The dataset, the column to split on, the value on which to split\n",
    "        \"\"\"\n",
    "        splitter = None\n",
    "        if isinstance(value, int) or isinstance(value,float):\n",
    "            splitter = lambda x: x[colnum] >= value\n",
    "        else:\n",
    "            splitter = lambda x: x[colnum] == value\n",
    "        split1 = [i for i,row in enumerate(X) if splitter(row)]\n",
    "        split2 = [i for i,row in enumerate(X) if not splitter(row)]\n",
    "        set1X = X[split1]\n",
    "        set1Y = y[split1]\n",
    "        set2X = X[split2]\n",
    "        set2Y = y[split2]\n",
    "        return set1X, set1Y, set2X, set2Y\n",
    "\n",
    "    def get_mean_target_value(self, data):\n",
    "        \"\"\"\n",
    "        Returns: A dictionary of target variable counts in the data\n",
    "        \"\"\"\n",
    "        return np.mean(data)\n",
    "\n",
    "    def split_criteria(self, y):\n",
    "        \"\"\"\n",
    "        Returns the criteria we're trying to minimize by splitting.\n",
    "        Current options are target Mean Absolute Error (from the target \n",
    "        mean) or Standard deviation of the target.\n",
    "        ---\n",
    "        Input: targets in the split\n",
    "        Output: Criteria\n",
    "        \"\"\"\n",
    "        if self.criteria == 'mae':\n",
    "            mu = np.mean(y)\n",
    "            return np.mean(np.abs(y-mu))\n",
    "        else:\n",
    "            return np.std(y)\n",
    "    \n",
    "    def pandas_to_numpy(self, x):\n",
    "        \"\"\"\n",
    "        Checks if the input is a Dataframe or series, converts to numpy matrix for\n",
    "        calculation purposes.\n",
    "        ---\n",
    "        Input: X (array, dataframe, or series)\n",
    "        Output: X (array)\n",
    "        \"\"\"\n",
    "        if type(x) == type(pd.DataFrame()) or type(x) == type(pd.Series()):\n",
    "            return x.as_matrix()\n",
    "        if type(x) == type(np.array([1,2])):\n",
    "            return x\n",
    "        return np.array(x) \n",
    "        \n",
    "    def handle_1d_data(self,x):\n",
    "        \"\"\"\n",
    "        Converts 1 dimensional data into a series of rows with 1 columns\n",
    "        instead of 1 row with many columns.\n",
    "        \"\"\"\n",
    "        if x.ndim == 1:\n",
    "            x = x.reshape(-1,1)\n",
    "        return x\n",
    "    \n",
    "    def convert_to_array(self, x):\n",
    "        \"\"\"\n",
    "        Takes in an input and converts it to a numpy array\n",
    "        and then checks if it needs to be reshaped for us\n",
    "        to use it properly\n",
    "        \"\"\"\n",
    "        x = self.pandas_to_numpy(x)\n",
    "        x = self.handle_1d_data(x)\n",
    "        return x\n",
    "    \n",
    "    def fit(self, X, y):\n",
    "        \"\"\"\n",
    "        Helper function to wrap the fit method. This makes sure the full nested, \n",
    "        recursively built tree gets assigned to the correct variable name and \n",
    "        persists after training.\n",
    "        \"\"\"\n",
    "        self.tree = self._fit(X,y)\n",
    "    \n",
    "    def _fit(self, X, y, depth=0):\n",
    "        \"\"\"\n",
    "        Builds the decision tree via a greedy approach, checking every possible\n",
    "        branch for the best current decision. Decision strength is measured by\n",
    "        information gain/score reduction. If no information gain is possible,\n",
    "        sets a leaf node. Recursive calls to this method allow the nesting. If\n",
    "        max_depth is met, all further nodes become leaves as well.\n",
    "        ---\n",
    "        Input: X (feature matrix), y (labels)\n",
    "        Output: A nested tree built upon the node class.\"\"\"\n",
    "        X = self.convert_to_array(X)\n",
    "        y = self.convert_to_array(y)\n",
    "       \n",
    "        if len(X) == 0: return tree_split()\n",
    "        current_score = self.split_criteria(y)\n",
    "\n",
    "        best_gain = 0.0\n",
    "        best_criteria = None\n",
    "        best_sets = None\n",
    "        \n",
    "        self.data_cols = X.shape[1]\n",
    "        \n",
    "        \n",
    "        # Here we go through column by column and try every possible split, measuring the\n",
    "        # information gain. We keep track of the best split then use that to send the split\n",
    "        # data sets into the next phase of splitting.\n",
    "        \n",
    "        for col in range(self.data_cols):\n",
    "            column_values = set(X.T[col])\n",
    "            for value in column_values:\n",
    "                set1, set1_y, set2, set2_y = self.split_data(X, y, col, value)\n",
    "                p = float(len(set1)) / len(y)\n",
    "                gain = current_score - p*self.split_criteria(set1_y) - (1-p)*self.split_criteria(set2_y)\n",
    "                if gain > best_gain and len(set1_y) and len(set2_y):\n",
    "                    best_gain = gain\n",
    "                    best_criteria = (col, value)\n",
    "                    best_sets = (np.array(set1), np.array(set1_y), np.array(set2), np.array(set2_y))\n",
    "        \n",
    "        # Now decide whether it's an endpoint or we need to split again.\n",
    "        if (self.max_depth and depth < self.max_depth) or not self.max_depth:\n",
    "            if best_gain > 0:\n",
    "                self.current_depth += 1\n",
    "                true_branch = self._fit(best_sets[0], best_sets[1], depth=depth+1)\n",
    "                false_branch = self._fit(best_sets[2], best_sets[3], depth=depth+1)\n",
    "                return self.tree_split(col=best_criteria[0], value=best_criteria[1],\n",
    "                        tb=true_branch, fb=false_branch)\n",
    "            else:\n",
    "                return self.tree_split(results=self.get_mean_target_value(y))\n",
    "        else:\n",
    "            return self.tree_split(results=self.get_mean_target_value(y))\n",
    "\n",
    "    def print_tree(self, indent=\"---\"):\n",
    "        \"\"\"\n",
    "        Helper function to make sure the correct tree gets printed.\n",
    "        ---\n",
    "        In: indent (how to show splits between nodes)\n",
    "        \"\"\"\n",
    "        self.__original_indent = indent\n",
    "        self._print_tree_(self.tree, indent)\n",
    "    \n",
    "    def _print_tree_(self, tree, indent):\n",
    "        \"\"\"\n",
    "        Goes through node by node and reports the column and value used to split\n",
    "        at that node. All sub-nodes are drawn in sequence below the node.\n",
    "        \"\"\"\n",
    "        if tree.results: # if this is a end node\n",
    "            print(str(tree.results))\n",
    "        else:\n",
    "            print('Column ' + str(tree.col)+' : '+str(tree.value)+'? ')\n",
    "            # Print the branches\n",
    "            print(indent+' True: ', end=' ')\n",
    "            next_indent = indent+self.__original_indent\n",
    "            self._print_tree_(tree.tb,indent=next_indent)\n",
    "            print(indent+' False: ', end=' ')\n",
    "            self._print_tree_(tree.fb,indent=next_indent)\n",
    "\n",
    "    def predict(self, newdata):\n",
    "        \"\"\"\n",
    "        Helper function to make sure the correct tree is used to\n",
    "        make predictions. Also manages multiple rows of input data\n",
    "        since the tree must predict one at a time.\n",
    "        ---\n",
    "        In: new data point of the same structure as the training X.\n",
    "        Out: numpy array of the resulting predictions\n",
    "        \"\"\"\n",
    "        results = []\n",
    "        newdata = self.convert_to_array(newdata)\n",
    "        for x in newdata:\n",
    "            results.append(self._predict(x,self.tree))\n",
    "        return np.array(results)\n",
    "            \n",
    "    def _predict(self, newdata, tree):\n",
    "        \"\"\"\n",
    "        Uses the reusive structure of the tree to follow each split for\n",
    "        a new data point. If the node is an endpoint, the available classes\n",
    "        are sorted by \"most common\" and then the top choice is returned.\n",
    "        \"\"\"\n",
    "        if tree.results: # if this is a end node\n",
    "            return tree.results\n",
    "\n",
    "        if isinstance(newdata[tree.col], int) or isinstance(newdata[tree.col],float):\n",
    "            if newdata[tree.col] >= tree.value:\n",
    "                return self._predict(newdata, tree.tb)\n",
    "\n",
    "            else:\n",
    "                return self._predict(newdata, tree.fb)\n",
    "        else:\n",
    "            if newdata[tree.col] == tree.value:\n",
    "                return self._predict(newdata, tree.tb)\n",
    "            else:\n",
    "                return self._predict(newdata, tree.fb) \n",
    "\n",
    "    def score(self, X, y):\n",
    "        \"\"\"\n",
    "        Uses the predict method to measure the accuracy of the model.\n",
    "        ---\n",
    "        In: X (list or array), feature matrix; y (list or array) labels\n",
    "        Out: accuracy (float)\n",
    "        \"\"\"\n",
    "        pred = self.predict(X)\n",
    "        return np.mean((pred-y)**2)"
   ]
  },
  {
   "cell_type": "markdown",
   "metadata": {},
   "source": [
    "### Actually get the data, train, test, and report accuracy"
   ]
  },
  {
   "cell_type": "markdown",
   "metadata": {},
   "source": [
    "###### Silly function to generate the test data, just to keep it clean"
   ]
  },
  {
   "cell_type": "code",
   "execution_count": 9,
   "metadata": {
    "ExecuteTime": {
     "end_time": "2018-03-06T14:32:52.542884Z",
     "start_time": "2018-03-06T14:32:52.537387Z"
    },
    "collapsed": true
   },
   "outputs": [],
   "source": [
    "def get_data():\n",
    "    x = np.linspace(-10,10,300)\n",
    "    y = np.sin(x)\n",
    "    return x, y"
   ]
  },
  {
   "cell_type": "code",
   "execution_count": 10,
   "metadata": {
    "ExecuteTime": {
     "end_time": "2018-03-06T14:32:52.856444Z",
     "start_time": "2018-03-06T14:32:52.852210Z"
    },
    "collapsed": true
   },
   "outputs": [],
   "source": [
    "import pandas as pd\n",
    "X,y = get_data()"
   ]
  },
  {
   "cell_type": "code",
   "execution_count": 11,
   "metadata": {
    "ExecuteTime": {
     "end_time": "2018-03-06T14:32:53.440096Z",
     "start_time": "2018-03-06T14:32:53.209406Z"
    },
    "scrolled": true
   },
   "outputs": [
    {
     "data": {
      "image/png": "[encoded data removed]",
      "text/plain": [
       "<matplotlib.figure.Figure at 0x151cb954a8>"
      ]
     },
     "metadata": {},
     "output_type": "display_data"
    }
   ],
   "source": [
    "plt.plot(X,y);"
   ]
  },
  {
   "cell_type": "code",
   "execution_count": 12,
   "metadata": {
    "ExecuteTime": {
     "end_time": "2018-03-06T14:32:55.017254Z",
     "start_time": "2018-03-06T14:32:54.094558Z"
    }
   },
   "outputs": [
    {
     "name": "stderr",
     "output_type": "stream",
     "text": [
      "/Users/zachariahmiller/anaconda3/lib/python3.6/site-packages/numpy/core/fromnumeric.py:2889: RuntimeWarning: Mean of empty slice.\n",
      "  out=out, **kwargs)\n",
      "/Users/zachariahmiller/anaconda3/lib/python3.6/site-packages/numpy/core/_methods.py:80: RuntimeWarning: invalid value encountered in double_scalars\n",
      "  ret = ret.dtype.type(ret / rcount)\n"
     ]
    }
   ],
   "source": [
    "dt = decision_tree_regressor(criteria='mae')\n",
    "dt.fit(X,y)"
   ]
  },
  {
   "cell_type": "code",
   "execution_count": 13,
   "metadata": {
    "ExecuteTime": {
     "end_time": "2018-03-06T14:32:56.527375Z",
     "start_time": "2018-03-06T14:32:56.519859Z"
    }
   },
   "outputs": [
    {
     "data": {
      "text/plain": [
       "1"
      ]
     },
     "execution_count": 13,
     "metadata": {},
     "output_type": "execute_result"
    }
   ],
   "source": [
    "dt.data_cols"
   ]
  },
  {
   "cell_type": "code",
   "execution_count": 14,
   "metadata": {
    "ExecuteTime": {
     "end_time": "2018-03-06T14:32:59.009415Z",
     "start_time": "2018-03-06T14:32:58.996764Z"
    },
    "collapsed": true
   },
   "outputs": [],
   "source": [
    "def shuffle_data(X, y):\n",
    "    assert len(X) == len(y)\n",
    "    permute = np.random.permutation(len(y))\n",
    "    return X[permute], y[permute]\n",
    "\n",
    "def train_test_split_manual(X, y, test_size=0.3):\n",
    "    nX, ny = shuffle_data(X,y)\n",
    "    split_index = int(len(X)*test_size)\n",
    "    testX = nX[:split_index]\n",
    "    trainX = nX[split_index:]\n",
    "    testy = ny[:split_index]\n",
    "    trainy = ny[split_index:]\n",
    "    return trainX, testX, trainy, testy"
   ]
  },
  {
   "cell_type": "code",
   "execution_count": 15,
   "metadata": {
    "ExecuteTime": {
     "end_time": "2018-03-06T14:32:59.606937Z",
     "start_time": "2018-03-06T14:32:59.602781Z"
    },
    "collapsed": true
   },
   "outputs": [],
   "source": [
    "x_train, x_test, y_train, y_test = train_test_split_manual(X,y,test_size=0.3)"
   ]
  },
  {
   "cell_type": "code",
   "execution_count": 16,
   "metadata": {
    "ExecuteTime": {
     "end_time": "2018-03-06T14:33:01.273279Z",
     "start_time": "2018-03-06T14:33:00.647795Z"
    }
   },
   "outputs": [
    {
     "name": "stderr",
     "output_type": "stream",
     "text": [
      "/Users/zachariahmiller/anaconda3/lib/python3.6/site-packages/numpy/core/_methods.py:135: RuntimeWarning: Degrees of freedom <= 0 for slice\n",
      "  keepdims=keepdims)\n",
      "/Users/zachariahmiller/anaconda3/lib/python3.6/site-packages/numpy/core/_methods.py:105: RuntimeWarning: invalid value encountered in true_divide\n",
      "  arrmean, rcount, out=arrmean, casting='unsafe', subok=False)\n",
      "/Users/zachariahmiller/anaconda3/lib/python3.6/site-packages/numpy/core/_methods.py:127: RuntimeWarning: invalid value encountered in double_scalars\n",
      "  ret = ret.dtype.type(ret / rcount)\n"
     ]
    },
    {
     "data": {
      "text/plain": [
       "0.0070345618381842381"
      ]
     },
     "execution_count": 16,
     "metadata": {},
     "output_type": "execute_result"
    }
   ],
   "source": [
    "dt = decision_tree_regressor()\n",
    "dt.fit(x_train,y_train)\n",
    "dt.score(x_test, y_test)"
   ]
  },
  {
   "cell_type": "code",
   "execution_count": 17,
   "metadata": {
    "ExecuteTime": {
     "end_time": "2018-03-06T14:33:03.512248Z",
     "start_time": "2018-03-06T14:33:03.499833Z"
    }
   },
   "outputs": [
    {
     "data": {
      "text/plain": [
       "array([-0.09574744, -0.09574744,  0.48478064,  0.30283269,  0.99121234,\n",
       "       -0.03343858,  0.09353735, -0.23413989, -0.03565731, -0.92269318,\n",
       "       -0.86302593, -0.48478064,  0.30283269, -0.53842073,  0.69078243,\n",
       "       -0.74204803, -0.9805918 ,  0.64261089, -0.94349327, -0.9805918 ,\n",
       "        0.92097227, -0.99753561,  0.48478064, -0.42121325,  0.89086183,\n",
       "        0.78105274, -0.9805918 , -0.47699467,  0.64600652, -0.99768891,\n",
       "        0.92097227, -0.99768891, -0.42724437, -0.53279647, -0.78243716,\n",
       "        0.30283269, -0.74353441, -0.48478064,  0.48478064,  0.48672119,\n",
       "       -0.64431029,  0.86302593,  0.36172081, -0.82357178, -0.03565731,\n",
       "       -0.23413989, -0.29435762,  0.64261089,  0.36172081,  0.59532619,\n",
       "        0.82608214, -0.03343858,  0.99768891,  0.92010501, -0.23413989,\n",
       "        0.85964236,  0.22765971,  0.29435762, -0.22549739,  0.86077446,\n",
       "        0.64261089,  0.64261089, -0.96412518, -0.48283771, -0.47894471,\n",
       "       -0.48478064,  0.48478064, -0.86077446, -0.69078243,  0.48478064,\n",
       "       -0.1642563 , -0.17082232, -0.09353735,  0.86302593, -0.69238597,\n",
       "       -0.53279647,  0.29647859,  0.9788121 , -0.94349327, -0.98015412,\n",
       "        0.29011134, -0.99768891,  0.1642563 ,  0.64600652,  0.921835  ,\n",
       "       -0.42724437, -0.96587171,  0.99999446,  0.48672119,  0.99061523])"
      ]
     },
     "execution_count": 17,
     "metadata": {},
     "output_type": "execute_result"
    }
   ],
   "source": [
    "pred = dt.predict(x_test)\n",
    "pred"
   ]
  },
  {
   "cell_type": "code",
   "execution_count": 18,
   "metadata": {
    "ExecuteTime": {
     "end_time": "2018-03-06T14:33:05.382225Z",
     "start_time": "2018-03-06T14:33:05.207754Z"
    }
   },
   "outputs": [
    {
     "data": {
      "image/png": "[encoded data removed]",
      "text/plain": [
       "<matplotlib.figure.Figure at 0x15198baa90>"
      ]
     },
     "metadata": {},
     "output_type": "display_data"
    }
   ],
   "source": [
    "plt.plot(X,y)\n",
    "plt.scatter(x_test,pred,c='r', marker='x');"
   ]
  },
  {
   "cell_type": "markdown",
   "metadata": {},
   "source": [
    "### Let's try again, but limit the depth"
   ]
  },
  {
   "cell_type": "code",
   "execution_count": 19,
   "metadata": {
    "ExecuteTime": {
     "end_time": "2018-03-06T14:33:10.528485Z",
     "start_time": "2018-03-06T14:33:10.211352Z"
    }
   },
   "outputs": [
    {
     "name": "stderr",
     "output_type": "stream",
     "text": [
      "/Users/zachariahmiller/anaconda3/lib/python3.6/site-packages/numpy/core/fromnumeric.py:2889: RuntimeWarning: Mean of empty slice.\n",
      "  out=out, **kwargs)\n",
      "/Users/zachariahmiller/anaconda3/lib/python3.6/site-packages/numpy/core/_methods.py:80: RuntimeWarning: invalid value encountered in double_scalars\n",
      "  ret = ret.dtype.type(ret / rcount)\n"
     ]
    }
   ],
   "source": [
    "dt2 = decision_tree_regressor(max_depth=3, criteria='mae')\n",
    "dt2.fit(X,y)"
   ]
  },
  {
   "cell_type": "code",
   "execution_count": 20,
   "metadata": {
    "ExecuteTime": {
     "end_time": "2018-03-06T14:33:11.182337Z",
     "start_time": "2018-03-06T14:33:10.998659Z"
    }
   },
   "outputs": [
    {
     "data": {
      "image/png": "[encoded data removed]",
      "text/plain": [
       "<matplotlib.figure.Figure at 0x151d1a6358>"
      ]
     },
     "metadata": {},
     "output_type": "display_data"
    }
   ],
   "source": [
    "preds = dt2.predict(X[:])\n",
    "plt.plot(X,y)\n",
    "plt.scatter(X[:],preds,c='r', marker='x');"
   ]
  },
  {
   "cell_type": "code",
   "execution_count": 21,
   "metadata": {
    "ExecuteTime": {
     "end_time": "2018-03-06T14:33:13.507472Z",
     "start_time": "2018-03-06T14:33:13.493230Z"
    }
   },
   "outputs": [
    {
     "name": "stdout",
     "output_type": "stream",
     "text": [
      "Column 0 : -6.45484949833? \n",
      "--- True:  Column 0 : -3.44481605351? \n",
      "------ True:  Column 0 : -0.167224080268? \n",
      "--------- True:  0.175948811909\n",
      "--------- False:  -0.58706291535\n",
      "------ False:  Column 0 : -5.71906354515? \n",
      "--------- True:  0.794399900785\n",
      "--------- False:  0.158464386424\n",
      "--- False:  Column 0 : -9.0635451505? \n",
      "------ True:  Column 0 : -6.92307692308? \n",
      "--------- True:  -0.421440808062\n",
      "--------- False:  -0.80768520676\n",
      "------ False:  Column 0 : -9.53177257525? \n",
      "--------- True:  -0.092702513385\n",
      "--------- False:  0.362591374173\n"
     ]
    }
   ],
   "source": [
    "dt2.print_tree()"
   ]
  },
  {
   "cell_type": "code",
   "execution_count": null,
   "metadata": {
    "collapsed": true
   },
   "outputs": [],
   "source": []
  }
 ],
 "metadata": {
  "kernelspec": {
   "display_name": "Python [default]",
   "language": "python",
   "name": "python3"
  },
  "language_info": {
   "codemirror_mode": {
    "name": "ipython",
    "version": 3
   },
   "file_extension": ".py",
   "mimetype": "text/x-python",
   "name": "python",
   "nbconvert_exporter": "python",
   "pygments_lexer": "ipython3",
   "version": "3.6.2"
  },
  "latex_envs": {
   "LaTeX_envs_menu_present": true,
   "bibliofile": "biblio.bib",
   "cite_by": "apalike",
   "current_citInitial": 1,
   "eqLabelWithNumbers": true,
   "eqNumInitial": 1,
   "hotkeys": {
    "equation": "Ctrl-E",
    "itemize": "Ctrl-I"
   },
   "labels_anchors": false,
   "latex_user_defs": false,
   "report_style_numbering": false,
   "user_envs_cfg": false
  },
  "toc": {
   "nav_menu": {},
   "number_sections": true,
   "sideBar": true,
   "skip_h1_title": false,
   "toc_cell": false,
   "toc_position": {},
   "toc_section_display": "block",
   "toc_window_display": false
  }
 },
 "nbformat": 4,
 "nbformat_minor": 2
}
