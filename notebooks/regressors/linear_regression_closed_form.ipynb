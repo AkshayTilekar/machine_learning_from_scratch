{
 "cells": [
  {
   "cell_type": "markdown",
   "metadata": {},
   "source": [
    "# Let's build Linear Regression from Scratch"
   ]
  },
  {
   "cell_type": "markdown",
   "metadata": {},
   "source": [
    "Imports and Version Checking"
   ]
  },
  {
   "cell_type": "code",
   "execution_count": 1,
   "metadata": {
    "ExecuteTime": {
     "end_time": "2017-10-16T22:28:03.157385Z",
     "start_time": "2017-10-16T22:28:02.618799Z"
    },
    "collapsed": true
   },
   "outputs": [],
   "source": [
    "import numpy as np\n",
    "import random\n",
    "import matplotlib.pyplot as plt\n",
    "import pandas as pd\n",
    "import math\n",
    "import scipy\n",
    "%matplotlib inline\n",
    "plt.style.use('seaborn')"
   ]
  },
  {
   "cell_type": "code",
   "execution_count": 2,
   "metadata": {
    "ExecuteTime": {
     "end_time": "2017-10-16T22:28:03.248397Z",
     "start_time": "2017-10-16T22:28:03.159458Z"
    }
   },
   "outputs": [
    {
     "name": "stdout",
     "output_type": "stream",
     "text": [
      "Python Version: 3.6.2 |Anaconda, Inc.| (default, Sep 21 2017, 18:29:43) \n",
      "[GCC 4.2.1 Compatible Clang 4.0.1 (tags/RELEASE_401/final)] \n",
      "\n",
      "Matplotlib Version: 2.0.2\n",
      "Numpy Version: 1.13.1\n",
      "Pandas Version: 0.20.3\n"
     ]
    }
   ],
   "source": [
    "import numpy as np\n",
    "import sklearn\n",
    "import matplotlib\n",
    "import pandas as pd\n",
    "import sys\n",
    "libraries = (('Matplotlib', matplotlib), ('Numpy', np), ('Pandas', pd))\n",
    "\n",
    "print(\"Python Version:\", sys.version, '\\n')\n",
    "for lib in libraries:\n",
    "    print('{0} Version: {1}'.format(lib[0], lib[1].__version__))"
   ]
  },
  {
   "cell_type": "markdown",
   "metadata": {},
   "source": [
    "## The actual class for linear_regression."
   ]
  },
  {
   "cell_type": "code",
   "execution_count": 3,
   "metadata": {
    "ExecuteTime": {
     "end_time": "2017-10-16T22:28:03.972229Z",
     "start_time": "2017-10-16T22:28:03.865432Z"
    },
    "collapsed": true
   },
   "outputs": [],
   "source": [
    "import numpy as np\n",
    "\n",
    "class linear_regression:\n",
    "    \n",
    "    def __init__(self, w_intercept=True):\n",
    "        self.coef_ = None\n",
    "        self.intercept = w_intercept\n",
    "        self.is_fit = False\n",
    "        \n",
    "    def add_intercept(self,X):\n",
    "        \"\"\"\n",
    "        Adds an 'all 1's' bias term to function as the y-intercept\n",
    "        \"\"\"\n",
    "        if type(X) == type(np.array([5])):\n",
    "            rows = X.shape[0]\n",
    "        else:\n",
    "            X = np.array([[X]])\n",
    "            rows = 1\n",
    "        inter = np.ones(rows).reshape(-1,1)\n",
    "        return np.hstack((X,inter))\n",
    "        \n",
    "    def fit(self, X, y):\n",
    "        \"\"\"\n",
    "        Read in X (all features) and y (target) and use the Linear Algebra solution\n",
    "        to extract the coefficients for Linear Regression.\n",
    "        \"\"\"\n",
    "        X = np.array(X)\n",
    "        y = np.array(y)\n",
    "        if X.ndim == 1:\n",
    "            X = X.reshape(-1,1)\n",
    "        if y.ndim == 1:\n",
    "            y = y.reshape(-1,1)\n",
    "        if self.intercept:\n",
    "            X = self.add_intercept(X)\n",
    "        temp_xtx = np.linalg.inv(np.dot(X.T,X))\n",
    "        temp_xty = np.dot(X.T,y)\n",
    "        self.coef_ = np.dot(temp_xtx,temp_xty)\n",
    "        self.is_fit = True\n",
    "    \n",
    "    def predict(self,X):\n",
    "        \"\"\"\n",
    "        Takes in a new X value (that must be the same shape as the original X for fitting)\n",
    "        and returns the predicted y value, using the coefficients from fitting.\n",
    "        \"\"\"\n",
    "        if not self.is_fit:\n",
    "            raise ValueError(\"You have to run the 'fit' method before using predict!\")\n",
    "        if type(X) == type([5]):\n",
    "            X = np.array(X)\n",
    "        if type(X) == type(5) or type(X) == type(5.):\n",
    "            X = np.array([X])\n",
    "        if X.ndim == 1:\n",
    "            X = X.reshape(-1,1)\n",
    "        if self.intercept:\n",
    "            X = self.add_intercept(X)\n",
    "        return np.dot(X,self.coef_)[0][0]\n",
    "    \n",
    "    def score(self, X, true):\n",
    "        \"\"\"\n",
    "        Takes in X, y pairs and measures the performance of the model.\n",
    "        Returns negative mean squared error.\n",
    "        ---\n",
    "        Inputs: X, y (features, labels; np.arrays)\n",
    "        Outputs: Negative Mean Square Error (float)\n",
    "        \"\"\"\n",
    "        pred = self.predict(X)\n",
    "        mse = np.mean(np.square(true-pred))\n",
    "        return -mse"
   ]
  },
  {
   "cell_type": "code",
   "execution_count": 4,
   "metadata": {
    "ExecuteTime": {
     "end_time": "2017-10-16T22:28:04.485338Z",
     "start_time": "2017-10-16T22:28:04.371047Z"
    }
   },
   "outputs": [
    {
     "data": {
      "text/plain": [
       "array([[ 3.4378343 ],\n",
       "       [ 5.67472707]])"
      ]
     },
     "execution_count": 4,
     "metadata": {},
     "output_type": "execute_result"
    }
   ],
   "source": [
    "def gen_data(coef=3.5, intercept=5., num_points=100):\n",
    "    X = np.random.uniform(0,10,num_points)\n",
    "    y = coef*X + np.random.normal(0,1.5,100) + intercept\n",
    "    return X,y\n",
    "\n",
    "X,y = gen_data()\n",
    "lr = linear_regression(w_intercept=True)\n",
    "lr.fit(X,y)\n",
    "lr.coef_"
   ]
  },
  {
   "cell_type": "code",
   "execution_count": 5,
   "metadata": {
    "ExecuteTime": {
     "end_time": "2017-10-16T22:28:05.667253Z",
     "start_time": "2017-10-16T22:28:05.397139Z"
    },
    "collapsed": true
   },
   "outputs": [],
   "source": [
    "import seaborn as sns\n",
    "model_vals = []\n",
    "for val in np.linspace(0,10,100):\n",
    "    model_vals.append(float(lr.predict(val)))"
   ]
  },
  {
   "cell_type": "code",
   "execution_count": 6,
   "metadata": {
    "ExecuteTime": {
     "end_time": "2017-10-16T22:28:05.963686Z",
     "start_time": "2017-10-16T22:28:05.771673Z"
    }
   },
   "outputs": [
    {
     "data": {
      "image/png": "[encoded data removed]",
      "text/plain": [
       "<matplotlib.figure.Figure at 0x1a183d9b70>"
      ]
     },
     "metadata": {},
     "output_type": "display_data"
    }
   ],
   "source": [
    "plt.scatter(X,y,s=75)\n",
    "plt.plot(np.linspace(0,10,100),model_vals,'r-',lw=4)\n",
    "plt.xlabel('X')\n",
    "plt.ylabel('y')\n",
    "plt.title(\"y vs X\");"
   ]
  },
  {
   "cell_type": "code",
   "execution_count": 7,
   "metadata": {
    "ExecuteTime": {
     "end_time": "2017-10-16T22:28:06.381746Z",
     "start_time": "2017-10-16T22:28:06.375495Z"
    }
   },
   "outputs": [
    {
     "data": {
      "text/plain": [
       "-272.51469722756212"
      ]
     },
     "execution_count": 7,
     "metadata": {},
     "output_type": "execute_result"
    }
   ],
   "source": [
    "X_test, y_test = gen_data()\n",
    "lr.score(X_test, y_test)"
   ]
  },
  {
   "cell_type": "code",
   "execution_count": 9,
   "metadata": {
    "ExecuteTime": {
     "end_time": "2017-10-16T22:28:25.363703Z",
     "start_time": "2017-10-16T22:28:25.351134Z"
    }
   },
   "outputs": [
    {
     "name": "stdout",
     "output_type": "stream",
     "text": [
      "Mean Squared Error:  272.514697228\n",
      "Root Mean Squared Error:  16.5080191794\n",
      "Mean Absolute Error:  -13.2452124\n",
      "R2:  0.999948181104\n",
      "Adj R2:  0.999947652339\n"
     ]
    }
   ],
   "source": [
    "import sys\n",
    "sys.path.append('../modules')\n",
    "from stats_regress import *\n",
    "pred = lr.predict(X_test)\n",
    "test_model_results(X_test, y_test, pred)"
   ]
  },
  {
   "cell_type": "markdown",
   "metadata": {},
   "source": [
    "## Let's see it in action with X^2"
   ]
  },
  {
   "cell_type": "code",
   "execution_count": 10,
   "metadata": {
    "ExecuteTime": {
     "end_time": "2017-10-16T22:28:27.555885Z",
     "start_time": "2017-10-16T22:28:27.546696Z"
    }
   },
   "outputs": [
    {
     "data": {
      "text/plain": [
       "array([[ 2.49971629],\n",
       "       [ 4.98434876]])"
      ]
     },
     "execution_count": 10,
     "metadata": {},
     "output_type": "execute_result"
    }
   ],
   "source": [
    "X = np.linspace(0,10,100)\n",
    "y = 2.5*X*X + np.random.normal(0,1.5,100) + 5.\n",
    "\n",
    "lr = linear_regression(w_intercept=True)\n",
    "lr.fit(X*X,y)\n",
    "lr.coef_"
   ]
  },
  {
   "cell_type": "code",
   "execution_count": 11,
   "metadata": {
    "ExecuteTime": {
     "end_time": "2017-10-16T22:28:29.919616Z",
     "start_time": "2017-10-16T22:28:29.914047Z"
    }
   },
   "outputs": [
    {
     "data": {
      "text/plain": [
       "4.9843487627461229"
      ]
     },
     "execution_count": 11,
     "metadata": {},
     "output_type": "execute_result"
    }
   ],
   "source": [
    "lr.predict(0)"
   ]
  },
  {
   "cell_type": "code",
   "execution_count": 12,
   "metadata": {
    "ExecuteTime": {
     "end_time": "2017-10-16T22:28:30.177430Z",
     "start_time": "2017-10-16T22:28:30.170150Z"
    },
    "collapsed": true
   },
   "outputs": [],
   "source": [
    "import seaborn as sns\n",
    "model_vals = []\n",
    "for val in np.linspace(0,10,100):\n",
    "    model_vals.append(float(lr.predict(val*val)))"
   ]
  },
  {
   "cell_type": "code",
   "execution_count": 13,
   "metadata": {
    "ExecuteTime": {
     "end_time": "2017-10-16T22:28:30.876803Z",
     "start_time": "2017-10-16T22:28:30.718973Z"
    }
   },
   "outputs": [
    {
     "data": {
      "image/png": "[encoded data removed]",
      "text/plain": [
       "<matplotlib.figure.Figure at 0x1a18719b00>"
      ]
     },
     "metadata": {},
     "output_type": "display_data"
    }
   ],
   "source": [
    "plt.scatter(X,y,s=75)\n",
    "plt.plot(np.linspace(0,10,100),model_vals,'r-',lw=4)\n",
    "plt.xlabel('X')\n",
    "plt.ylabel('y')\n",
    "plt.title(\"y vs X\");"
   ]
  },
  {
   "cell_type": "markdown",
   "metadata": {},
   "source": [
    "## Check Error handling for fit-predict"
   ]
  },
  {
   "cell_type": "code",
   "execution_count": 14,
   "metadata": {
    "ExecuteTime": {
     "end_time": "2017-10-16T22:28:32.509637Z",
     "start_time": "2017-10-16T22:28:32.425044Z"
    }
   },
   "outputs": [
    {
     "ename": "ValueError",
     "evalue": "You have to run the 'fit' method before using predict!",
     "output_type": "error",
     "traceback": [
      "\u001b[0;31m---------------------------------------------------------------------------\u001b[0m",
      "\u001b[0;31mValueError\u001b[0m                                Traceback (most recent call last)",
      "\u001b[0;32m<ipython-input-14-4d5634cce974>\u001b[0m in \u001b[0;36m<module>\u001b[0;34m()\u001b[0m\n\u001b[1;32m      1\u001b[0m \u001b[0mlinear_regression\u001b[0m \u001b[0;34m=\u001b[0m \u001b[0mlinear_regression\u001b[0m\u001b[0;34m(\u001b[0m\u001b[0;34m)\u001b[0m\u001b[0;34m\u001b[0m\u001b[0m\n\u001b[0;32m----> 2\u001b[0;31m \u001b[0mlinear_regression\u001b[0m\u001b[0;34m.\u001b[0m\u001b[0mpredict\u001b[0m\u001b[0;34m(\u001b[0m\u001b[0;34m[\u001b[0m\u001b[0;36m1\u001b[0m\u001b[0;34m]\u001b[0m\u001b[0;34m)\u001b[0m\u001b[0;34m\u001b[0m\u001b[0m\n\u001b[0m",
      "\u001b[0;32m<ipython-input-3-bb43f2641526>\u001b[0m in \u001b[0;36mpredict\u001b[0;34m(self, X)\u001b[0m\n\u001b[1;32m     44\u001b[0m         \"\"\"\n\u001b[1;32m     45\u001b[0m         \u001b[0;32mif\u001b[0m \u001b[0;32mnot\u001b[0m \u001b[0mself\u001b[0m\u001b[0;34m.\u001b[0m\u001b[0mis_fit\u001b[0m\u001b[0;34m:\u001b[0m\u001b[0;34m\u001b[0m\u001b[0m\n\u001b[0;32m---> 46\u001b[0;31m             \u001b[0;32mraise\u001b[0m \u001b[0mValueError\u001b[0m\u001b[0;34m(\u001b[0m\u001b[0;34m\"You have to run the 'fit' method before using predict!\"\u001b[0m\u001b[0;34m)\u001b[0m\u001b[0;34m\u001b[0m\u001b[0m\n\u001b[0m\u001b[1;32m     47\u001b[0m         \u001b[0;32mif\u001b[0m \u001b[0mtype\u001b[0m\u001b[0;34m(\u001b[0m\u001b[0mX\u001b[0m\u001b[0;34m)\u001b[0m \u001b[0;34m==\u001b[0m \u001b[0mtype\u001b[0m\u001b[0;34m(\u001b[0m\u001b[0;34m[\u001b[0m\u001b[0;36m5\u001b[0m\u001b[0;34m]\u001b[0m\u001b[0;34m)\u001b[0m\u001b[0;34m:\u001b[0m\u001b[0;34m\u001b[0m\u001b[0m\n\u001b[1;32m     48\u001b[0m             \u001b[0mX\u001b[0m \u001b[0;34m=\u001b[0m \u001b[0mnp\u001b[0m\u001b[0;34m.\u001b[0m\u001b[0marray\u001b[0m\u001b[0;34m(\u001b[0m\u001b[0mX\u001b[0m\u001b[0;34m)\u001b[0m\u001b[0;34m\u001b[0m\u001b[0m\n",
      "\u001b[0;31mValueError\u001b[0m: You have to run the 'fit' method before using predict!"
     ]
    }
   ],
   "source": [
    "linear_regression = linear_regression()\n",
    "linear_regression.predict([1])"
   ]
  },
  {
   "cell_type": "code",
   "execution_count": null,
   "metadata": {
    "collapsed": true
   },
   "outputs": [],
   "source": []
  }
 ],
 "metadata": {
  "kernelspec": {
   "display_name": "Python [default]",
   "language": "python",
   "name": "python3"
  },
  "language_info": {
   "codemirror_mode": {
    "name": "ipython",
    "version": 3
   },
   "file_extension": ".py",
   "mimetype": "text/x-python",
   "name": "python",
   "nbconvert_exporter": "python",
   "pygments_lexer": "ipython3",
   "version": "3.6.2"
  },
  "latex_envs": {
   "LaTeX_envs_menu_present": true,
   "bibliofile": "biblio.bib",
   "cite_by": "apalike",
   "current_citInitial": 1,
   "eqLabelWithNumbers": true,
   "eqNumInitial": 1,
   "hotkeys": {
    "equation": "Ctrl-E",
    "itemize": "Ctrl-I"
   },
   "labels_anchors": false,
   "latex_user_defs": false,
   "report_style_numbering": false,
   "user_envs_cfg": false
  },
  "toc": {
   "nav_menu": {
    "height": "85px",
    "width": "252px"
   },
   "number_sections": true,
   "sideBar": true,
   "skip_h1_title": false,
   "toc_cell": false,
   "toc_position": {},
   "toc_section_display": "block",
   "toc_window_display": false
  }
 },
 "nbformat": 4,
 "nbformat_minor": 2
}
