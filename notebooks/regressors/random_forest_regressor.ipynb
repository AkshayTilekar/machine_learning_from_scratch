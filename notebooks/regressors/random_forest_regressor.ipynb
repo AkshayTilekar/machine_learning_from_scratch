{
 "cells": [
  {
   "cell_type": "markdown",
   "metadata": {},
   "source": [
    "# Random Forest Regressor"
   ]
  },
  {
   "cell_type": "markdown",
   "metadata": {},
   "source": [
    "Z. W. Miller - Copyright 2018"
   ]
  },
  {
   "cell_type": "code",
   "execution_count": 4,
   "metadata": {
    "ExecuteTime": {
     "end_time": "2018-03-06T14:52:08.413188Z",
     "start_time": "2018-03-06T14:52:08.405202Z"
    },
    "collapsed": true
   },
   "outputs": [],
   "source": [
    "import numpy as np\n",
    "import random\n",
    "import matplotlib.pyplot as plt\n",
    "import pandas as pd\n",
    "import math\n",
    "import scipy\n",
    "%matplotlib inline\n",
    "plt.style.use('seaborn')"
   ]
  },
  {
   "cell_type": "code",
   "execution_count": 5,
   "metadata": {
    "ExecuteTime": {
     "end_time": "2018-03-06T14:52:08.724210Z",
     "start_time": "2018-03-06T14:52:08.711472Z"
    }
   },
   "outputs": [
    {
     "name": "stdout",
     "output_type": "stream",
     "text": [
      "Python Version: 3.6.2 |Anaconda custom (64-bit)| (default, Sep 21 2017, 18:29:43) \n",
      "[GCC 4.2.1 Compatible Clang 4.0.1 (tags/RELEASE_401/final)] \n",
      "\n",
      "Matplotlib Version: 2.0.2\n",
      "Numpy Version: 1.12.1\n",
      "Pandas Version: 0.20.3\n"
     ]
    }
   ],
   "source": [
    "import numpy as np\n",
    "import sklearn\n",
    "import matplotlib\n",
    "import pandas as pd\n",
    "import sys\n",
    "libraries = (('Matplotlib', matplotlib), ('Numpy', np), ('Pandas', pd))\n",
    "\n",
    "print(\"Python Version:\", sys.version, '\\n')\n",
    "for lib in libraries:\n",
    "    print('{0} Version: {1}'.format(lib[0], lib[1].__version__))"
   ]
  },
  {
   "cell_type": "code",
   "execution_count": 6,
   "metadata": {
    "ExecuteTime": {
     "end_time": "2018-03-06T14:52:09.605634Z",
     "start_time": "2018-03-06T14:52:09.258923Z"
    },
    "collapsed": true
   },
   "outputs": [],
   "source": [
    "import sys \n",
    "sys.path.append('../..')\n",
    "from zwml.tree_models import decision_tree_regressor\n",
    "import collections\n",
    "import pandas as pd\n",
    "import numpy as np\n",
    "\n",
    "class random_forest_regressor:\n",
    "    \n",
    "    def __init__(self, n_trees = 10, max_depth=None, n_features='sqrt', mode='rfnode', seed=None, criteria='std'):\n",
    "        \"\"\"\n",
    "        Random Forest Regressor uses bootstrapping and column randomization\n",
    "        to generate n_trees different datasets and then applies a decision \n",
    "        tree to each dataset. The final prediction is an ensemble of all created trees.\n",
    "        ---\n",
    "        Params:\n",
    "        n_trees (int): number of bootstrapped trees to grow for ensembling\n",
    "        max_depth (int): maximum number of splits to make in the tree\n",
    "        mode: If mode='rfnode' the column randomization happens at each node. Otherwise\n",
    "              the tree will assume all input columns are valid choices and randomize at\n",
    "              a \"per tree\" level.\n",
    "        n_features: The number of columns to include in the models. Only applies if\n",
    "                    mode='rfnode.' Otherwise n_features = number of columns in data.\n",
    "                    Options: numeric value (e.g. 4 => 4 columns used)\n",
    "                             \"sqrt\" (square root of the number of cols in input data)\n",
    "                             \"div3\" (number of input cols divided by 3)\n",
    "        criteria: Options are \"std\" (standard deviation) and \"mae\" (absolute error from mean). \n",
    "                  This choice decides how the tree will be optimized. Default: \"std\"\n",
    "        seed: Random seed to allow for reproducibility.\n",
    "        \"\"\"\n",
    "        self.n_trees = n_trees\n",
    "        self.max_depth = max_depth\n",
    "        self.n_features = n_features\n",
    "        self.tree_filter_pairs = []\n",
    "        self.mode = mode\n",
    "        self.criteria = criteria\n",
    "        if seed:\n",
    "            self._seed = seed\n",
    "            np.random.seed(seed)\n",
    "        \n",
    "    def find_number_of_columns(self, X):\n",
    "        \"\"\"\n",
    "        Uses the user input for n_features to decide how many columns should\n",
    "        be included in each model. Uses the shape of X to decide the final number\n",
    "        if 'sqrt' is called. \n",
    "        ---\n",
    "        Input: X (array, dataframe, or series)\n",
    "        \"\"\"\n",
    "        if isinstance(self.n_features, int):\n",
    "            return self.n_features\n",
    "        if self.n_features == 'sqrt':\n",
    "            return int(np.sqrt(X.shape[1])+0.5)\n",
    "        if self.n_features == 'div3':\n",
    "            return int(X.shape[1]/3+0.5)\n",
    "        else:\n",
    "            raise ValueError(\"Invalid n_features selection\")\n",
    "    \n",
    "    def get_bagged_data(self, X, y):\n",
    "        \"\"\"\n",
    "        Chooses random rows to populate a bootstrapped dataset, with replacement.\n",
    "        Maintains the correlation between X and y\n",
    "        ---\n",
    "        Input: X, y (arrays)\n",
    "        Outputs: randomized X,y (arrays)\n",
    "        \"\"\"\n",
    "        index = np.random.choice(np.arange(len(X)),len(X))\n",
    "        return X[index], y[index]\n",
    "    \n",
    "    def randomize_columns(self,X):\n",
    "        \"\"\"\n",
    "        Chooses a set of columns to keep from the input data. These are\n",
    "        randomly drawn, according the number requested by the user. The data\n",
    "        is filtered and only the allowed columns are returned, along with the\n",
    "        filter. \n",
    "        ---\n",
    "        Input: X (array)\n",
    "        Output: filtered_X (array), filter (array)\n",
    "        \"\"\"\n",
    "        num_col = self.find_number_of_columns(X)\n",
    "        filt = np.random.choice(np.arange(0,X.shape[1]),num_col,replace=False)\n",
    "        filtered_X = self.apply_filter(X, filt)\n",
    "        return filtered_X, filt\n",
    "    \n",
    "    def apply_filter(self, X, filt):\n",
    "        \"\"\"\n",
    "        Given X and a filter, only the columns matching the index values\n",
    "        in filter are returned.\n",
    "        ---\n",
    "        Input: X (array), filter (array of column IDs)\n",
    "        Output: filtered_X (array)\n",
    "        \"\"\"\n",
    "        filtered_X = X.T[filt]\n",
    "        return filtered_X.T\n",
    "    \n",
    "    def pandas_to_numpy(self, x):\n",
    "        \"\"\"\n",
    "        Checks if the input is a Dataframe or series, converts to numpy matrix for\n",
    "        calculation purposes.\n",
    "        ---\n",
    "        Input: X (array, dataframe, or series)\n",
    "        Output: X (array)\n",
    "        \"\"\"\n",
    "        if type(x) == type(pd.DataFrame()) or type(x) == type(pd.Series()):\n",
    "            return x.as_matrix()\n",
    "        if type(x) == type(np.array([1,2])):\n",
    "            return x\n",
    "        return np.array(x) \n",
    "        \n",
    "    def handle_1d_data(self,x):\n",
    "        \"\"\"\n",
    "        Converts 1 dimensional data into a series of rows with 1 columns\n",
    "        instead of 1 row with many columns.\n",
    "        \"\"\"\n",
    "        if x.ndim == 1:\n",
    "            x = x.reshape(-1,1)\n",
    "        return x\n",
    "    \n",
    "    def convert_to_array(self, x):\n",
    "        \"\"\"\n",
    "        Takes in an input and converts it to a numpy array\n",
    "        and then checks if it needs to be reshaped for us\n",
    "        to use it properly\n",
    "        \"\"\"\n",
    "        x = self.pandas_to_numpy(x)\n",
    "        x = self.handle_1d_data(x)\n",
    "        return x\n",
    "    \n",
    "    def fit(self, X, y):\n",
    "        \"\"\"\n",
    "        Generates the bootstrapped data, decides which column to keep,\n",
    "        and then uses the decision tree class to build a model on each \n",
    "        bootstrapped and column-randomized dataset. Each tree is stored \n",
    "        as part of the model for later use, along with the appropriate\n",
    "        filter - which is needed to filter new data for use with the model.\n",
    "        ---\n",
    "        Input: X, y (arrays, dataframe, or series)\n",
    "        \"\"\"\n",
    "        X = self.convert_to_array(X)\n",
    "        y = self.convert_to_array(y)\n",
    "        try:\n",
    "            self.base_filt = [x for x in range(X.shape[1])]\n",
    "        except IndexError:\n",
    "            self.base_filt = [0]\n",
    "        for _ in range(self.n_trees):\n",
    "            filt = self.base_filt\n",
    "            bagX, bagy = self.get_bagged_data(X,y)\n",
    "            if self.mode == 'rftree':\n",
    "                bagX, filt = self.randomize_columns(bagX)\n",
    "            new_tree = decision_tree_regressor(self.max_depth, mode=self.mode, \n",
    "                                               n_features=self.n_features, criteria=self.criteria)\n",
    "            new_tree.fit(bagX, bagy)\n",
    "            self.tree_filter_pairs.append((new_tree, filt))\n",
    "    \n",
    "    def predict(self, X):\n",
    "        \"\"\"\n",
    "        Uses the list of tree models built in the fit, doing a predict with each\n",
    "        model. The associated filter is applied to X, so the model sees the columns\n",
    "        it has learned about. The final prediction uses the mode of all the trees \n",
    "        predictions.\n",
    "        ---\n",
    "        Input: X (array, dataframe, or series)\n",
    "        Output: Class ID (int)\n",
    "        \"\"\"\n",
    "        X = self.convert_to_array(X)\n",
    "        self.predicts = []\n",
    "        for tree, filt in self.tree_filter_pairs:\n",
    "            filtered_X = self.apply_filter(X, filt)\n",
    "            self.predicts.append(tree.predict(filtered_X))\n",
    "        self.pred_by_row = np.array(self.predicts).T\n",
    "        \n",
    "        ensemble_predict = []\n",
    "        for row in self.pred_by_row:\n",
    "            ensemble_predict.append(np.mean(row))\n",
    "        return ensemble_predict\n",
    "    \n",
    "    def score(self, X, y):\n",
    "        \"\"\"\n",
    "        Uses the predict method to measure the (negative)\n",
    "        mean squared error of the model.\n",
    "        ---\n",
    "        In: X (list or array), feature matrix; y (list or array) labels\n",
    "        Out: negative mean squared error (float)\n",
    "        \"\"\"\n",
    "        pred = self.predict(X)\n",
    "        return -1.* np.mean((np.array(pred)-np.array(y))**2)"
   ]
  },
  {
   "cell_type": "markdown",
   "metadata": {},
   "source": [
    "# Let's try it out with a dataset"
   ]
  },
  {
   "cell_type": "code",
   "execution_count": 7,
   "metadata": {
    "ExecuteTime": {
     "end_time": "2018-03-06T14:52:10.257592Z",
     "start_time": "2018-03-06T14:52:10.252460Z"
    },
    "collapsed": true
   },
   "outputs": [],
   "source": [
    "def get_data():\n",
    "    x = np.linspace(-10,10,300)\n",
    "    y = np.sin(x)\n",
    "    return x, y"
   ]
  },
  {
   "cell_type": "code",
   "execution_count": 8,
   "metadata": {
    "ExecuteTime": {
     "end_time": "2018-03-06T14:52:10.955852Z",
     "start_time": "2018-03-06T14:52:10.952273Z"
    },
    "collapsed": true
   },
   "outputs": [],
   "source": [
    "X,y = get_data()"
   ]
  },
  {
   "cell_type": "code",
   "execution_count": 10,
   "metadata": {
    "ExecuteTime": {
     "end_time": "2018-03-06T14:52:25.123352Z",
     "start_time": "2018-03-06T14:52:25.108512Z"
    }
   },
   "outputs": [],
   "source": [
    "from zwml.utilities import train_test_split\n",
    "X_train, X_test, y_train, y_test = train_test_split(X,y,test_size=0.3)"
   ]
  },
  {
   "cell_type": "code",
   "execution_count": 11,
   "metadata": {
    "ExecuteTime": {
     "end_time": "2018-03-06T14:52:35.299089Z",
     "start_time": "2018-03-06T14:52:26.166397Z"
    }
   },
   "outputs": [
    {
     "name": "stderr",
     "output_type": "stream",
     "text": [
      "/Users/zachariahmiller/anaconda3/lib/python3.6/site-packages/numpy/core/_methods.py:135: RuntimeWarning: Degrees of freedom <= 0 for slice\n",
      "  keepdims=keepdims)\n",
      "/Users/zachariahmiller/anaconda3/lib/python3.6/site-packages/numpy/core/_methods.py:105: RuntimeWarning: invalid value encountered in true_divide\n",
      "  arrmean, rcount, out=arrmean, casting='unsafe', subok=False)\n",
      "/Users/zachariahmiller/anaconda3/lib/python3.6/site-packages/numpy/core/_methods.py:127: RuntimeWarning: invalid value encountered in double_scalars\n",
      "  ret = ret.dtype.type(ret / rcount)\n"
     ]
    }
   ],
   "source": [
    "rf = random_forest_regressor(n_trees=25, n_features='sqrt', mode='rfnode', seed=42)\n",
    "rf.fit(X_train, y_train)"
   ]
  },
  {
   "cell_type": "markdown",
   "metadata": {},
   "source": [
    "Make sure each node is getting randomized properly in rfnode mode."
   ]
  },
  {
   "cell_type": "code",
   "execution_count": 12,
   "metadata": {
    "ExecuteTime": {
     "end_time": "2018-03-06T14:52:37.670028Z",
     "start_time": "2018-03-06T14:52:37.649777Z"
    }
   },
   "outputs": [
    {
     "name": "stdout",
     "output_type": "stream",
     "text": [
      "[0]\n",
      "[0]\n",
      "[0]\n",
      "[0]\n",
      "[0]\n",
      "[0]\n",
      "[0]\n",
      "[0]\n",
      "[0]\n",
      "[0]\n",
      "[0]\n",
      "[0]\n",
      "[0]\n",
      "[0]\n",
      "[0]\n",
      "[0]\n",
      "[0]\n",
      "[0]\n",
      "[0]\n",
      "[0]\n",
      "[0]\n",
      "[0]\n",
      "[0]\n",
      "[0]\n",
      "[0]\n"
     ]
    }
   ],
   "source": [
    "for tr in rf.tree_filter_pairs:\n",
    "    print(tr[0].tree.filt)        "
   ]
  },
  {
   "cell_type": "code",
   "execution_count": 13,
   "metadata": {
    "ExecuteTime": {
     "end_time": "2018-03-06T14:52:38.514969Z",
     "start_time": "2018-03-06T14:52:38.473420Z"
    }
   },
   "outputs": [
    {
     "data": {
      "text/plain": [
       "-0.012976535746837613"
      ]
     },
     "execution_count": 13,
     "metadata": {},
     "output_type": "execute_result"
    }
   ],
   "source": [
    "rf.score(X_test,y_test)"
   ]
  },
  {
   "cell_type": "code",
   "execution_count": 14,
   "metadata": {
    "ExecuteTime": {
     "end_time": "2018-03-06T14:55:25.096046Z",
     "start_time": "2018-03-06T14:52:39.482366Z"
    }
   },
   "outputs": [
    {
     "name": "stderr",
     "output_type": "stream",
     "text": [
      "/Users/zachariahmiller/anaconda3/lib/python3.6/site-packages/numpy/core/_methods.py:135: RuntimeWarning: Degrees of freedom <= 0 for slice\n",
      "  keepdims=keepdims)\n",
      "/Users/zachariahmiller/anaconda3/lib/python3.6/site-packages/numpy/core/_methods.py:105: RuntimeWarning: invalid value encountered in true_divide\n",
      "  arrmean, rcount, out=arrmean, casting='unsafe', subok=False)\n",
      "/Users/zachariahmiller/anaconda3/lib/python3.6/site-packages/numpy/core/_methods.py:127: RuntimeWarning: invalid value encountered in double_scalars\n",
      "  ret = ret.dtype.type(ret / rcount)\n"
     ]
    }
   ],
   "source": [
    "mse = []\n",
    "for n in range(1,100,10):\n",
    "    rf = random_forest_regressor(n_trees=n, mode='rfnode')\n",
    "    rf.fit(X_train, y_train)\n",
    "    mse.append(-1.*rf.score(X_test, y_test))"
   ]
  },
  {
   "cell_type": "code",
   "execution_count": 15,
   "metadata": {
    "ExecuteTime": {
     "end_time": "2018-03-06T14:55:25.350767Z",
     "start_time": "2018-03-06T14:55:25.098087Z"
    }
   },
   "outputs": [
    {
     "data": {
      "image/png": "[encoded data removed]",
      "text/plain": [
       "<matplotlib.figure.Figure at 0x10ee28a20>"
      ]
     },
     "metadata": {},
     "output_type": "display_data"
    }
   ],
   "source": [
    "plt.plot(range(1,100,10),mse,'r')\n",
    "plt.xlabel(\"Num. Trees\")\n",
    "plt.ylabel(\"MSE\")\n",
    "plt.title(\"Mean Square Error vs Num Trees (Mean MSE: %.3f)\"%round(np.mean(mse),3));"
   ]
  },
  {
   "cell_type": "markdown",
   "metadata": {},
   "source": [
    "# Now let's play with some more complicated data"
   ]
  },
  {
   "cell_type": "code",
   "execution_count": 16,
   "metadata": {
    "ExecuteTime": {
     "end_time": "2018-03-06T15:09:06.735428Z",
     "start_time": "2018-03-06T15:09:06.535968Z"
    },
    "collapsed": true
   },
   "outputs": [],
   "source": [
    "from sklearn.datasets import load_boston\n",
    "X = load_boston().data\n",
    "y = load_boston().target"
   ]
  },
  {
   "cell_type": "code",
   "execution_count": 18,
   "metadata": {
    "ExecuteTime": {
     "end_time": "2018-03-06T15:09:15.801473Z",
     "start_time": "2018-03-06T15:09:15.796498Z"
    }
   },
   "outputs": [],
   "source": [
    "from zwml.utilities import train_test_split\n",
    "X_train, X_test, y_train, y_test = train_test_split(X,y,test_size=0.3)"
   ]
  },
  {
   "cell_type": "code",
   "execution_count": 19,
   "metadata": {
    "ExecuteTime": {
     "end_time": "2018-03-06T15:09:30.079885Z",
     "start_time": "2018-03-06T15:09:17.439328Z"
    }
   },
   "outputs": [
    {
     "name": "stderr",
     "output_type": "stream",
     "text": [
      "/Users/zachariahmiller/anaconda3/lib/python3.6/site-packages/numpy/core/_methods.py:135: RuntimeWarning: Degrees of freedom <= 0 for slice\n",
      "  keepdims=keepdims)\n",
      "/Users/zachariahmiller/anaconda3/lib/python3.6/site-packages/numpy/core/_methods.py:105: RuntimeWarning: invalid value encountered in true_divide\n",
      "  arrmean, rcount, out=arrmean, casting='unsafe', subok=False)\n",
      "/Users/zachariahmiller/anaconda3/lib/python3.6/site-packages/numpy/core/_methods.py:127: RuntimeWarning: invalid value encountered in double_scalars\n",
      "  ret = ret.dtype.type(ret / rcount)\n"
     ]
    },
    {
     "data": {
      "text/plain": [
       "-23.223617009263698"
      ]
     },
     "execution_count": 19,
     "metadata": {},
     "output_type": "execute_result"
    }
   ],
   "source": [
    "rf = random_forest_regressor(n_trees=10, mode='rfnode')\n",
    "rf.fit(X_train, y_train)\n",
    "rf.score(X_test, y_test)"
   ]
  },
  {
   "cell_type": "code",
   "execution_count": 20,
   "metadata": {
    "ExecuteTime": {
     "end_time": "2018-03-06T15:19:30.716618Z",
     "start_time": "2018-03-06T15:09:30.082120Z"
    }
   },
   "outputs": [
    {
     "name": "stderr",
     "output_type": "stream",
     "text": [
      "/Users/zachariahmiller/anaconda3/lib/python3.6/site-packages/numpy/core/_methods.py:135: RuntimeWarning: Degrees of freedom <= 0 for slice\n",
      "  keepdims=keepdims)\n",
      "/Users/zachariahmiller/anaconda3/lib/python3.6/site-packages/numpy/core/_methods.py:105: RuntimeWarning: invalid value encountered in true_divide\n",
      "  arrmean, rcount, out=arrmean, casting='unsafe', subok=False)\n",
      "/Users/zachariahmiller/anaconda3/lib/python3.6/site-packages/numpy/core/_methods.py:127: RuntimeWarning: invalid value encountered in double_scalars\n",
      "  ret = ret.dtype.type(ret / rcount)\n"
     ]
    }
   ],
   "source": [
    "mse = []\n",
    "for n in range(1,100,10):\n",
    "    rf = random_forest_regressor(n_trees=n, mode='rfnode', seed=42)\n",
    "    rf.fit(X_train, y_train)\n",
    "    mse.append(rf.score(X_test, y_test))"
   ]
  },
  {
   "cell_type": "code",
   "execution_count": 21,
   "metadata": {
    "ExecuteTime": {
     "end_time": "2018-03-06T15:19:30.862838Z",
     "start_time": "2018-03-06T15:19:30.718882Z"
    }
   },
   "outputs": [
    {
     "data": {
      "image/png": "[encoded data removed]",
      "text/plain": [
       "<matplotlib.figure.Figure at 0x1a203a3a90>"
      ]
     },
     "metadata": {},
     "output_type": "display_data"
    }
   ],
   "source": [
    "plt.plot(range(1,100,10),mse,'r')\n",
    "plt.xlabel(\"Num. Trees\")\n",
    "plt.ylabel(\"MSE\")\n",
    "plt.title(\"Mean Square Error vs Num Trees (Mean MSE: %.3f)\"%round(np.mean(mse),3));"
   ]
  },
  {
   "cell_type": "markdown",
   "metadata": {},
   "source": [
    "# Now let's look at a few trees to see whether they're all being built the same way."
   ]
  },
  {
   "cell_type": "code",
   "execution_count": 22,
   "metadata": {
    "ExecuteTime": {
     "end_time": "2018-03-06T15:23:15.136091Z",
     "start_time": "2018-03-06T15:23:15.131092Z"
    },
    "collapsed": true
   },
   "outputs": [],
   "source": [
    "X_train, X_test, y_train, y_test = train_test_split(X,y,test_size=0.3)"
   ]
  },
  {
   "cell_type": "code",
   "execution_count": 23,
   "metadata": {
    "ExecuteTime": {
     "end_time": "2018-03-06T15:23:18.892940Z",
     "start_time": "2018-03-06T15:23:15.460474Z"
    }
   },
   "outputs": [
    {
     "name": "stderr",
     "output_type": "stream",
     "text": [
      "/Users/zachariahmiller/anaconda3/lib/python3.6/site-packages/numpy/core/_methods.py:135: RuntimeWarning: Degrees of freedom <= 0 for slice\n",
      "  keepdims=keepdims)\n",
      "/Users/zachariahmiller/anaconda3/lib/python3.6/site-packages/numpy/core/_methods.py:105: RuntimeWarning: invalid value encountered in true_divide\n",
      "  arrmean, rcount, out=arrmean, casting='unsafe', subok=False)\n",
      "/Users/zachariahmiller/anaconda3/lib/python3.6/site-packages/numpy/core/_methods.py:127: RuntimeWarning: invalid value encountered in double_scalars\n",
      "  ret = ret.dtype.type(ret / rcount)\n"
     ]
    }
   ],
   "source": [
    "rf = random_forest_regressor(max_depth=5,  n_trees=5, n_features='sqrt', mode='rfnode')\n",
    "rf.fit(X_train, y_train)"
   ]
  },
  {
   "cell_type": "code",
   "execution_count": 24,
   "metadata": {
    "ExecuteTime": {
     "end_time": "2018-03-06T15:23:19.062579Z",
     "start_time": "2018-03-06T15:23:18.894869Z"
    },
    "scrolled": false
   },
   "outputs": [
    {
     "name": "stdout",
     "output_type": "stream",
     "text": [
      "--- Tree 0 --- \n",
      "\n",
      "Column 2 : 6.91? \n",
      "--- True:  Column 12 : 9.08? \n",
      "------ True:  Column 7 : 2.0048? \n",
      "--------- True:  Column 9 : 304.0? \n",
      "------------ True:  Column 11 : 378.38? \n",
      "--------------- True:  20.084375\n",
      "--------------- False:  15.96\n",
      "------------ False:  Column 11 : 379.38? \n",
      "--------------- True:  21.0923076923\n",
      "--------------- False:  23.7\n",
      "--------- False:  Column 0 : 15.8603? \n",
      "------------ True:  Column 4 : 0.679? \n",
      "--------------- True:  7.8\n",
      "--------------- False:  11.78\n",
      "------------ False:  Column 5 : 6.852? \n",
      "--------------- True:  27.5\n",
      "--------------- False:  13.1568181818\n",
      "------ False:  Column 4 : 0.605? \n",
      "--------- True:  Column 12 : 6.43? \n",
      "------------ True:  Column 5 : 5.875? \n",
      "--------------- True:  41.4333333333\n",
      "--------------- False:  27.5\n",
      "------------ False:  50.0\n",
      "--------- False:  Column 6 : 80.8? \n",
      "------------ True:  Column 11 : 396.9? \n",
      "--------------- True:  11.9\n",
      "--------------- False:  21.9\n",
      "------------ False:  Column 7 : 5.9604? \n",
      "--------------- True:  28.1\n",
      "--------------- False:  24.07\n",
      "--- False:  Column 12 : 5.19? \n",
      "------ True:  Column 7 : 4.8122? \n",
      "--------- True:  Column 5 : 7.147? \n",
      "------------ True:  Column 8 : 2.0? \n",
      "--------------- True:  35.4\n",
      "--------------- False:  32.7\n",
      "------------ False:  Column 5 : 6.108? \n",
      "--------------- True:  23.5903225806\n",
      "--------------- False:  19.0071428571\n",
      "--------- False:  Column 12 : 8.81? \n",
      "------------ True:  Column 9 : 270.0? \n",
      "--------------- True:  22.46\n",
      "--------------- False:  28.8\n",
      "------------ False:  Column 7 : 2.847? \n",
      "--------------- True:  32.9375\n",
      "--------------- False:  39.7\n",
      "------ False:  Column 0 : 0.52693? \n",
      "--------- True:  Column 5 : 8.704? \n",
      "------------ True:  50.0\n",
      "------------ False:  43.5\n",
      "--------- False:  Column 10 : 15.1? \n",
      "------------ True:  Column 1 : 34.0? \n",
      "--------------- True:  32.90625\n",
      "--------------- False:  40.0666666667\n",
      "------------ False:  Column 10 : 13.6? \n",
      "--------------- True:  48.16\n",
      "--------------- False:  33.3\n",
      "\n",
      "\n",
      "\n",
      "--- Tree 1 --- \n",
      "\n",
      "Column 5 : 6.98? \n",
      "--- True:  Column 5 : 7.454? \n",
      "------ True:  Column 11 : 395.56? \n",
      "--------- True:  Column 8 : 7.0? \n",
      "------------ True:  42.8\n",
      "------------ False:  39.8\n",
      "--------- False:  Column 10 : 18.6? \n",
      "------------ True:  35.2\n",
      "------------ False:  Column 0 : 0.61154? \n",
      "--------------- True:  50.0\n",
      "--------------- False:  46.2785714286\n",
      "------ False:  Column 3 : 1.0? \n",
      "--------- True:  50.0\n",
      "--------- False:  Column 0 : 19.6091? \n",
      "------------ True:  15.0\n",
      "------------ False:  Column 8 : 8.0? \n",
      "--------------- True:  31.18\n",
      "--------------- False:  33.9185185185\n",
      "--- False:  Column 9 : 437.0? \n",
      "------ True:  Column 12 : 20.31? \n",
      "--------- True:  Column 12 : 21.52? \n",
      "------------ True:  Column 5 : 6.434? \n",
      "--------------- True:  7.5\n",
      "--------------- False:  10.25\n",
      "------------ False:  Column 7 : 1.5741? \n",
      "--------------- True:  11.5714285714\n",
      "--------------- False:  17.2\n",
      "--------- False:  Column 9 : 666.0? \n",
      "------------ True:  Column 5 : 4.963? \n",
      "--------------- True:  18.4418604651\n",
      "--------------- False:  27.5\n",
      "------------ False:  Column 11 : 395.04? \n",
      "--------------- True:  19.2\n",
      "--------------- False:  17.9\n",
      "------ False:  Column 2 : 6.91? \n",
      "--------- True:  Column 0 : 0.21977? \n",
      "------------ True:  Column 6 : 94.1? \n",
      "--------------- True:  16.08125\n",
      "--------------- False:  18.9833333333\n",
      "------------ False:  Column 6 : 72.5? \n",
      "--------------- True:  20.5913043478\n",
      "--------------- False:  23.9633333333\n",
      "--------- False:  Column 5 : 6.546? \n",
      "------------ True:  Column 2 : 6.41? \n",
      "--------------- True:  32.75\n",
      "--------------- False:  26.7066666667\n",
      "------------ False:  Column 9 : 224.0? \n",
      "--------------- True:  21.9145454545\n",
      "--------------- False:  30.0\n",
      "\n",
      "\n",
      "\n",
      "--- Tree 2 --- \n",
      "\n",
      "Column 12 : 8.94? \n",
      "--- True:  Column 7 : 2.3534? \n",
      "------ True:  Column 11 : 370.73? \n",
      "--------- True:  Column 10 : 20.9? \n",
      "------------ True:  Column 6 : 91.7? \n",
      "--------------- True:  16.1\n",
      "--------------- False:  20.05\n",
      "------------ False:  Column 5 : 6.389? \n",
      "--------------- True:  24.54\n",
      "--------------- False:  20.7457142857\n",
      "--------- False:  Column 6 : 80.3? \n",
      "------------ True:  Column 5 : 6.655? \n",
      "--------------- True:  15.05\n",
      "--------------- False:  13.3555555556\n",
      "------------ False:  Column 5 : 5.456? \n",
      "--------------- True:  20.2\n",
      "--------------- False:  16.1\n",
      "------ False:  Column 4 : 0.659? \n",
      "--------- True:  Column 4 : 0.718? \n",
      "------------ True:  Column 5 : 5.272? \n",
      "--------------- True:  12.7\n",
      "--------------- False:  21.9\n",
      "------------ False:  Column 0 : 5.87205? \n",
      "--------------- True:  10.7642857143\n",
      "--------------- False:  23.2\n",
      "--------- False:  Column 5 : 6.852? \n",
      "------------ True:  Column 9 : 666.0? \n",
      "--------------- True:  27.5\n",
      "--------------- False:  31.0\n",
      "------------ False:  Column 6 : 74.8? \n",
      "--------------- True:  16.1277777778\n",
      "--------------- False:  10.2\n",
      "--- False:  Column 5 : 7.454? \n",
      "------ True:  Column 5 : 7.802? \n",
      "--------- True:  Column 10 : 17.4? \n",
      "------------ True:  Column 2 : 2.89? \n",
      "--------------- True:  44.7285714286\n",
      "--------------- False:  50.0\n",
      "------------ False:  Column 6 : 91.5? \n",
      "--------------- True:  49.4\n",
      "--------------- False:  50.0\n",
      "--------- False:  Column 5 : 7.691? \n",
      "------------ True:  Column 0 : 0.22188? \n",
      "--------------- True:  35.2\n",
      "--------------- False:  39.8\n",
      "------------ False:  Column 9 : 264.0? \n",
      "--------------- True:  43.1\n",
      "--------------- False:  44.0\n",
      "------ False:  Column 5 : 5.663? \n",
      "--------- True:  Column 5 : 6.951? \n",
      "------------ True:  Column 10 : 20.2? \n",
      "--------------- True:  25.0\n",
      "--------------- False:  33.95\n",
      "------------ False:  Column 12 : 5.52? \n",
      "--------------- True:  23.4483333333\n",
      "--------------- False:  28.8695652174\n",
      "--------- False:  50.0\n",
      "\n",
      "\n",
      "\n",
      "--- Tree 3 --- \n",
      "\n",
      "Column 0 : 6.65492? \n",
      "--- True:  Column 12 : 13.22? \n",
      "------ True:  Column 4 : 0.659? \n",
      "--------- True:  Column 0 : 11.5779? \n",
      "------------ True:  Column 7 : 1.3861? \n",
      "--------------- True:  9.41071428571\n",
      "--------------- False:  13.9666666667\n",
      "------------ False:  Column 0 : 7.36711? \n",
      "--------------- True:  13.3\n",
      "--------------- False:  18.225\n",
      "--------- False:  Column 11 : 35.05? \n",
      "------------ True:  Column 12 : 21.22? \n",
      "--------------- True:  17.2\n",
      "--------------- False:  20.02\n",
      "------------ False:  10.2\n",
      "------ False:  50.0\n",
      "--- False:  Column 5 : 6.8? \n",
      "------ True:  Column 7 : 6.0622? \n",
      "--------- True:  Column 5 : 7.454? \n",
      "------------ True:  44.0\n",
      "------------ False:  Column 10 : 19.7? \n",
      "--------------- True:  26.6\n",
      "--------------- False:  32.5722222222\n",
      "--------- False:  Column 12 : 2.98? \n",
      "------------ True:  Column 5 : 7.47? \n",
      "--------------- True:  43.4538461538\n",
      "--------------- False:  33.3153846154\n",
      "------------ False:  50.0\n",
      "------ False:  Column 7 : 2.0048? \n",
      "--------- True:  Column 10 : 20.1? \n",
      "------------ True:  Column 12 : 16.3? \n",
      "--------------- True:  15.6466666667\n",
      "--------------- False:  20.0375\n",
      "------------ False:  Column 12 : 9.55? \n",
      "--------------- True:  20.6163636364\n",
      "--------------- False:  24.9565789474\n",
      "--------- False:  Column 2 : 19.58? \n",
      "------------ True:  Column 9 : 711.0? \n",
      "--------------- True:  8.88571428571\n",
      "--------------- False:  15.6\n",
      "------------ False:  Column 7 : 1.6768? \n",
      "--------------- True:  12.2666666667\n",
      "--------------- False:  50.0\n",
      "\n",
      "\n",
      "\n",
      "--- Tree 4 --- \n",
      "\n",
      "Column 5 : 6.826? \n",
      "--- True:  Column 12 : 4.03? \n",
      "------ True:  Column 2 : 18.1? \n",
      "--------- True:  Column 6 : 91.9? \n",
      "------------ True:  Column 6 : 97.9? \n",
      "--------------- True:  15.0\n",
      "--------------- False:  10.4\n",
      "------------ False:  25.0\n",
      "--------- False:  Column 6 : 83.3? \n",
      "------------ True:  Column 6 : 91.6? \n",
      "--------------- True:  36.5\n",
      "--------------- False:  47.48\n",
      "------------ False:  Column 10 : 19.7? \n",
      "--------------- True:  26.6\n",
      "--------------- False:  33.88\n",
      "------ False:  Column 10 : 17.6? \n",
      "--------- True:  Column 9 : 276.0? \n",
      "------------ True:  Column 6 : 97.5? \n",
      "--------------- True:  50.0\n",
      "--------------- False:  43.3\n",
      "------------ False:  Column 12 : 3.56? \n",
      "--------------- True:  37.3\n",
      "--------------- False:  33.425\n",
      "--------- False:  Column 5 : 7.875? \n",
      "------------ True:  Column 5 : 8.247? \n",
      "--------------- True:  48.3\n",
      "--------------- False:  50.0\n",
      "------------ False:  Column 1 : 20.0? \n",
      "--------------- True:  44.575\n",
      "--------------- False:  46.7\n",
      "--- False:  Column 7 : 2.1036? \n",
      "------ True:  Column 12 : 11.69? \n",
      "--------- True:  Column 0 : 0.55778? \n",
      "------------ True:  Column 12 : 16.3? \n",
      "--------------- True:  14.8923076923\n",
      "--------------- False:  19.0\n",
      "------------ False:  Column 10 : 20.1? \n",
      "--------------- True:  19.4692307692\n",
      "--------------- False:  20.927027027\n",
      "--------- False:  Column 5 : 6.552? \n",
      "------------ True:  Column 9 : 222.0? \n",
      "--------------- True:  25.5931818182\n",
      "--------------- False:  31.54\n",
      "------------ False:  Column 11 : 374.71? \n",
      "--------------- True:  22.2052631579\n",
      "--------------- False:  19.1333333333\n",
      "------ False:  Column 2 : 19.58? \n",
      "--------- True:  Column 12 : 18.34? \n",
      "------------ True:  Column 0 : 0.2498? \n",
      "--------------- True:  13.39\n",
      "--------------- False:  7.0\n",
      "------------ False:  Column 6 : 100.0? \n",
      "--------------- True:  23.3\n",
      "--------------- False:  18.6166666667\n",
      "--------- False:  Column 4 : 0.679? \n",
      "------------ True:  Column 12 : 22.74? \n",
      "--------------- True:  7.8625\n",
      "--------------- False:  13.7111111111\n",
      "------------ False:  Column 12 : 17.64? \n",
      "--------------- True:  14.0181818182\n",
      "--------------- False:  10.2\n",
      "\n",
      "\n",
      "\n"
     ]
    }
   ],
   "source": [
    "for i, tree in enumerate(rf.tree_filter_pairs):\n",
    "    print(\"--- Tree %i ---\"%i,\"\\n\")\n",
    "    tree[0].print_tree()\n",
    "    print(\"\\n\\n\")"
   ]
  },
  {
   "cell_type": "code",
   "execution_count": null,
   "metadata": {
    "collapsed": true
   },
   "outputs": [],
   "source": []
  }
 ],
 "metadata": {
  "kernelspec": {
   "display_name": "Python [conda root]",
   "language": "python",
   "name": "conda-root-py"
  },
  "language_info": {
   "codemirror_mode": {
    "name": "ipython",
    "version": 3
   },
   "file_extension": ".py",
   "mimetype": "text/x-python",
   "name": "python",
   "nbconvert_exporter": "python",
   "pygments_lexer": "ipython3",
   "version": "3.6.2"
  },
  "toc": {
   "nav_menu": {},
   "number_sections": true,
   "sideBar": true,
   "skip_h1_title": false,
   "toc_cell": false,
   "toc_position": {},
   "toc_section_display": "block",
   "toc_window_display": false
  }
 },
 "nbformat": 4,
 "nbformat_minor": 2
}
