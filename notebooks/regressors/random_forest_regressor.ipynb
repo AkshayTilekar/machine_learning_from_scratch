{
 "cells": [
  {
   "cell_type": "markdown",
   "metadata": {},
   "source": [
    "# Random Forest Regressor"
   ]
  },
  {
   "cell_type": "code",
   "execution_count": 1,
   "metadata": {
    "ExecuteTime": {
     "end_time": "2017-11-03T18:05:58.806479Z",
     "start_time": "2017-11-03T18:05:58.261333Z"
    },
    "collapsed": true
   },
   "outputs": [],
   "source": [
    "import numpy as np\n",
    "import random\n",
    "import matplotlib.pyplot as plt\n",
    "import pandas as pd\n",
    "import math\n",
    "import scipy\n",
    "%matplotlib inline\n",
    "plt.style.use('seaborn')"
   ]
  },
  {
   "cell_type": "code",
   "execution_count": 2,
   "metadata": {
    "ExecuteTime": {
     "end_time": "2017-11-03T18:05:58.930255Z",
     "start_time": "2017-11-03T18:05:58.809131Z"
    }
   },
   "outputs": [
    {
     "name": "stdout",
     "output_type": "stream",
     "text": [
      "Python Version: 3.6.2 |Anaconda, Inc.| (default, Sep 21 2017, 18:29:43) \n",
      "[GCC 4.2.1 Compatible Clang 4.0.1 (tags/RELEASE_401/final)] \n",
      "\n",
      "Matplotlib Version: 2.0.2\n",
      "Numpy Version: 1.13.1\n",
      "Pandas Version: 0.20.3\n"
     ]
    }
   ],
   "source": [
    "import numpy as np\n",
    "import sklearn\n",
    "import matplotlib\n",
    "import pandas as pd\n",
    "import sys\n",
    "libraries = (('Matplotlib', matplotlib), ('Numpy', np), ('Pandas', pd))\n",
    "\n",
    "print(\"Python Version:\", sys.version, '\\n')\n",
    "for lib in libraries:\n",
    "    print('{0} Version: {1}'.format(lib[0], lib[1].__version__))"
   ]
  },
  {
   "cell_type": "code",
   "execution_count": 3,
   "metadata": {
    "ExecuteTime": {
     "end_time": "2017-11-03T18:05:59.263690Z",
     "start_time": "2017-11-03T18:05:58.939343Z"
    },
    "collapsed": true
   },
   "outputs": [],
   "source": [
    "import sys \n",
    "sys.path.append('../../modules')\n",
    "from decision_tree_regressor import decision_tree_regressor\n",
    "import collections\n",
    "import pandas as pd\n",
    "import numpy as np\n",
    "\n",
    "class random_forest_regressor:\n",
    "    \n",
    "    def __init__(self, n_trees = 10, max_depth=None, n_features='sqrt', mode='rfnode', seed=None, criteria='std'):\n",
    "        \"\"\"\n",
    "        Random Forest Regressor uses bootstrapping and column randomization\n",
    "        to generate n_trees different datasets and then applies a decision \n",
    "        tree to each dataset. The final prediction is an ensemble of all created trees.\n",
    "        ---\n",
    "        Params:\n",
    "        n_trees (int): number of bootstrapped trees to grow for ensembling\n",
    "        max_depth (int): maximum number of splits to make in the tree\n",
    "        mode: If mode='rfnode' the column randomization happens at each node. Otherwise\n",
    "              the tree will assume all input columns are valid choices and randomize at\n",
    "              a \"per tree\" level.\n",
    "        n_features: The number of columns to include in the models. Only applies if\n",
    "                    mode='rfnode.' Otherwise n_features = number of columns in data.\n",
    "                    Options: numeric value (e.g. 4 => 4 columns used)\n",
    "                             \"sqrt\" (square root of the number of cols in input data)\n",
    "                             \"div3\" (number of input cols divided by 3)\n",
    "        criteria: Options are \"std\" (standard deviation) and \"mae\" (absolute error from mean). \n",
    "                  This choice decides how the tree will be optimized. Default: \"std\"\n",
    "        seed: Random seed to allow for reproducibility.\n",
    "        \"\"\"\n",
    "        self.n_trees = n_trees\n",
    "        self.max_depth = max_depth\n",
    "        self.n_features = n_features\n",
    "        self.tree_filter_pairs = []\n",
    "        self.mode = mode\n",
    "        self.criteria = criteria\n",
    "        if seed:\n",
    "            self._seed = seed\n",
    "            np.random.seed(seed)\n",
    "        \n",
    "    def find_number_of_columns(self, X):\n",
    "        \"\"\"\n",
    "        Uses the user input for n_features to decide how many columns should\n",
    "        be included in each model. Uses the shape of X to decide the final number\n",
    "        if 'sqrt' is called. \n",
    "        ---\n",
    "        Input: X (array, dataframe, or series)\n",
    "        \"\"\"\n",
    "        if isinstance(self.n_features, int):\n",
    "            return self.n_features\n",
    "        if self.n_features == 'sqrt':\n",
    "            return int(np.sqrt(X.shape[1])+0.5)\n",
    "        if self.n_features == 'div3':\n",
    "            return int(X.shape[1]/3+0.5)\n",
    "        else:\n",
    "            raise ValueError(\"Invalid n_features selection\")\n",
    "    \n",
    "    def get_bagged_data(self, X, y):\n",
    "        \"\"\"\n",
    "        Chooses random rows to populate a bootstrapped dataset, with replacement.\n",
    "        Maintains the correlation between X and y\n",
    "        ---\n",
    "        Input: X, y (arrays)\n",
    "        Outputs: randomized X,y (arrays)\n",
    "        \"\"\"\n",
    "        index = np.random.choice(np.arange(len(X)),len(X))\n",
    "        return X[index], y[index]\n",
    "    \n",
    "    def randomize_columns(self,X):\n",
    "        \"\"\"\n",
    "        Chooses a set of columns to keep from the input data. These are\n",
    "        randomly drawn, according the number requested by the user. The data\n",
    "        is filtered and only the allowed columns are returned, along with the\n",
    "        filter. \n",
    "        ---\n",
    "        Input: X (array)\n",
    "        Output: filtered_X (array), filter (array)\n",
    "        \"\"\"\n",
    "        num_col = self.find_number_of_columns(X)\n",
    "        filt = np.random.choice(np.arange(0,X.shape[1]),num_col,replace=False)\n",
    "        filtered_X = self.apply_filter(X, filt)\n",
    "        return filtered_X, filt\n",
    "    \n",
    "    def apply_filter(self, X, filt):\n",
    "        \"\"\"\n",
    "        Given X and a filter, only the columns matching the index values\n",
    "        in filter are returned.\n",
    "        ---\n",
    "        Input: X (array), filter (array of column IDs)\n",
    "        Output: filtered_X (array)\n",
    "        \"\"\"\n",
    "        filtered_X = X.T[filt]\n",
    "        return filtered_X.T\n",
    "    \n",
    "    def pandas_to_numpy(self, x):\n",
    "        \"\"\"\n",
    "        Checks if the input is a Dataframe or series, converts to numpy matrix for\n",
    "        calculation purposes.\n",
    "        ---\n",
    "        Input: X (array, dataframe, or series)\n",
    "        Output: X (array)\n",
    "        \"\"\"\n",
    "        if type(x) == type(pd.DataFrame()) or type(x) == type(pd.Series()):\n",
    "            return x.as_matrix()\n",
    "        if type(x) == type(np.array([1,2])):\n",
    "            return x\n",
    "        return np.array(x)\n",
    "    \n",
    "    def fit(self, X, y):\n",
    "        \"\"\"\n",
    "        Generates the bootstrapped data, decides which column to keep,\n",
    "        and then uses the decision tree class to build a model on each \n",
    "        bootstrapped and column-randomized dataset. Each tree is stored \n",
    "        as part of the model for later use, along with the appropriate\n",
    "        filter - which is needed to filter new data for use with the model.\n",
    "        ---\n",
    "        Input: X, y (arrays, dataframe, or series)\n",
    "        \"\"\"\n",
    "        X = self.pandas_to_numpy(X)\n",
    "        y = self.pandas_to_numpy(y)\n",
    "        try:\n",
    "            self.base_filt = [x for x in range(X.shape[1])]\n",
    "        except IndexError:\n",
    "            self.base_filt = [0]\n",
    "        for _ in range(self.n_trees):\n",
    "            filt = self.base_filt\n",
    "            bagX, bagy = self.get_bagged_data(X,y)\n",
    "            if self.mode == 'rftree':\n",
    "                bagX, filt = self.randomize_columns(bagX)\n",
    "            new_tree = decision_tree_regressor(self.max_depth, mode=self.mode, \n",
    "                                               n_features=self.n_features, criteria=self.criteria)\n",
    "            new_tree.fit(bagX, bagy)\n",
    "            self.tree_filter_pairs.append((new_tree, filt))\n",
    "    \n",
    "    def predict(self, X):\n",
    "        \"\"\"\n",
    "        Uses the list of tree models built in the fit, doing a predict with each\n",
    "        model. The associated filter is applied to X, so the model sees the columns\n",
    "        it has learned about. The final prediction uses the mode of all the trees \n",
    "        predictions.\n",
    "        ---\n",
    "        Input: X (array, dataframe, or series)\n",
    "        Output: Class ID (int)\n",
    "        \"\"\"\n",
    "        X = self.pandas_to_numpy(X)\n",
    "        self.predicts = []\n",
    "        for tree, filt in self.tree_filter_pairs:\n",
    "            filtered_X = self.apply_filter(X, filt)\n",
    "            self.predicts.append(tree.predict(filtered_X))\n",
    "        self.pred_by_row = np.array(self.predicts).T\n",
    "        \n",
    "        ensemble_predict = []\n",
    "        for row in self.pred_by_row:\n",
    "            ensemble_predict.append(np.mean(row))\n",
    "        return ensemble_predict\n",
    "    \n",
    "    def score(self, X, y):\n",
    "        \"\"\"\n",
    "        Uses the predict method to measure the (negative)\n",
    "        mean squared error of the model.\n",
    "        ---\n",
    "        In: X (list or array), feature matrix; y (list or array) labels\n",
    "        Out: negative mean squared error (float)\n",
    "        \"\"\"\n",
    "        pred = self.predict(X)\n",
    "        return -1.* np.mean((np.array(pred)-np.array(y))**2)"
   ]
  },
  {
   "cell_type": "markdown",
   "metadata": {},
   "source": [
    "# Let's try it out with a dataset"
   ]
  },
  {
   "cell_type": "code",
   "execution_count": 4,
   "metadata": {
    "ExecuteTime": {
     "end_time": "2017-11-03T18:06:00.066726Z",
     "start_time": "2017-11-03T18:06:00.060516Z"
    },
    "collapsed": true
   },
   "outputs": [],
   "source": [
    "def get_data():\n",
    "    x = np.linspace(-10,10,300)\n",
    "    y = np.sin(x)\n",
    "    return x, y"
   ]
  },
  {
   "cell_type": "code",
   "execution_count": 5,
   "metadata": {
    "ExecuteTime": {
     "end_time": "2017-11-03T18:06:00.340228Z",
     "start_time": "2017-11-03T18:06:00.336373Z"
    },
    "collapsed": true
   },
   "outputs": [],
   "source": [
    "X,y = get_data()"
   ]
  },
  {
   "cell_type": "code",
   "execution_count": 6,
   "metadata": {
    "ExecuteTime": {
     "end_time": "2017-11-03T18:06:00.736222Z",
     "start_time": "2017-11-03T18:06:00.729356Z"
    },
    "collapsed": true
   },
   "outputs": [],
   "source": [
    "from data_splitting import train_test_split\n",
    "X_train, X_test, y_train, y_test = train_test_split(X,y,test_size=0.3)"
   ]
  },
  {
   "cell_type": "code",
   "execution_count": 7,
   "metadata": {
    "ExecuteTime": {
     "end_time": "2017-11-03T18:06:11.044967Z",
     "start_time": "2017-11-03T18:06:01.549452Z"
    }
   },
   "outputs": [
    {
     "name": "stderr",
     "output_type": "stream",
     "text": [
      "/Users/zachariahmiller/anaconda3/lib/python3.6/site-packages/numpy/core/_methods.py:135: RuntimeWarning: Degrees of freedom <= 0 for slice\n",
      "  keepdims=keepdims)\n",
      "/Users/zachariahmiller/anaconda3/lib/python3.6/site-packages/numpy/core/_methods.py:105: RuntimeWarning: invalid value encountered in true_divide\n",
      "  arrmean, rcount, out=arrmean, casting='unsafe', subok=False)\n",
      "/Users/zachariahmiller/anaconda3/lib/python3.6/site-packages/numpy/core/_methods.py:127: RuntimeWarning: invalid value encountered in double_scalars\n",
      "  ret = ret.dtype.type(ret / rcount)\n"
     ]
    }
   ],
   "source": [
    "rf = random_forest_regressor(n_trees=25, n_features='sqrt', mode='rfnode', seed=42)\n",
    "rf.fit(X_train, y_train)"
   ]
  },
  {
   "cell_type": "markdown",
   "metadata": {},
   "source": [
    "Make sure each node is getting randomized properly in rfnode mode."
   ]
  },
  {
   "cell_type": "code",
   "execution_count": 8,
   "metadata": {
    "ExecuteTime": {
     "end_time": "2017-11-03T18:06:11.062387Z",
     "start_time": "2017-11-03T18:06:11.046963Z"
    }
   },
   "outputs": [
    {
     "name": "stdout",
     "output_type": "stream",
     "text": [
      "[0]\n",
      "[0]\n",
      "[0]\n",
      "[0]\n",
      "[0]\n",
      "[0]\n",
      "[0]\n",
      "[0]\n",
      "[0]\n",
      "[0]\n",
      "[0]\n",
      "[0]\n",
      "[0]\n",
      "[0]\n",
      "[0]\n",
      "[0]\n",
      "[0]\n",
      "[0]\n",
      "[0]\n",
      "[0]\n",
      "[0]\n",
      "[0]\n",
      "[0]\n",
      "[0]\n",
      "[0]\n"
     ]
    }
   ],
   "source": [
    "for tr in rf.tree_filter_pairs:\n",
    "    print(tr[0].tree.filt)        "
   ]
  },
  {
   "cell_type": "code",
   "execution_count": 9,
   "metadata": {
    "ExecuteTime": {
     "end_time": "2017-11-03T18:06:14.172586Z",
     "start_time": "2017-11-03T18:06:14.154565Z"
    }
   },
   "outputs": [
    {
     "data": {
      "text/plain": [
       "-0.63278849936552706"
      ]
     },
     "execution_count": 9,
     "metadata": {},
     "output_type": "execute_result"
    }
   ],
   "source": [
    "rf.score(X_test,y_test)"
   ]
  },
  {
   "cell_type": "code",
   "execution_count": 10,
   "metadata": {
    "ExecuteTime": {
     "end_time": "2017-11-03T18:10:20.364806Z",
     "start_time": "2017-11-03T18:06:56.647331Z"
    }
   },
   "outputs": [
    {
     "name": "stderr",
     "output_type": "stream",
     "text": [
      "/Users/zachariahmiller/anaconda3/lib/python3.6/site-packages/numpy/core/_methods.py:135: RuntimeWarning: Degrees of freedom <= 0 for slice\n",
      "  keepdims=keepdims)\n",
      "/Users/zachariahmiller/anaconda3/lib/python3.6/site-packages/numpy/core/_methods.py:105: RuntimeWarning: invalid value encountered in true_divide\n",
      "  arrmean, rcount, out=arrmean, casting='unsafe', subok=False)\n",
      "/Users/zachariahmiller/anaconda3/lib/python3.6/site-packages/numpy/core/_methods.py:127: RuntimeWarning: invalid value encountered in double_scalars\n",
      "  ret = ret.dtype.type(ret / rcount)\n"
     ]
    }
   ],
   "source": [
    "mse = []\n",
    "for n in range(1,100,10):\n",
    "    rf = random_forest_regressor(n_trees=n, mode='rfnode')\n",
    "    rf.fit(X_train, y_train)\n",
    "    mse.append(-1.*rf.score(X_test, y_test))"
   ]
  },
  {
   "cell_type": "code",
   "execution_count": 11,
   "metadata": {
    "ExecuteTime": {
     "end_time": "2017-11-03T18:10:20.655939Z",
     "start_time": "2017-11-03T18:10:20.368783Z"
    }
   },
   "outputs": [
    {
     "data": {
      "image/png": "[encoded data removed]",
      "text/plain": [
       "<matplotlib.figure.Figure at 0x10957f9e8>"
      ]
     },
     "metadata": {},
     "output_type": "display_data"
    }
   ],
   "source": [
    "plt.plot(range(1,100,10),mse,'r')\n",
    "plt.xlabel(\"Num. Trees\")\n",
    "plt.ylabel(\"MSE\")\n",
    "plt.title(\"Mean Square Error vs Num Trees (Mean MSE: %.3f)\"%round(np.mean(mse),3));"
   ]
  },
  {
   "cell_type": "markdown",
   "metadata": {},
   "source": [
    "# Now let's play with some more complicated data"
   ]
  },
  {
   "cell_type": "code",
   "execution_count": 26,
   "metadata": {
    "ExecuteTime": {
     "end_time": "2017-10-16T22:05:54.471227Z",
     "start_time": "2017-10-16T22:05:54.456748Z"
    },
    "collapsed": true
   },
   "outputs": [],
   "source": [
    "from sklearn.datasets import load_boston\n",
    "X = load_boston().data\n",
    "y = load_boston().target"
   ]
  },
  {
   "cell_type": "code",
   "execution_count": 15,
   "metadata": {
    "ExecuteTime": {
     "end_time": "2017-10-16T21:54:01.879922Z",
     "start_time": "2017-10-16T21:54:01.874466Z"
    },
    "collapsed": true
   },
   "outputs": [],
   "source": [
    "from data_splitting import train_test_split\n",
    "X_train, X_test, y_train, y_test = train_test_split(X,y,test_size=0.3)"
   ]
  },
  {
   "cell_type": "code",
   "execution_count": 16,
   "metadata": {
    "ExecuteTime": {
     "end_time": "2017-10-16T21:54:23.566735Z",
     "start_time": "2017-10-16T21:54:11.055043Z"
    }
   },
   "outputs": [
    {
     "name": "stderr",
     "output_type": "stream",
     "text": [
      "/Users/zachariahmiller/anaconda3/lib/python3.6/site-packages/numpy/core/_methods.py:135: RuntimeWarning: Degrees of freedom <= 0 for slice\n",
      "  keepdims=keepdims)\n",
      "/Users/zachariahmiller/anaconda3/lib/python3.6/site-packages/numpy/core/_methods.py:105: RuntimeWarning: invalid value encountered in true_divide\n",
      "  arrmean, rcount, out=arrmean, casting='unsafe', subok=False)\n",
      "/Users/zachariahmiller/anaconda3/lib/python3.6/site-packages/numpy/core/_methods.py:127: RuntimeWarning: invalid value encountered in double_scalars\n",
      "  ret = ret.dtype.type(ret / rcount)\n"
     ]
    },
    {
     "data": {
      "text/plain": [
       "22.151810309307486"
      ]
     },
     "execution_count": 16,
     "metadata": {},
     "output_type": "execute_result"
    }
   ],
   "source": [
    "rf = random_forest_regressor(n_trees=10, mode='rfnode')\n",
    "rf.fit(X_train, y_train)\n",
    "rf.score(X_test, y_test)"
   ]
  },
  {
   "cell_type": "code",
   "execution_count": 19,
   "metadata": {
    "ExecuteTime": {
     "end_time": "2017-10-16T22:04:31.438589Z",
     "start_time": "2017-10-16T21:55:15.794802Z"
    }
   },
   "outputs": [
    {
     "name": "stderr",
     "output_type": "stream",
     "text": [
      "/Users/zachariahmiller/anaconda3/lib/python3.6/site-packages/numpy/core/_methods.py:135: RuntimeWarning: Degrees of freedom <= 0 for slice\n",
      "  keepdims=keepdims)\n",
      "/Users/zachariahmiller/anaconda3/lib/python3.6/site-packages/numpy/core/_methods.py:105: RuntimeWarning: invalid value encountered in true_divide\n",
      "  arrmean, rcount, out=arrmean, casting='unsafe', subok=False)\n",
      "/Users/zachariahmiller/anaconda3/lib/python3.6/site-packages/numpy/core/_methods.py:127: RuntimeWarning: invalid value encountered in double_scalars\n",
      "  ret = ret.dtype.type(ret / rcount)\n"
     ]
    }
   ],
   "source": [
    "mse = []\n",
    "for n in range(1,100,10):\n",
    "    rf = random_forest_regressor(n_trees=n, mode='rfnode', seed=42)\n",
    "    rf.fit(X_train, y_train)\n",
    "    mse.append(rf.score(X_test, y_test))"
   ]
  },
  {
   "cell_type": "code",
   "execution_count": 22,
   "metadata": {
    "ExecuteTime": {
     "end_time": "2017-10-16T22:05:00.455069Z",
     "start_time": "2017-10-16T22:05:00.309880Z"
    }
   },
   "outputs": [
    {
     "data": {
      "image/png": "[encoded data removed]",
      "text/plain": [
       "<matplotlib.figure.Figure at 0x1a18d495f8>"
      ]
     },
     "metadata": {},
     "output_type": "display_data"
    }
   ],
   "source": [
    "plt.plot(range(1,100,10),mse,'r')\n",
    "plt.xlabel(\"Num. Trees\")\n",
    "plt.ylabel(\"MSE\")\n",
    "plt.title(\"Mean Square Error vs Num Trees (Mean MSE: %.3f)\"%round(np.mean(mse),3));"
   ]
  },
  {
   "cell_type": "markdown",
   "metadata": {
    "collapsed": true
   },
   "source": [
    "# Now let's look at a few trees to see whether they're all being built the same way."
   ]
  },
  {
   "cell_type": "code",
   "execution_count": 27,
   "metadata": {
    "ExecuteTime": {
     "end_time": "2017-10-16T22:05:59.553319Z",
     "start_time": "2017-10-16T22:05:59.548894Z"
    },
    "collapsed": true
   },
   "outputs": [],
   "source": [
    "from data_splitting import train_test_split\n",
    "X_train, X_test, y_train, y_test = train_test_split(X,y,test_size=0.3)"
   ]
  },
  {
   "cell_type": "code",
   "execution_count": 28,
   "metadata": {
    "ExecuteTime": {
     "end_time": "2017-10-16T22:06:03.562248Z",
     "start_time": "2017-10-16T22:05:59.929719Z"
    }
   },
   "outputs": [
    {
     "name": "stderr",
     "output_type": "stream",
     "text": [
      "/Users/zachariahmiller/anaconda3/lib/python3.6/site-packages/numpy/core/_methods.py:135: RuntimeWarning: Degrees of freedom <= 0 for slice\n",
      "  keepdims=keepdims)\n",
      "/Users/zachariahmiller/anaconda3/lib/python3.6/site-packages/numpy/core/_methods.py:105: RuntimeWarning: invalid value encountered in true_divide\n",
      "  arrmean, rcount, out=arrmean, casting='unsafe', subok=False)\n",
      "/Users/zachariahmiller/anaconda3/lib/python3.6/site-packages/numpy/core/_methods.py:127: RuntimeWarning: invalid value encountered in double_scalars\n",
      "  ret = ret.dtype.type(ret / rcount)\n"
     ]
    }
   ],
   "source": [
    "rf = random_forest_regressor(max_depth=5,  n_trees=5, n_features='sqrt', mode='rfnode')\n",
    "rf.fit(X_train, y_train)"
   ]
  },
  {
   "cell_type": "code",
   "execution_count": 29,
   "metadata": {
    "ExecuteTime": {
     "end_time": "2017-10-16T22:06:04.570040Z",
     "start_time": "2017-10-16T22:06:04.407187Z"
    },
    "scrolled": false
   },
   "outputs": [
    {
     "name": "stdout",
     "output_type": "stream",
     "text": [
      "--- Tree 0 --- \n",
      "\n",
      "Column 10 : 20.1? \n",
      "--- True:  Column 7 : 1.3861? \n",
      "------ True:  Column 6 : 70.6? \n",
      "--------- True:  Column 0 : 7.05042? \n",
      "------------ True:  Column 7 : 1.9784? \n",
      "--------------- True:  14.0476190476\n",
      "--------------- False:  11.6588235294\n",
      "------------ False:  Column 7 : 3.7872? \n",
      "--------------- True:  14.525\n",
      "--------------- False:  18.208\n",
      "--------- False:  Column 1 : 75.0? \n",
      "------------ True:  Column 9 : 469.0? \n",
      "--------------- True:  18.9\n",
      "--------------- False:  18.2\n",
      "------------ False:  Column 9 : 273.0? \n",
      "--------------- True:  21.4\n",
      "--------------- False:  19.5375\n",
      "------ False:  Column 12 : 12.13? \n",
      "--------- True:  Column 4 : 0.668? \n",
      "------------ True:  Column 7 : 1.3163? \n",
      "--------------- True:  15.0\n",
      "--------------- False:  13.8\n",
      "------------ False:  27.9\n",
      "--------- False:  50.0\n",
      "--- False:  Column 12 : 7.14? \n",
      "------ True:  Column 4 : 0.871? \n",
      "--------- True:  Column 5 : 6.51? \n",
      "------------ True:  23.3\n",
      "------------ False:  Column 0 : 2.15505? \n",
      "--------------- True:  14.6666666667\n",
      "--------------- False:  18.125\n",
      "--------- False:  Column 0 : 0.52058? \n",
      "------------ True:  Column 2 : 6.2? \n",
      "--------------- True:  24.1181818182\n",
      "--------------- False:  32.8666666667\n",
      "------------ False:  Column 9 : 304.0? \n",
      "--------------- True:  20.3586956522\n",
      "--------------- False:  22.2947368421\n",
      "------ False:  Column 2 : 0.74? \n",
      "--------- True:  Column 12 : 4.73? \n",
      "------------ True:  Column 3 : 1.0? \n",
      "--------------- True:  35.2\n",
      "--------------- False:  27.5528301887\n",
      "------------ False:  Column 5 : 6.943? \n",
      "--------------- True:  41.0142857143\n",
      "--------------- False:  30.7818181818\n",
      "--------- False:  50.0\n",
      "\n",
      "\n",
      "\n",
      "--- Tree 1 --- \n",
      "\n",
      "Column 11 : 347.88? \n",
      "--- True:  Column 4 : 0.515? \n",
      "------ True:  Column 4 : 0.605? \n",
      "--------- True:  Column 12 : 10.19? \n",
      "------------ True:  Column 0 : 7.99248? \n",
      "--------------- True:  11.9333333333\n",
      "--------------- False:  18.5961538462\n",
      "------------ False:  Column 4 : 0.718? \n",
      "--------------- True:  25.54\n",
      "--------------- False:  45.52\n",
      "--------- False:  Column 12 : 8.47? \n",
      "------------ True:  Column 11 : 388.62? \n",
      "--------------- True:  20.2\n",
      "--------------- False:  16.2307692308\n",
      "------------ False:  Column 9 : 304.0? \n",
      "--------------- True:  23.25\n",
      "--------------- False:  23.95\n",
      "------ False:  Column 2 : 7.38? \n",
      "--------- True:  Column 11 : 395.24? \n",
      "------------ True:  Column 7 : 5.4159? \n",
      "--------------- True:  22.6\n",
      "--------------- False:  20.3166666667\n",
      "------------ False:  Column 9 : 398.0? \n",
      "--------------- True:  21.3333333333\n",
      "--------------- False:  23.3363636364\n",
      "--------- False:  Column 5 : 6.951? \n",
      "------------ True:  Column 5 : 7.61? \n",
      "--------------- True:  43.6866666667\n",
      "--------------- False:  33.9285714286\n",
      "------------ False:  Column 9 : 279.0? \n",
      "--------------- True:  23.4090909091\n",
      "--------------- False:  27.7838709677\n",
      "--- False:  Column 7 : 1.9512? \n",
      "------ True:  Column 11 : 288.99? \n",
      "--------- True:  Column 12 : 17.28? \n",
      "------------ True:  Column 6 : 96.4? \n",
      "--------------- True:  14.9\n",
      "--------------- False:  14.8\n",
      "------------ False:  Column 10 : 17.8? \n",
      "--------------- True:  20.5555555556\n",
      "--------------- False:  23.3\n",
      "--------- False:  Column 2 : 19.58? \n",
      "------------ True:  Column 4 : 0.624? \n",
      "--------------- True:  15.6\n",
      "--------------- False:  23.8\n",
      "------------ False:  Column 12 : 16.94? \n",
      "--------------- True:  13.3095238095\n",
      "--------------- False:  14.975\n",
      "------ False:  Column 12 : 20.62? \n",
      "--------- True:  Column 7 : 1.6074? \n",
      "------------ True:  Column 0 : 11.8123? \n",
      "--------------- True:  8.77692307692\n",
      "--------------- False:  7.675\n",
      "------------ False:  Column 6 : 97.9? \n",
      "--------------- True:  16.3\n",
      "--------------- False:  6.3\n",
      "--------- False:  Column 5 : 5.155? \n",
      "------------ True:  Column 11 : 169.27? \n",
      "--------------- True:  15.5625\n",
      "--------------- False:  11.925\n",
      "------------ False:  Column 12 : 14.0? \n",
      "--------------- True:  21.9\n",
      "--------------- False:  23.1\n",
      "\n",
      "\n",
      "\n",
      "--- Tree 2 --- \n",
      "\n",
      "Column 2 : 6.91? \n",
      "--- True:  Column 5 : 7.016? \n",
      "------ True:  Column 6 : 90.8? \n",
      "--------- True:  50.0\n",
      "--------- False:  21.9\n",
      "------ False:  Column 4 : 0.609? \n",
      "--------- True:  Column 12 : 15.7? \n",
      "------------ True:  Column 0 : 11.5779? \n",
      "--------------- True:  9.23888888889\n",
      "--------------- False:  12.9354166667\n",
      "------------ False:  Column 12 : 15.02? \n",
      "--------------- True:  16.9888888889\n",
      "--------------- False:  21.1111111111\n",
      "--------- False:  Column 11 : 376.94? \n",
      "------------ True:  Column 5 : 6.172? \n",
      "--------------- True:  22.9512195122\n",
      "--------------- False:  20.3333333333\n",
      "------------ False:  Column 10 : 19.1? \n",
      "--------------- True:  15.25\n",
      "--------------- False:  22.9555555556\n",
      "--- False:  Column 5 : 6.975? \n",
      "------ True:  Column 5 : 7.47? \n",
      "--------- True:  Column 9 : 276.0? \n",
      "------------ True:  Column 0 : 0.52693? \n",
      "--------------- True:  50.0\n",
      "--------------- False:  40.02\n",
      "------------ False:  Column 11 : 390.55? \n",
      "--------------- True:  49.7\n",
      "--------------- False:  46.5\n",
      "--------- False:  Column 12 : 4.45? \n",
      "------------ True:  Column 4 : 0.647? \n",
      "--------------- True:  33.8\n",
      "--------------- False:  32.9\n",
      "------------ False:  Column 12 : 2.87? \n",
      "--------------- True:  37.0\n",
      "--------------- False:  34.9\n",
      "------ False:  Column 10 : 20.2? \n",
      "--------- True:  Column 6 : 45.4? \n",
      "------------ True:  Column 7 : 5.2311? \n",
      "--------------- True:  19.5\n",
      "--------------- False:  18.9\n",
      "------------ False:  Column 9 : 334.0? \n",
      "--------------- True:  19.16\n",
      "--------------- False:  20.7\n",
      "--------- False:  Column 5 : 6.43? \n",
      "------------ True:  Column 0 : 0.02899? \n",
      "--------------- True:  27.2470588235\n",
      "--------------- False:  24.1833333333\n",
      "------------ False:  Column 9 : 411.0? \n",
      "--------------- True:  19.2428571429\n",
      "--------------- False:  21.3185185185\n",
      "\n",
      "\n",
      "\n",
      "--- Tree 3 --- \n",
      "\n",
      "Column 5 : 6.546? \n",
      "--- True:  Column 12 : 4.61? \n",
      "------ True:  Column 2 : 9.9? \n",
      "--------- True:  Column 0 : 9.51363? \n",
      "------------ True:  Column 12 : 19.78? \n",
      "--------------- True:  20.96\n",
      "--------------- False:  13.2375\n",
      "------------ False:  Column 4 : 0.718? \n",
      "--------------- True:  21.9\n",
      "--------------- False:  23.45\n",
      "--------- False:  Column 8 : 6.0? \n",
      "------------ True:  Column 7 : 6.1899? \n",
      "--------------- True:  23.7833333333\n",
      "--------------- False:  28.37\n",
      "------------ False:  Column 5 : 8.297? \n",
      "--------------- True:  49.4\n",
      "--------------- False:  30.4111111111\n",
      "------ False:  Column 0 : 1.46336? \n",
      "--------- True:  50.0\n",
      "--------- False:  Column 5 : 7.61? \n",
      "------------ True:  Column 8 : 8.0? \n",
      "--------------- True:  40.0\n",
      "--------------- False:  44.9\n",
      "------------ False:  Column 5 : 6.943? \n",
      "--------------- True:  35.72\n",
      "--------------- False:  31.1\n",
      "--- False:  Column 12 : 15.02? \n",
      "------ True:  Column 0 : 0.6718? \n",
      "--------- True:  Column 0 : 9.33889? \n",
      "------------ True:  Column 5 : 6.406? \n",
      "--------------- True:  16.4\n",
      "--------------- False:  10.4066666667\n",
      "------------ False:  Column 2 : 19.58? \n",
      "--------------- True:  16.06\n",
      "--------------- False:  13.5785714286\n",
      "--------- False:  Column 7 : 2.0063? \n",
      "------------ True:  Column 0 : 0.31827? \n",
      "--------------- True:  18.1\n",
      "--------------- False:  20.2764705882\n",
      "------------ False:  Column 11 : 388.08? \n",
      "--------------- True:  15.1857142857\n",
      "--------------- False:  7.55\n",
      "------ False:  Column 10 : 19.6? \n",
      "--------- True:  Column 6 : 98.4? \n",
      "------------ True:  Column 7 : 1.8498? \n",
      "--------------- True:  17.1\n",
      "--------------- False:  15.0\n",
      "------------ False:  Column 7 : 1.9512? \n",
      "--------------- True:  20.4980392157\n",
      "--------------- False:  27.5\n",
      "--------- False:  Column 6 : 18.5? \n",
      "------------ True:  Column 0 : 0.14052? \n",
      "--------------- True:  22.9533333333\n",
      "--------------- False:  21.0837837838\n",
      "------------ False:  Column 12 : 9.88? \n",
      "--------------- True:  21.7\n",
      "--------------- False:  24.1473684211\n",
      "\n",
      "\n",
      "\n",
      "--- Tree 4 --- \n",
      "\n",
      "Column 0 : 7.05042? \n",
      "--- True:  Column 7 : 1.137? \n",
      "------ True:  Column 7 : 1.9512? \n",
      "--------- True:  Column 6 : 94.6? \n",
      "------------ True:  Column 12 : 23.27? \n",
      "--------------- True:  12.9333333333\n",
      "--------------- False:  14.6166666667\n",
      "------------ False:  Column 12 : 16.23? \n",
      "--------------- True:  14.6333333333\n",
      "--------------- False:  21.1285714286\n",
      "--------- False:  Column 7 : 1.4896? \n",
      "------------ True:  Column 6 : 92.6? \n",
      "--------------- True:  9.57619047619\n",
      "--------------- False:  7.24285714286\n",
      "------------ False:  Column 4 : 0.659? \n",
      "--------------- True:  13.0\n",
      "--------------- False:  19.9\n",
      "------ False:  50.0\n",
      "--- False:  Column 9 : 276.0? \n",
      "------ True:  Column 10 : 17.8? \n",
      "--------- True:  Column 5 : 6.683? \n",
      "------------ True:  Column 5 : 6.715? \n",
      "--------------- True:  26.9714285714\n",
      "--------------- False:  50.0\n",
      "------------ False:  Column 6 : 70.2? \n",
      "--------------- True:  18.2557142857\n",
      "--------------- False:  22.5387755102\n",
      "--------- False:  Column 12 : 4.98? \n",
      "------------ True:  Column 5 : 6.495? \n",
      "--------------- True:  27.6090909091\n",
      "--------------- False:  20.7775862069\n",
      "------------ False:  Column 1 : 34.0? \n",
      "--------------- True:  33.05\n",
      "--------------- False:  45.2272727273\n",
      "------ False:  Column 5 : 7.52? \n",
      "--------- True:  Column 2 : 6.96? \n",
      "------------ True:  35.2\n",
      "------------ False:  Column 12 : 3.01? \n",
      "--------------- True:  46.5416666667\n",
      "--------------- False:  50.0\n",
      "--------- False:  Column 5 : 6.563? \n",
      "------------ True:  Column 5 : 7.148? \n",
      "--------------- True:  35.1\n",
      "--------------- False:  30.1266666667\n",
      "------------ False:  Column 2 : 4.49? \n",
      "--------------- True:  21.7789473684\n",
      "--------------- False:  28.7\n",
      "\n",
      "\n",
      "\n"
     ]
    }
   ],
   "source": [
    "for i, tree in enumerate(rf.tree_filter_pairs):\n",
    "    print(\"--- Tree %i ---\"%i,\"\\n\")\n",
    "    tree[0].print_tree()\n",
    "    print(\"\\n\\n\")"
   ]
  },
  {
   "cell_type": "code",
   "execution_count": null,
   "metadata": {
    "collapsed": true
   },
   "outputs": [],
   "source": []
  }
 ],
 "metadata": {
  "kernelspec": {
   "display_name": "Python [conda root]",
   "language": "python",
   "name": "conda-root-py"
  },
  "language_info": {
   "codemirror_mode": {
    "name": "ipython",
    "version": 3
   },
   "file_extension": ".py",
   "mimetype": "text/x-python",
   "name": "python",
   "nbconvert_exporter": "python",
   "pygments_lexer": "ipython3",
   "version": "3.6.2"
  },
  "toc": {
   "nav_menu": {},
   "number_sections": true,
   "sideBar": true,
   "skip_h1_title": false,
   "toc_cell": false,
   "toc_position": {},
   "toc_section_display": "block",
   "toc_window_display": false
  }
 },
 "nbformat": 4,
 "nbformat_minor": 2
}
