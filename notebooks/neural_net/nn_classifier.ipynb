{
 "cells": [
  {
   "cell_type": "markdown",
   "metadata": {},
   "source": [
    "# Building a Multi-Layer Perceptron"
   ]
  },
  {
   "cell_type": "code",
   "execution_count": 1,
   "metadata": {
    "ExecuteTime": {
     "end_time": "2018-02-21T17:06:05.595091Z",
     "start_time": "2018-02-21T17:06:04.817392Z"
    }
   },
   "outputs": [
    {
     "name": "stdout",
     "output_type": "stream",
     "text": [
      "Python Version: 3.6.2 |Anaconda custom (64-bit)| (default, Sep 21 2017, 18:29:43) \n",
      "[GCC 4.2.1 Compatible Clang 4.0.1 (tags/RELEASE_401/final)] \n",
      "\n",
      "Matplotlib Version: 2.0.2\n",
      "Numpy Version: 1.12.1\n",
      "Pandas Version: 0.20.3\n"
     ]
    }
   ],
   "source": [
    "import numpy as np\n",
    "import sklearn\n",
    "import matplotlib\n",
    "import pandas as pd\n",
    "import sys\n",
    "libraries = (('Matplotlib', matplotlib), ('Numpy', np), ('Pandas', pd))\n",
    "\n",
    "print(\"Python Version:\", sys.version, '\\n')\n",
    "for lib in libraries:\n",
    "    print('{0} Version: {1}'.format(lib[0], lib[1].__version__))"
   ]
  },
  {
   "cell_type": "code",
   "execution_count": 2,
   "metadata": {
    "ExecuteTime": {
     "end_time": "2018-02-21T17:06:05.627934Z",
     "start_time": "2018-02-21T17:06:05.598787Z"
    },
    "collapsed": true
   },
   "outputs": [],
   "source": [
    "import numpy as np\n",
    "\n",
    "class Linear:\n",
    "    \n",
    "    def __init__(self, in_nodes, out_nodes):\n",
    "        \"\"\"\n",
    "        Linear layers multiply inputs by weights, add a bias term\n",
    "        and return that. We'll need to adjust the size of the weights\n",
    "        to make sure it matches the output size.\n",
    "        \"\"\"\n",
    "        self.params = {}\n",
    "        self.gradient = {}\n",
    "        self.set_starting_parameters(in_nodes, out_nodes)\n",
    "        \n",
    "    def set_starting_parameters(self, in_nodes, out_nodes):\n",
    "        \"\"\"\n",
    "        Generate parameters from a random normal distribution\n",
    "        centered on 0, with standard deviation of 1. There are\n",
    "        other ways to generate weights, but this is empirically\n",
    "        pretty effective. Note that our beta shape is (in, out)\n",
    "        meaning the columns are what multiply each input vector\n",
    "        when we do np.dot(X, beta).\n",
    "        \"\"\"\n",
    "        self.params['beta'] = np.random.normal(0,1, size=(in_nodes, out_nodes))\n",
    "        self.params['bias'] = np.random.normal(0,1, size=out_nodes)\n",
    "        \n",
    "    def forward_prop(self, inputs):\n",
    "        \"\"\"\n",
    "        Do the matrix multiplication to the inputs by the weights\n",
    "        to get the outputs.\n",
    "        \"\"\"\n",
    "        weights = self.params['beta']\n",
    "        bias = self.params['bias']\n",
    "        self.inputs = inputs # need to save for use in our back prop!\n",
    "        return np.dot(inputs, weights) + bias\n",
    "    \n",
    "    def backward_prop(self, gradient):\n",
    "        \"\"\"\n",
    "        Determine the gradient with respect to each parameter,\n",
    "        store that for later use updating parameters, then compute\n",
    "        the gradient to send to the next layer back.\n",
    "        \"\"\"\n",
    "        self.gradient['beta'] = np.dot(self.inputs.T,gradient)\n",
    "        self.gradient['bias'] = np.sum(gradient, axis=0) # sum by column due to weight shape!\n",
    "        return np.dot(gradient, self.params['beta'].T) # calculate the value of the gradient for the layer!"
   ]
  },
  {
   "cell_type": "code",
   "execution_count": 3,
   "metadata": {
    "ExecuteTime": {
     "end_time": "2018-02-21T17:06:06.252467Z",
     "start_time": "2018-02-21T17:06:06.150576Z"
    }
   },
   "outputs": [
    {
     "data": {
      "text/plain": [
       "array([[ 0.39803251, -2.03398402],\n",
       "       [ 0.78837169, -0.93261286],\n",
       "       [ 0.38737617, -0.772884  ],\n",
       "       [ 0.81833237, -1.88823672],\n",
       "       [ 0.97817991, -0.61588637]])"
      ]
     },
     "execution_count": 3,
     "metadata": {},
     "output_type": "execute_result"
    }
   ],
   "source": [
    "ln = Linear(3, 2)\n",
    "data = np.random.uniform(0,1, size=(5,3))\n",
    "ln.forward_prop(data)\n",
    "# output shape should be rows of data, by 2 (output nodes requested!)"
   ]
  },
  {
   "cell_type": "code",
   "execution_count": 54,
   "metadata": {
    "ExecuteTime": {
     "end_time": "2018-02-21T18:58:41.070475Z",
     "start_time": "2018-02-21T18:58:40.975157Z"
    },
    "collapsed": true
   },
   "outputs": [],
   "source": [
    "class ActivationFunction:\n",
    "    \n",
    "    def __init__(self, function, function_derivative):\n",
    "        \"\"\"\n",
    "        An activation function just manipuates an input by some\n",
    "        given function and then passes it to the next layer. So\n",
    "        given a function and its derivative (which we need for \n",
    "        backprop), we'll manipulate inputs.        \n",
    "        \n",
    "        Note that without knowing the activation functions this\n",
    "        class is useless, so we need to use this as a parent class.\n",
    "        \"\"\"\n",
    "        self.func = function\n",
    "        self.func_prime = function_derivative\n",
    "        # Need the below as place holders so we can iterate through \n",
    "        # all layers without breaking the code!\n",
    "        self.params = {} \n",
    "        self.gradient = {}\n",
    "        \n",
    "    def forward_prop(self, inputs):\n",
    "        \"\"\"\n",
    "        Take the inputs and apply the activation function to it\n",
    "        \"\"\"\n",
    "        self.inputs = inputs # need to save for use in our back prop!\n",
    "        return self.func(inputs)\n",
    "    \n",
    "    def backward_prop(self, gradient):\n",
    "        \"\"\"\n",
    "        Return the gradient of the inputs and pass them backward.\n",
    "        There are no weights to adjust on this, so we literally just\n",
    "        return the gradient value.\n",
    "        \"\"\"\n",
    "        primed_X = self.func_prime(self.inputs)\n",
    "        return primed_X * gradient\n",
    "    \n",
    "class Tanh(ActivationFunction):\n",
    "    \n",
    "    def __init__(self):\n",
    "        super().__init__(self._tanh, self._tanh_prime)\n",
    "        \n",
    "    def _tanh(self, X):\n",
    "        \"\"\"\n",
    "        Using numpy's built in tanh function\n",
    "        \"\"\"\n",
    "        return np.tanh(X)\n",
    "    \n",
    "    def _tanh_prime(self, X):\n",
    "        \"\"\"\n",
    "        d(tanh)/dx = 1 - tanh(x)^2\n",
    "        \"\"\"\n",
    "        func = np.tanh(X)\n",
    "        return 1 - func**2\n",
    "    \n",
    "class Relu(ActivationFunction):\n",
    "    \n",
    "    def __init__(self):\n",
    "        super().__init__(self._relu, self._relu_prime)\n",
    "        \n",
    "    def _relu(self, X):\n",
    "        return X * (X > 0.)\n",
    "    \n",
    "    def _relu_prime(self, X):\n",
    "        return 1. * (X > 0.)\n",
    "    \n",
    "class Softmax(ActivationFunction):\n",
    "    def __init__(self):\n",
    "        super().__init__(self._softmax, self._softmax_prime)\n",
    "        \n",
    "    def _softmax(self, X):\n",
    "        shifted_X = X - np.max(X) # to remove NaN problems\n",
    "        exps = np.exp(X)\n",
    "        return exps/np.sum(exps)\n",
    "    \n",
    "    def _softmax_prime(self, X):\n",
    "        s = self._softmax(X)\n",
    "        return s*(1-s)"
   ]
  },
  {
   "cell_type": "code",
   "execution_count": 5,
   "metadata": {
    "ExecuteTime": {
     "end_time": "2018-02-21T17:06:09.857573Z",
     "start_time": "2018-02-21T17:06:09.851116Z"
    }
   },
   "outputs": [
    {
     "data": {
      "text/plain": [
       "array([[ 0.623447  ,  0.71647409,  0.17684018],\n",
       "       [ 0.36883603,  0.34197296,  0.21771616],\n",
       "       [ 0.14276408,  0.69163661,  0.37022317],\n",
       "       [ 0.71548956,  0.47368185,  0.23791461],\n",
       "       [ 0.32741787,  0.15040255,  0.26183769]])"
      ]
     },
     "execution_count": 5,
     "metadata": {},
     "output_type": "execute_result"
    }
   ],
   "source": [
    "t = Tanh()\n",
    "t.forward_prop(data)"
   ]
  },
  {
   "cell_type": "code",
   "execution_count": 6,
   "metadata": {
    "ExecuteTime": {
     "end_time": "2018-02-21T17:06:11.150609Z",
     "start_time": "2018-02-21T17:06:11.144022Z"
    }
   },
   "outputs": [
    {
     "data": {
      "text/plain": [
       "array([[ 0.623447  ,  0.71647409,  0.17684018],\n",
       "       [ 0.36883603,  0.34197296,  0.21771616],\n",
       "       [ 0.14276408,  0.69163661,  0.37022317],\n",
       "       [ 0.71548956,  0.47368185,  0.23791461],\n",
       "       [ 0.32741787,  0.15040255,  0.26183769]])"
      ]
     },
     "execution_count": 6,
     "metadata": {},
     "output_type": "execute_result"
    }
   ],
   "source": [
    "np.tanh(data)"
   ]
  },
  {
   "cell_type": "code",
   "execution_count": 7,
   "metadata": {
    "ExecuteTime": {
     "end_time": "2018-02-21T17:06:11.598987Z",
     "start_time": "2018-02-21T17:06:11.586379Z"
    }
   },
   "outputs": [
    {
     "name": "stdout",
     "output_type": "stream",
     "text": [
      "[[-0.39198687 -0.1423854  -0.55510733]\n",
      " [-0.23742538  0.31996021 -0.96738351]\n",
      " [ 0.83552359 -0.12155393 -0.44365662]\n",
      " [-0.23346783 -0.86442198  0.72444141]\n",
      " [-0.6326768  -0.8603856  -0.69326697]] \n",
      "\n",
      "[[-0.         -0.         -0.        ]\n",
      " [-0.          0.31996021 -0.        ]\n",
      " [ 0.83552359 -0.         -0.        ]\n",
      " [-0.         -0.          0.72444141]\n",
      " [-0.         -0.         -0.        ]]\n"
     ]
    }
   ],
   "source": [
    "r = Relu()\n",
    "data = np.random.uniform(-1,1, size=(5,3))\n",
    "print(data,\"\\n\")\n",
    "print(r.forward_prop(data))"
   ]
  },
  {
   "cell_type": "code",
   "execution_count": 52,
   "metadata": {
    "ExecuteTime": {
     "end_time": "2018-02-21T18:25:01.745295Z",
     "start_time": "2018-02-21T18:25:01.737699Z"
    }
   },
   "outputs": [
    {
     "name": "stdout",
     "output_type": "stream",
     "text": [
      "Forward Prop:  [1 2]\n",
      "Backward Prop:  [ 1.  1.]\n"
     ]
    }
   ],
   "source": [
    "rl = Relu()\n",
    "print(\"Forward Prop: \", rl._relu(np.array([1,2])))\n",
    "print(\"Backward Prop: \", rl._relu_prime(np.array([1,2])))"
   ]
  },
  {
   "cell_type": "code",
   "execution_count": 55,
   "metadata": {
    "ExecuteTime": {
     "end_time": "2018-02-21T18:58:44.674673Z",
     "start_time": "2018-02-21T18:58:44.665939Z"
    }
   },
   "outputs": [
    {
     "name": "stdout",
     "output_type": "stream",
     "text": [
      "Forward Prop:  [ 0.09003057  0.24472847  0.66524096]\n",
      "Backward Prop:  [ 0.08192507  0.18483645  0.22269543]\n"
     ]
    }
   ],
   "source": [
    "sm = Softmax()\n",
    "print(\"Forward Prop: \", sm._softmax(np.array([1,2,3])))\n",
    "print(\"Backward Prop: \", sm._softmax_prime(np.array([1,2,3])))"
   ]
  },
  {
   "cell_type": "code",
   "execution_count": 104,
   "metadata": {
    "ExecuteTime": {
     "end_time": "2018-02-21T19:49:28.373687Z",
     "start_time": "2018-02-21T19:49:27.999033Z"
    },
    "collapsed": true
   },
   "outputs": [],
   "source": [
    "import numpy as np\n",
    "\n",
    "\n",
    "class nn_classifier:\n",
    "    \n",
    "    def __init__(self, layer_sequence, epochs = 100, learning_rate = 0.001, random_state=None, \n",
    "                 batch_size=32, shuffle_data=True, verbose=False):\n",
    "        \"\"\"\n",
    "        \"\"\"\n",
    "        self.layers = layer_sequence\n",
    "        self.epochs = epochs\n",
    "        self.learning_rate = learning_rate\n",
    "        if random_state:\n",
    "            np.random.seed(random_state)\n",
    "        self.batch_size = batch_size\n",
    "        self.shuffle_data = shuffle_data\n",
    "        self.verbose = verbose\n",
    "            \n",
    "    def fit(self, X, y):\n",
    "        \"\"\"\n",
    "        \"\"\"\n",
    "        X = self.convert_to_array(X)\n",
    "        y = self.convert_to_array(y)\n",
    "    \n",
    "        for epoch in range(self.epochs):\n",
    "            epoch_loss = 0.\n",
    "            \n",
    "            for x, target in self.get_data_batch(X,y):\n",
    "                pred = self.forward_prop(x)\n",
    "                pred_loss, gradient = self.loss(target, pred)\n",
    "                #print(\"batch: \", pred_loss, \" , \", gradient)\n",
    "                epoch_loss += pred_loss\n",
    "                gradient = self.backward_prop(gradient)\n",
    "                \n",
    "                for layer in self.layers:\n",
    "                    self.update_weights(layer)\n",
    "            if self.verbose:\n",
    "                print(\"Epoch %i: %.3f\"%(epoch, epoch_loss))\n",
    "            \n",
    "    def predict(self, X):\n",
    "        \"\"\"\n",
    "        \"\"\"\n",
    "        X = self.convert_to_array(X)\n",
    "        preds = self.forward_prop(X)\n",
    "        idx = np.argmax(preds, axis=1)\n",
    "        return idx    \n",
    "    \n",
    "    def predict_proba(self, X):\n",
    "        \"\"\"\n",
    "        \"\"\"\n",
    "        X = self.convert_to_array(X)\n",
    "        preds = self.forward_prop(X)\n",
    "        return preds\n",
    "    \n",
    "    def forward_prop(self, inputs):\n",
    "        \"\"\"\n",
    "        Go layer by layer in the net, passing the input\n",
    "        into the layer's forward prop method. The forward\n",
    "        prop method will multiply the inputs or apply a function\n",
    "        as defined in the layer. This eventually results in a\n",
    "        prediction.\n",
    "        \"\"\"\n",
    "        for layer in self.layers:\n",
    "            inputs = layer.forward_prop(inputs)\n",
    "        return inputs\n",
    "    \n",
    "    def backward_prop(self, gradient):\n",
    "        \"\"\"\n",
    "        Go layer by layer in reverse, passing the gradient value backwards\n",
    "        and using the layers specific backward prop behavior to calculate\n",
    "        the gradient for each layer. Each layer can behave differently during\n",
    "        back propogation, as specified by the layer.\n",
    "        \"\"\"\n",
    "        for layer in self.layers[::-1]:\n",
    "            gradient = layer.backward_prop(gradient)\n",
    "        return gradient\n",
    "    \n",
    "    def update_weights(self, layer):\n",
    "        \"\"\"\n",
    "        Use SGD to update the parameter by subtracting the gradient values\n",
    "        scaled by the learning rate.\n",
    "        \"\"\"\n",
    "        for name in layer.params.keys():\n",
    "            layer.params[name] -= self.learning_rate*layer.gradient[name]\n",
    "    \n",
    "    def loss(self, true, pred):\n",
    "        \"\"\"\n",
    "        Calculate the negative log-likelihood and the derivative of \n",
    "        log-likelihood. Return both for use in the training.\n",
    "        \"\"\"\n",
    "        pred_of_correct_class = np.sum(true*pred, axis=1)\n",
    "        logs = -np.log(pred_of_correct_class)\n",
    "        loss = np.sum(logs)\n",
    "        idx = np.argmax(true, axis=1)\n",
    "        grad = pred\n",
    "        grad[range(true.shape[0]), idx] -= 1.\n",
    "        return loss, grad\n",
    "    \n",
    "    def get_data_batch(self, X, y):\n",
    "        batch_start = np.arange(0,len(X), self.batch_size)\n",
    "        if self.shuffle_data:\n",
    "            permute = np.random.permutation(np.arange(0,len(X)))\n",
    "            X = X[permute]\n",
    "            y = y[permute]\n",
    "            \n",
    "        for start in batch_start:\n",
    "            X_batch = X[start:start+self.batch_size]\n",
    "            y_batch = y[start:start+self.batch_size]\n",
    "            yield X_batch, y_batch  \n",
    "    \n",
    "    def pandas_to_numpy(self, x):\n",
    "        \"\"\"\n",
    "        Checks if the input is a Dataframe or series, converts to numpy matrix for\n",
    "        calculation purposes.\n",
    "        ---\n",
    "        Input: X (array, dataframe, or series)\n",
    "        Output: X (array)\n",
    "        \"\"\"\n",
    "        if type(x) == type(pd.DataFrame()) or type(x) == type(pd.Series()):\n",
    "            return x.as_matrix()\n",
    "        if type(x) == type(np.array([1,2])):\n",
    "            return x\n",
    "        return np.array(x) \n",
    "    \n",
    "    def handle_1d_data(self,x):\n",
    "        \"\"\"\n",
    "        Converts 1 dimensional data into a series of rows with 1 columns\n",
    "        instead of 1 row with many columns.\n",
    "        \"\"\"\n",
    "        if x.ndim == 1:\n",
    "            x = x.reshape(-1,1)\n",
    "        return x\n",
    "    \n",
    "    def convert_to_array(self, x):\n",
    "        \"\"\"\n",
    "        Takes in an input and converts it to a numpy array\n",
    "        and then checks if it needs to be reshaped for us\n",
    "        to use it properly\n",
    "        \"\"\"\n",
    "        x = self.pandas_to_numpy(x)\n",
    "        x = self.handle_1d_data(x)\n",
    "        return x\n",
    "\n",
    "    def score(self, X, y):\n",
    "        \"\"\"\n",
    "        Uses the predict method to measure the (negative)\n",
    "        mean squared error of the model.\n",
    "        ---\n",
    "        In: X (list or array), feature matrix; y (list or array) labels\n",
    "        Out: negative mean squared error (float)\n",
    "        \"\"\"\n",
    "        X = self.convert_to_array(X)\n",
    "        y = self.convert_to_array(y)\n",
    "        pred = self.predict(X)\n",
    "        return -1.* np.mean((np.array(pred)-np.array(y))**2)"
   ]
  },
  {
   "cell_type": "code",
   "execution_count": 189,
   "metadata": {
    "ExecuteTime": {
     "end_time": "2018-02-21T20:19:34.656098Z",
     "start_time": "2018-02-21T20:19:34.643164Z"
    }
   },
   "outputs": [
    {
     "name": "stdout",
     "output_type": "stream",
     "text": [
      "[[ 1.  0.  0.]\n",
      " [ 1.  0.  0.]\n",
      " [ 1.  0.  0.]\n",
      " [ 1.  0.  0.]\n",
      " [ 1.  0.  0.]\n",
      " [ 1.  0.  0.]\n",
      " [ 1.  0.  0.]\n",
      " [ 1.  0.  0.]\n",
      " [ 1.  0.  0.]\n",
      " [ 1.  0.  0.]]\n"
     ]
    }
   ],
   "source": [
    "from sklearn.datasets import load_iris\n",
    "X = load_iris().data[:,[0,2]]\n",
    "y_raw = load_iris().target\n",
    "y = np.zeros((X.shape[0], 3))\n",
    "y[np.arange(X.shape[0]),y_raw] = 1\n",
    "print(y[:10])"
   ]
  },
  {
   "cell_type": "code",
   "execution_count": 224,
   "metadata": {
    "ExecuteTime": {
     "end_time": "2018-02-21T20:28:58.247106Z",
     "start_time": "2018-02-21T20:28:43.259018Z"
    }
   },
   "outputs": [],
   "source": [
    "nn = nn_classifier([Linear(2, 20), Tanh(), Linear(20,3), Softmax()], epochs=1000, batch_size=1, random_state=42,\n",
    "                   learning_rate=0.001, verbose=False)\n",
    "nn.fit(X,y)"
   ]
  },
  {
   "cell_type": "code",
   "execution_count": 225,
   "metadata": {
    "ExecuteTime": {
     "end_time": "2018-02-21T20:28:58.917250Z",
     "start_time": "2018-02-21T20:28:58.908491Z"
    }
   },
   "outputs": [
    {
     "data": {
      "text/plain": [
       "array([0, 0, 0, 0, 0, 0, 0, 0, 0, 0, 0, 0, 0, 0, 0, 0, 0, 0, 0, 0, 0, 0, 0,\n",
       "       0, 0, 0, 0, 0, 0, 0, 0, 0, 0, 0, 0, 0, 0, 0, 0, 0, 0, 0, 0, 0, 0, 0,\n",
       "       0, 0, 0, 0, 1, 1, 1, 1, 1, 1, 1, 1, 1, 1, 1, 1, 1, 1, 1, 1, 2, 1, 1,\n",
       "       1, 2, 1, 1, 1, 1, 1, 1, 1, 1, 1, 1, 1, 1, 2, 2, 1, 1, 1, 1, 1, 1, 1,\n",
       "       1, 1, 1, 1, 1, 1, 1, 1, 2, 2, 2, 2, 2, 2, 2, 2, 2, 2, 2, 2, 2, 2, 2,\n",
       "       2, 2, 2, 2, 2, 2, 2, 2, 1, 2, 2, 1, 2, 2, 2, 2, 2, 2, 2, 2, 2, 2, 2,\n",
       "       2, 2, 2, 1, 2, 2, 2, 2, 2, 2, 2, 2])"
      ]
     },
     "execution_count": 225,
     "metadata": {},
     "output_type": "execute_result"
    }
   ],
   "source": [
    "nn.predict(X)"
   ]
  },
  {
   "cell_type": "code",
   "execution_count": 226,
   "metadata": {
    "ExecuteTime": {
     "end_time": "2018-02-21T20:29:00.718386Z",
     "start_time": "2018-02-21T20:29:00.710232Z"
    }
   },
   "outputs": [
    {
     "name": "stdout",
     "output_type": "stream",
     "text": [
      "0.9533333333333334\n"
     ]
    }
   ],
   "source": [
    "acc = 0\n",
    "for yt, yp in zip(np.argmax(y, axis=1), nn.predict(X)):\n",
    "    if yt == yp:\n",
    "        acc+=1\n",
    "        \n",
    "print(acc/y.shape[0])"
   ]
  },
  {
   "cell_type": "code",
   "execution_count": 227,
   "metadata": {
    "ExecuteTime": {
     "end_time": "2018-02-21T20:29:03.030786Z",
     "start_time": "2018-02-21T20:29:02.348189Z"
    }
   },
   "outputs": [
    {
     "data": {
      "image/png": "[encoded data removed]",
      "text/plain": [
       "<matplotlib.figure.Figure at 0x1a1eaa6d30>"
      ]
     },
     "metadata": {},
     "output_type": "display_data"
    }
   ],
   "source": [
    "import matplotlib.pyplot as plt\n",
    "%matplotlib inline\n",
    "h=0.01\n",
    "x_min, x_max = X[:, 0].min() - 1, X[:, 0].max() + 1\n",
    "y_min, y_max = X[:, 1].min() - 1, X[:, 1].max() + 1\n",
    "xx, yy = np.meshgrid(np.arange(x_min, x_max, h),\n",
    "                     np.arange(y_min, y_max, h))\n",
    "\n",
    "# here \"model\" is your model's prediction (classification) function\n",
    "Z = nn.predict(np.c_[xx.ravel(), yy.ravel()]) \n",
    "\n",
    "# Put the result into a color plot\n",
    "Z = Z.reshape(xx.shape)\n",
    "plt.figure(dpi=250)\n",
    "plt.contourf(xx, yy, Z, cmap=plt.cm.bwr)\n",
    "\n",
    "# Plot also the training points\n",
    "plt.scatter(X[:, 0], X[:, 1], c=np.argmax(y, axis=1), cmap=plt.cm.Blues);\n",
    "plt.xlabel(\"X Dim 0\")\n",
    "plt.ylabel(\"X Dim 2\")\n",
    "plt.title(\"Decision Boundary Map\");"
   ]
  },
  {
   "cell_type": "code",
   "execution_count": null,
   "metadata": {
    "collapsed": true
   },
   "outputs": [],
   "source": []
  }
 ],
 "metadata": {
  "kernelspec": {
   "display_name": "Python [default]",
   "language": "python",
   "name": "python3"
  },
  "language_info": {
   "codemirror_mode": {
    "name": "ipython",
    "version": 3
   },
   "file_extension": ".py",
   "mimetype": "text/x-python",
   "name": "python",
   "nbconvert_exporter": "python",
   "pygments_lexer": "ipython3",
   "version": "3.6.2"
  },
  "toc": {
   "nav_menu": {},
   "number_sections": true,
   "sideBar": true,
   "skip_h1_title": false,
   "toc_cell": false,
   "toc_position": {},
   "toc_section_display": "block",
   "toc_window_display": false
  }
 },
 "nbformat": 4,
 "nbformat_minor": 2
}
