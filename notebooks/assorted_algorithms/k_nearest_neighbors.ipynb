{
 "cells": [
  {
   "cell_type": "markdown",
   "metadata": {},
   "source": [
    "# K-Nearest Neighbor"
   ]
  },
  {
   "cell_type": "code",
   "execution_count": 1,
   "metadata": {
    "ExecuteTime": {
     "end_time": "2018-03-02T16:31:08.765840Z",
     "start_time": "2018-03-02T16:31:07.971305Z"
    },
    "collapsed": true
   },
   "outputs": [],
   "source": [
    "import numpy as np\n",
    "import random\n",
    "import matplotlib.pyplot as plt\n",
    "import pandas as pd\n",
    "import math\n",
    "import scipy\n",
    "%matplotlib inline\n",
    "plt.style.use('seaborn')"
   ]
  },
  {
   "cell_type": "code",
   "execution_count": 2,
   "metadata": {
    "ExecuteTime": {
     "end_time": "2018-03-02T16:31:08.992594Z",
     "start_time": "2018-03-02T16:31:08.768283Z"
    }
   },
   "outputs": [
    {
     "name": "stdout",
     "output_type": "stream",
     "text": [
      "Python Version: 3.6.2 |Anaconda custom (64-bit)| (default, Sep 21 2017, 18:29:43) \n",
      "[GCC 4.2.1 Compatible Clang 4.0.1 (tags/RELEASE_401/final)] \n",
      "\n",
      "Matplotlib Version: 2.0.2\n",
      "Numpy Version: 1.12.1\n",
      "Pandas Version: 0.20.3\n",
      "Scipy Version: 0.19.1\n",
      "Sklearn Version: 0.19.0\n"
     ]
    }
   ],
   "source": [
    "import sklearn\n",
    "import matplotlib\n",
    "import sys\n",
    "libraries = (('Matplotlib', matplotlib), ('Numpy', np), ('Pandas', pd), ('Scipy', scipy), ('Sklearn', sklearn))\n",
    "\n",
    "print(\"Python Version:\", sys.version, '\\n')\n",
    "for lib in libraries:\n",
    "    print('{0} Version: {1}'.format(lib[0], lib[1].__version__))"
   ]
  },
  {
   "cell_type": "code",
   "execution_count": 3,
   "metadata": {
    "ExecuteTime": {
     "end_time": "2018-03-02T16:31:09.952208Z",
     "start_time": "2018-03-02T16:31:09.947591Z"
    },
    "collapsed": true
   },
   "outputs": [],
   "source": [
    "def get_data():\n",
    "    from sklearn.datasets import load_iris\n",
    "    iris = load_iris()\n",
    "    return iris.data, iris.target"
   ]
  },
  {
   "cell_type": "code",
   "execution_count": 5,
   "metadata": {
    "ExecuteTime": {
     "end_time": "2018-03-02T16:31:16.265429Z",
     "start_time": "2018-03-02T16:31:16.135908Z"
    },
    "collapsed": true
   },
   "outputs": [],
   "source": [
    "import numpy as np\n",
    "import copy\n",
    "\n",
    "\n",
    "class k_neighbors:\n",
    "    \n",
    "    def __init__(self, n_neighbors=5, return_dist=False):\n",
    "        \"\"\"\n",
    "        KNearestNeighbors finds the nearest points in the feature space.\n",
    "        ---\n",
    "        In: n_neighbors (int) - how many closest neighbors do we consider\n",
    "        \"\"\"\n",
    "        if n_neighbors > 0:\n",
    "            self.k = int(n_neighbors)\n",
    "        else:\n",
    "            print(\"n_neighbors must be >0. Set to 5!\")\n",
    "            self.k = 5\n",
    "        self.X = None\n",
    "        self._return_dist = return_dist\n",
    "        \n",
    "    def fit(self, X):\n",
    "        \"\"\"\n",
    "        Makes a copy of the training data that can live within the class.\n",
    "        Thus, the model can be serialized and used away from the original\n",
    "        training data. \n",
    "        ---\n",
    "        In: X (features); np.array or pandas dataframe/series\n",
    "        \"\"\"\n",
    "        self.X = copy.copy(self.convert_to_array(X))\n",
    "    \n",
    "    def find_neighbors(self, X):\n",
    "        \"\"\"\n",
    "        Iterates through all points to predict, calculating the distance\n",
    "        to all of the training points. It then finds the closest points.\n",
    "        ___\n",
    "        In: new data to predict (np.array, pandas series/dataframe)\n",
    "        Out: predictions (np.array)\n",
    "        \"\"\"\n",
    "        X = self.convert_to_array(X)\n",
    "        results = []\n",
    "        for x in X:\n",
    "            local_results = []\n",
    "            for x2 in self.X:\n",
    "                local_results.append([self.dist_between_points(x,x2),x2])\n",
    "            neighbors = sorted(local_results, key=lambda x: x[0])[:self.k]\n",
    "            if self._return_dist:\n",
    "                results.append(neighbors)\n",
    "            else:\n",
    "                for x in neighbors:\n",
    "                    results.append(x[1])\n",
    "                #results.append([x[1] for x in neighbors])\n",
    "        return np.array(results)\n",
    "\n",
    "    def dist_between_points(self, a, b):\n",
    "        \"\"\"\n",
    "        Calculates the distance between two vectors.\n",
    "        ---\n",
    "        Inputs: a,b (np.arrays)\n",
    "        Outputs: distance (float)\"\"\"\n",
    "        assert np.array(a).shape == np.array(b).shape, 'Vectors must be of same size'\n",
    "        return np.sqrt(np.sum((a-b)**2))\n",
    "    \n",
    "    def pandas_to_numpy(self, x):\n",
    "        \"\"\"\n",
    "        Checks if the input is a Dataframe or series, converts to numpy matrix for\n",
    "        calculation purposes.\n",
    "        ---\n",
    "        Input: X (array, dataframe, or series)\n",
    "        Output: X (array)\n",
    "        \"\"\"\n",
    "        if type(x) == type(pd.DataFrame()) or type(x) == type(pd.Series()):\n",
    "            return x.as_matrix()\n",
    "        if type(x) == type(np.array([1,2])):\n",
    "            return x\n",
    "        return np.array(x) \n",
    "    \n",
    "    def handle_1d_data(self,x):\n",
    "        \"\"\"\n",
    "        Converts 1 dimensional data into a series of rows with 1 columns\n",
    "        instead of 1 row with many columns.\n",
    "        \"\"\"\n",
    "        if x.ndim == 1:\n",
    "            x = x.reshape(-1,1)\n",
    "        return x\n",
    "    \n",
    "    def convert_to_array(self, x):\n",
    "        \"\"\"\n",
    "        Takes in an input and converts it to a numpy array\n",
    "        and then checks if it needs to be reshaped for us\n",
    "        to use it properly\n",
    "        \"\"\"\n",
    "        x = self.pandas_to_numpy(x)\n",
    "        x = self.handle_1d_data(x)\n",
    "        return x"
   ]
  },
  {
   "cell_type": "code",
   "execution_count": 6,
   "metadata": {
    "ExecuteTime": {
     "end_time": "2018-03-02T16:31:17.228633Z",
     "start_time": "2018-03-02T16:31:16.998318Z"
    },
    "collapsed": true
   },
   "outputs": [],
   "source": [
    "X,y = get_data()"
   ]
  },
  {
   "cell_type": "code",
   "execution_count": 7,
   "metadata": {
    "ExecuteTime": {
     "end_time": "2018-03-02T16:31:18.211114Z",
     "start_time": "2018-03-02T16:31:18.196597Z"
    },
    "collapsed": true
   },
   "outputs": [],
   "source": [
    "def shuffle_data(X, y):\n",
    "    assert len(X) == len(y)\n",
    "    permute = np.random.permutation(len(y))\n",
    "    return X[permute], y[permute]\n",
    "\n",
    "def train_test_split_manual(X, y, test_size=0.3):\n",
    "    nX, ny = shuffle_data(X,y)\n",
    "    split_index = int(len(X)*test_size)\n",
    "    testX = nX[:split_index]\n",
    "    trainX = nX[split_index:]\n",
    "    testy = ny[:split_index]\n",
    "    trainy = ny[split_index:]\n",
    "    return trainX, testX, trainy, testy"
   ]
  },
  {
   "cell_type": "code",
   "execution_count": 8,
   "metadata": {
    "ExecuteTime": {
     "end_time": "2018-03-02T16:31:19.139452Z",
     "start_time": "2018-03-02T16:31:19.133188Z"
    },
    "collapsed": true
   },
   "outputs": [],
   "source": [
    "kn = k_neighbors(n_neighbors=3, return_dist=False)\n",
    "kn.fit(X)"
   ]
  },
  {
   "cell_type": "code",
   "execution_count": 9,
   "metadata": {
    "ExecuteTime": {
     "end_time": "2018-03-02T16:31:20.418277Z",
     "start_time": "2018-03-02T16:31:20.405899Z"
    }
   },
   "outputs": [
    {
     "name": "stdout",
     "output_type": "stream",
     "text": [
      "[[ 5.1  3.5  1.4  0.2]]\n"
     ]
    },
    {
     "data": {
      "text/plain": [
       "array([[ 5.1,  3.5,  1.4,  0.2],\n",
       "       [ 5.1,  3.5,  1.4,  0.3],\n",
       "       [ 5. ,  3.6,  1.4,  0.2]])"
      ]
     },
     "execution_count": 9,
     "metadata": {},
     "output_type": "execute_result"
    }
   ],
   "source": [
    "print(X[:1])\n",
    "kn.find_neighbors(X[:1])"
   ]
  },
  {
   "cell_type": "code",
   "execution_count": 10,
   "metadata": {
    "ExecuteTime": {
     "end_time": "2018-03-02T16:31:23.503714Z",
     "start_time": "2018-03-02T16:31:23.010825Z"
    }
   },
   "outputs": [
    {
     "data": {
      "text/plain": [
       "<matplotlib.text.Text at 0x10a3fcf28>"
      ]
     },
     "execution_count": 10,
     "metadata": {},
     "output_type": "execute_result"
    },
    {
     "data": {
      "image/png": "[encoded data removed]",
      "text/plain": [
       "<matplotlib.figure.Figure at 0x1086f98d0>"
      ]
     },
     "metadata": {},
     "output_type": "display_data"
    }
   ],
   "source": [
    "plt.figure(dpi=150)\n",
    "plt.scatter(X[:,0],X[:,3], s=40)\n",
    "plt.scatter(X[0,0],X[0,3],c='r', s=70)\n",
    "neighbors = kn.find_neighbors(X[:1])\n",
    "plt.scatter(neighbors[1:,0],neighbors[1:,3],c='m', s=70); #skip the closest one, because it is itself.\n",
    "plt.title(\"Finding the two nearest neighbors\")"
   ]
  },
  {
   "cell_type": "code",
   "execution_count": null,
   "metadata": {
    "collapsed": true
   },
   "outputs": [],
   "source": []
  }
 ],
 "metadata": {
  "kernelspec": {
   "display_name": "Python [conda root]",
   "language": "python",
   "name": "conda-root-py"
  },
  "language_info": {
   "codemirror_mode": {
    "name": "ipython",
    "version": 3
   },
   "file_extension": ".py",
   "mimetype": "text/x-python",
   "name": "python",
   "nbconvert_exporter": "python",
   "pygments_lexer": "ipython3",
   "version": "3.6.2"
  },
  "toc": {
   "nav_menu": {},
   "number_sections": true,
   "sideBar": true,
   "skip_h1_title": false,
   "toc_cell": false,
   "toc_position": {},
   "toc_section_display": "block",
   "toc_window_display": false
  }
 },
 "nbformat": 4,
 "nbformat_minor": 2
}
