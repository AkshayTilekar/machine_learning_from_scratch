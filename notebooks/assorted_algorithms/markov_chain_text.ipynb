{
 "cells": [
  {
   "cell_type": "markdown",
   "metadata": {},
   "source": [
    "# Markov Chain text generator"
   ]
  },
  {
   "cell_type": "markdown",
   "metadata": {},
   "source": [
    "Z. W. Miller - Copyright 2018"
   ]
  },
  {
   "cell_type": "code",
   "execution_count": 1,
   "metadata": {
    "ExecuteTime": {
     "end_time": "2017-10-30T23:18:40.785453Z",
     "start_time": "2017-10-30T23:18:39.988442Z"
    },
    "collapsed": true
   },
   "outputs": [],
   "source": [
    "import numpy as np\n",
    "import random\n",
    "import matplotlib.pyplot as plt\n",
    "import pandas as pd\n",
    "import math\n",
    "%matplotlib inline\n",
    "plt.style.use('seaborn')"
   ]
  },
  {
   "cell_type": "code",
   "execution_count": 3,
   "metadata": {
    "ExecuteTime": {
     "end_time": "2017-10-30T23:19:11.739200Z",
     "start_time": "2017-10-30T23:19:11.726805Z"
    }
   },
   "outputs": [
    {
     "name": "stdout",
     "output_type": "stream",
     "text": [
      "Python Version: 3.6.2 |Anaconda, Inc.| (default, Sep 21 2017, 18:29:43) \n",
      "[GCC 4.2.1 Compatible Clang 4.0.1 (tags/RELEASE_401/final)] \n",
      "\n",
      "Matplotlib Version: 2.0.2\n",
      "Numpy Version: 1.13.1\n",
      "Pandas Version: 0.20.3\n",
      "Scipy Version: 0.19.1\n",
      "Sklearn Version: 0.19.0\n"
     ]
    }
   ],
   "source": [
    "import sklearn\n",
    "import matplotlib\n",
    "import sys\n",
    "import scipy\n",
    "\n",
    "libraries = (('Matplotlib', matplotlib), ('Numpy', np), ('Pandas', pd), ('Scipy', scipy), ('Sklearn', sklearn))\n",
    "\n",
    "print(\"Python Version:\", sys.version, '\\n')\n",
    "for lib in libraries:\n",
    "    print('{0} Version: {1}'.format(lib[0], lib[1].__version__))"
   ]
  },
  {
   "cell_type": "markdown",
   "metadata": {},
   "source": [
    "The main idea is that we pull word groups (ngrams) and figure out what word comes after each group of words. We store those \"after\" words and their relationship to our \"key\" words. Once we have that, we can randomly draw from our \"after\" words every time we get a new key. Then we chain that over and over to build whole setences and phrases. We'll use the dictionary \"markov_keys\" to store the keys and after words... then we will sample from that."
   ]
  },
  {
   "cell_type": "code",
   "execution_count": 51,
   "metadata": {
    "ExecuteTime": {
     "end_time": "2017-10-30T23:35:30.564052Z",
     "start_time": "2017-10-30T23:35:30.387742Z"
    },
    "collapsed": true
   },
   "outputs": [],
   "source": [
    "import numpy as np\n",
    "\n",
    "class markov_chain:\n",
    "    \n",
    "    def __init__(self, text, from_file=True, ngram=2, random_state=None):\n",
    "        \"\"\"\n",
    "        Markov Chains are great for generating text based on previously seen text. \n",
    "        Here we'll either read from file or from one big string, then generate a \n",
    "        probabilistic understanding of the document by using ngrams as keys and\n",
    "        storing all possible following words. We can then generate sentences\n",
    "        using random dice and this object.\n",
    "        ---\n",
    "        Inputs\n",
    "            text: either the path to a file containing the text or the text (string)\n",
    "            from_file: whether the text is in a file or note (bool)\n",
    "            ngram: how many words to use as a key for the text generation\n",
    "            random_state: used to set the random state for reproducibility\n",
    "        \"\"\"\n",
    "        self.ngram = int(ngram)\n",
    "        self.markov_keys = dict()\n",
    "        self._from_file = from_file\n",
    "        if type(text) != type(\"string\"):\n",
    "            raise TypeError(\"'text' must be a PATH or string object\")\n",
    "        if from_file:\n",
    "            self.path = text\n",
    "        else:\n",
    "            self.raw = text\n",
    "        self.text_as_list = None\n",
    "        if random_state:\n",
    "            np.random.seed(random_state)\n",
    "        self.create_probability_object()\n",
    "\n",
    "    def preprocess(self):\n",
    "        \"\"\"\n",
    "        Opens and cleans the text to be learned. If self.from_file, it reads\n",
    "        from the path provided. The cleaning is very minor, just lowercasing\n",
    "        and getting rid of quotes. Creates a list of words from the text.\n",
    "        \"\"\"\n",
    "        if self._from_file:\n",
    "            with open(self.path,'r') as f:\n",
    "                self.raw = f.read()\n",
    "        self.text_as_list = self.raw.lower().replace('\"','').replace(\"'\",\"\").split()\n",
    "\n",
    "    def markov_group_generator(self,text_as_list):\n",
    "        \"\"\"\n",
    "        Generator that creates the ngram groupings to act as keys.\n",
    "        Just grabs ngram number of words and puts them into a tuple\n",
    "        and yields that upon iteration request.\n",
    "        ---\n",
    "        Inputs\n",
    "            text_as_list: the text after preprocessing (list)\n",
    "        Outputs\n",
    "            keys: word groupings of length self.ngram (tuple)\n",
    "        \"\"\"\n",
    "        if len(text_as_list) < self.ngram+1:\n",
    "            raise ValueError(\"NOT A LONG ENOUGH TEXT!\")\n",
    "            return\n",
    "\n",
    "        for i in range(self.ngram,len(text_as_list)):\n",
    "            yield tuple(text_as_list[i-self.ngram:i+1])\n",
    "\n",
    "    def create_probability_object(self):\n",
    "        \"\"\"\n",
    "        Steps through the text, pulling keys out and keeping track\n",
    "        of which words follow the keys. Duplication is allowed for \n",
    "        values for each key - but all keys are unique.\n",
    "        \"\"\"\n",
    "        if self.markov_keys:\n",
    "            print(\"Probability Object already built!\")\n",
    "            return\n",
    "        if not self.text_as_list:\n",
    "            self.preprocess()\n",
    "        for group in self.markov_group_generator(self.text_as_list):\n",
    "            word_key = tuple(group[:-1])\n",
    "            if word_key in self.markov_keys:\n",
    "                self.markov_keys[word_key].append(group[-1])\n",
    "            else:\n",
    "                self.markov_keys[word_key] = [group[-1]]\n",
    "    \n",
    "    def generate_sentence(self, length=25, starting_word_id=None):\n",
    "        \"\"\"\n",
    "        Given a seed word, pulls the key associated with that word and \n",
    "        samples from the values available. Then moves to the newly generated \n",
    "        word and gets the key associated with it, and generates again. \n",
    "        Repeats until the sentence is 'length' words long.\n",
    "        ---\n",
    "        Inputs\n",
    "            length: how many words to generate (int)\n",
    "            starting_word_id: what word to use as seed, by location (int)\n",
    "        Outputs\n",
    "            gen_words: the generated sentence, including seed words (string)\n",
    "        \"\"\"\n",
    "        if not self.markov_keys:\n",
    "            raise ValueError(\"No probability object built. Check initialization!\")\n",
    "        \n",
    "        if (not starting_word_id or type(starting_word_id) != type(int(1)) \n",
    "            or starting_word_id < 0 or starting_word_id > len(self.text_as_list)-self.ngram):\n",
    "            starting_word_id = np.random.randint(0,len(self.text_as_list)-self.ngram)\n",
    "            \n",
    "        gen_words = self.text_as_list[starting_word_id:starting_word_id+self.ngram]\n",
    "        \n",
    "        while len(gen_words) < length:\n",
    "            seed = tuple(gen_words[-self.ngram:])\n",
    "            gen_words.append(np.random.choice(self.markov_keys[seed]))\n",
    "        return ' '.join(gen_words)\n",
    "    \n",
    "    def print_key_value_pairs(self, num_keys=20):\n",
    "        \"\"\"\n",
    "        Iterates through the probability object, printing key-value\n",
    "        pairs. \n",
    "        ---\n",
    "        Input\n",
    "        num_keys: how many pairs to show (int)\n",
    "        \"\"\"\n",
    "        i = 1\n",
    "        for key,value in self.markov_keys.items():\n",
    "            print(key,value)\n",
    "            print()\n",
    "            i+=1\n",
    "            if i>int(num_keys):\n",
    "                break"
   ]
  },
  {
   "cell_type": "markdown",
   "metadata": {},
   "source": [
    "## Read from H.P. Lovecraft text found on Project Gutenberg"
   ]
  },
  {
   "cell_type": "code",
   "execution_count": 52,
   "metadata": {
    "ExecuteTime": {
     "end_time": "2017-10-30T23:35:38.770490Z",
     "start_time": "2017-10-30T23:35:37.817198Z"
    }
   },
   "outputs": [],
   "source": [
    "MC = markov_chain('../data/lovecraft.txt',ngram=2)"
   ]
  },
  {
   "cell_type": "code",
   "execution_count": 53,
   "metadata": {
    "ExecuteTime": {
     "end_time": "2017-10-30T23:35:38.805683Z",
     "start_time": "2017-10-30T23:35:38.772507Z"
    }
   },
   "outputs": [
    {
     "name": "stdout",
     "output_type": "stream",
     "text": [
      "('the', 'nameless') ['city', 'city', 'city,', 'city,', 'city,', 'city.', 'city', 'city', 'city', 'city;', 'city', 'city.', 'city', 'city,', 'city', 'city', 'city,', 'city', 'city', 'race,', 'city:', 'city.', 'fate', 'monstrosity', 'monstrosity,', 'entity,', 'outsiders', 'design--living', 'entities', 'stone', 'city', 'and', 'scent', 'scent', 'scent', 'stench', 'artist', 'stench', 'cylinder,', 'odour', 'hybrids', 'things', 'scenes', 'larvae', 'ancient', 'pastimes', 'larvae', 'doom', 'museum', 'summit', 'denizens', 'dread.']\n",
      "\n",
      "('nameless', 'city') ['when', 'i', 'that', 'was', 'what', 'and', 'in', 'in', 'had', 'under', 'at', 'of', 'of']\n",
      "\n",
      "('city', 'when') ['i']\n",
      "\n",
      "('when', 'i') ['drew', 'came', 'was', 'had', 'chanced', 'glanced', 'saw', 'thought', 'did', 'tried', 'came', 'sounded', 'sat', 'fancied', 'looked', 'staggered', 'still', 'went', 'went', 'saw', 'think', 'dream', 'did', 'think', 'think', 'commit', 'make', 'brought', 'studied', 'started', 'think', 'telephoned', 'drove', 'developed', 'link', 'shall', 'showed', 'say', 'tried', 'rushed', 'left', 'try', 'demurred', 'had', 'saw', 'tell', 'spoke', 'gently', 'seed', 'reached', 'finally', 'knew', 'stopped', 'had', 'noticed', 'reached', 'heard', 'emerged', 'staggered', 'might', 'told', 'came', 'saw', 'saw', 'diffidently', 'did', 'first', 'waked', 'studied', 'was', 'looked', 'saw', 'shewed', 'was', 'staggered', 'was', 'first', 'looked', 'ran', 'came', 'was', 'brought', 'tottered', 'reached', 'neared', 'flashed', 'dispatched', 'speak', 'made', 'read', 'see', 'tell', 'feared', 'hadde', 'hint', 'call', 'call.', 'ring', 'first', 'hung', 'told', 'perceived', 'examined', 'reflected', 'suggested', 'had', 'saw', 'finally', 'had', 'gained', 'was', 'came', 'saw', 'learned', 'came', 'asked', 'needed', 'am', 'was', 'found', 'say', 'learned', 'slammed', 'chiseled', 'beheld', 'stopped', 'saw', 'say', 'was', 'recovered--or', 'felt', 'realized', 'glimpsed', 'saw', 'saw', 'saw', 'was', 'first', 'overheard', 'tried', 'pulled', 'raised', 'shewed', 'tried', 'had', 'went', 'pulled', 'seem', 'thought', 'saw', 'saw', 'forced', 'dropped', 'came', 'listened', 'found', 'bore', 'listened', 'looked', 'did', 'think', 'aroused', 'spoke', 'saw', 'arose,', 'had', 'stumbled', 'hear', 'heard', 'heard', 'awaked', 'told', 'saw', 'opened', 'am', 'moved', 'had', 'did', 'looked', 'reached', 'moved', 'returned', 'opened', 'had', 'see', 'questioned', 'see', 'see', 'read', 'was', 'went', 'returned.', 'examined', 'turned', 'noticed', 'awoke', 'speak', 'saw--or', 'told', 'recovered', 'see', 'saw', 'saw', 'attained', 'named', 'got', 'do', 'saw', 'get', 'was', 'pointed', 'pulled', 'shot', 'opened', 'came', 'said', 'saw', 'might', 'awakened,', 'asked', 'was', 'looked', 'went', 'had', 'tell', 'saw', 'raised', 'saw', 'awaked,', 'could']\n",
      "\n",
      "('i', 'drew') ['nigh', 'up', 'into', 'close', 'out', 'near', 'a', 'behind', 'my', 'near', 'a', 'my']\n",
      "\n",
      "('drew', 'nigh') ['the', 'there', 'that']\n",
      "\n",
      "('nigh', 'the') ['nameless', 'devils', 'time', 'crag', 'city', 'haouse', 'middle--the', 'place']\n",
      "\n",
      "('city', 'i') ['knew', 'saw', 'had']\n",
      "\n",
      "('i', 'knew') ['it', 'it', 'that', 'and', 'it', 'we', 'from', 'it', 'it', 'it', 'as', 'less', 'i', 'of', 'enough', 'that', 'that', 'that', 'what', 'the', 'that', 'his', 'i', 'that', 'that', 'that', 'that', 'those', 'that', 'that', 'the', 'that', 'too', 'also', 'would', 'how', 'too', 'in', 'my', 'this', 'what', 'there', 'it', 'all', 'it', 'i', 'from', 'unerringly', 'that', 'there', 'nothing,', 'they', 'that', 'not', 'that', 'him', 'what', 'how', 'not', 'too', 'that', 'what', 'he', 'that', 'that', 'would', 'to', 'his', 'all', 'how', 'that', 'of', 'that', 'she', 'id', 'and', 'she', 'id', 'that', 'he', 'that', 'we', 'people', 'you', 'too', 'the', 'the', 'what', 'i', 'of', 'the', 'that', 'not;', 'must', 'that', 'to', 'amidst', 'i', 'to', 'no', 'it', 'that', 'not;', 'they', 'from', 'that', 'that', 'of', 'it', 'in', 'as', 'this', 'i', 'not', 'not', 'i', 'that', 'not', 'in', 'that', 'i', 'of', 'that', 'now', 'before', 'of', 'not', 'that', 'nothing', 'that', 'of', 'that', 'who', 'that', 'what', 'what', 'what', 'she', 'and', 'i', 'the', 'that', 'that', 'that', 'would', 'not']\n",
      "\n",
      "('knew', 'it') ['was', 'was', 'lay', 'the', 'had', 'would', 'would', 'would', 'well,', 'stood', 'was', 'would', 'i', 'when', 'would', 'he', 'must', 'must', 'had', 'he', 'i', 'only', 'no', 'who', 'was']\n",
      "\n",
      "('it', 'was') ['accursed.', 'ever', 'of', 'this', 'a', 'a', 'all', 'as', 'driven', 'a', 'largely', 'the', 'the', 'a', 'told', 'an', 'not', 'certainly', 'a', 'the', 'a', 'indeed', 'i', 'morning', 'too', 'as', 'not', 'a', 'then', 'oddly', 'not', 'a', 'magnetic,', 'in', 'now', 'still', 'only', 'nothing', 'the', 'the', 'a', 'the', 'then', 'none', 'there', 'a', 'ammi,', 'very', 'much', 'really', 'little', 'very', 'quite', 'he', 'still', 'some', 'getting', 'not', 'seen', 'the', 'like', 'truly', 'soon', 'a', 'no', 'pouring', 'awful,', 'clear', 'very', 'bad', 'blind', 'a', 'just', 'just', 'just', 'not', 'the', 'then', 'from', 'a', 'a', 'voodoo,', 'nightmare', 'to', 'inside', 'not', 'wholly', 'by', 'returned', 'really', 'nothing', 'an', 'the', 'owned', 'a', 'nothing', 'only', 'rodriguez', 'a', 'balanced.', 'the', 'the', 'in', 'candlemas,', 'somewhat', 'a', 'a', 'the', 'all', 'uncanny', 'the', 'not', 'partly', 'semi-anthropomorphic;', 'the', 'manifest', 'sent', 'not', 'in', 'as', 'here', 'horrible,', 'his', 'in', 'in', 'couched', 'written,', 'of', 'then', 'a', 'still', 'mis', 'all', 'jest', 'the', 'no', 'one', 'hard', 'obvious', 'the', 'a', 'originally', 'an', 'like', 'yards', 'mostly', 'his', 'just', 'really', 'my', 'bad', 'not', 'of', 'hard', 'easy', 'hideously', 'not', 'very', 'hard', 'noteworthy,', 'not', 'with', 'a', 'like', 'hinted,', 'an', 'noticeable', 'not', 'only', 'bad', 'a', 'in', 'dead,', 'surely', 'a', 'a', 'time,', 'postmarked', 'greater', 'clearly', 'not', 'not', 'the', 'in', 'obvious', 'not', 'not', 'the', 'a', 'a', 'above', 'shocking', 'as', 'not', 'incapable', 'surely', 'absurd,', 'full', 'curious', 'from', 'the', 'this', 'only', 'mixed', 'not', 'in', 'like', 'also', 'always', 'wise', 'certainly', 'in', 'a', 'roughly', 'about', 'patriots', 'keziahs', 'a', 'too', 'when', 'a', 'wholly', 'obviously', 'by', 'a', 'stated', 'not', 'when', 'associated.', 'one', 'a', 'reared', 'then', 'odd', 'transparent,', 'to', 'a', 'then,', 'in', 'called.', 'fashioned', 'treasured', 'obvious', 'only', 'somehow', 'some', 'then', 'the', 'agreed', 'found--into', 'i', 'only', 'really', 'probably', 'foreign', 'the', 'clearly', 'tall', 'the', 'as', 'labeled', 'called,', 'merely', 'the', 'said,', 'caused', 'as', 'a', 'a', 'the', 'in', 'awful', 'generally', 'impossible', 'not', 'probably', 'no', 'not', 'said', 'then', 'plentiful.', 'all', 'curious', 'jest', 'to', 'designed', 'flanked', 'still', 'then', 'plain', 'completely', 'a', 'here,', 'foredoomed', 'the', 'in', 'a', 'said', 'in', 'clear', 'then', 'hurt,', 'on', 'clear', 'a', 'about', 'at', 'still', 'coming', 'a', 'not', 'then', 'permitted', 'allowed', 'purged', 'largely', 'frequently', 'significantly', 'the', 'when', 'evident', 'known', 'upon', 'postmarked', 'on', 'on', 'almost', 'a', 'one', 'just', 'just', 'the', 'the', 'something', 'only', 'the', 'then', 'all', 'sheer', 'titled', 'my', 'merely', 'only', 'as', 'slightly', 'before', 'the', 'the', 'now', 'of', 'appalling', 'technically', 'possible', 'agreed', 'clear', 'about', 'not', 'amphibian,', 'partly', 'marine', 'after', 'at', 'very', 'risky', 'as', 'young', 'approximately', 'hard', 'the', 'so', 'hideous', 'the', 'not', 'decided', 'probably', 'futile', 'the', 'a', 'composed', 'generally', 'a', 'totally', 'impossible', 'fully', 'under', 'now', 'curious', 'curious', 'infinitely', 'a', 'only', 'obvious', 'now', 'doubtful', 'probably', 'likewise', 'during', 'both', 'now', 'a', 'all', 'that', 'certainly', 'precisely', 'the', 'a', 'not', 'only', 'the', 'suicidally', 'just', 'composed', 'countersunk', 'a', 'wholly', 'like,', 'not', 'what', 'very', 'an', 'that', 'not', 'the', 'a', 'as', 'while', 'then,', 'not,', 'so', 'clear', 'only', 'up', 'getting', 'long', 'at', 'that', 'that,', 'held,', 'observed', 'in', 'the', 'near', 'no', 'very', 'after', 'not', 'on', 'in', 'clear,', 'not', 'the', 'just', 'the', 'later', 'deep', 'explained,', 'not', 'not', 'delivered', 'hardly', 'at', 'likely', 'meanwhile', 'observed', 'in', 'he', 'learned', 'toward', 'on', 'this', 'twilight,', 'noticed', 'overshadowed', 'only', 'not,', 'so', 'as', 'a', 'no', 'this', 'mixed', 'a', 'vacant', 'the', 'not', 'impossible', 'soon', 'from', 'the', 'strange--but', 'obvious', 'then', 'clear', 'agreed,', 'then', 'in', 'wrong,', 'what', 'something', 'obvious', 'a', 'a', 'the', 'better', 'very', 'like', 'alive.', 'too', 'not', 'neither', 'unmistakably', 'weirdly', 'only', 'the', 'here', 'obvious', 'not', 'unyielding.', 'a', 'that', 'folded', 'easy', 'made', 'very', 'gradually', 'noon', 'known', 'evident', 'he', 'he', 'he', 'not', 'not', 'from', 'on', 'his', 'hardly', 'also', 'natural', 'moonlight,', 'none', 'the', 'there', 'he', 'very', 'alive', 'now', 'good', 'in', 'to', 'merely', 'the', 'entered,', 'exceedingly', 'this', 'the', 'unwise', 'he', 'this', 'probably', 'the', 'said,', 'worshipped.', 'for', 'no', 'with', 'human', 'certainly', 'clearly', 'he', 'for', 'not', 'connected', 'on', 'infinitely', 'that', 'rather', 'indeed', 'dangerous', 'apoplexy', 'in', 'in', 'a', 'too', 'by', 'greenwich,', 'the', 'the', 'seeking', 'here', 'this', 'not', 'uncanny', 'i', 'agreed', 'a', 'underground.', 'not', 'almost', 'white', 'fairly', 'not', 'wholly', 'a', 'not', 'necessary', 'disturbing', 'in', 'in', 'better', 'rather', 'queer', 'too', 'necessary', 'still', 'the', 'a', 'a', 'about', 'herbert', 'west', 'like', 'not', 'not', 'at', 'sunset', 'in', 'below', 'then', 'i', 'still', 'curious', 'the', 'sudden,', 'quickly', 'easier', 'horrible--hideous', 'all', 'the', 'apocalyptic', 'very', 'egypt.', 'hideously', 'crushing', 'the', 'very', 'continuing', 'not', 'to', 'of', 'the', 'hideous', 'merciful', 'of', 'so', 'not', 'something', 'as', 'only', 'generally', 'possible', 'very', 'just', 'pitiful', 'meant', 'asaphs', 'a', 'a', 'unlocked,', 'not', 'very', 'raining', 'rather', 'in', 'a', 'too', 'a', 'there.', 'a', 'about', 'postmarked', 'the', 'marsh', 'plain', 'in', 'in', 'sacred', 'a', 'arranged', 'very', 'without', 'of', 'a', 'my', 'the', 'a', 'all', 'all', 'all', 'devilish', 'loathsome', 'too', 'wrinkled', 'all', 'plain', 'a', 'terrible', 'different', 'the', 'no', 'worst', 'that', 'as', 'beyond', 'amply', 'nothing', 'a', 'a', 'a', 'the', 'too', 'like', 'months', 'then', 'in', 'partly', 'his', 'we', 'to', 'all', 'the', 'that', 'that', 'the', 'their', 'not', 'pandemonium', 'a', 'the', 'to', 'like', 'the', 'a', 'only', 'the', 'in', 'perhaps', 'at', 'upon', 'that', 'the', 'also', 'of', 'not', 'in', 'a', 'by', 'not', 'seen', 'very', 'the', 'fully', 'fearful,', 'blue,', 'darker', 'apparently', 'slightly', 'it', 'at', 'highly', 'safe', 'when', 'because', 'not', 'set', 'wrought', 'clear,', 'not', 'always', 'the', 'long', 'a', 'the', 'possibly', 'twilight', 'the', 'lucky', 'something', 'sunset', 'hard', 'not', 'not', 'no', 'dark', 'very', 'such', 'circular,', 'night', 'caught', 'the', 'a', 'upon', 'one', 'dark', 'of', 'from', 'cheering', 'indeed', 'bleaker', 'this', 'a', 'no', 'a', 'strange', 'indeed', 'this', 'divinely', 'clear', 'some', 'not', 'the', 'naked', 'disastrous', 'the', 'best', 'very', 'still', 'a', 'very', 'clear', 'equally', 'only', 'verily', 'now', 'fortunate', 'decided', 'dawn', 'a', 'highly', 'too', 'doubtful', 'ancient', 'a', 'not', 'very', 'thought', 'thought', 'left', 'not', 'unmistakably', 'so.', 'a', 'no', 'something', 'he', 'thousands', 'only', 'hard', 'that', 'a', 'the', 'wisest', 'ticklish', 'on', 'to', 'not', 'a', 'decided', 'not', 'more', 'on,', 'horrible', 'blackness', 'plain', 'well-nigh', 'a', 'lost', 'not', 'true,', 'a', 'old', 'very', 'not', 'getting', 'the', 'unmistakably', 'absolutely', 'obviously', 'in', 'the', 'a', 'generally', 'the', 'based', 'to', 'here', 'nominally', 'deemed', 'absurd.', 'murder--strangulation--but', 'signed', 'wrapped', 'with', 'a', 'all', 'hither', 'choked', 'this', 'rumored', 'who', 'the', 'incredibly', 'the', 'not', 'the', 'dark.', 'not', 'hard', 'out', 'so', 'organic,', 'from', 'dismal', 'dark', 'amply', 'only', 'without', 'the', 'almost', 'with', 'a', 'the', 'from', 'there', 'lonely', 'drained.', 'over.', 'very', 'the', 'not', 'over', 'within', 'always', 'almost', 'because', 'because', 'the', 'an', 'not', 'not', 'perhaps', 'not', 'more', 'very', 'he', 'long', 'never', 'still', 'stupefying,', 'merely', 'like,', 'a', 'the', 'not', 'to', 'that', 'bound', 'produced', 'this', 'this', 'sometimes', 'said', 'never', 'said,', 'entered', 'so', 'that', 'only', 'full', 'little', 'then', 'a', 'the', 'a', 'too', 'decided', 'the', 'not', 'the', 'plainly', 'the', 'wholly', 'the', 'more', 'ann', 'something', 'not', 'the', 'freely', 'truly', 'in', 'our', 'our', 'merely', 'this', 'of', 'queer--damnably', 'not', 'not', 'all', 'to', 'a', 'frightful', 'sunny', 'unspeakably', 'twilight', 'after', 'in', 'about', 'bound', 'not', 'no', 'in', 'deep;', 'as', 'a', 'that', 'in', 'the', 'inevitable', 'very', 'plain', 'at', 'but', 'said', 'known', 'our', 'useless.', 'during', 'necessary,', 'decided', 'a', 'at', 'annoying', 'an', 'horribly', 'indeed', 'which', 'early', 'not', 'probably', 'after', 'very', 'really', 'in', 'edward--and', 'clear', 'as', 'shut', 'deeper,', 'a', 'plain', 'heard', 'horrible,', 'she', 'about', 'in', 'found', 'fully', 'in', 'sudden,', 'after', 'only', 'in', 'after', 'with', 'only', 'in', 'the', 'the', 'not', 'not', 'my', 'seen', 'romeros', 'useless--for', 'such', 'like', 'not', 'without', 'open,', 'stolen', 'to', 'strange,', 'whispered', 'definitely', 'his', 'not,', 'averred,', 'that', 'a', 'so', 'an', 'answered.', 'still', 'the', 'plain', 'everywhere--a', 'the', 'the', 'that', 'by', 'against', 'a', 'he', 'from', 'amid', 'in', 'then', 'as', 'this', 'the', 'sad', 'really', 'not', 'not', 'indeed', 'reserved', 'a', 'sent', 'made', 'to', 'as', 'connected', 'as', 'largely', 'an', 'perhaps', 'as', 'derived.', 'autumn,', 'there', 'then', 'in', 'empty.', 'in', 'under', 'unlike', 'my', 'the', 'in', 'a', 'the', 'not', 'too', 'at', 'from', 'the']\n",
      "\n",
      "('was', 'accursed.') ['i']\n",
      "\n",
      "('accursed.', 'i') ['was']\n",
      "\n",
      "('i', 'was') ['traveling', 'inside', 'prying', 'more', 'crawling.', 'frightened', 'still', 'still', 'quite', 'in', 'alone', 'staring.', 'beset', 'pushed', 'plunged', 'far', 'the', 'glad', 'eager', 'almost', 'strange', 'half', 'fully', 'not', 'not', 'sure', 'determined', 'sure', 'expected', 'then', 'sure,', 'willing', 'on', 'in', 'stung', 'right', 'then,', 'almost', 'directed', 'told', 'in', 'to', 'glad', 'by', 'informed', 'scarcely', 'duly', 'afraid', 'at', 'at', 'going;', 'entering', 'at', 'likewise', 'indeed', 'a', 'glad', 'at', 'bringing', 'on', 'scanning', 'shut', 'tremendously', 'told', 'led', 'told', 'sorry', 'glad', 'in', 'meeting.', 'broad', 'under', 'also', 'even', 'willing', 'not', 'celebrating', 'you.', 'stopping,', 'sorry', 'not', 'looking', 'glad', 'glad', 'several', 'even', 'steering', 'resolved', 'careful', 'seven', 'hearing', 'glad', 'up', 'fifteen', 'afeared--never', 'left', 'forced', 'still', 'somewhat', 'sleepy', 'really', 'unarmed.', 'sorry', 'irresolutely', 'though,', 'shuddering', 'past', 'now', 'glad', 'to', 'transfixed', 'glad', 'none', 'very', 'by', 'prepared', 'somehow', 'in', 'a', 'grateful', 'eight', 'thoroughly', 'forced', 'coming', 'sane', 'alone--and', 'born', 'conducting', 'in', 'for', 'lectured', 'some', 'a', 'driven,', 'given', 'driven', 'indeed', 'the', 'greatly', 'and', 'for', 'mightily', 'preparing--half', 'taken', 'none', 'prospecting', 'queerly', 'getting', 'close', 'not', 'awaked', 'up', 'awake', 'wholly', 'in', 'torn', 'leaping', 'now', 'past', 'not', 'beyond', 'not', 'afraid', 'taking,', 'nearly', 'past', 'only', 'dreaming?', 'looking', 'climbing,', 'dreaming,', 'in', 'at', 'in', 'clawing', 'rather', 'interested', 'interested', 'glad', 'persistently', 'trying', 'frighted', 'conscious', 'coming', 'a', 'led', 'face', 'overworking;', 'wildly', 'viewing', 'broken', 'eventually,', 'touched', 'in', 'supercargo', 'somewhat', 'in', 'too', 'awake', 'conscious', 'unable', 'in', 'repulsed', 'held', 'sure', 'seeing', 'about', 'walking', 'taken', 'threading', 'subtly', 'alarmed,', 'faint,', 'steadying', 'his', 'by', 'pouring', 'with', 'increasingly', 'used', 'rather', 'moved', 'impressed', 'answered', 'elated', 'a', 'held', 'holding', 'wests', 'with', 'going', 'to', 'often', 'vainly', 'forced', 'ever', 'soon', 'carried,', 'plunging', 'soaring', 'experiencing', 'in', 'lowered', 'in', 'completely', 'tortured', 'free', 'still', 'alone...with', 'stirred', 'wounded,', 'finally', 'too', 'precipitated', 'glad,', 'quite', 'his', 'conscious', 'tempted', 'ready', 'able', 'twenty,', 'losing', 'always', 'shocked', 'glad', 'absolutely', 'laid', 'utterly', 'really', 'inclined', 'long', 'at', 'glad', 'frightfully', 'forced', 'soon', 'ready', 'in', 'almost', 'too', 'too', 'half-ready', 'too', 'too', 'sorry', 'a', 'glad', 'wholly', 'just', 'acutely', 'helpless,', 'doing', 'desperately', 'comfortably', 'on', 'glad', 'trying', 'not', 'when', 'pretty', 'much', 'paralysed', 'too', 'reaching', 'born,', 'an', 'permitted', 'able', 'able', 'absolutely', 'every', 'resolved', 'left', 'free,', 'strangely', 'unable', 'at', 'lost,', 'by', 'certain.', 'on', 'now', 'entirely', 'petrified,', 'so', 'swept', 'closer', 'more', 'partly', 'calmer,', 'irresistibly', 'obviously', 'not', 'now', 'to', 'one', 'not', 'between', 'not', 'alone', 'the', 'glad.', 'digging', 'digging', 'saved', 'uttering', 'digging', 'consumed', 'with', 'going', 'very', 'glad,', 'waking', 'awake.', 'to', 'silent', 'lying', 'mad', 'saved', 'alone', 'not', 'haunted', 'yet', 'fascinated,', 'inclined', 'while', 'close', 'able', 'born,', 'now', 'disappointed;', 'or', 'almost', 'not', 'driven', 'not', 'alseep,', 'going', 'laboring,', 'up', 'amused', 'presently', 'rocked', 'but', 'small', 'entertained', 'forced', 'much', 'at', 'constantly', 'in', 'abruptly', 'not', 'called', 'hearing,', 'not', 'told,', 'affected', 'disposed', 'forced', 'almost', 'at', 'not', 'to', 'glad', 'still', 'nearly', 'done,', 'found', 'alone,', 'nevertheless', 'rather', 'scientifically', 'very', 'proud,', 'sure;', 'scarcely', 'also', 'soon', 'the', 'slow,', 'confronted', 'a', 'too', 'misled--or', 'sixteen.', 'perhaps', 'puzzled', 'afterward', 'locked', 'there', 'glad', 'in', 'glad', 'half-afraid', 'careful,', 'helpless.', 'all', 'back', 'steering', 'made', 'close', 'the', 'about', 'included', 'edwards', 'lying', 'in', 'all', 'desperate,', 'not', 'not', 'much', 'likewise', 'either', 'greatly', 'no', 'forced', 'now', 'borne', 'the', 'brought', 'often', 'more', 'afterward', 'myself', 'safe', 'soon', 'too', 'a', 'knocked', 'not', 'too', 'young', 'able', 'not', 'not', 'feeble', 'to', 'a']\n",
      "\n",
      "('was', 'traveling') ['in']\n",
      "\n",
      "('traveling', 'in') ['a']\n",
      "\n",
      "('in', 'a') ['parched', 'very', 'precipitous', 'place', 'narrow', 'creeping', 'moment', 'world', 'pictured', 'tunnel,', 'loose', 'corner,', 'while', 'moment', 'very', 'tale', 'curious', 'great', 'glass', 'state', 'crucible', 'glass', 'queer', 'woodchuck', 'healthy', 'police', 'constant', 'locked', 'way', 'clutching', 'stone.', 'democrat-wagon,', 'month,', 'fearsome', 'dream,', 'mad', 'dreamy,', 'dream', 'short', 'tour', 'natural', 'short', 'manner', 'strangely', 'rear', 'half-delirious', 'small', 'diagonal', 'waking', 'large', 'home', 'very', 'foetid', 'kind', 'long,', 'huge', 'panic;', 'few', 'modern', 'style', 'cold', 'easy', 'half-comatose', 'great', 'boarded-up', 'room', 'few', 'corner', 'car,', 'kind', 'while', 'mood', 'singularly', 'normal', 'bewilderment', 'commandeered', 'letter', 'manner', 'tentative', 'while,', 'deserted', 'gulf', 'while', 'very', 'human', 'sort', 'line', 'script', 'turmoil', 'week', 'searchlight', 'few', 'week,', 'madhouse', 'cycle', 'jagged', 'whisper,', 'moment', 'neat', 'week', 'wholly', 'position', 'common', 'garage', 'position', 'vault', 'room', 'form', 'violet', 'passage', 'while', 'singular', 'certain', 'seemingly', 'cold', 'flash', 'jagged', 'crude,', 'candlestick', 'straight', 'public', 'room', 'rubbish-heap', 'dark,', 'daze', 'place', 'second.', 'language', 'certain', 'ravine', 'fashion', 'grassy', 'little', 'north', 'wind-swept', 'state', 'corner', 'rapid', 'rear', 'rough', 'very', 'halting', 'viscous,', 'singular', 'crude', 'frantic', 'dressing-gown,', 'vast,', 'spasmodic', 'haunt', 'peculiarly', 'corner', 'brawl.', 'few', 'silent,', 'while', 'book,', 'clumsy', 'steadier', 'single', 'closed,', 'sententious', 'confidential', 'bad', 'dory,', 'cupola', 'taown', 'half-hour.', 'language', 'throaty', 'highly', 'room', 'chamber', 'second', 'lateral', 'way', 'second', 'zigzagging', 'doorway', 'positively', 'limitless', 'grotesque,', 'ghoulishly', 'boston', 'downtown', 'phosphorescent', 'frenzy', 'sanitarium', 'grotesque', 'stupor', 'few', 'while,', 'script', 'queer', 'fever,', 'colossal', 'gigantic', 'while,', 'scattered', 'very', 'cold', 'stream', 'vain,', 'moment.', 'few', 'marvelous', 'kind', 'state', 'kind', 'terrible', 'mangling', 'deafening', 'pandaemoniae', 'series', 'shuttle', 'dream', 'year.', 'single', 'far', 'condition', 'poor', 'lightened', 'queer', 'climate', 'sinister', 'spare', 'way', 'bag', 'continuous', 'while', 'formless,', 'striking', 'mighty', 'similar', 'while', 'while', 'strange', 'less', 'measure', 'kind', 'graveyard', 'long,', 'prodigious', 'late,', 'body,', 'series', 'frenzied,', 'moment', 'less', 'nebulous', 'state', 'cloud', 'non-committal', 'very', 'front', 'way,', 'different', 'condition', 'non', 'lean-to', 'show', 'frame', 'lighter', 'long', 'rear', 'customs', 'while', 'cipher', 'chirography', 'state', 'long', 'spacious', 'carved', 'hand', 'cipher;', 'swamp', 'certain', 'place', 'singularly', 'yah!', 'neighbouring', 'growing', 'savage', 'motor', 'spot', 'great', 'lonely', 'highly', 'manner', 'very', 'very', 'kind', 'very', 'mania', 'handwriting', 'yeares', 'moment', 'locked', 'crabbed', 'gigantic', 'moment', 'voice', 'moment', 'moment', 'phaleron', 'lekythos.', 'tidal', 'dressing-gown,', 'crabbed', 'covered', 'knot', 'sullen', 'cupboard', 'clear', 'city', 'manner', 'whiskey', 'demoniac', 'panic,', 'vague', 'straightjacket.', 'barbarous', 'kind', 'region', 'half-stupor', 'week', 'dream', 'dream', 'golden', 'galley', 'prehistoric', 'finely', 'lifetime', 'marvellously', 'heavy', 'man', 'tone', 'mechanic', 'breathless,', 'deep', 'strange,', 'small', 'short', 'cold', 'system', 'moment', 'san', 'barge', 'mighty', 'madhouse', 'rational', 'vast', 'high', 'hand', 'drone', 'vortex', 'grotesque', 'high', 'spacious,', 'corner', 'canvas', 'wordy', 'supremely', 'manner', 'house', 'padded', 'forest', 'tiny', 'shocking', 'state', 'dense', 'moment', 'life', 'canadian', 'great', 'corpse;', 'field', 'dark', 'nearly', 'room', 'far', 'frightful', 'repulsive', 'gesture', 'cataclysm', 'shadowy', 'way--but', 'venerable', 'sub-cellar', 'highly', 'railway', 'kind', 'brief', 'non-material', 'remote', 'manner', 'taxi', 'victoria', 'line', 'transverse', 'complete', 'late', 'temple', 'few', 'manner', 'flash', 'chill', 'space', 'horrible', 'row', 'while', 'very', 'city;', 'fit', 'dusk', 'corner', 'tone', 'half-swoon.', 'box', 'dream,', 'moment;', 'very', 'bad', 'year', 'drawing', 'few', 'few', 'certain', 'much', 'sense,', 'strained,', 'voice', 'great', 'very', 'hoarse', 'cab', 'rage', 'day', 'moment', 'way', 'way,', 'sense--but', 'vast', 'pattern', 'half-daze,', 'while', 'lime-packed', 'tree', 'crumbling', 'different', 'narrow', 'while,', 'bare', 'way', 'way', 'parvenu', 'minute', 'churchyard', 'spirit', 'direction', 'half-familiar', 'low-cut', 'row', 'distant', 'nearby', 'profusion', 'massive', 'place', 'skull-cap', 'rumbling', 'field,', 'total', 'most', 'face', 'grey,', 'fantastic', 'tongue', 'circle', 'strange', 'cavern', 'tone', 'peace', 'piping', 'fabric', 'mist;', 'sinister', 'festooned', 'week', 'prehistoric', 'resplendent', 'detestable', 'swelling', 'black', 'tunnel', 'sheltered', 'crevice.', 'gods', 'whirling,', 'bundle', 'cemetery', 'forest', 'noxious', 'surprisingly', 'series', 'nearby', 'great', 'circular', 'golden', 'cottage', 'while', 'grey', 'valley', 'smock', 'chair', 'dressing', 'prehistoric', 'great', 'low-ceiled', 'roadside', 'camp', 'while', 'panic', 'great', 'great', 'hateful', 'style', 'ring.', 'moment', 'short', 'tavern.', 'very', 'semicircle', 'nightmare', 'hellish', 'realm', 'ring', 'valley', 'strange', 'new', 'few', 'moment', 'moment', 'stumble', 'georgian', 'strange', 'series', 'brighter', 'raid', 'sort', 'cracked,', 'state', 'state', 'multitude', 'distant', 'body', 'few', 'niche', 'squalid', 'small', 'frightful', 'short', 'familiar', 'hamlet', 'week', 'remote', 'green', 'dreamless', 'flame', 'lofty', 'cheap', 'friendly', 'howling', 'silent', 'labyrinth', 'thickly', 'swoon', 'chaos', 'dream', 'thin,', 'book', 'robe', 'stable,', 'fair', 'days,', 'barge', 'gilded', 'far', 'chronicle', 'lonely', 'building', 'moment', 'merciful', 'covered', 'while', 'boys', 'georgian', 'coarse', 'horrible', 'madhouse.', 'wood,', 'carelessly', 'light', 'while,', 'mindless', 'meaningless', 'dream,', 'world', 'tall', 'discoloured', 'nameless', 'box', 'certain', 'deep,', 'certain', 'tense', 'shaky', 'pitch', 'college', 'few', 'foreign', 'manner', 'detestably', 'sullen', 'delirium', 'moment', 'marked', 'paved', 'bottle', 'bare', 'madhouse', 'boston', 'half-decayed', 'cryptic', 'car.', 'cell', 'pitiable', 'field', 'virtual', 'sprightly', 'mans', 'moment', 'choking', 'flash', 'week.', 'flood', 'remote', 'while', 'kind', 'queerly', 'manner', 'vague', 'past', 'moment', 'conspicuous', 'book,', 'smartly', 'crude', 'tempest.', 'great', 'startling', 'marble', 'good', 'few', 'lonely', 'soft', 'resplendent', 'vast', 'deep', 'grove', 'book', 'spot', 'manner', 'torrid,', 'language', 'moment', 'chaos', 'bewildered', 'flash', 'firmament', 'chilling', 'region', 'fashion', 'lane', 'black', 'thin', 'kind', 'kind', 'vast', 'hollow', 'tongue', 'dream,', 'market', 'place', 'while', 'pool']\n",
      "\n",
      "('a', 'parched') ['and']\n",
      "\n",
      "('parched', 'and') ['terrible']\n",
      "\n",
      "('and', 'terrible') ['valley', 'significance--scenes', 'clues', 'lines', 'books', 'hidden', 'alliances', 'powers--the', 'things.', 'meaning,', 'access', 'corroboration', 'fruition.', 'cast', 'colloquy', 'expectation.', 'groping,', 'tradition', 'revenge.', 'shone', 'goal', 'has', 'things', 'was', 'still', 'old', 'eyrie', 'disclosure.', 'things', 'one,']\n",
      "\n"
     ]
    }
   ],
   "source": [
    "MC.print_key_value_pairs()"
   ]
  },
  {
   "cell_type": "markdown",
   "metadata": {},
   "source": [
    "We asked for ngrams = 2, so our key will be two words. Then we'll see what words are \"allowed\" to come after it based on what we learned from the text. So in our text, we see the phrase \"the nameless\" many times. Most of the times we see it, it's followed by \"city\" so you can see that we have lots of \"city\" stored as possible words to use next."
   ]
  },
  {
   "cell_type": "code",
   "execution_count": 56,
   "metadata": {
    "ExecuteTime": {
     "end_time": "2017-10-30T23:35:51.435538Z",
     "start_time": "2017-10-30T23:35:51.429964Z"
    }
   },
   "outputs": [
    {
     "name": "stdout",
     "output_type": "stream",
     "text": [
      "('the', 'nameless') ['city', 'city', 'city,', 'city,', 'city,', 'city.', 'city', 'city', 'city', 'city;', 'city', 'city.', 'city', 'city,', 'city', 'city', 'city,', 'city', 'city', 'race,', 'city:', 'city.', 'fate', 'monstrosity', 'monstrosity,', 'entity,', 'outsiders', 'design--living', 'entities', 'stone', 'city', 'and', 'scent', 'scent', 'scent', 'stench', 'artist', 'stench', 'cylinder,', 'odour', 'hybrids', 'things', 'scenes', 'larvae', 'ancient', 'pastimes', 'larvae', 'doom', 'museum', 'summit', 'denizens', 'dread.']\n",
      "\n"
     ]
    }
   ],
   "source": [
    "MC.print_key_value_pairs(num_keys=1)"
   ]
  },
  {
   "cell_type": "code",
   "execution_count": 8,
   "metadata": {
    "ExecuteTime": {
     "end_time": "2017-10-30T23:22:34.946902Z",
     "start_time": "2017-10-30T23:22:34.937089Z"
    }
   },
   "outputs": [
    {
     "name": "stdout",
     "output_type": "stream",
     "text": [
      "the moon, and all conjectures about the new york police detective named thomas f. malone, now on maenalus, pan sighs and stretches in his monstrous labours. the following day, though the localities were over what seemed to have lost their memory, they said, been considerable discussion about the mindless demon-sultan azathoth? just before two oclock, and through the eternal fishing. that fishing paid less and less reluctant to discuss. at least to possess the most decadent of communities. all this is not, however, wholly displace the exultation. he stopped for the gowned, slippered old man in the world, i think,\n"
     ]
    }
   ],
   "source": [
    "print(MC.generate_sentence(length=100, starting_word_id=25))"
   ]
  },
  {
   "cell_type": "markdown",
   "metadata": {},
   "source": [
    "## Test reading from a string directly"
   ]
  },
  {
   "cell_type": "code",
   "execution_count": 60,
   "metadata": {
    "ExecuteTime": {
     "end_time": "2017-10-30T23:54:33.601026Z",
     "start_time": "2017-10-30T23:54:33.596404Z"
    },
    "collapsed": true
   },
   "outputs": [],
   "source": [
    "test_text = '''the moon, and all conjectures about the new york police detective named thomas f. malone, \n",
    "now on maenalus, pan sighs and stretches in his monstrous labours. the following day, though the localities \n",
    "were over what seemed to have lost their memory, they said, been considerable discussion about the mindless \n",
    "demon-sultan azathoth? just before two oclock, and through the eternal fishing. that fishing paid less and \n",
    "less reluctant to discuss. at least to possess the most decadent of communities. all this is not, however, \n",
    "wholly displace the exultation. he stopped for the gowned, slippered old man in the world, i think,'''\n",
    "\n",
    "MC = markov_chain(test_text, from_file=False, ngram=1)"
   ]
  },
  {
   "cell_type": "code",
   "execution_count": 61,
   "metadata": {
    "ExecuteTime": {
     "end_time": "2017-10-30T23:54:34.293217Z",
     "start_time": "2017-10-30T23:54:34.279121Z"
    }
   },
   "outputs": [
    {
     "name": "stdout",
     "output_type": "stream",
     "text": [
      "('the',) ['moon,', 'new', 'following', 'localities', 'mindless', 'eternal', 'most', 'exultation.', 'gowned,', 'world,']\n",
      "\n",
      "('moon,',) ['and']\n",
      "\n",
      "('and',) ['all', 'stretches', 'through', 'less']\n",
      "\n",
      "('all',) ['conjectures', 'this']\n",
      "\n",
      "('conjectures',) ['about']\n",
      "\n",
      "('about',) ['the', 'the']\n",
      "\n",
      "('new',) ['york']\n",
      "\n",
      "('york',) ['police']\n",
      "\n",
      "('police',) ['detective']\n",
      "\n",
      "('detective',) ['named']\n",
      "\n"
     ]
    }
   ],
   "source": [
    "MC.print_key_value_pairs(num_keys=10)"
   ]
  },
  {
   "cell_type": "code",
   "execution_count": 62,
   "metadata": {
    "ExecuteTime": {
     "end_time": "2017-10-30T23:54:43.818359Z",
     "start_time": "2017-10-30T23:54:43.812714Z"
    }
   },
   "outputs": [
    {
     "data": {
      "text/plain": [
       "'reluctant to discuss. at least to have lost their memory, they said, been considerable discussion about the mindless demon-sultan azathoth? just before two oclock, and'"
      ]
     },
     "execution_count": 62,
     "metadata": {},
     "output_type": "execute_result"
    }
   ],
   "source": [
    "MC.generate_sentence()"
   ]
  },
  {
   "cell_type": "code",
   "execution_count": null,
   "metadata": {
    "collapsed": true
   },
   "outputs": [],
   "source": []
  }
 ],
 "metadata": {
  "kernelspec": {
   "display_name": "Python [default]",
   "language": "python",
   "name": "python3"
  },
  "language_info": {
   "codemirror_mode": {
    "name": "ipython",
    "version": 3
   },
   "file_extension": ".py",
   "mimetype": "text/x-python",
   "name": "python",
   "nbconvert_exporter": "python",
   "pygments_lexer": "ipython3",
   "version": "3.6.2"
  },
  "toc": {
   "nav_menu": {},
   "number_sections": true,
   "sideBar": true,
   "skip_h1_title": false,
   "toc_cell": false,
   "toc_position": {},
   "toc_section_display": "block",
   "toc_window_display": false
  }
 },
 "nbformat": 4,
 "nbformat_minor": 2
}
