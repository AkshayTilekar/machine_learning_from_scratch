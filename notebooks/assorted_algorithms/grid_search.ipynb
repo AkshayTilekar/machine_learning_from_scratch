{
 "cells": [
  {
   "cell_type": "markdown",
   "metadata": {},
   "source": [
    "# Grid Search and Grid Search CV"
   ]
  },
  {
   "cell_type": "code",
   "execution_count": 1,
   "metadata": {
    "ExecuteTime": {
     "end_time": "2017-12-07T20:11:21.773199Z",
     "start_time": "2017-12-07T20:11:21.251660Z"
    },
    "collapsed": true
   },
   "outputs": [],
   "source": [
    "import numpy as np\n",
    "import random\n",
    "import matplotlib.pyplot as plt\n",
    "import pandas as pd\n",
    "import math\n",
    "import scipy\n",
    "%matplotlib inline\n",
    "plt.style.use('seaborn')"
   ]
  },
  {
   "cell_type": "code",
   "execution_count": 2,
   "metadata": {
    "ExecuteTime": {
     "end_time": "2017-12-07T20:11:21.890588Z",
     "start_time": "2017-12-07T20:11:21.776000Z"
    }
   },
   "outputs": [
    {
     "name": "stdout",
     "output_type": "stream",
     "text": [
      "Python Version: 3.6.2 |Anaconda custom (64-bit)| (default, Sep 21 2017, 18:29:43) \n",
      "[GCC 4.2.1 Compatible Clang 4.0.1 (tags/RELEASE_401/final)] \n",
      "\n",
      "Matplotlib Version: 2.0.2\n",
      "Numpy Version: 1.12.1\n",
      "Pandas Version: 0.20.3\n"
     ]
    }
   ],
   "source": [
    "import numpy as np\n",
    "import sklearn\n",
    "import matplotlib\n",
    "import pandas as pd\n",
    "import sys\n",
    "libraries = (('Matplotlib', matplotlib), ('Numpy', np), ('Pandas', pd))\n",
    "\n",
    "print(\"Python Version:\", sys.version, '\\n')\n",
    "for lib in libraries:\n",
    "    print('{0} Version: {1}'.format(lib[0], lib[1].__version__))"
   ]
  },
  {
   "cell_type": "code",
   "execution_count": 50,
   "metadata": {
    "ExecuteTime": {
     "end_time": "2017-12-08T00:50:07.661507Z",
     "start_time": "2017-12-08T00:50:07.563264Z"
    },
    "collapsed": true
   },
   "outputs": [],
   "source": [
    "from itertools import product\n",
    "\n",
    "class grid_search():\n",
    "    \n",
    "    def __init__(self, model_name, param_grid):\n",
    "        self._base_model = str(model_name).replace(')','')\n",
    "        self._param_grid = param_grid\n",
    "        self.models = self.get_models()\n",
    "        \n",
    "    def get_models(self):\n",
    "        params = []\n",
    "        order = []\n",
    "        for key, value in self._param_grid.items():\n",
    "            order.append(key)\n",
    "            params.append(value)\n",
    "        options = list(product(*params))\n",
    "\n",
    "        command_list = []\n",
    "        for option in options:\n",
    "            cmd = self._base_model\n",
    "            if cmd[-1] != '(':\n",
    "                cmd+=', '\n",
    "            for i,j in zip(order, option):\n",
    "                cmd += str(i)+\"=\"+str(j)+\", \"\n",
    "            command_list.append(cmd[:-2]+')')\n",
    "        return command_list\n",
    "    \n",
    "    def fit(self, X, y):\n",
    "        results = []\n",
    "        for model_name in self.models:\n",
    "            model = eval(model_name)\n",
    "            model.fit(X,y)\n",
    "            s = model.score(X,y)\n",
    "            results.append([model, s, model_name])\n",
    "        self.all_results = sorted(results, key=lambda x: x[1], reverse=True)\n",
    "        self.best_model = self.all_results[0][0]\n",
    "        self.best_score = self.all_results[0][1]\n",
    "        \n",
    "    def print_results(self):\n",
    "        if self.all_results:\n",
    "            print(\"Model    |    Score\\n--------------------\\n\")\n",
    "            for result in self.all_results:\n",
    "                print(result[2], \"   |   \", result[1],\"\\n\")"
   ]
  },
  {
   "cell_type": "code",
   "execution_count": 51,
   "metadata": {
    "ExecuteTime": {
     "end_time": "2017-12-08T00:50:20.312553Z",
     "start_time": "2017-12-08T00:50:20.298711Z"
    }
   },
   "outputs": [
    {
     "data": {
      "text/plain": [
       "['random_forest_classifier(n_feat=7, n_trees=1, max_depth=1)',\n",
       " 'random_forest_classifier(n_feat=7, n_trees=1, max_depth=5)',\n",
       " 'random_forest_classifier(n_feat=7, n_trees=1, max_depth=10)',\n",
       " 'random_forest_classifier(n_feat=7, n_trees=10, max_depth=1)',\n",
       " 'random_forest_classifier(n_feat=7, n_trees=10, max_depth=5)',\n",
       " 'random_forest_classifier(n_feat=7, n_trees=10, max_depth=10)',\n",
       " 'random_forest_classifier(n_feat=7, n_trees=20, max_depth=1)',\n",
       " 'random_forest_classifier(n_feat=7, n_trees=20, max_depth=5)',\n",
       " 'random_forest_classifier(n_feat=7, n_trees=20, max_depth=10)']"
      ]
     },
     "execution_count": 51,
     "metadata": {},
     "output_type": "execute_result"
    }
   ],
   "source": [
    "import sys \n",
    "sys.path.append('../../modules')\n",
    "from random_forest_classifier import random_forest_classifier\n",
    "\n",
    "param_grid = {\"n_trees\": [1,10,20],\"max_depth\":[1,5,10]}\n",
    "\n",
    "gs = grid_search('random_forest_classifier(n_feat=7)',param_grid)\n",
    "gs.models"
   ]
  },
  {
   "cell_type": "code",
   "execution_count": 5,
   "metadata": {
    "ExecuteTime": {
     "end_time": "2017-12-07T20:11:22.852863Z",
     "start_time": "2017-12-07T20:11:22.638477Z"
    },
    "collapsed": true
   },
   "outputs": [],
   "source": [
    "from sklearn.datasets import load_iris\n",
    "X = load_iris().data\n",
    "y = load_iris().target"
   ]
  },
  {
   "cell_type": "code",
   "execution_count": 19,
   "metadata": {
    "ExecuteTime": {
     "end_time": "2017-12-07T18:53:02.994193Z",
     "start_time": "2017-12-07T18:52:44.512346Z"
    },
    "collapsed": true
   },
   "outputs": [],
   "source": [
    "gs.fit(X,y)"
   ]
  },
  {
   "cell_type": "code",
   "execution_count": 20,
   "metadata": {
    "ExecuteTime": {
     "end_time": "2017-12-07T18:53:03.011627Z",
     "start_time": "2017-12-07T18:53:02.996077Z"
    }
   },
   "outputs": [
    {
     "name": "stdout",
     "output_type": "stream",
     "text": [
      "Model    |    Score\n",
      "--------------------\n",
      "\n",
      "random_forest_classifier(n_trees=10, max_depth=10)    |    1.0 \n",
      "\n",
      "random_forest_classifier(n_trees=20, max_depth=10)    |    0.9933333333333333 \n",
      "\n",
      "random_forest_classifier(n_trees=10, max_depth=5)    |    0.9866666666666667 \n",
      "\n",
      "random_forest_classifier(n_trees=20, max_depth=5)    |    0.9866666666666667 \n",
      "\n",
      "random_forest_classifier(n_trees=1, max_depth=10)    |    0.9733333333333334 \n",
      "\n",
      "random_forest_classifier(n_trees=1, max_depth=5)    |    0.9666666666666667 \n",
      "\n",
      "random_forest_classifier(n_trees=10, max_depth=1)    |    0.66 \n",
      "\n",
      "random_forest_classifier(n_trees=20, max_depth=1)    |    0.66 \n",
      "\n",
      "random_forest_classifier(n_trees=1, max_depth=1)    |    0.6533333333333333 \n",
      "\n"
     ]
    }
   ],
   "source": [
    "gs.print_results()"
   ]
  },
  {
   "cell_type": "code",
   "execution_count": 54,
   "metadata": {
    "ExecuteTime": {
     "end_time": "2017-12-08T00:51:20.477889Z",
     "start_time": "2017-12-08T00:51:20.359647Z"
    }
   },
   "outputs": [],
   "source": [
    "from itertools import product\n",
    "import sys \n",
    "sys.path.append('../../modules')\n",
    "from data_splitting import cross_val\n",
    "\n",
    "class grid_search_cv():\n",
    "    \n",
    "    def __init__(self, model_name, param_grid={}, k=5):\n",
    "        self._base_model = str(model_name).replace(')','')\n",
    "        self._param_grid = param_grid\n",
    "        self.models = self.get_models()\n",
    "        self.k = k\n",
    "        \n",
    "    def get_models(self):\n",
    "        params = []\n",
    "        order = []\n",
    "        for key, value in self._param_grid.items():\n",
    "            order.append(key)\n",
    "            params.append(value)\n",
    "        options = list(product(*params))\n",
    "\n",
    "        command_list = []\n",
    "        for option in options:\n",
    "            cmd = self._base_model\n",
    "            if cmd[-1] != '(':\n",
    "                cmd+=', '\n",
    "            for i,j in zip(order, option):\n",
    "                cmd += str(i)+\"=\"+str(j)+\", \"\n",
    "            command_list.append(cmd[:-2]+')')\n",
    "        return command_list\n",
    "    \n",
    "    def fit(self, X, y):\n",
    "        results = []\n",
    "        for model_name in self.models:\n",
    "            model = eval(model_name)\n",
    "            cv = cross_val()\n",
    "            cv.cross_validation_scores(model, X, y, self.k)\n",
    "            results.append([model, cv.score_folds, model_name])\n",
    "        self.all_results = sorted(results, key=lambda x: x[1], reverse=True)\n",
    "        self.best_model = self.all_results[0][0]\n",
    "        self.best_score = self.all_results[0][1]\n",
    "        \n",
    "    def print_results(self, coefs=False, mean=False):\n",
    "        if self.all_results:\n",
    "            print(\"Model    |    Scores\\n--------------------\")\n",
    "            for result in self.all_results:\n",
    "                if mean:\n",
    "                    print(result[2], \"   |   \", np.mean(result[1]))\n",
    "                else:\n",
    "                    print(result[2], \"   |   \", result[1])\n",
    "                if coefs:\n",
    "                    try:\n",
    "                        print(\"Coefs: \", result[0].coefs_)\n",
    "                    except AttributeError:\n",
    "                        print(\"No Coefficients in model!\")    \n",
    "                print()"
   ]
  },
  {
   "cell_type": "code",
   "execution_count": 60,
   "metadata": {
    "ExecuteTime": {
     "end_time": "2017-12-08T00:52:15.947751Z",
     "start_time": "2017-12-08T00:52:04.827195Z"
    }
   },
   "outputs": [],
   "source": [
    "param_grid = {\"n_trees\": [1,10],\"max_depth\":[1,5]}\n",
    "gs = grid_search_cv('random_forest_classifier(mode=\"rfnode\")',param_grid)\n",
    "gs.fit(X,y)"
   ]
  },
  {
   "cell_type": "code",
   "execution_count": 62,
   "metadata": {
    "ExecuteTime": {
     "end_time": "2017-12-08T00:52:28.175322Z",
     "start_time": "2017-12-08T00:52:28.164335Z"
    }
   },
   "outputs": [
    {
     "name": "stdout",
     "output_type": "stream",
     "text": [
      "Model    |    Scores\n",
      "--------------------\n",
      "random_forest_classifier(mode=\"rfnode\", n_trees=1, max_depth=5)    |    [0.96, 1.0, 1.0, 1.0, 0.9666666666666667]\n",
      "\n",
      "random_forest_classifier(mode=\"rfnode\", n_trees=10, max_depth=5)    |    [0.96, 0.9642857142857143, 0.9629629629629629, 1.0, 1.0]\n",
      "\n",
      "random_forest_classifier(mode=\"rfnode\", n_trees=10, max_depth=1)    |    [0.56, 0.6071428571428571, 0.9629629629629629, 1.0, 0.9]\n",
      "\n",
      "random_forest_classifier(mode=\"rfnode\", n_trees=1, max_depth=1)    |    [0.52, 0.5714285714285714, 0.7777777777777778, 0.675, 0.7]\n",
      "\n"
     ]
    }
   ],
   "source": [
    "gs.print_results(mean=False, coefs=False)"
   ]
  },
  {
   "cell_type": "code",
   "execution_count": null,
   "metadata": {
    "collapsed": true
   },
   "outputs": [],
   "source": []
  }
 ],
 "metadata": {
  "kernelspec": {
   "display_name": "Python [default]",
   "language": "python",
   "name": "python3"
  },
  "language_info": {
   "codemirror_mode": {
    "name": "ipython",
    "version": 3
   },
   "file_extension": ".py",
   "mimetype": "text/x-python",
   "name": "python",
   "nbconvert_exporter": "python",
   "pygments_lexer": "ipython3",
   "version": "3.6.2"
  },
  "toc": {
   "nav_menu": {},
   "number_sections": true,
   "sideBar": true,
   "skip_h1_title": false,
   "toc_cell": false,
   "toc_position": {},
   "toc_section_display": "block",
   "toc_window_display": false
  }
 },
 "nbformat": 4,
 "nbformat_minor": 2
}
