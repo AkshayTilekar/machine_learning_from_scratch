{
 "cells": [
  {
   "cell_type": "code",
   "execution_count": 1,
   "metadata": {
    "ExecuteTime": {
     "end_time": "2018-03-06T20:10:45.573835Z",
     "start_time": "2018-03-06T20:10:44.914211Z"
    },
    "collapsed": true
   },
   "outputs": [],
   "source": [
    "import numpy as np\n",
    "import random\n",
    "import matplotlib.pyplot as plt\n",
    "import pandas as pd\n",
    "import math\n",
    "import scipy\n",
    "%matplotlib inline\n",
    "plt.style.use('seaborn')"
   ]
  },
  {
   "cell_type": "code",
   "execution_count": 2,
   "metadata": {
    "ExecuteTime": {
     "end_time": "2018-03-06T20:10:46.026142Z",
     "start_time": "2018-03-06T20:10:45.849437Z"
    }
   },
   "outputs": [
    {
     "name": "stdout",
     "output_type": "stream",
     "text": [
      "Python Version: 3.6.2 |Anaconda custom (64-bit)| (default, Sep 21 2017, 18:29:43) \n",
      "[GCC 4.2.1 Compatible Clang 4.0.1 (tags/RELEASE_401/final)] \n",
      "\n",
      "Matplotlib Version: 2.0.2\n",
      "Numpy Version: 1.12.1\n",
      "Pandas Version: 0.20.3\n",
      "Scipy Version: 0.19.1\n",
      "Sklearn Version: 0.19.0\n"
     ]
    }
   ],
   "source": [
    "import sklearn\n",
    "import matplotlib\n",
    "import sys\n",
    "libraries = (('Matplotlib', matplotlib), ('Numpy', np), ('Pandas', pd), ('Scipy', scipy), ('Sklearn', sklearn))\n",
    "\n",
    "print(\"Python Version:\", sys.version, '\\n')\n",
    "for lib in libraries:\n",
    "    print('{0} Version: {1}'.format(lib[0], lib[1].__version__))"
   ]
  },
  {
   "cell_type": "code",
   "execution_count": 21,
   "metadata": {
    "ExecuteTime": {
     "end_time": "2018-03-06T20:22:24.505032Z",
     "start_time": "2018-03-06T20:22:24.379474Z"
    },
    "collapsed": true
   },
   "outputs": [],
   "source": [
    "import numpy as np\n",
    "from copy import copy\n",
    "\n",
    "\n",
    "class standard_scaler:\n",
    "    \n",
    "    def __init__(self, demean=True, dev_scale=True):\n",
    "        \"\"\"\n",
    "        Standard Scaler demeans each column and converts \n",
    "        each column to have a standard deviation of 1.\n",
    "        ---\n",
    "        KWargs:\n",
    "        demean: whether to subtract the mean from each column\n",
    "        dev_scale: whether to convert to unit variance\n",
    "        \"\"\"\n",
    "        self.demean = demean\n",
    "        self.dev_scale = dev_scale\n",
    "        self.data_stats = {}\n",
    "        self.number_of_columns = None\n",
    "        \n",
    "    def fit(self, X):\n",
    "        \"\"\"\n",
    "        Learns about the input data and stores the mean and \n",
    "        standard deviation of each column.\n",
    "        ---\n",
    "        In: X (features); np.array or pandas dataframe/series\n",
    "        \"\"\"\n",
    "        X = self.convert_to_array(X)\n",
    "        self.number_of_columns = X.shape[1]\n",
    "        \n",
    "        for ix in range(self.number_of_columns):\n",
    "            col = X.T[ix]\n",
    "            col_mean = np.mean(col)\n",
    "            col_std = np.std(col)\n",
    "            self.data_stats[ix] = (col_mean, col_std)\n",
    "    \n",
    "    def transform(self,X):\n",
    "        \"\"\"\n",
    "        Given the information learned about the training data,\n",
    "        remove the mean and scale the new data as requested by\n",
    "        the user.\n",
    "        ---\n",
    "        In: X (features); np.array or pandas dataframe/series\n",
    "        \"\"\"\n",
    "        X = self.convert_to_array(X)\n",
    "        new_X = copy(X)\n",
    "        \n",
    "        for ix in range(self.number_of_columns):\n",
    "            if self.demean:\n",
    "                new_X.T[ix] = new_X.T[ix] - self.data_stats[ix][0]\n",
    "            if self.dev_scale:\n",
    "                new_X.T[ix] = new_X.T[ix]/self.data_stats[ix][1]\n",
    "        \n",
    "        return new_X\n",
    "    \n",
    "    def fit_transform(self, X):\n",
    "        \"\"\"\n",
    "        Learn from X and then return the transformed version\n",
    "        of X for the user to use.\n",
    "        ---\n",
    "        In: X (features); np.array or pandas dataframe/series\n",
    "        \"\"\"\n",
    "        self.fit(X)\n",
    "        return self.transform(X)\n",
    "    \n",
    "    def pandas_to_numpy(self, x):\n",
    "        \"\"\"\n",
    "        Checks if the input is a Dataframe or series, converts to numpy matrix for\n",
    "        calculation purposes.\n",
    "        ---\n",
    "        Input: X (array, dataframe, or series)\n",
    "        Output: X (array)\n",
    "        \"\"\"\n",
    "        if type(x) == type(pd.DataFrame()) or type(x) == type(pd.Series()):\n",
    "            return x.as_matrix()\n",
    "        if type(x) == type(np.array([1,2])):\n",
    "            return x\n",
    "        return np.array(x) \n",
    "    \n",
    "    def handle_1d_data(self,x):\n",
    "        \"\"\"\n",
    "        Converts 1 dimensional data into a series of rows with 1 columns\n",
    "        instead of 1 row with many columns.\n",
    "        \"\"\"\n",
    "        if x.ndim == 1:\n",
    "            x = x.reshape(-1,1)\n",
    "        return x\n",
    "    \n",
    "    def convert_to_array(self, x):\n",
    "        \"\"\"\n",
    "        Takes in an input and converts it to a numpy array\n",
    "        and then checks if it needs to be reshaped for us\n",
    "        to use it properly\n",
    "        \"\"\"\n",
    "        x = self.pandas_to_numpy(x)\n",
    "        x = self.handle_1d_data(x)\n",
    "        return x"
   ]
  },
  {
   "cell_type": "code",
   "execution_count": 22,
   "metadata": {
    "ExecuteTime": {
     "end_time": "2018-03-06T20:22:39.958451Z",
     "start_time": "2018-03-06T20:22:39.951525Z"
    },
    "collapsed": true
   },
   "outputs": [],
   "source": [
    "from sklearn.datasets import load_iris\n",
    "\n",
    "data = load_iris().data"
   ]
  },
  {
   "cell_type": "code",
   "execution_count": 23,
   "metadata": {
    "ExecuteTime": {
     "end_time": "2018-03-06T20:22:40.195348Z",
     "start_time": "2018-03-06T20:22:40.190657Z"
    },
    "collapsed": true
   },
   "outputs": [],
   "source": [
    "ss = standard_scaler()"
   ]
  },
  {
   "cell_type": "code",
   "execution_count": 25,
   "metadata": {
    "ExecuteTime": {
     "end_time": "2018-03-06T20:22:44.538976Z",
     "start_time": "2018-03-06T20:22:44.534530Z"
    },
    "collapsed": true
   },
   "outputs": [],
   "source": [
    "ss.fit(data)"
   ]
  },
  {
   "cell_type": "code",
   "execution_count": 26,
   "metadata": {
    "ExecuteTime": {
     "end_time": "2018-03-06T20:22:45.148975Z",
     "start_time": "2018-03-06T20:22:45.141947Z"
    }
   },
   "outputs": [
    {
     "data": {
      "text/plain": [
       "array([-0.90068117, -1.14301691, -1.38535265, -1.50652052, -1.02184904,\n",
       "       -0.53717756, -1.50652052, -1.02184904, -1.74885626, -1.14301691])"
      ]
     },
     "execution_count": 26,
     "metadata": {},
     "output_type": "execute_result"
    }
   ],
   "source": [
    "ss.transform(data)[:10,0]"
   ]
  },
  {
   "cell_type": "code",
   "execution_count": 20,
   "metadata": {
    "ExecuteTime": {
     "end_time": "2018-03-06T20:21:36.992105Z",
     "start_time": "2018-03-06T20:21:36.983397Z"
    }
   },
   "outputs": [
    {
     "data": {
      "text/plain": [
       "array([-0.90068117, -1.14301691, -1.38535265, -1.50652052, -1.02184904,\n",
       "       -0.53717756, -1.50652052, -1.02184904, -1.74885626, -1.14301691])"
      ]
     },
     "execution_count": 20,
     "metadata": {},
     "output_type": "execute_result"
    }
   ],
   "source": [
    "from sklearn.preprocessing import StandardScaler\n",
    "\n",
    "ss_sk = StandardScaler()\n",
    "ss_sk.fit(data)\n",
    "ss_sk.transform(data)[:10,0]"
   ]
  },
  {
   "cell_type": "code",
   "execution_count": null,
   "metadata": {
    "collapsed": true
   },
   "outputs": [],
   "source": []
  }
 ],
 "metadata": {
  "kernelspec": {
   "display_name": "Python [default]",
   "language": "python",
   "name": "python3"
  },
  "language_info": {
   "codemirror_mode": {
    "name": "ipython",
    "version": 3
   },
   "file_extension": ".py",
   "mimetype": "text/x-python",
   "name": "python",
   "nbconvert_exporter": "python",
   "pygments_lexer": "ipython3",
   "version": "3.6.2"
  },
  "toc": {
   "nav_menu": {},
   "number_sections": true,
   "sideBar": true,
   "skip_h1_title": false,
   "toc_cell": false,
   "toc_position": {},
   "toc_section_display": "block",
   "toc_window_display": false
  }
 },
 "nbformat": 4,
 "nbformat_minor": 2
}
