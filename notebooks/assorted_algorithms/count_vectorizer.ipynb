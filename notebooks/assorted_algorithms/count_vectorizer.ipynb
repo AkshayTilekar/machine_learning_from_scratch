{
 "cells": [
  {
   "cell_type": "code",
   "execution_count": 1,
   "metadata": {
    "ExecuteTime": {
     "end_time": "2018-03-10T02:46:12.425278Z",
     "start_time": "2018-03-10T02:46:11.675572Z"
    },
    "collapsed": true
   },
   "outputs": [],
   "source": [
    "import numpy as np\n",
    "import random\n",
    "import matplotlib.pyplot as plt\n",
    "import pandas as pd\n",
    "import math\n",
    "import scipy\n",
    "%matplotlib inline\n",
    "plt.style.use('seaborn')"
   ]
  },
  {
   "cell_type": "code",
   "execution_count": 2,
   "metadata": {
    "ExecuteTime": {
     "end_time": "2018-03-10T02:46:12.661900Z",
     "start_time": "2018-03-10T02:46:12.427634Z"
    }
   },
   "outputs": [
    {
     "name": "stdout",
     "output_type": "stream",
     "text": [
      "Python Version: 3.6.2 |Anaconda custom (64-bit)| (default, Sep 21 2017, 18:29:43) \n",
      "[GCC 4.2.1 Compatible Clang 4.0.1 (tags/RELEASE_401/final)] \n",
      "\n",
      "Matplotlib Version: 2.0.2\n",
      "Numpy Version: 1.12.1\n",
      "Pandas Version: 0.20.3\n",
      "Scipy Version: 0.19.1\n",
      "Sklearn Version: 0.19.0\n"
     ]
    }
   ],
   "source": [
    "import sklearn\n",
    "import matplotlib\n",
    "import sys\n",
    "libraries = (('Matplotlib', matplotlib), ('Numpy', np), ('Pandas', pd), ('Scipy', scipy), ('Sklearn', sklearn))\n",
    "\n",
    "print(\"Python Version:\", sys.version, '\\n')\n",
    "for lib in libraries:\n",
    "    print('{0} Version: {1}'.format(lib[0], lib[1].__version__))"
   ]
  },
  {
   "cell_type": "code",
   "execution_count": 125,
   "metadata": {
    "ExecuteTime": {
     "end_time": "2018-03-11T04:46:09.898938Z",
     "start_time": "2018-03-11T04:46:09.766843Z"
    }
   },
   "outputs": [],
   "source": [
    "import numpy as np\n",
    "from collections import Counter\n",
    "from string import punctuation\n",
    "\n",
    "class count_vectorizer:\n",
    "    \n",
    "    def __init__(self, max_features=None, ngrams = 1):\n",
    "        self.max_features = max_features\n",
    "        self.vocabulary = {}\n",
    "        self.ngrams = ngrams\n",
    "        \n",
    "    def token_generator(self, X):\n",
    "        \"\"\"\n",
    "        \"\"\"\n",
    "        for ix, val in enumerate(X):\n",
    "            ngrams_to_return = [val]\n",
    "            for i in range(1,self.ngrams):\n",
    "                if ix+i < len(X):\n",
    "                    ngrams_to_return.append(' '.join(X[ix:ix+1+i]))\n",
    "            yield ngrams_to_return\n",
    "    \n",
    "    def tokenizer(self, X):\n",
    "        \"\"\"\n",
    "        \"\"\"\n",
    "        for symbol in punctuation:\n",
    "            X = X.replace(symbol,'')\n",
    "        return X.lower().split()\n",
    "    \n",
    "    def fit(self, X):\n",
    "        \"\"\"\n",
    "        \"\"\"\n",
    "        for document in X:\n",
    "            tokens = self.tokenizer(document)\n",
    "            for token_grams in self.token_generator(tokens):\n",
    "                for token in token_grams:\n",
    "                    if token in self.vocabulary.keys():\n",
    "                        self.vocabulary[token] += 1\n",
    "                    else:\n",
    "                        self.vocabulary[token] = 1\n",
    "        \n",
    "        if self.max_features != None:\n",
    "            temp_vocab = {}\n",
    "            for key, value in Counter(self.vocabulary).most_common(self.max_features):\n",
    "                temp_vocab[key] = value\n",
    "            self.vocabulary = temp_vocab\n",
    "            del temp_vocab\n",
    "            \n",
    "        self.token_to_id = {ky: ix for ix, ky in enumerate(sorted(self.vocabulary.keys()))}\n",
    "        self.id_to_token = {ix: ky for ix, ky in enumerate(sorted(self.vocabulary.keys()))}\n",
    "        \n",
    "        \n",
    "    def transform(self, X):\n",
    "        \"\"\"\n",
    "        \"\"\"\n",
    "        vectorized_docs = np.zeros(len(self.vocabulary.keys()))\n",
    "        for document in X:\n",
    "            tokens = self.tokenizer(document)\n",
    "            vectorized_doc = np.zeros(len(self.vocabulary.keys()))\n",
    "            for token_grams in self.token_generator(tokens):\n",
    "                for token in token_grams:\n",
    "                    if token in self.vocabulary:\n",
    "                        word_id = self.token_to_id[token]\n",
    "                        vectorized_doc[word_id] += 1\n",
    "            vectorized_docs = np.vstack((vectorized_docs,vectorized_doc))\n",
    "        return vectorized_docs[1:]\n",
    "    \n",
    "    def fit_transform(self, X):\n",
    "        \"\"\"\n",
    "        \"\"\"\n",
    "        self.fit(X)\n",
    "        return self.transform(X)\n",
    "                        "
   ]
  },
  {
   "cell_type": "code",
   "execution_count": 126,
   "metadata": {
    "ExecuteTime": {
     "end_time": "2018-03-11T04:46:10.153305Z",
     "start_time": "2018-03-11T04:46:10.147272Z"
    }
   },
   "outputs": [
    {
     "data": {
      "text/plain": [
       "20"
      ]
     },
     "execution_count": 126,
     "metadata": {},
     "output_type": "execute_result"
    }
   ],
   "source": [
    "len(cv.vocabulary.keys())"
   ]
  },
  {
   "cell_type": "code",
   "execution_count": 139,
   "metadata": {
    "ExecuteTime": {
     "end_time": "2018-03-11T04:48:37.760769Z",
     "start_time": "2018-03-11T04:48:37.755338Z"
    }
   },
   "outputs": [],
   "source": [
    "cv = count_vectorizer(ngrams=3, max_features=None)\n",
    "data = ['bob went to the store','dana, did not go to the store']\n",
    "cv.fit(data)"
   ]
  },
  {
   "cell_type": "code",
   "execution_count": 140,
   "metadata": {
    "ExecuteTime": {
     "end_time": "2018-03-11T04:48:39.333664Z",
     "start_time": "2018-03-11T04:48:39.327610Z"
    }
   },
   "outputs": [
    {
     "data": {
      "text/plain": [
       "{'bob': 1,\n",
       " 'bob went': 1,\n",
       " 'bob went to': 1,\n",
       " 'dana': 1,\n",
       " 'dana did': 1,\n",
       " 'dana did not': 1,\n",
       " 'did': 1,\n",
       " 'did not': 1,\n",
       " 'did not go': 1,\n",
       " 'go': 1,\n",
       " 'go to': 1,\n",
       " 'go to the': 1,\n",
       " 'not': 1,\n",
       " 'not go': 1,\n",
       " 'not go to': 1,\n",
       " 'store': 2,\n",
       " 'the': 2,\n",
       " 'the store': 2,\n",
       " 'to': 2,\n",
       " 'to the': 2,\n",
       " 'to the store': 2,\n",
       " 'went': 1,\n",
       " 'went to': 1,\n",
       " 'went to the': 1}"
      ]
     },
     "execution_count": 140,
     "metadata": {},
     "output_type": "execute_result"
    }
   ],
   "source": [
    "cv.vocabulary"
   ]
  },
  {
   "cell_type": "code",
   "execution_count": 141,
   "metadata": {
    "ExecuteTime": {
     "end_time": "2018-03-11T04:48:41.780928Z",
     "start_time": "2018-03-11T04:48:41.773972Z"
    }
   },
   "outputs": [
    {
     "data": {
      "text/plain": [
       "array([[ 1.,  1.,  1.,  0.,  0.,  0.,  0.,  0.,  0.,  0.,  0.,  0.,  0.,\n",
       "         0.,  0.,  1.,  1.,  1.,  1.,  1.,  1.,  1.,  1.,  1.],\n",
       "       [ 0.,  0.,  0.,  1.,  1.,  1.,  1.,  1.,  1.,  1.,  1.,  1.,  1.,\n",
       "         1.,  1.,  1.,  1.,  1.,  1.,  1.,  1.,  0.,  0.,  0.]])"
      ]
     },
     "execution_count": 141,
     "metadata": {},
     "output_type": "execute_result"
    }
   ],
   "source": [
    "cv.transform(data)"
   ]
  },
  {
   "cell_type": "code",
   "execution_count": 142,
   "metadata": {
    "ExecuteTime": {
     "end_time": "2018-03-11T04:48:44.400276Z",
     "start_time": "2018-03-11T04:48:44.395238Z"
    }
   },
   "outputs": [
    {
     "data": {
      "text/plain": [
       "{'bob': 1,\n",
       " 'bob went': 1,\n",
       " 'bob went to': 1,\n",
       " 'dana': 1,\n",
       " 'dana did': 1,\n",
       " 'dana did not': 1,\n",
       " 'did': 1,\n",
       " 'did not': 1,\n",
       " 'did not go': 1,\n",
       " 'go': 1,\n",
       " 'go to': 1,\n",
       " 'go to the': 1,\n",
       " 'not': 1,\n",
       " 'not go': 1,\n",
       " 'not go to': 1,\n",
       " 'store': 2,\n",
       " 'the': 2,\n",
       " 'the store': 2,\n",
       " 'to': 2,\n",
       " 'to the': 2,\n",
       " 'to the store': 2,\n",
       " 'went': 1,\n",
       " 'went to': 1,\n",
       " 'went to the': 1}"
      ]
     },
     "execution_count": 142,
     "metadata": {},
     "output_type": "execute_result"
    }
   ],
   "source": [
    "cv.vocabulary"
   ]
  },
  {
   "cell_type": "code",
   "execution_count": 143,
   "metadata": {
    "ExecuteTime": {
     "end_time": "2018-03-11T04:48:51.801276Z",
     "start_time": "2018-03-11T04:48:51.792370Z"
    }
   },
   "outputs": [
    {
     "data": {
      "text/plain": [
       "matrix([[1, 1, 1, 0, 0, 0, 0, 0, 0, 0, 0, 0, 0, 0, 0, 1, 1, 1, 1, 1, 1, 1,\n",
       "         1, 1],\n",
       "        [0, 0, 0, 1, 1, 1, 1, 1, 1, 1, 1, 1, 1, 1, 1, 1, 1, 1, 1, 1, 1, 0,\n",
       "         0, 0]])"
      ]
     },
     "execution_count": 143,
     "metadata": {},
     "output_type": "execute_result"
    }
   ],
   "source": [
    "from sklearn.feature_extraction.text import CountVectorizer\n",
    "\n",
    "cv_sk = CountVectorizer(max_features=None, ngram_range=(1,3))\n",
    "cv_sk.fit(data)\n",
    "cv_sk.transform(data).todense()"
   ]
  },
  {
   "cell_type": "code",
   "execution_count": 144,
   "metadata": {
    "ExecuteTime": {
     "end_time": "2018-03-11T04:49:38.678515Z",
     "start_time": "2018-03-11T04:49:38.671161Z"
    }
   },
   "outputs": [
    {
     "data": {
      "text/plain": [
       "True"
      ]
     },
     "execution_count": 144,
     "metadata": {},
     "output_type": "execute_result"
    }
   ],
   "source": [
    "np.allclose(cv_sk.transform(data).todense(), cv.transform(data))"
   ]
  },
  {
   "cell_type": "code",
   "execution_count": null,
   "metadata": {
    "collapsed": true
   },
   "outputs": [],
   "source": []
  }
 ],
 "metadata": {
  "kernelspec": {
   "display_name": "Python [default]",
   "language": "python",
   "name": "python3"
  },
  "language_info": {
   "codemirror_mode": {
    "name": "ipython",
    "version": 3
   },
   "file_extension": ".py",
   "mimetype": "text/x-python",
   "name": "python",
   "nbconvert_exporter": "python",
   "pygments_lexer": "ipython3",
   "version": "3.6.2"
  },
  "toc": {
   "nav_menu": {},
   "number_sections": true,
   "sideBar": true,
   "skip_h1_title": false,
   "toc_cell": false,
   "toc_position": {},
   "toc_section_display": "block",
   "toc_window_display": false
  }
 },
 "nbformat": 4,
 "nbformat_minor": 2
}
