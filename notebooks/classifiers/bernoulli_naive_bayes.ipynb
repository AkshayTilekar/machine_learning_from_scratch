{
 "cells": [
  {
   "cell_type": "markdown",
   "metadata": {},
   "source": [
    "# Bernoulli Naive Bayes"
   ]
  },
  {
   "cell_type": "code",
   "execution_count": 1,
   "metadata": {
    "ExecuteTime": {
     "end_time": "2018-03-02T20:00:12.532980Z",
     "start_time": "2018-03-02T20:00:11.636756Z"
    },
    "collapsed": true
   },
   "outputs": [],
   "source": [
    "import numpy as np\n",
    "import random\n",
    "import matplotlib.pyplot as plt\n",
    "import pandas as pd\n",
    "import math\n",
    "import scipy\n",
    "%matplotlib inline\n",
    "plt.style.use('seaborn')"
   ]
  },
  {
   "cell_type": "code",
   "execution_count": 2,
   "metadata": {
    "ExecuteTime": {
     "end_time": "2018-03-02T20:00:12.668390Z",
     "start_time": "2018-03-02T20:00:12.535577Z"
    }
   },
   "outputs": [
    {
     "name": "stdout",
     "output_type": "stream",
     "text": [
      "Python Version: 3.6.2 |Anaconda custom (64-bit)| (default, Sep 21 2017, 18:29:43) \n",
      "[GCC 4.2.1 Compatible Clang 4.0.1 (tags/RELEASE_401/final)] \n",
      "\n",
      "Matplotlib Version: 2.0.2\n",
      "Numpy Version: 1.12.1\n",
      "Pandas Version: 0.20.3\n"
     ]
    }
   ],
   "source": [
    "import numpy as np\n",
    "import sklearn\n",
    "import matplotlib\n",
    "import pandas as pd\n",
    "import sys\n",
    "libraries = (('Matplotlib', matplotlib), ('Numpy', np), ('Pandas', pd))\n",
    "\n",
    "print(\"Python Version:\", sys.version, '\\n')\n",
    "for lib in libraries:\n",
    "    print('{0} Version: {1}'.format(lib[0], lib[1].__version__))"
   ]
  },
  {
   "cell_type": "code",
   "execution_count": 69,
   "metadata": {
    "ExecuteTime": {
     "end_time": "2018-03-02T20:21:20.967609Z",
     "start_time": "2018-03-02T20:21:20.569733Z"
    },
    "collapsed": true
   },
   "outputs": [],
   "source": [
    "import pandas as pd\n",
    "import numpy as np\n",
    "from collections import defaultdict\n",
    "\n",
    "class bernoulli_naive_bayes:\n",
    "    \n",
    "    def __init__(self, smoothing = 1.):\n",
    "        \"\"\"\n",
    "        Bernoulli Naive Bayes builds it's understanding of the data by\n",
    "        applying Bayes rule and calculating the conditional probability of\n",
    "        being a class based on a probabilistic understanding of how the \n",
    "        class has behaved before. We only care if a feature is zero or non-zero\n",
    "        in this style of naive bayes and will calculate our conditional probabilities\n",
    "        accordingly. \n",
    "        ---\n",
    "        Inputs:\n",
    "        smoothing: the Laplace smoothing factor overcome the problem of multiplying\n",
    "        a 0 probability, that causes the total probability to be 0.\n",
    "        \"\"\"\n",
    "        self._prob_by_class = defaultdict(float)\n",
    "        self._cond_probs = defaultdict(lambda: defaultdict(float))\n",
    "        self._log_prob_by_class = defaultdict(float)\n",
    "        self._log_cond_probs = defaultdict(lambda: defaultdict(float))\n",
    "        self._data_cols = None\n",
    "        self._smoothing = smoothing\n",
    "    \n",
    "    def fit(self, X, y):\n",
    "        \"\"\"\n",
    "        For each class, we find out what percentage of the data is that class.\n",
    "        We then filter the data so only the rows that are that class remain,\n",
    "        and then go column by column - calculating what percentage of rows are\n",
    "        non-zero, given the class. We store all of these values to be used later \n",
    "        for predictions. We also store the log of these values for later prediction.\n",
    "        ---\n",
    "        Input: X, data (array/DataFrame)\n",
    "        y, targets (array/Series)\n",
    "        \"\"\"\n",
    "        X = self.convert_to_array(X)\n",
    "        y = self.pandas_to_numpy(y)\n",
    "        self._data_cols = X.shape[1]\n",
    "       \n",
    "        self._classes = np.unique(y)\n",
    "        \n",
    "        for cl in self._classes:\n",
    "            filtered_targets = y[y == cl]\n",
    "            filtered_data = X[y == cl]\n",
    "            self._prob_by_class[cl] = len(filtered_targets)/len(y)\n",
    "            self._log_prob_by_class[cl] = np.log(self._prob_by_class[cl])\n",
    "            denom = len(filtered_targets)\n",
    "            for col in range(self._data_cols):\n",
    "                binarized_column = filtered_data.T[col] > 0 \n",
    "                num_ones = np.sum(binarized_column)\n",
    "                #smoothing applied here so we never get a zero probability\n",
    "                self._cond_probs[cl][col] = (num_ones+self._smoothing)/(denom+self._smoothing) \n",
    "                self._log_cond_probs[cl][col] = np.log(self._cond_probs[cl][col])\n",
    "                \n",
    "    def predict(self, X):\n",
    "        \"\"\"\n",
    "        Wrapper to return only the class of the prediction\n",
    "        ---\n",
    "        Input: X, data (array/dataframe)\n",
    "        \"\"\"\n",
    "        return self._predict(X, mode=\"predict\")\n",
    "    \n",
    "    def predict_proba(self, X):\n",
    "        \"\"\"\n",
    "        Wrapper to return probability of each class of the prediction\n",
    "        ---\n",
    "        Input: X, data (array/dataframe)\n",
    "        \"\"\"\n",
    "        return self._predict(X, mode=\"predict_proba\")\n",
    "    \n",
    "    def predict_log_proba(self, X):\n",
    "        \"\"\"\n",
    "        Wrapper to return log of the probability of each class of \n",
    "        the prediction.\n",
    "        ---\n",
    "        Input: X, data (array/dataframe)\n",
    "        \"\"\"\n",
    "        return self._predict(X, mode=\"predict_log_proba\")\n",
    "    \n",
    "    def _predict(self, X, mode=\"predict\"):\n",
    "        \"\"\"\n",
    "        For each data point, we go through and calculate the probability\n",
    "        of it being each class. We do so by using the probability of\n",
    "        seeing each value per feature, then combining them together with \n",
    "        the class probability. We work in the log space to fight against\n",
    "        combining too many really small or large values and under/over \n",
    "        flowing Python's memory capabilities for a float. Depending on the mode\n",
    "        we return either the prediction, the probabilities for each class,\n",
    "        or the log of the probabilities for each class.\n",
    "        ---\n",
    "        Inputs: X, data (array/DataFrame)\n",
    "        mode: type of prediction to return, defaults to single prediction mode\n",
    "        \"\"\"\n",
    "        X = self.convert_to_array(X)\n",
    "        X = (X > 0).astype(int) # convert to 1 or 0\n",
    "        results = []\n",
    "        for row in X:\n",
    "            beliefs = []\n",
    "            for cl in self._classes:\n",
    "                prob_for_class = self._log_prob_by_class[cl]\n",
    "                for col in range(self._data_cols):\n",
    "                    p = self._log_cond_probs[cl][col]\n",
    "                    # The row or (1-row) chooses either the 0 or 1 probability\n",
    "                    # based on whether our row is a 0 or 1.\n",
    "                    prob_for_class += p*row[col] + (1-p)*(1-row[col])\n",
    "                beliefs.append([cl, prob_for_class])\n",
    "            \n",
    "            if mode == \"predict_log_proba\":\n",
    "                _, log_probs = zip(*beliefs)\n",
    "                results.append(log_probs)\n",
    "            \n",
    "            elif mode == \"predict_proba\":\n",
    "                _, probs = zip(*beliefs)\n",
    "                unlog_probs = np.exp(probs)\n",
    "                normed_probs = unlog_probs/np.sum(unlog_probs)\n",
    "                results.append(normed_probs)\n",
    "            \n",
    "            else:\n",
    "                sort_beliefs = sorted(beliefs, key=lambda x: x[1], reverse=True)\n",
    "                results.append(sort_beliefs[0][0])\n",
    "        \n",
    "        return np.array(results).reshape(-1,1)\n",
    "    \n",
    "    def score(self, X, y):\n",
    "        \"\"\"\n",
    "        Uses the predict method to measure the accuracy of the model.\n",
    "        ---\n",
    "        In: X (list or array), feature matrix; y (list or array) labels\n",
    "        Out: accuracy (float)\n",
    "        \"\"\"\n",
    "        pred = self.predict(X)\n",
    "        correct = 0\n",
    "        for i,j in zip(y,pred):\n",
    "            if i == j:\n",
    "                correct+=1\n",
    "        return float(correct)/float(len(y))\n",
    "      \n",
    "    def pandas_to_numpy(self, x):\n",
    "        \"\"\"\n",
    "        Checks if the input is a Dataframe or series, converts to numpy matrix for\n",
    "        calculation purposes.\n",
    "        ---\n",
    "        Input: X (array, dataframe, or series)\n",
    "        Output: X (array)\n",
    "        \"\"\"\n",
    "        if type(x) == type(pd.DataFrame()) or type(x) == type(pd.Series()):\n",
    "            return x.as_matrix()\n",
    "        if type(x) == type(np.array([1,2])):\n",
    "            return x\n",
    "        return np.array(x) \n",
    "    \n",
    "    def handle_1d_data(self,x):\n",
    "        \"\"\"\n",
    "        Converts 1 dimensional data into a series of rows with 1 columns\n",
    "        instead of 1 row with many columns.\n",
    "        \"\"\"\n",
    "        if x.ndim == 1:\n",
    "            x = x.reshape(-1,1)\n",
    "        return x\n",
    "    \n",
    "    def convert_to_array(self, x):\n",
    "        \"\"\"\n",
    "        Takes in an input and converts it to a numpy array\n",
    "        and then checks if it needs to be reshaped for us\n",
    "        to use it properly\n",
    "        \"\"\"\n",
    "        x = self.pandas_to_numpy(x)\n",
    "        x = self.handle_1d_data(x)\n",
    "        return x"
   ]
  },
  {
   "cell_type": "markdown",
   "metadata": {},
   "source": [
    "### Let's test it!\n",
    "\n",
    "Let's generate some data to test with. We'll use the example of senators voting on 4 different issues (only 3 of which are relevant) and then trying to predict which party the senator is from."
   ]
  },
  {
   "cell_type": "code",
   "execution_count": 70,
   "metadata": {
    "ExecuteTime": {
     "end_time": "2018-03-02T20:21:21.709552Z",
     "start_time": "2018-03-02T20:21:21.685834Z"
    },
    "collapsed": true
   },
   "outputs": [],
   "source": [
    "def get_data():\n",
    "    votes = [0,1]\n",
    "    senators = np.random.choice(votes, replace=True, size=(100,4))\n",
    "    df = pd.DataFrame(senators, columns=['vote1','vote2','vote3','vote4'])\n",
    "    \n",
    "    def calculate_party(row):\n",
    "        x = row['vote1']\n",
    "        y = row['vote2']\n",
    "        z = row['vote3']\n",
    "\n",
    "        party = 0.7*x + 0.5*y - z + np.random.normal(0,0.3)\n",
    "        if party > 0.1:\n",
    "            return 'Dem'\n",
    "        elif party > 0.01:\n",
    "            return 'Ind'\n",
    "        else:\n",
    "            return 'Rep'\n",
    "    \n",
    "    df['party'] = df.apply(calculate_party,axis=1)\n",
    "    print(df.party.value_counts())\n",
    "    return df.iloc[:,:-1],df.iloc[:,-1]\n",
    "    "
   ]
  },
  {
   "cell_type": "code",
   "execution_count": 71,
   "metadata": {
    "ExecuteTime": {
     "end_time": "2018-03-02T20:21:22.156746Z",
     "start_time": "2018-03-02T20:21:22.140940Z"
    }
   },
   "outputs": [
    {
     "name": "stdout",
     "output_type": "stream",
     "text": [
      "Dem    50\n",
      "Rep    43\n",
      "Ind     7\n",
      "Name: party, dtype: int64\n"
     ]
    }
   ],
   "source": [
    "X, y = get_data()"
   ]
  },
  {
   "cell_type": "code",
   "execution_count": 72,
   "metadata": {
    "ExecuteTime": {
     "end_time": "2018-03-02T20:21:22.746788Z",
     "start_time": "2018-03-02T20:21:22.740728Z"
    }
   },
   "outputs": [],
   "source": [
    "nb = bernoulli_naive_bayes()\n",
    "nb.fit(X.iloc[:90],y.iloc[:90])"
   ]
  },
  {
   "cell_type": "markdown",
   "metadata": {},
   "source": [
    "Let's look at the probability of voting YES on each issue by what party the senators in our training data were."
   ]
  },
  {
   "cell_type": "code",
   "execution_count": 73,
   "metadata": {
    "ExecuteTime": {
     "end_time": "2018-03-02T20:21:25.243707Z",
     "start_time": "2018-03-02T20:21:25.234290Z"
    }
   },
   "outputs": [
    {
     "data": {
      "text/plain": [
       "defaultdict(<function __main__.bernoulli_naive_bayes.__init__.<locals>.<lambda>>,\n",
       "            {'Dem': defaultdict(float,\n",
       "                         {0: 0.72340425531914898,\n",
       "                          1: 0.68085106382978722,\n",
       "                          2: 0.25531914893617019,\n",
       "                          3: 0.55319148936170215}),\n",
       "             'Ind': defaultdict(float,\n",
       "                         {0: 0.5714285714285714,\n",
       "                          1: 0.7142857142857143,\n",
       "                          2: 0.7142857142857143,\n",
       "                          3: 0.42857142857142855}),\n",
       "             'Rep': defaultdict(float,\n",
       "                         {0: 0.35897435897435898,\n",
       "                          1: 0.30769230769230771,\n",
       "                          2: 0.82051282051282048,\n",
       "                          3: 0.5641025641025641})})"
      ]
     },
     "execution_count": 73,
     "metadata": {},
     "output_type": "execute_result"
    }
   ],
   "source": [
    "nb._cond_probs"
   ]
  },
  {
   "cell_type": "markdown",
   "metadata": {},
   "source": [
    "Now we can predict!"
   ]
  },
  {
   "cell_type": "code",
   "execution_count": 74,
   "metadata": {
    "ExecuteTime": {
     "end_time": "2018-03-02T20:21:26.540927Z",
     "start_time": "2018-03-02T20:21:26.532546Z"
    }
   },
   "outputs": [
    {
     "data": {
      "text/plain": [
       "array([['Dem'],\n",
       "       ['Rep']], \n",
       "      dtype='<U3')"
      ]
     },
     "execution_count": 74,
     "metadata": {},
     "output_type": "execute_result"
    }
   ],
   "source": [
    "nb.predict(X.iloc[0:2])"
   ]
  },
  {
   "cell_type": "code",
   "execution_count": 75,
   "metadata": {
    "ExecuteTime": {
     "end_time": "2018-03-02T20:21:27.503862Z",
     "start_time": "2018-03-02T20:21:27.494737Z"
    }
   },
   "outputs": [
    {
     "data": {
      "text/plain": [
       "array([[ 0.77718662],\n",
       "       [ 0.03728351],\n",
       "       [ 0.18552987],\n",
       "       [ 0.45198999],\n",
       "       [ 0.01970065],\n",
       "       [ 0.52830935]])"
      ]
     },
     "execution_count": 75,
     "metadata": {},
     "output_type": "execute_result"
    }
   ],
   "source": [
    "nb.predict_proba(X.iloc[0:2])"
   ]
  },
  {
   "cell_type": "code",
   "execution_count": 76,
   "metadata": {
    "ExecuteTime": {
     "end_time": "2018-03-02T20:21:28.815179Z",
     "start_time": "2018-03-02T20:21:28.804996Z"
    }
   },
   "outputs": [
    {
     "data": {
      "text/plain": [
       "array([[ 2.04139699],\n",
       "       [-0.99573227],\n",
       "       [ 0.60893236],\n",
       "       [ 3.81022039],\n",
       "       [ 0.6772122 ],\n",
       "       [ 3.96624235]])"
      ]
     },
     "execution_count": 76,
     "metadata": {},
     "output_type": "execute_result"
    }
   ],
   "source": [
    "nb.predict_log_proba(X.iloc[0:2])"
   ]
  },
  {
   "cell_type": "markdown",
   "metadata": {},
   "source": [
    "We have an accuracy of 80%, which is the same as SkLearn's accuracy!"
   ]
  },
  {
   "cell_type": "code",
   "execution_count": 77,
   "metadata": {
    "ExecuteTime": {
     "end_time": "2018-03-02T20:21:30.550169Z",
     "start_time": "2018-03-02T20:21:30.542727Z"
    }
   },
   "outputs": [
    {
     "data": {
      "text/plain": [
       "0.8"
      ]
     },
     "execution_count": 77,
     "metadata": {},
     "output_type": "execute_result"
    }
   ],
   "source": [
    "nb.score(X.iloc[90:],y.iloc[90:])"
   ]
  },
  {
   "cell_type": "code",
   "execution_count": 78,
   "metadata": {
    "ExecuteTime": {
     "end_time": "2018-03-02T20:21:31.963598Z",
     "start_time": "2018-03-02T20:21:31.951071Z"
    }
   },
   "outputs": [
    {
     "data": {
      "text/plain": [
       "0.80000000000000004"
      ]
     },
     "execution_count": 78,
     "metadata": {},
     "output_type": "execute_result"
    }
   ],
   "source": [
    "from sklearn.naive_bayes import BernoulliNB\n",
    "\n",
    "nb_sk = BernoulliNB()\n",
    "nb_sk.fit(X.iloc[:90],y.iloc[:90])\n",
    "nb_sk.score(X.iloc[90:],y.iloc[90:])"
   ]
  },
  {
   "cell_type": "markdown",
   "metadata": {},
   "source": [
    "Let's visualize the vote probability by party - by looking at this we can see which YES votes tend to indicate Democrat, Independent, or Republican. Our model is just learning that - in this data sample at least - that Democrats are much more likely to vote yes on the first issue than Republicans. The same is true for Independents, but since they are such a small part of our sample, we aren't likely to guess Independent unless we're VERY sure."
   ]
  },
  {
   "cell_type": "code",
   "execution_count": 79,
   "metadata": {
    "ExecuteTime": {
     "end_time": "2018-03-02T20:21:40.846824Z",
     "start_time": "2018-03-02T20:21:40.837723Z"
    },
    "collapsed": true
   },
   "outputs": [],
   "source": [
    "probs = np.zeros((3,4))\n",
    "for cl, d in nb._cond_probs.items():\n",
    "    for val in d.items():\n",
    "        if cl == 'Dem':\n",
    "            i=0\n",
    "        if cl == 'Ind':\n",
    "            i=1\n",
    "        if cl == 'Rep':\n",
    "            i=2\n",
    "        probs[i][val[0]] = val[1]"
   ]
  },
  {
   "cell_type": "code",
   "execution_count": 80,
   "metadata": {
    "ExecuteTime": {
     "end_time": "2018-03-02T20:21:42.279840Z",
     "start_time": "2018-03-02T20:21:42.012585Z"
    }
   },
   "outputs": [
    {
     "data": {
      "image/png": "[encoded data removed]",
      "text/plain": [
       "<matplotlib.figure.Figure at 0x15169189b0>"
      ]
     },
     "metadata": {},
     "output_type": "display_data"
    }
   ],
   "source": [
    "plt.style.use('seaborn')\n",
    "fig_plot = plt.imshow(probs, cmap='Blues', interpolation='nearest')\n",
    "plt.grid(False)\n",
    "plt.xticks()\n",
    "ax = plt.gca()\n",
    "ax.set_xticks([0,1,2,3])\n",
    "ax.set_xticklabels(['vote 1','vote 2','vote 3','vote 4'], fontsize=14)\n",
    "ax.set_yticks([0,1,2])\n",
    "ax.set_yticklabels(['Dem','Ind','Rep'], fontsize=14);\n",
    "fig = plt.gcf()\n",
    "cbar = fig.colorbar(fig_plot, ticks=[0, 0.5, 1]);\n",
    "plt.title(\"Probability of Vote by Party (Training Data)\", fontsize=16);"
   ]
  },
  {
   "cell_type": "code",
   "execution_count": null,
   "metadata": {
    "collapsed": true
   },
   "outputs": [],
   "source": []
  }
 ],
 "metadata": {
  "kernelspec": {
   "display_name": "Python [default]",
   "language": "python",
   "name": "python3"
  },
  "language_info": {
   "codemirror_mode": {
    "name": "ipython",
    "version": 3
   },
   "file_extension": ".py",
   "mimetype": "text/x-python",
   "name": "python",
   "nbconvert_exporter": "python",
   "pygments_lexer": "ipython3",
   "version": "3.6.2"
  },
  "toc": {
   "nav_menu": {},
   "number_sections": true,
   "sideBar": true,
   "skip_h1_title": false,
   "toc_cell": false,
   "toc_position": {},
   "toc_section_display": "block",
   "toc_window_display": false
  }
 },
 "nbformat": 4,
 "nbformat_minor": 2
}
