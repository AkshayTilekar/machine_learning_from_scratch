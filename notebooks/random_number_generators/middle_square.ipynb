{
 "cells": [
  {
   "cell_type": "markdown",
   "metadata": {},
   "source": [
    "# Random Number Generation: Middle Square"
   ]
  },
  {
   "cell_type": "code",
   "execution_count": 1,
   "metadata": {
    "ExecuteTime": {
     "end_time": "2017-12-06T14:55:50.809428Z",
     "start_time": "2017-12-06T14:55:50.259517Z"
    },
    "collapsed": true
   },
   "outputs": [],
   "source": [
    "import numpy as np\n",
    "import random\n",
    "import matplotlib.pyplot as plt\n",
    "import pandas as pd\n",
    "import math\n",
    "import scipy\n",
    "%matplotlib inline\n",
    "plt.style.use('seaborn')"
   ]
  },
  {
   "cell_type": "code",
   "execution_count": 2,
   "metadata": {
    "ExecuteTime": {
     "end_time": "2017-12-06T14:55:58.861882Z",
     "start_time": "2017-12-06T14:55:58.608133Z"
    }
   },
   "outputs": [
    {
     "name": "stdout",
     "output_type": "stream",
     "text": [
      "Python Version: 3.6.2 |Anaconda custom (64-bit)| (default, Sep 21 2017, 18:29:43) \n",
      "[GCC 4.2.1 Compatible Clang 4.0.1 (tags/RELEASE_401/final)] \n",
      "\n",
      "Matplotlib Version: 2.0.2\n",
      "Numpy Version: 1.12.1\n",
      "Pandas Version: 0.20.3\n"
     ]
    }
   ],
   "source": [
    "import numpy as np\n",
    "import sklearn\n",
    "import matplotlib\n",
    "import pandas as pd\n",
    "import sys\n",
    "libraries = (('Matplotlib', matplotlib), ('Numpy', np), ('Pandas', pd))\n",
    "\n",
    "print(\"Python Version:\", sys.version, '\\n')\n",
    "for lib in libraries:\n",
    "    print('{0} Version: {1}'.format(lib[0], lib[1].__version__))"
   ]
  },
  {
   "cell_type": "code",
   "execution_count": 12,
   "metadata": {
    "ExecuteTime": {
     "end_time": "2018-03-06T15:35:55.041178Z",
     "start_time": "2018-03-06T15:35:54.949141Z"
    },
    "collapsed": true
   },
   "outputs": [],
   "source": [
    "class middle_square:\n",
    "    \n",
    "    def __init__(self):\n",
    "        \"\"\"\n",
    "        Generates random numbers using a middle square method. \n",
    "        Squares the seed, pads the left side of the number with \n",
    "        zeroes, then takes the middle values as the next random\n",
    "        number in the sequence. Note: do not use in production,\n",
    "        very easy to crack.\n",
    "        \"\"\"\n",
    "        pass\n",
    "    \n",
    "    def middle_square_list(self, seed, count, width=4, seeds=[]):\n",
    "        \"\"\"\n",
    "        Creates a list of length \"count\" of random numbers\n",
    "        given a seed, by squaring the seed and taking the middle\n",
    "        digits. If the seed becomes 0000, stops early.\n",
    "        Works recursively by creating one value at a time and \n",
    "        sending that value to the next call as the new seed.\n",
    "        ---\n",
    "        KWargs:\n",
    "        seed: starting value for the RNG\n",
    "        count: how many numbers to generate\n",
    "        width: how many digits is the generated number\n",
    "        seeds: stores the results so far, can be used to force\n",
    "        a certain number to be in the result.\n",
    "        \"\"\"\n",
    "        if not seeds:\n",
    "            assert len(str(seed)) == width, \"Seed must have a length equal to request width!\"\n",
    "        x = str(seed**2)\n",
    "        while len(x)<width:\n",
    "            x = '0'+ x\n",
    "        \n",
    "        spread = width//2\n",
    "        new_seed = x[width-spread:width+spread]\n",
    "        seeds.append(new_seed)\n",
    "        if new_seed == ''.join(['0' for _ in range(width)]):\n",
    "            return 'Done'\n",
    "\n",
    "        count -= 1\n",
    "        if count == 0:\n",
    "            return seeds\n",
    "\n",
    "        return self.middle_square_list(int(new_seed), count, width=width, seeds=seeds)\n",
    "    \n",
    "    def middle_square_gen(self, seed, width=4):\n",
    "        \"\"\"\n",
    "        Generates random numbers given a seed, by squaring the seed \n",
    "        and taking the middle digits. Each number\n",
    "        will have number of digits equal to width. This is a\n",
    "        generator, so it must be handled as such.\n",
    "        ---\n",
    "        KWargs:\n",
    "        seed: starting value for the RNG\n",
    "        width: how many digits is the generated number\n",
    "        \"\"\"\n",
    "        assert len(str(seed)) == width, \"Seed must have a length equal to request width!\"\n",
    "        new_seed = seed\n",
    "        while True:\n",
    "            x = str(int(new_seed)**2)\n",
    "            while len(x)<2*width:\n",
    "                x = '0'+ x\n",
    "            spread = width//2\n",
    "            new_seed = x[width-spread:width+spread]\n",
    "\n",
    "            if int(new_seed) == 0:\n",
    "                new_seed = seed\n",
    "\n",
    "            yield int(new_seed)"
   ]
  },
  {
   "cell_type": "code",
   "execution_count": 13,
   "metadata": {
    "ExecuteTime": {
     "end_time": "2018-03-06T15:35:55.559004Z",
     "start_time": "2018-03-06T15:35:55.550440Z"
    }
   },
   "outputs": [
    {
     "data": {
      "text/plain": [
       "['9762108332',\n",
       " '7590857038',\n",
       " '1105713541',\n",
       " '0243475075',\n",
       " '1121462556',\n",
       " '7826451005',\n",
       " '3353336655',\n",
       " '8667217665',\n",
       " '6620524880',\n",
       " '3496866990']"
      ]
     },
     "execution_count": 13,
     "metadata": {},
     "output_type": "execute_result"
    }
   ],
   "source": [
    "ms = middle_square()\n",
    "ms.middle_square_list(9765345678, 10, width=10)"
   ]
  },
  {
   "cell_type": "code",
   "execution_count": 46,
   "metadata": {
    "ExecuteTime": {
     "end_time": "2017-12-06T15:09:03.549174Z",
     "start_time": "2017-12-06T15:09:03.520876Z"
    }
   },
   "outputs": [
    {
     "name": "stdout",
     "output_type": "stream",
     "text": [
      "460423\n",
      "989338\n",
      "789678\n",
      "591343\n",
      "686543\n",
      "341290\n",
      "478864\n",
      "310730\n",
      "553132\n",
      "955009\n",
      "42190\n",
      "779996\n",
      "393760\n",
      "46937\n",
      "203081\n",
      "241892\n",
      "511739\n",
      "876804\n",
      "785254\n",
      "623844\n",
      "181336\n",
      "882744\n",
      "236969\n",
      "154306\n",
      "810341\n",
      "652536\n",
      "803231\n",
      "180039\n",
      "414041\n",
      "429949\n",
      "856142\n",
      "979124\n",
      "683807\n",
      "592013\n",
      "479392\n",
      "816689\n",
      "980922\n",
      "207970\n",
      "251520\n",
      "262310\n",
      "806536\n",
      "500319\n",
      "319101\n",
      "825448\n",
      "364400\n",
      "787360\n",
      "935769\n",
      "663621\n",
      "392831\n",
      "316194\n",
      "978645\n",
      "746036\n",
      "569713\n",
      "572902\n",
      "216701\n",
      "959323\n",
      "300618\n",
      "371181\n",
      "775334\n",
      "142811\n",
      "394981\n",
      "9990\n",
      "99800\n",
      "960040\n",
      "676801\n",
      "59593\n",
      "551325\n",
      "959255\n",
      "170155\n",
      "952724\n",
      "683020\n",
      "516320\n",
      "586342\n",
      "796940\n",
      "113363\n",
      "851169\n",
      "488666\n",
      "794459\n",
      "165102\n",
      "258670\n",
      "910168\n",
      "405788\n",
      "663900\n",
      "763210\n",
      "489504\n",
      "614166\n",
      "199875\n",
      "950015\n",
      "528500\n",
      "312250\n",
      "500062\n",
      "62003\n",
      "844372\n",
      "964074\n",
      "438677\n",
      "437510\n",
      "415000\n",
      "225000\n",
      "625000\n",
      "625000\n"
     ]
    }
   ],
   "source": [
    "x = ms.middle_square_gen(987654, width=6)\n",
    "for _ in range(100):\n",
    "    print(next(x))"
   ]
  },
  {
   "cell_type": "code",
   "execution_count": null,
   "metadata": {
    "collapsed": true
   },
   "outputs": [],
   "source": []
  }
 ],
 "metadata": {
  "kernelspec": {
   "display_name": "Python [default]",
   "language": "python",
   "name": "python3"
  },
  "language_info": {
   "codemirror_mode": {
    "name": "ipython",
    "version": 3
   },
   "file_extension": ".py",
   "mimetype": "text/x-python",
   "name": "python",
   "nbconvert_exporter": "python",
   "pygments_lexer": "ipython3",
   "version": "3.6.2"
  },
  "toc": {
   "nav_menu": {},
   "number_sections": true,
   "sideBar": true,
   "skip_h1_title": false,
   "toc_cell": false,
   "toc_position": {},
   "toc_section_display": "block",
   "toc_window_display": false
  }
 },
 "nbformat": 4,
 "nbformat_minor": 2
}
