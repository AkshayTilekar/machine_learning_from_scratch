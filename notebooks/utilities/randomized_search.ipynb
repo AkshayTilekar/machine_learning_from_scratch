{
 "cells": [
  {
   "cell_type": "markdown",
   "metadata": {},
   "source": [
    "# Randomized Search and Randomized Search CV"
   ]
  },
  {
   "cell_type": "code",
   "execution_count": 2,
   "metadata": {
    "ExecuteTime": {
     "end_time": "2018-03-02T19:35:47.605221Z",
     "start_time": "2018-03-02T19:35:47.403660Z"
    },
    "collapsed": true
   },
   "outputs": [],
   "source": [
    "import numpy as np\n",
    "import random\n",
    "import matplotlib.pyplot as plt\n",
    "import pandas as pd\n",
    "import math\n",
    "import scipy\n",
    "%matplotlib inline\n",
    "plt.style.use('seaborn')"
   ]
  },
  {
   "cell_type": "code",
   "execution_count": 3,
   "metadata": {
    "ExecuteTime": {
     "end_time": "2018-03-02T19:35:47.764597Z",
     "start_time": "2018-03-02T19:35:47.608213Z"
    }
   },
   "outputs": [
    {
     "name": "stdout",
     "output_type": "stream",
     "text": [
      "Python Version: 3.6.2 |Anaconda custom (64-bit)| (default, Sep 21 2017, 18:29:43) \n",
      "[GCC 4.2.1 Compatible Clang 4.0.1 (tags/RELEASE_401/final)] \n",
      "\n",
      "Matplotlib Version: 2.0.2\n",
      "Numpy Version: 1.12.1\n",
      "Pandas Version: 0.20.3\n"
     ]
    }
   ],
   "source": [
    "import numpy as np\n",
    "import sklearn\n",
    "import matplotlib\n",
    "import pandas as pd\n",
    "import sys\n",
    "libraries = (('Matplotlib', matplotlib), ('Numpy', np), ('Pandas', pd))\n",
    "\n",
    "print(\"Python Version:\", sys.version, '\\n')\n",
    "for lib in libraries:\n",
    "    print('{0} Version: {1}'.format(lib[0], lib[1].__version__))"
   ]
  },
  {
   "cell_type": "code",
   "execution_count": 4,
   "metadata": {
    "ExecuteTime": {
     "end_time": "2018-03-02T19:35:48.156712Z",
     "start_time": "2018-03-02T19:35:47.995197Z"
    },
    "collapsed": true
   },
   "outputs": [],
   "source": [
    "from itertools import product\n",
    "\n",
    "class randomized_search():\n",
    "    \n",
    "    def __init__(self, model_name, param_grid, n_iters=10):\n",
    "        \"\"\"\n",
    "        Given a base model and a parameter grid of params\n",
    "        for that model, goes through n_iters iterations and \n",
    "        builds a model with a sample from the provided params,\n",
    "        and returns the score of the model.\n",
    "        ---\n",
    "        Inputs:\n",
    "        model_name : the name of the model with parenthesis \n",
    "        and as a string. Any parameters you wish to set for all\n",
    "        models can be set in the parameter name.\n",
    "        param_grid: dictionary with parameter names as keys,\n",
    "        and the appropriate values for parameter. \n",
    "            Param Options:\n",
    "            ('gaus', mean, std dev) # normal with mean and std dev\n",
    "            ('uni', low, high) # uniform between low and high\n",
    "            ('randint', low, high) # int between low and high\n",
    "            ('binom', p) # binomial sample with prob p\n",
    "            ('choose', list) #picks one of the list\n",
    "        n_iters: how many models to build with randomized params\n",
    "        \"\"\"\n",
    "        self._base_model = str(model_name).replace(')','')\n",
    "        self._param_grid = param_grid\n",
    "        self.n_iters = int(n_iters)\n",
    "        self.models = self.get_models()  \n",
    "        \n",
    "    def get_models(self):\n",
    "        \"\"\"\n",
    "        For every iteration of the model, goes parameter\n",
    "        by parameter and samples the distribution provided\n",
    "        for the parameter. Creates a string that is the model\n",
    "        name with the parameters as part of the string.\n",
    "        \"\"\"\n",
    "        command_list = []\n",
    "        for _ in range(self.n_iters):\n",
    "            cmd = self._base_model\n",
    "            if cmd[-1] != '(':\n",
    "                cmd+=', '\n",
    "            for key, value in self._param_grid.items():\n",
    "                if value[0] == \"choose\":\n",
    "                    cmd += str(key)+\"='\"+str(self.sampling(value))+\"', \"\n",
    "                else:\n",
    "                    cmd += str(key)+\"=\"+str(self.sampling(value))+\", \"\n",
    "            command_list.append(cmd[:-2]+')')\n",
    "        return command_list\n",
    "    \n",
    "    def sampling(self, params):\n",
    "        \"\"\"\n",
    "        Given a parameter set in the format (type, args...),\n",
    "        choose a value using numpy's distributions.\n",
    "        Param Options:\n",
    "            ('gaus', mean, std dev) # normal with mean and std dev\n",
    "            ('uni', low, high) # uniform between low and high\n",
    "            ('randint', low, high) # int between low and high\n",
    "            ('binom', p) # binomial sample with prob p\n",
    "            ('choose', list) #picks one of the list\n",
    "        \"\"\"\n",
    "        dist = params[0]\n",
    "        if dist == 'gaus':\n",
    "            try:\n",
    "                return np.random.normal(params[1],params[2])\n",
    "            except:\n",
    "                raise ValueError(\"'gaus' must have 2 parameters, a mean and sigma.\")\n",
    "        elif dist == 'uni':\n",
    "            try:\n",
    "                return np.random.uniform(params[1],params[2])\n",
    "            except:\n",
    "                raise ValueError(\"'uni' must have 2 parameters, a low and a high.\")\n",
    "        elif dist == 'randint':\n",
    "            try:\n",
    "                return np.random.randint(params[1],params[2])\n",
    "            except:\n",
    "                raise ValueError(\"'randint' must have 2 parameters, a low and a high.\")\n",
    "        elif dist == 'binom':\n",
    "            try:\n",
    "                return np.random.binomial(1,params[1])\n",
    "            except:\n",
    "                raise ValueError(\"'binom' must have 1 parameter, the probability\")\n",
    "        elif dist == 'choose':\n",
    "            try:\n",
    "                return np.random.choice(params[1])\n",
    "            except:\n",
    "                raise ValueError(\"'choose' must have 1 parameter, the list of possibilities\")\n",
    "        else:\n",
    "            raise ValueError(\"Distribution must be in ['gaus', 'uni','randint','binom','choose']\")\n",
    "            \n",
    "    def fit(self, X, y):\n",
    "        \"\"\"\n",
    "        Uses the \"eval\" function in Python to convert the model\n",
    "        name from string to an actual model. Fits each model\n",
    "        and scores it. Creates a lists of models and scores.\n",
    "        Sets the best possible model and score to be easily\n",
    "        retrievable and usable.\n",
    "        \"\"\"\n",
    "        results = []\n",
    "        for model_name in self.models:\n",
    "            model = eval(model_name)\n",
    "            model.fit(X,y)\n",
    "            s = model.score(X,y)\n",
    "            results.append([model, s, model_name])\n",
    "        self.all_results = sorted(results, key=lambda x: x[1], reverse=True)\n",
    "        self.best_model = self.all_results[0][0]\n",
    "        self.best_score = self.all_results[0][1]\n",
    "        \n",
    "    def print_results(self):\n",
    "        \"\"\"\n",
    "        Method to print the results in a nice readable format.\n",
    "        \"\"\"\n",
    "        if self.all_results:\n",
    "            print(\"Model    |    Score\\n--------------------\\n\")\n",
    "            for result in self.all_results:\n",
    "                print(result[2], \"   |   \", result[1],\"\\n\")"
   ]
  },
  {
   "cell_type": "code",
   "execution_count": 5,
   "metadata": {
    "ExecuteTime": {
     "end_time": "2018-03-02T19:35:48.733965Z",
     "start_time": "2018-03-02T19:35:48.723338Z"
    }
   },
   "outputs": [
    {
     "data": {
      "text/plain": [
       "['random_forest_classifier(mode=\"rftree\", n_trees=9, max_depth=6)',\n",
       " 'random_forest_classifier(mode=\"rftree\", n_trees=6, max_depth=5)',\n",
       " 'random_forest_classifier(mode=\"rftree\", n_trees=9, max_depth=5)',\n",
       " 'random_forest_classifier(mode=\"rftree\", n_trees=7, max_depth=4)',\n",
       " 'random_forest_classifier(mode=\"rftree\", n_trees=3, max_depth=9)']"
      ]
     },
     "execution_count": 5,
     "metadata": {},
     "output_type": "execute_result"
    }
   ],
   "source": [
    "import sys \n",
    "sys.path.append('../../')\n",
    "from zwml.tree_models import random_forest_classifier\n",
    "\n",
    "param_grid = {\"n_trees\": ('randint',1,10), \"max_depth\": ('randint',2,10)}\n",
    "\n",
    "rs = randomized_search('random_forest_classifier(mode=\"rftree\")',param_grid, n_iters=5)\n",
    "rs.models"
   ]
  },
  {
   "cell_type": "code",
   "execution_count": 6,
   "metadata": {
    "ExecuteTime": {
     "end_time": "2018-03-02T19:39:02.099456Z",
     "start_time": "2018-03-02T19:39:01.928043Z"
    },
    "collapsed": true
   },
   "outputs": [],
   "source": [
    "from sklearn.datasets import load_iris\n",
    "X = load_iris().data\n",
    "y = load_iris().target"
   ]
  },
  {
   "cell_type": "code",
   "execution_count": 7,
   "metadata": {
    "ExecuteTime": {
     "end_time": "2018-03-02T19:39:11.598588Z",
     "start_time": "2018-03-02T19:39:02.558397Z"
    },
    "collapsed": true
   },
   "outputs": [],
   "source": [
    "rs.fit(X,y)"
   ]
  },
  {
   "cell_type": "code",
   "execution_count": 8,
   "metadata": {
    "ExecuteTime": {
     "end_time": "2018-03-02T19:39:11.623209Z",
     "start_time": "2018-03-02T19:39:11.601602Z"
    }
   },
   "outputs": [
    {
     "name": "stdout",
     "output_type": "stream",
     "text": [
      "Model    |    Score\n",
      "--------------------\n",
      "\n",
      "random_forest_classifier(mode=\"rftree\", n_trees=9, max_depth=6)    |    0.9866666666666667 \n",
      "\n",
      "random_forest_classifier(mode=\"rftree\", n_trees=6, max_depth=5)    |    0.98 \n",
      "\n",
      "random_forest_classifier(mode=\"rftree\", n_trees=9, max_depth=5)    |    0.98 \n",
      "\n",
      "random_forest_classifier(mode=\"rftree\", n_trees=7, max_depth=4)    |    0.9733333333333334 \n",
      "\n",
      "random_forest_classifier(mode=\"rftree\", n_trees=3, max_depth=9)    |    0.9333333333333333 \n",
      "\n"
     ]
    }
   ],
   "source": [
    "rs.print_results()"
   ]
  },
  {
   "cell_type": "code",
   "execution_count": 18,
   "metadata": {
    "ExecuteTime": {
     "end_time": "2018-03-02T19:46:53.297896Z",
     "start_time": "2018-03-02T19:46:53.056988Z"
    }
   },
   "outputs": [],
   "source": [
    "from itertools import product\n",
    "import sys \n",
    "sys.path.append('../../')\n",
    "from zwml.utilities import cross_val\n",
    "\n",
    "class randomized_search_cv():\n",
    "    \n",
    "    def __init__(self, model_name, param_grid, n_iters=10, k=5):\n",
    "        \"\"\"\n",
    "        Given a base model and a parameter grid of params\n",
    "        for that model, goes through n_iters iterations and \n",
    "        builds a model with a sample from the provided params,\n",
    "        and does Kfold cross validation on that model.\n",
    "        ---\n",
    "        Inputs:\n",
    "        model_name : the name of the model with parenthesis \n",
    "        and as a string. Any parameters you wish to set for all\n",
    "        models can be set in the parameter name.\n",
    "        param_grid: dictionary with parameter names as keys,\n",
    "        and the appropriate values for parameter. \n",
    "            Param Options:\n",
    "            ('gaus', mean, std dev) # normal with mean and std dev\n",
    "            ('uni', low, high) # uniform between low and high\n",
    "            ('randint', low, high) # int between low and high\n",
    "            ('binom', p) # binomial sample with prob p\n",
    "            ('choose', list) #picks one of the list\n",
    "        n_iters: how many models to build with randomized params\n",
    "        k: number of folds (int)\n",
    "        \"\"\"\n",
    "        self._base_model = str(model_name).replace(')','')\n",
    "        self._param_grid = param_grid\n",
    "        self.n_iters = int(n_iters)\n",
    "        self.k = k\n",
    "        self.models = self.get_models()  \n",
    "        \n",
    "    def get_models(self):\n",
    "        \"\"\"\n",
    "        For every iteration of the model, goes parameter\n",
    "        by parameter and samples the distribution provided\n",
    "        for the parameter. Creates a string that is the model\n",
    "        name with the parameters as part of the string.\n",
    "        \"\"\"\n",
    "        command_list = []\n",
    "        for _ in range(self.n_iters):\n",
    "            cmd = self._base_model\n",
    "            if cmd[-1] != '(':\n",
    "                cmd+=', '\n",
    "            for key, value in self._param_grid.items():\n",
    "                if value[0] == \"choose\":\n",
    "                    cmd += str(key)+\"='\"+str(self.sampling(value))+\"', \"\n",
    "                else:\n",
    "                    cmd += str(key)+\"=\"+str(self.sampling(value))+\", \"\n",
    "            command_list.append(cmd[:-2]+')')\n",
    "        return command_list\n",
    "    \n",
    "    def sampling(self, params):\n",
    "        \"\"\"\n",
    "        Given a parameter set in the format (type, args...),\n",
    "        choose a value using numpy's distributions.\n",
    "        Param Options:\n",
    "            ('gaus', mean, std dev) # normal with mean and std dev\n",
    "            ('uni', low, high) # uniform between low and high\n",
    "            ('randint', low, high) # int between low and high\n",
    "            ('binom', p) # binomial sample with prob p\n",
    "            ('choose', list) #picks one of the list\n",
    "        \"\"\"\n",
    "        dist = params[0]\n",
    "        if dist == 'gaus':\n",
    "            try:\n",
    "                return np.random.normal(params[1],params[2])\n",
    "            except:\n",
    "                raise ValueError(\"'gaus' must have 2 parameters, a mean and sigma.\")\n",
    "        elif dist == 'uni':\n",
    "            try:\n",
    "                return np.random.uniform(params[1],params[2])\n",
    "            except:\n",
    "                raise ValueError(\"'uni' must have 2 parameters, a low and a high.\")\n",
    "        elif dist == 'randint':\n",
    "            try:\n",
    "                return np.random.randint(params[1],params[2])\n",
    "            except:\n",
    "                raise ValueError(\"'randint' must have 2 parameters, a low and a high.\")\n",
    "        elif dist == 'binom':\n",
    "            try:\n",
    "                return np.random.binomial(1,params[1])\n",
    "            except:\n",
    "                raise ValueError(\"'binom' must have 1 parameter, the probability\")\n",
    "        elif dist == 'choose':\n",
    "            try:\n",
    "                return np.random.choice(params[1])\n",
    "            except:\n",
    "                raise ValueError(\"'choose' must have 1 parameter, the list of possibilities\")\n",
    "        else:\n",
    "            raise ValueError(\"Distribution must be in ['gaus', 'uni','randint','binom','choose']\")\n",
    "    \n",
    "    def fit(self, X, y):\n",
    "        \"\"\"\n",
    "        Uses the \"eval\" function in Python to convert the model\n",
    "        name from string to an actual model. Fits each model\n",
    "        and scores it with kfold cross_val. \n",
    "        Creates a lists of models and scores.\n",
    "        Sets the best possible model and score to be easily\n",
    "        retrievable and usable.\n",
    "        \"\"\"\n",
    "        results = []\n",
    "        for model_name in self.models:\n",
    "            model = eval(model_name)\n",
    "            cv = cross_val()\n",
    "            cv.cross_validation_scores(model, X, y, self.k)\n",
    "            results.append([model, cv.score_folds, model_name])\n",
    "        self.all_results = sorted(results, key=lambda x: np.mean(x[1]), reverse=True)\n",
    "        self.best_model = self.all_results[0][0]\n",
    "        self.best_score = self.all_results[0][1]\n",
    "        \n",
    "    def print_results(self, coefs=False, mean=False):\n",
    "        \"\"\"\n",
    "        Method to print the results in a nice readable format.\n",
    "        If the user asks for mean, only show the average score \n",
    "        across all folds. If the user asks for coefficients\n",
    "        show coefficients if the model has them.\n",
    "        \"\"\"\n",
    "        if self.all_results:\n",
    "            print(\"Model    |    Scores\\n--------------------\")\n",
    "            for result in self.all_results:\n",
    "                if mean:\n",
    "                    print(result[2], \"   |   \", np.mean(result[1]))\n",
    "                else:\n",
    "                    print(result[2], \"   |   \", result[1])\n",
    "                if coefs:\n",
    "                    try:\n",
    "                        print(\"Coefs: \", result[0].coefs_)\n",
    "                    except AttributeError:\n",
    "                        print(\"No Coefficients in model!\")    \n",
    "                print()"
   ]
  },
  {
   "cell_type": "code",
   "execution_count": 19,
   "metadata": {
    "ExecuteTime": {
     "end_time": "2018-03-02T19:47:44.311815Z",
     "start_time": "2018-03-02T19:46:54.487211Z"
    }
   },
   "outputs": [
    {
     "name": "stdout",
     "output_type": "stream",
     "text": [
      "[\"random_forest_classifier(n_trees=9, max_depth=19, mode='rfnode')\", \"random_forest_classifier(n_trees=35, max_depth=3, mode='rfnode')\", \"random_forest_classifier(n_trees=14, max_depth=5, mode='rfnode')\", \"random_forest_classifier(n_trees=41, max_depth=14, mode='rftree')\"]\n"
     ]
    }
   ],
   "source": [
    "param_grid = {\"n_trees\": ['randint',1,50],\"max_depth\":['randint',2,20], 'mode':['choose',['rfnode','rftree']]}\n",
    "rs = randomized_search_cv('random_forest_classifier()',param_grid, n_iters=4)\n",
    "print(rs.models)\n",
    "rs.fit(X,y)"
   ]
  },
  {
   "cell_type": "code",
   "execution_count": 20,
   "metadata": {
    "ExecuteTime": {
     "end_time": "2018-03-02T19:47:46.164896Z",
     "start_time": "2018-03-02T19:47:46.155415Z"
    }
   },
   "outputs": [
    {
     "name": "stdout",
     "output_type": "stream",
     "text": [
      "Model    |    Scores\n",
      "--------------------\n",
      "random_forest_classifier(n_trees=9, max_depth=19, mode='rfnode')    |    [0.9666666666666667, 0.9666666666666667, 1.0, 0.9, 1.0]\n",
      "\n",
      "random_forest_classifier(n_trees=14, max_depth=5, mode='rfnode')    |    [0.9666666666666667, 0.9666666666666667, 1.0, 0.8666666666666667, 1.0]\n",
      "\n",
      "random_forest_classifier(n_trees=35, max_depth=3, mode='rfnode')    |    [0.9666666666666667, 0.9, 0.9666666666666667, 0.9, 1.0]\n",
      "\n",
      "random_forest_classifier(n_trees=41, max_depth=14, mode='rftree')    |    [0.9333333333333333, 0.9, 0.9666666666666667, 0.9333333333333333, 1.0]\n",
      "\n"
     ]
    }
   ],
   "source": [
    "rs.print_results(mean=False, coefs=False)"
   ]
  },
  {
   "cell_type": "code",
   "execution_count": null,
   "metadata": {
    "collapsed": true
   },
   "outputs": [],
   "source": []
  }
 ],
 "metadata": {
  "kernelspec": {
   "display_name": "Python [default]",
   "language": "python",
   "name": "python3"
  },
  "language_info": {
   "codemirror_mode": {
    "name": "ipython",
    "version": 3
   },
   "file_extension": ".py",
   "mimetype": "text/x-python",
   "name": "python",
   "nbconvert_exporter": "python",
   "pygments_lexer": "ipython3",
   "version": "3.6.2"
  },
  "toc": {
   "nav_menu": {},
   "number_sections": true,
   "sideBar": true,
   "skip_h1_title": false,
   "toc_cell": false,
   "toc_position": {},
   "toc_section_display": "block",
   "toc_window_display": false
  }
 },
 "nbformat": 4,
 "nbformat_minor": 2
}
