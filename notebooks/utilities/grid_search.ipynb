{
 "cells": [
  {
   "cell_type": "markdown",
   "metadata": {},
   "source": [
    "# Grid Search and Grid Search CV"
   ]
  },
  {
   "cell_type": "markdown",
   "metadata": {},
   "source": [
    "Z. W. Miller - Copyright 2018"
   ]
  },
  {
   "cell_type": "code",
   "execution_count": 1,
   "metadata": {
    "ExecuteTime": {
     "end_time": "2018-03-02T18:32:04.589115Z",
     "start_time": "2018-03-02T18:32:04.062193Z"
    },
    "collapsed": true
   },
   "outputs": [],
   "source": [
    "import numpy as np\n",
    "import random\n",
    "import matplotlib.pyplot as plt\n",
    "import pandas as pd\n",
    "import math\n",
    "import scipy\n",
    "%matplotlib inline\n",
    "plt.style.use('seaborn')"
   ]
  },
  {
   "cell_type": "code",
   "execution_count": 2,
   "metadata": {
    "ExecuteTime": {
     "end_time": "2018-03-02T18:32:04.701255Z",
     "start_time": "2018-03-02T18:32:04.591726Z"
    }
   },
   "outputs": [
    {
     "name": "stdout",
     "output_type": "stream",
     "text": [
      "Python Version: 3.6.2 |Anaconda custom (64-bit)| (default, Sep 21 2017, 18:29:43) \n",
      "[GCC 4.2.1 Compatible Clang 4.0.1 (tags/RELEASE_401/final)] \n",
      "\n",
      "Matplotlib Version: 2.0.2\n",
      "Numpy Version: 1.12.1\n",
      "Pandas Version: 0.20.3\n"
     ]
    }
   ],
   "source": [
    "import numpy as np\n",
    "import sklearn\n",
    "import matplotlib\n",
    "import pandas as pd\n",
    "import sys\n",
    "libraries = (('Matplotlib', matplotlib), ('Numpy', np), ('Pandas', pd))\n",
    "\n",
    "print(\"Python Version:\", sys.version, '\\n')\n",
    "for lib in libraries:\n",
    "    print('{0} Version: {1}'.format(lib[0], lib[1].__version__))"
   ]
  },
  {
   "cell_type": "code",
   "execution_count": 3,
   "metadata": {
    "ExecuteTime": {
     "end_time": "2018-03-02T18:32:04.929853Z",
     "start_time": "2018-03-02T18:32:04.837429Z"
    },
    "collapsed": true
   },
   "outputs": [],
   "source": [
    "from itertools import product\n",
    "\n",
    "class grid_search():\n",
    "    \n",
    "    def __init__(self, model_name, param_grid):\n",
    "        \"\"\"\n",
    "        Given a base model and a parameter grid of params\n",
    "        for that model, iterates through all the combinations\n",
    "        of parameters, builds a model with each combo,\n",
    "        and returns the score of the model.\n",
    "        ---\n",
    "        Inputs:\n",
    "        model_name : the name of the model with parenthesis \n",
    "        and as a string. Any parameters you wish to set for all\n",
    "        models can be set in the parameter name.\n",
    "        param_grid: dictionary with parameter names as keys,\n",
    "        and list of param values to test as value for each key\n",
    "        \"\"\"\n",
    "        self._base_model = str(model_name).replace(')','')\n",
    "        self._param_grid = param_grid\n",
    "        self.models = self.get_models()\n",
    "        \n",
    "    def get_models(self):\n",
    "        \"\"\"\n",
    "        Finds every combination of parameters from the param grid.\n",
    "        Uses the string basename for to create a list of model \n",
    "        names with the proper parameters. This command_list is\n",
    "        still in string form until we're ready to test the models.\n",
    "        \"\"\"\n",
    "        params = []\n",
    "        order = []\n",
    "        for key, value in self._param_grid.items():\n",
    "            order.append(key)\n",
    "            params.append(value)\n",
    "        options = list(product(*params))\n",
    "\n",
    "        command_list = []\n",
    "        for option in options:\n",
    "            cmd = self._base_model\n",
    "            if cmd[-1] != '(':\n",
    "                cmd+=', '\n",
    "            for i,j in zip(order, option):\n",
    "                if type(j) == type('string'):\n",
    "                    cmd += str(i)+\"='\"+str(j)+\"', \"\n",
    "                else:\n",
    "                    cmd += str(i)+\"=\"+str(j)+\", \"\n",
    "            command_list.append(cmd[:-2]+')')\n",
    "        return command_list\n",
    "    \n",
    "    def fit(self, X, y):\n",
    "        \"\"\"\n",
    "        Uses the \"eval\" function in Python to convert the model\n",
    "        name from string to an actual model. Fits each model\n",
    "        and scores it. Creates a lists of models and scores.\n",
    "        Sets the best possible model and score to be easily\n",
    "        retrievable and usable.\n",
    "        \"\"\"\n",
    "        results = []\n",
    "        for model_name in self.models:\n",
    "            model = eval(model_name)\n",
    "            model.fit(X,y)\n",
    "            s = model.score(X,y)\n",
    "            results.append([model, s, model_name])\n",
    "        self.all_results = sorted(results, key=lambda x: x[1], reverse=True)\n",
    "        self.best_model = self.all_results[0][0]\n",
    "        self.best_score = self.all_results[0][1]\n",
    "        \n",
    "    def print_results(self):\n",
    "        \"\"\"\n",
    "        Method to print the results in a nice readable format.\n",
    "        \"\"\"\n",
    "        if self.all_results:\n",
    "            print(\"Model    |    Score\\n--------------------\\n\")\n",
    "            for result in self.all_results:\n",
    "                print(result[2], \"   |   \", result[1],\"\\n\")"
   ]
  },
  {
   "cell_type": "code",
   "execution_count": 4,
   "metadata": {
    "ExecuteTime": {
     "end_time": "2018-03-02T18:32:05.435900Z",
     "start_time": "2018-03-02T18:32:05.422622Z"
    }
   },
   "outputs": [
    {
     "data": {
      "text/plain": [
       "['random_forest_classifier(n_features=3, n_trees=1, max_depth=1)',\n",
       " 'random_forest_classifier(n_features=3, n_trees=1, max_depth=5)',\n",
       " 'random_forest_classifier(n_features=3, n_trees=1, max_depth=10)',\n",
       " 'random_forest_classifier(n_features=3, n_trees=10, max_depth=1)',\n",
       " 'random_forest_classifier(n_features=3, n_trees=10, max_depth=5)',\n",
       " 'random_forest_classifier(n_features=3, n_trees=10, max_depth=10)',\n",
       " 'random_forest_classifier(n_features=3, n_trees=20, max_depth=1)',\n",
       " 'random_forest_classifier(n_features=3, n_trees=20, max_depth=5)',\n",
       " 'random_forest_classifier(n_features=3, n_trees=20, max_depth=10)']"
      ]
     },
     "execution_count": 4,
     "metadata": {},
     "output_type": "execute_result"
    }
   ],
   "source": [
    "import sys \n",
    "sys.path.append('../../')\n",
    "from zwml.tree_models import random_forest_classifier\n",
    "param_grid = {\"n_trees\": [1,10,20],\"max_depth\":[1,5,10]}\n",
    "\n",
    "gs = grid_search('random_forest_classifier(n_features=3)',param_grid)\n",
    "gs.models"
   ]
  },
  {
   "cell_type": "code",
   "execution_count": 5,
   "metadata": {
    "ExecuteTime": {
     "end_time": "2018-03-02T18:32:06.047037Z",
     "start_time": "2018-03-02T18:32:05.836506Z"
    },
    "collapsed": true
   },
   "outputs": [],
   "source": [
    "from sklearn.datasets import load_iris\n",
    "X = load_iris().data\n",
    "y = load_iris().target"
   ]
  },
  {
   "cell_type": "code",
   "execution_count": 11,
   "metadata": {
    "ExecuteTime": {
     "end_time": "2018-03-02T18:23:58.409753Z",
     "start_time": "2018-03-02T18:23:41.228967Z"
    }
   },
   "outputs": [],
   "source": [
    "gs.fit(X,y)"
   ]
  },
  {
   "cell_type": "code",
   "execution_count": 12,
   "metadata": {
    "ExecuteTime": {
     "end_time": "2018-03-02T18:24:01.896777Z",
     "start_time": "2018-03-02T18:24:01.881419Z"
    }
   },
   "outputs": [
    {
     "name": "stdout",
     "output_type": "stream",
     "text": [
      "Model    |    Score\n",
      "--------------------\n",
      "\n",
      "random_forest_classifier(n_features=3, n_trees=10, max_depth=10)    |    1.0 \n",
      "\n",
      "random_forest_classifier(n_features=3, n_trees=20, max_depth=10)    |    1.0 \n",
      "\n",
      "random_forest_classifier(n_features=3, n_trees=1, max_depth=10)    |    0.9933333333333333 \n",
      "\n",
      "random_forest_classifier(n_features=3, n_trees=20, max_depth=5)    |    0.9933333333333333 \n",
      "\n",
      "random_forest_classifier(n_features=3, n_trees=10, max_depth=5)    |    0.9866666666666667 \n",
      "\n",
      "random_forest_classifier(n_features=3, n_trees=1, max_depth=5)    |    0.9733333333333334 \n",
      "\n",
      "random_forest_classifier(n_features=3, n_trees=10, max_depth=1)    |    0.6666666666666666 \n",
      "\n",
      "random_forest_classifier(n_features=3, n_trees=20, max_depth=1)    |    0.66 \n",
      "\n",
      "random_forest_classifier(n_features=3, n_trees=1, max_depth=1)    |    0.6533333333333333 \n",
      "\n"
     ]
    }
   ],
   "source": [
    "gs.print_results()"
   ]
  },
  {
   "cell_type": "code",
   "execution_count": 14,
   "metadata": {
    "ExecuteTime": {
     "end_time": "2018-03-02T19:49:40.818754Z",
     "start_time": "2018-03-02T19:49:40.683944Z"
    }
   },
   "outputs": [],
   "source": [
    "from itertools import product\n",
    "import sys \n",
    "sys.path.append('../../')\n",
    "from zwml.utilities import cross_val\n",
    "\n",
    "class grid_search_cv():\n",
    "    \n",
    "    def __init__(self, model_name, param_grid={}, k=5):\n",
    "        \"\"\"\n",
    "        Given a base model and a parameter grid of params\n",
    "        for that model, iterates through all the combinations\n",
    "        of parameters, builds a model with each combo,\n",
    "        and does kFold cross validation on them model\n",
    "        ---\n",
    "        Inputs:\n",
    "        model_name : the name of the model with parenthesis \n",
    "        and as a string. Any parameters you wish to set for all\n",
    "        models can be set in the parameter name.\n",
    "        param_grid: dictionary with parameter names as keys,\n",
    "        and list of param values to test as value for each key\n",
    "        k: number of folds for cross val\n",
    "        \"\"\"\n",
    "        self._base_model = str(model_name).replace(')','')\n",
    "        self._param_grid = param_grid\n",
    "        self.models = self.get_models()\n",
    "        self.k = k\n",
    "        \n",
    "    def get_models(self):\n",
    "        \"\"\"\n",
    "        Finds every combination of parameters from the param grid.\n",
    "        Uses the string basename for to create a list of model \n",
    "        names with the proper parameters. This command_list is\n",
    "        still in string form until we're ready to test the models.\n",
    "        \"\"\"\n",
    "        params = []\n",
    "        order = []\n",
    "        for key, value in self._param_grid.items():\n",
    "            order.append(key)\n",
    "            params.append(value)\n",
    "        options = list(product(*params))\n",
    "\n",
    "        command_list = []\n",
    "        for option in options:\n",
    "            cmd = self._base_model\n",
    "            if cmd[-1] != '(':\n",
    "                cmd+=', '\n",
    "            for i,j in zip(order, option):\n",
    "                if type(j) == type('string'):\n",
    "                    cmd += str(i)+\"='\"+str(j)+\"', \"\n",
    "                else:\n",
    "                    cmd += str(i)+\"=\"+str(j)+\", \"\n",
    "            command_list.append(cmd[:-2]+')')\n",
    "        return command_list\n",
    "    \n",
    "    def fit(self, X, y):\n",
    "        \"\"\"\n",
    "        Uses the \"eval\" function in Python to convert the model\n",
    "        name from string to an actual model. Fits each model\n",
    "        and scores it with kfold cross_val. \n",
    "        Creates a lists of models and scores.\n",
    "        Sets the best possible model and score to be easily\n",
    "        retrievable and usable.\n",
    "        \"\"\"\n",
    "        results = []\n",
    "        for model_name in self.models:\n",
    "            model = eval(model_name)\n",
    "            cv = cross_val()\n",
    "            cv.cross_validation_scores(model, X, y, self.k)\n",
    "            results.append([model, cv.score_folds, model_name])\n",
    "        self.all_results = sorted(results, key=lambda x: np.mean(x[1]), reverse=True)\n",
    "        self.best_model = self.all_results[0][0]\n",
    "        self.best_score = self.all_results[0][1]\n",
    "        \n",
    "    def print_results(self, coefs=False, mean=False):\n",
    "        \"\"\"\n",
    "        Method to print the results in a nice readable format.\n",
    "        If the user asks for mean, only show the average score \n",
    "        across all folds. If the user asks for coefficients\n",
    "        show coefficients if the model has them.\n",
    "        \"\"\"\n",
    "        if self.all_results:\n",
    "            print(\"Model    |    Scores\\n--------------------\")\n",
    "            for result in self.all_results:\n",
    "                if mean:\n",
    "                    print(result[2], \"   |   \", np.mean(result[1]))\n",
    "                else:\n",
    "                    print(result[2], \"   |   \", result[1])\n",
    "                if coefs:\n",
    "                    try:\n",
    "                        print(\"Coefs: \", result[0].coefs_)\n",
    "                    except AttributeError:\n",
    "                        print(\"No Coefficients in model!\")    \n",
    "                print()"
   ]
  },
  {
   "cell_type": "code",
   "execution_count": 15,
   "metadata": {
    "ExecuteTime": {
     "end_time": "2018-03-02T19:50:01.906232Z",
     "start_time": "2018-03-02T19:49:42.224014Z"
    }
   },
   "outputs": [],
   "source": [
    "param_grid = {\"n_trees\": [1,10],\"max_depth\":[1,5], 'mode':['rfnode', 'rftree']}\n",
    "gs = grid_search_cv('random_forest_classifier()',param_grid)\n",
    "gs.fit(X,y)"
   ]
  },
  {
   "cell_type": "code",
   "execution_count": 16,
   "metadata": {
    "ExecuteTime": {
     "end_time": "2018-03-02T19:50:40.696144Z",
     "start_time": "2018-03-02T19:50:40.677648Z"
    }
   },
   "outputs": [
    {
     "name": "stdout",
     "output_type": "stream",
     "text": [
      "Model    |    Scores\n",
      "--------------------\n",
      "random_forest_classifier(n_trees=10, max_depth=5, mode='rfnode')    |    [0.9666666666666667, 0.9666666666666667, 0.9666666666666667, 0.9333333333333333, 1.0]\n",
      "\n",
      "random_forest_classifier(n_trees=10, max_depth=5, mode='rftree')    |    [0.9333333333333333, 0.9333333333333333, 0.9666666666666667, 0.9333333333333333, 1.0]\n",
      "\n",
      "random_forest_classifier(n_trees=1, max_depth=5, mode='rftree')    |    [0.9, 0.9, 0.9666666666666667, 0.8333333333333334, 0.9333333333333333]\n",
      "\n",
      "random_forest_classifier(n_trees=10, max_depth=1, mode='rfnode')    |    [0.43333333333333335, 0.9666666666666667, 0.9666666666666667, 0.8666666666666667, 0.9]\n",
      "\n",
      "random_forest_classifier(n_trees=10, max_depth=1, mode='rftree')    |    [0.43333333333333335, 0.9333333333333333, 0.9, 0.8666666666666667, 0.9]\n",
      "\n",
      "random_forest_classifier(n_trees=1, max_depth=5, mode='rfnode')    |    [0.6333333333333333, 0.7, 0.9333333333333333, 0.7666666666666667, 0.9666666666666667]\n",
      "\n",
      "random_forest_classifier(n_trees=1, max_depth=1, mode='rfnode')    |    [0.43333333333333335, 0.5, 0.9, 0.5333333333333333, 0.9333333333333333]\n",
      "\n",
      "random_forest_classifier(n_trees=1, max_depth=1, mode='rftree')    |    [0.43333333333333335, 0.5, 0.9666666666666667, 0.43333333333333335, 0.8333333333333334]\n",
      "\n"
     ]
    }
   ],
   "source": [
    "gs.print_results(mean=False, coefs=False)"
   ]
  },
  {
   "cell_type": "code",
   "execution_count": null,
   "metadata": {
    "collapsed": true
   },
   "outputs": [],
   "source": []
  }
 ],
 "metadata": {
  "kernelspec": {
   "display_name": "Python [default]",
   "language": "python",
   "name": "python3"
  },
  "language_info": {
   "codemirror_mode": {
    "name": "ipython",
    "version": 3
   },
   "file_extension": ".py",
   "mimetype": "text/x-python",
   "name": "python",
   "nbconvert_exporter": "python",
   "pygments_lexer": "ipython3",
   "version": "3.6.2"
  },
  "toc": {
   "nav_menu": {},
   "number_sections": true,
   "sideBar": true,
   "skip_h1_title": false,
   "toc_cell": false,
   "toc_position": {},
   "toc_section_display": "block",
   "toc_window_display": false
  }
 },
 "nbformat": 4,
 "nbformat_minor": 2
}
