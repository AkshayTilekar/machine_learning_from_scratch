{
 "cells": [
  {
   "cell_type": "markdown",
   "metadata": {},
   "source": [
    "# KMeans Clustering"
   ]
  },
  {
   "cell_type": "code",
   "execution_count": null,
   "metadata": {
    "ExecuteTime": {
     "start_time": "2017-10-17T15:50:45.965Z"
    },
    "collapsed": true
   },
   "outputs": [],
   "source": [
    "import numpy as np\n",
    "import random\n",
    "import matplotlib.pyplot as plt\n",
    "import pandas as pd\n",
    "import math\n",
    "import scipy\n",
    "%matplotlib inline\n",
    "plt.style.use('seaborn')"
   ]
  },
  {
   "cell_type": "code",
   "execution_count": null,
   "metadata": {
    "ExecuteTime": {
     "start_time": "2017-10-17T15:50:45.967Z"
    }
   },
   "outputs": [],
   "source": [
    "import numpy as np\n",
    "import sklearn\n",
    "import matplotlib\n",
    "import pandas as pd\n",
    "import sys\n",
    "libraries = (('Matplotlib', matplotlib), ('Numpy', np), ('Pandas', pd))\n",
    "\n",
    "print(\"Python Version:\", sys.version, '\\n')\n",
    "for lib in libraries:\n",
    "    print('{0} Version: {1}'.format(lib[0], lib[1].__version__))"
   ]
  },
  {
   "cell_type": "code",
   "execution_count": null,
   "metadata": {
    "ExecuteTime": {
     "start_time": "2017-10-17T15:50:45.970Z"
    }
   },
   "outputs": [],
   "source": [
    "import numpy as np\n",
    "import pandas as pd\n",
    "\n",
    "class kmeans:\n",
    "    \n",
    "    def __init__(self, k = 5, random_seed=None, iters=1000, n_init=10):\n",
    "        self._k = k\n",
    "        self._iters = iters\n",
    "        self._n_init = n_init\n",
    "        if random_seed:\n",
    "            np.random.seed(random_seed)\n",
    "\n",
    "    def computeDistance(self, clst, pt):\n",
    "        return np.sqrt(np.sum((clst.mean - pt)**2))\n",
    "\n",
    "    def classify(self, pt):\n",
    "        cluster_num = self.get_clust_id(pt)\n",
    "        self.clusters[cluster_num].add_member(pt)\n",
    "\n",
    "    def get_clust_id(self,pt):\n",
    "        return min(range(self._k), key=lambda i: self.computeDistance(self.clusters[i],pt))\n",
    "    \n",
    "    def init_clusters(self, X):\n",
    "        self.clusters = [self.cluster() for _ in range(0,self._k)]\n",
    "        rand_points = np.copy(X)\n",
    "        np.random.shuffle(rand_points)\n",
    "        rand_points = rand_points.tolist()\n",
    "        for c in self.clusters:\n",
    "            c.mean = rand_points.pop()\n",
    "        for p in X:\n",
    "            self.classify(p)  \n",
    "\n",
    "    def fit_predict(self,X):\n",
    "        self.fit(X)\n",
    "        return self.predict(X)\n",
    "    \n",
    "    def fit(self, X):\n",
    "        X = self.pandas_to_numpy(X)\n",
    "        \n",
    "        best_inertia = None\n",
    "        best_clusters = []\n",
    "        for _ in range(self._n_init):\n",
    "            self.init_clusters(X)\n",
    "            ischange = True\n",
    "            i = 0\n",
    "            while ischange and i < self._iters:\n",
    "                ischange = False\n",
    "                for c in self.clusters:\n",
    "                    c.get_mean()\n",
    "                    c.set_prev_members()\n",
    "                    c.members = []\n",
    "\n",
    "                for p in X:\n",
    "                    self.classify(p)\n",
    "\n",
    "                for c in self.clusters:\n",
    "                    if c.is_changed():\n",
    "                        ischange = True\n",
    "                i += 1 \n",
    "            current_inertia = 0.\n",
    "            for c in self.clusters:\n",
    "                c.get_mean()\n",
    "                current_inertia += c.get_total_square_distance()\n",
    "            \n",
    "            if not best_inertia or current_inertia < best_inertia:\n",
    "                best_clusters = self.clusters\n",
    "                best_inertia = current_inertia\n",
    "        \n",
    "        self.clusters = best_clusters\n",
    "        self.inertia = best_inertia\n",
    "            \n",
    "    def predict(self, X):\n",
    "        clust_ids = []\n",
    "        for dt in self.pandas_to_numpy(X):\n",
    "            clust_ids.append([self.get_clust_id(dt)])\n",
    "        return np.array(clust_ids)\n",
    "    \n",
    "    def pandas_to_numpy(self, x):\n",
    "        \"\"\"\n",
    "        Checks if the input is a Dataframe or series, converts to numpy matrix for\n",
    "        calculation purposes.\n",
    "        ---\n",
    "        Input: X (array, dataframe, or series)\n",
    "        \n",
    "        Output: X (array)\n",
    "        \"\"\"\n",
    "        if type(x) == type(pd.DataFrame()) or type(x) == type(pd.Series()):\n",
    "            return x.as_matrix()\n",
    "        if type(x) == type(np.array([1,2])):\n",
    "            return x\n",
    "        return np.array(x)\n",
    "    \n",
    "    def score(self):\n",
    "        return self.inertia\n",
    "        \n",
    "    class cluster:\n",
    "        def __init__(self):\n",
    "            self.mean = None\n",
    "            self.members = []\n",
    "            self.prev_members = []\n",
    "\n",
    "        def set_prev_members(self):\n",
    "            self.prev_members = self.members\n",
    "            self.members = []\n",
    "\n",
    "        def add_member(self,pt):\n",
    "            self.members.append(pt)\n",
    "\n",
    "        def is_changed(self):\n",
    "            return not np.array_equal(self.members,self.prev_members)\n",
    "#             if len(self.members) != len(self.prevMembers):\n",
    "#                 return True\n",
    "#             for i,j in zip(self.members,self.prevMembers):\n",
    "#                 if not np.array_equal(i,j):\n",
    "#                     return True\n",
    "#             return False\n",
    "\n",
    "        def get_mean(self):\n",
    "            if not len(self.members):\n",
    "                self.mean = [-999,-999]\n",
    "                return\n",
    "            x,y = 0.,0.\n",
    "            for p in self.members:\n",
    "                x+=p[0]\n",
    "                y+=p[1]\n",
    "            self.mean = [x/len(self.members),y/len(self.members)]\n",
    "\n",
    "        def get_total_square_distance(self):\n",
    "            val = 0.\n",
    "            for p in self.members:\n",
    "                val += np.sqrt(np.sum((self.mean - p)**2))\n",
    "            return val"
   ]
  },
  {
   "cell_type": "code",
   "execution_count": null,
   "metadata": {
    "ExecuteTime": {
     "start_time": "2017-10-17T15:50:45.973Z"
    }
   },
   "outputs": [],
   "source": [
    "def get_data(n_clust = 3):\n",
    "    X1 = np.random.normal(-5,1,50).reshape(-1,1)\n",
    "    y1 = np.random.normal(-5,1,50).reshape(-1,1)\n",
    "    for _ in range(n_clust-1):\n",
    "        X2 = np.random.normal(np.random.randint(-10,10),1,50).reshape(-1,1)\n",
    "        y2 = np.random.normal(np.random.randint(-10,10),1,50).reshape(-1,1)\n",
    "        X1 = np.vstack((X1,X2)).reshape(-1,1)\n",
    "        y1 = np.vstack((y1,y2)).reshape(-1,1)\n",
    "    X = np.hstack((X1,y1))\n",
    "    return X\n",
    "\n",
    "X = get_data(n_clust=5)\n",
    "plt.scatter(X[:,0],X[:,1])"
   ]
  },
  {
   "cell_type": "code",
   "execution_count": null,
   "metadata": {
    "ExecuteTime": {
     "start_time": "2017-10-17T15:50:45.977Z"
    },
    "collapsed": true
   },
   "outputs": [],
   "source": [
    "km = kmeans(k=5)"
   ]
  },
  {
   "cell_type": "code",
   "execution_count": null,
   "metadata": {
    "ExecuteTime": {
     "start_time": "2017-10-17T15:50:45.979Z"
    }
   },
   "outputs": [],
   "source": [
    "km.fit(X)"
   ]
  },
  {
   "cell_type": "code",
   "execution_count": null,
   "metadata": {
    "ExecuteTime": {
     "start_time": "2017-10-17T15:50:45.981Z"
    }
   },
   "outputs": [],
   "source": [
    "for c in km.clusters:\n",
    "    print(c.mean)"
   ]
  },
  {
   "cell_type": "code",
   "execution_count": null,
   "metadata": {
    "ExecuteTime": {
     "start_time": "2017-10-17T15:50:45.984Z"
    }
   },
   "outputs": [],
   "source": [
    "from itertools import cycle\n",
    "colors = cycle('byrcmk')\n",
    "preds = km.predict(X)\n",
    "for cl in km.clusters:\n",
    "    xplot, yplot = zip(*cl.members)\n",
    "    col = next(colors)\n",
    "    plt.scatter(xplot,yplot, c=col);\n",
    "    plt.scatter(cl.mean[0],cl.mean[1],marker='x',s=300,c='magenta')"
   ]
  },
  {
   "cell_type": "code",
   "execution_count": null,
   "metadata": {
    "ExecuteTime": {
     "start_time": "2017-10-17T15:50:45.987Z"
    }
   },
   "outputs": [],
   "source": [
    "km.inertia"
   ]
  },
  {
   "cell_type": "code",
   "execution_count": null,
   "metadata": {
    "ExecuteTime": {
     "start_time": "2017-10-17T15:50:45.990Z"
    },
    "collapsed": true
   },
   "outputs": [],
   "source": [
    "inertia = []\n",
    "for k in range(1,21):\n",
    "    km = kmeans(k=k, random_seed=42)\n",
    "    km.fit(X)\n",
    "    inertia.append(km.score())"
   ]
  },
  {
   "cell_type": "code",
   "execution_count": null,
   "metadata": {
    "ExecuteTime": {
     "start_time": "2017-10-17T15:50:45.992Z"
    }
   },
   "outputs": [],
   "source": [
    "plt.plot(range(1,21),inertia);\n",
    "plt.xlabel(\"Num Clusters\")\n",
    "plt.ylabel(\"Inertia\")\n",
    "plt.title(\"kMeans Score Report\");\n",
    "plt.xticks(np.arange(1,21,2));"
   ]
  },
  {
   "cell_type": "code",
   "execution_count": null,
   "metadata": {
    "collapsed": true
   },
   "outputs": [],
   "source": []
  }
 ],
 "metadata": {
  "kernelspec": {
   "display_name": "Python [conda root]",
   "language": "python",
   "name": "conda-root-py"
  },
  "language_info": {
   "codemirror_mode": {
    "name": "ipython",
    "version": 3
   },
   "file_extension": ".py",
   "mimetype": "text/x-python",
   "name": "python",
   "nbconvert_exporter": "python",
   "pygments_lexer": "ipython3",
   "version": "3.6.2"
  },
  "toc": {
   "nav_menu": {},
   "number_sections": true,
   "sideBar": true,
   "skip_h1_title": false,
   "toc_cell": false,
   "toc_position": {},
   "toc_section_display": "block",
   "toc_window_display": false
  }
 },
 "nbformat": 4,
 "nbformat_minor": 2
}
