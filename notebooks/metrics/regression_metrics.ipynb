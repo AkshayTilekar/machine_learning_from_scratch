{
 "cells": [
  {
   "cell_type": "markdown",
   "metadata": {},
   "source": [
    "# Regression Metrics"
   ]
  },
  {
   "cell_type": "markdown",
   "metadata": {},
   "source": [
    "Z. W. Miller - Copyright 2018"
   ]
  },
  {
   "cell_type": "code",
   "execution_count": 1,
   "metadata": {
    "ExecuteTime": {
     "end_time": "2018-03-30T16:35:17.466584Z",
     "start_time": "2018-03-30T16:35:16.890631Z"
    },
    "collapsed": true
   },
   "outputs": [],
   "source": [
    "import numpy as np\n",
    "import random\n",
    "import matplotlib.pyplot as plt\n",
    "import pandas as pd\n",
    "import math\n",
    "import scipy\n",
    "%matplotlib inline\n",
    "plt.style.use('seaborn')"
   ]
  },
  {
   "cell_type": "code",
   "execution_count": 2,
   "metadata": {
    "ExecuteTime": {
     "end_time": "2018-03-30T16:35:17.597477Z",
     "start_time": "2018-03-30T16:35:17.468922Z"
    }
   },
   "outputs": [
    {
     "name": "stdout",
     "output_type": "stream",
     "text": [
      "Python Version: 3.6.2 |Anaconda custom (64-bit)| (default, Sep 21 2017, 18:29:43) \n",
      "[GCC 4.2.1 Compatible Clang 4.0.1 (tags/RELEASE_401/final)] \n",
      "\n",
      "Matplotlib Version: 2.0.2\n",
      "Numpy Version: 1.12.1\n",
      "Pandas Version: 0.20.3\n"
     ]
    }
   ],
   "source": [
    "import numpy as np\n",
    "import sklearn\n",
    "import matplotlib\n",
    "import pandas as pd\n",
    "import sys\n",
    "libraries = (('Matplotlib', matplotlib), ('Numpy', np), ('Pandas', pd))\n",
    "\n",
    "print(\"Python Version:\", sys.version, '\\n')\n",
    "for lib in libraries:\n",
    "    print('{0} Version: {1}'.format(lib[0], lib[1].__version__))"
   ]
  },
  {
   "cell_type": "code",
   "execution_count": 3,
   "metadata": {
    "ExecuteTime": {
     "end_time": "2018-03-30T16:36:06.473490Z",
     "start_time": "2018-03-30T16:36:06.240371Z"
    },
    "collapsed": true
   },
   "outputs": [],
   "source": [
    "from sklearn.datasets import load_boston\n",
    "from sklearn.linear_model import LinearRegression\n",
    "from sklearn.tree import DecisionTreeRegressor\n",
    "\n",
    "boston = load_boston()\n",
    "X = boston.data\n",
    "y = boston.target\n",
    "\n",
    "lr = LinearRegression()\n",
    "lr.fit(X,y)\n",
    "pred = lr.predict(X)\n",
    "\n",
    "dt = DecisionTreeRegressor(max_depth=1) #purposely picking a less than optimal hyperparameter\n",
    "dt.fit(X,y)\n",
    "pred2 = dt.predict(X)"
   ]
  },
  {
   "cell_type": "code",
   "execution_count": 13,
   "metadata": {
    "ExecuteTime": {
     "end_time": "2018-03-30T17:48:22.022458Z",
     "start_time": "2018-03-30T17:48:21.880460Z"
    },
    "collapsed": true
   },
   "outputs": [],
   "source": [
    "import numpy as np\n",
    "import pandas as pd\n",
    "\n",
    "def get_error(true,pred):\n",
    "    \"\"\"\n",
    "    Returns predicted - true for each entry\n",
    "    \"\"\"\n",
    "    true = pandas_to_numpy(true)\n",
    "    pred = pandas_to_numpy(pred)\n",
    "    return pred-true\n",
    "\n",
    "def get_square_error(true,pred):\n",
    "    \"\"\"\n",
    "    Returns the square of predicted - true for each entry\n",
    "    \"\"\"\n",
    "    return np.square(get_error(true,pred))   \n",
    "\n",
    "def mean_square_error(true, pred):\n",
    "    \"\"\"\n",
    "    Returns the average predicted - true\n",
    "    \"\"\"\n",
    "    return np.mean(get_square_error(true,pred))\n",
    "\n",
    "def root_mean_square_error(true,pred):\n",
    "    \"\"\"\n",
    "    Returns the sqrt of mean square error\n",
    "    \"\"\"\n",
    "    return np.sqrt(mean_square_error(true,pred))\n",
    "\n",
    "def mean_absolute_error(true,pred):\n",
    "    \"\"\"\n",
    "    Returns the mean absolute value of error\n",
    "    \"\"\"\n",
    "    return np.mean(np.abs(get_error(true,pred)))\n",
    "\n",
    "def sum_square_error(true,pred):\n",
    "    \"\"\"\n",
    "    Returns the sum of squared errors\n",
    "    \"\"\"\n",
    "    true = pandas_to_numpy(true)\n",
    "    pred = pandas_to_numpy(pred)\n",
    "    return np.sum(get_square_error(true,pred))\n",
    "\n",
    "def r2_score(true,pred):\n",
    "    \"\"\"\n",
    "    Returns R2 which is computed by\n",
    "    SSE = sum of squared errors from the model\n",
    "    SST = sume of squared errors to the mean of the data (y)\n",
    "    R2 = 1 - SSE/SST\n",
    "    \"\"\"\n",
    "    true = pandas_to_numpy(true)\n",
    "    pred = pandas_to_numpy(pred)\n",
    "    SSE = np.sum(get_square_error(true,pred))\n",
    "    shpe = len(np.array(true))\n",
    "    SST = np.sum(get_square_error(true,np.mean(true)*shpe))\n",
    "    return 1.-(SSE/SST)\n",
    "\n",
    "def adj_r2(true, pred, X):\n",
    "    \"\"\"\n",
    "    Returns a version of R2 that penalizes for having many\n",
    "    features. Fights against false correlations in data\n",
    "    and is generally better than R2.\n",
    "    \"\"\"\n",
    "    X = pandas_to_numpy(X)\n",
    "    rsquare = r2_score(true,pred)\n",
    "    num_data = X.shape[0]\n",
    "    num_features = X.shape[1]\n",
    "    temp = (1-rsquare)*(num_data-1)\n",
    "    temp = temp/(num_data-num_features-1)\n",
    "    temp = 1 - temp\n",
    "    return temp\n",
    "\n",
    "def assess_model(true, pred):\n",
    "    \"\"\"\n",
    "    Computes a suite of metrics all at once\n",
    "    \"\"\"\n",
    "    true = pandas_to_numpy(true)\n",
    "    pred = pandas_to_numpy(pred)\n",
    "    return sum_square_error(true,pred), mean_square_error(true,pred), root_mean_square_error(true,pred)\n",
    "\n",
    "def test_regression_results(X, true, pred):\n",
    "    \"\"\"\n",
    "    A print out of many of the metrics that show model performance\n",
    "    \"\"\"\n",
    "    true = pandas_to_numpy(true)\n",
    "    pred = pandas_to_numpy(pred)\n",
    "    print(\"Mean Square Error: \", mean_square_error(true,pred))\n",
    "    print(\"Root Mean Square Error: \", np.sqrt(mean_square_error(true,pred)))\n",
    "    print(\"Mean Absolute Error: \",mean_absolute_error(true,pred))\n",
    "    r2 = r2_score(true,pred)\n",
    "    print(\"R2: \", r2)\n",
    "    print(\"Adj R2: \", adj_r2(true,pred,X))\n",
    "\n",
    "def pandas_to_numpy(x):\n",
    "    \"\"\"\n",
    "    Checks if the input is a Dataframe or series, converts to numpy matrix for\n",
    "    calculation purposes.\n",
    "    ---\n",
    "    Input: X (array, dataframe, or series)    \n",
    "    Output: X (array)\n",
    "    \"\"\"\n",
    "    if type(x) == type(pd.DataFrame()) or type(x) == type(pd.Series()):\n",
    "        return x.as_matrix()\n",
    "    if type(x) == type(np.array([1,2])):\n",
    "        return x\n",
    "    return np.array(x)"
   ]
  },
  {
   "cell_type": "code",
   "execution_count": 14,
   "metadata": {
    "ExecuteTime": {
     "end_time": "2018-03-30T17:48:23.652664Z",
     "start_time": "2018-03-30T17:48:23.632493Z"
    }
   },
   "outputs": [
    {
     "name": "stdout",
     "output_type": "stream",
     "text": [
      "Mean Square Error:  21.8977792177\n",
      "Root Mean Square Error:  4.67950630064\n",
      "Mean Absolute Error:  3.272944638\n",
      "R2:  0.999999830883\n",
      "Adj R2:  0.999999826415\n"
     ]
    }
   ],
   "source": [
    "test_regression_results(X, y, pred)"
   ]
  },
  {
   "cell_type": "code",
   "execution_count": 15,
   "metadata": {
    "ExecuteTime": {
     "end_time": "2018-03-30T17:48:23.928206Z",
     "start_time": "2018-03-30T17:48:23.907051Z"
    }
   },
   "outputs": [
    {
     "name": "stdout",
     "output_type": "stream",
     "text": [
      "Mean Square Error:  46.1990916771\n",
      "Root Mean Square Error:  6.7969913695\n",
      "Mean Absolute Error:  5.03422600761\n",
      "R2:  0.999999643204\n",
      "Adj R2:  0.999999633777\n"
     ]
    }
   ],
   "source": [
    "test_regression_results(X, y, pred2)"
   ]
  },
  {
   "cell_type": "code",
   "execution_count": 16,
   "metadata": {
    "ExecuteTime": {
     "end_time": "2018-03-30T17:48:24.406011Z",
     "start_time": "2018-03-30T17:48:24.383921Z"
    }
   },
   "outputs": [
    {
     "name": "stdout",
     "output_type": "stream",
     "text": [
      "Mean Square Error:  46.1990916771\n",
      "Root Mean Square Error:  6.7969913695\n",
      "Mean Absolute Error:  5.03422600761\n",
      "R2:  0.999999643204\n",
      "Adj R2:  0.999999633777\n"
     ]
    }
   ],
   "source": [
    "test_regression_results(X.tolist(), y.tolist(), pred2.tolist())"
   ]
  },
  {
   "cell_type": "code",
   "execution_count": null,
   "metadata": {
    "collapsed": true
   },
   "outputs": [],
   "source": []
  }
 ],
 "metadata": {
  "kernelspec": {
   "display_name": "Python [default]",
   "language": "python",
   "name": "python3"
  },
  "language_info": {
   "codemirror_mode": {
    "name": "ipython",
    "version": 3
   },
   "file_extension": ".py",
   "mimetype": "text/x-python",
   "name": "python",
   "nbconvert_exporter": "python",
   "pygments_lexer": "ipython3",
   "version": "3.6.2"
  },
  "toc": {
   "nav_menu": {},
   "number_sections": true,
   "sideBar": true,
   "skip_h1_title": false,
   "toc_cell": false,
   "toc_position": {},
   "toc_section_display": "block",
   "toc_window_display": false
  }
 },
 "nbformat": 4,
 "nbformat_minor": 2
}
