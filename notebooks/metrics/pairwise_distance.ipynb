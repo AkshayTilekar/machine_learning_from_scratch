{
 "cells": [
  {
   "cell_type": "markdown",
   "metadata": {},
   "source": [
    "# Pairwise Distance Metrics"
   ]
  },
  {
   "cell_type": "code",
   "execution_count": 1,
   "metadata": {
    "ExecuteTime": {
     "end_time": "2018-03-21T16:10:45.186311Z",
     "start_time": "2018-03-21T16:10:44.633025Z"
    },
    "collapsed": true
   },
   "outputs": [],
   "source": [
    "import numpy as np\n",
    "import random\n",
    "import matplotlib.pyplot as plt\n",
    "import pandas as pd\n",
    "import math\n",
    "import scipy\n",
    "%matplotlib inline\n",
    "plt.style.use('seaborn')"
   ]
  },
  {
   "cell_type": "code",
   "execution_count": 2,
   "metadata": {
    "ExecuteTime": {
     "end_time": "2018-03-21T16:10:45.359231Z",
     "start_time": "2018-03-21T16:10:45.193731Z"
    }
   },
   "outputs": [
    {
     "name": "stdout",
     "output_type": "stream",
     "text": [
      "Python Version: 3.6.2 |Anaconda custom (64-bit)| (default, Sep 21 2017, 18:29:43) \n",
      "[GCC 4.2.1 Compatible Clang 4.0.1 (tags/RELEASE_401/final)] \n",
      "\n",
      "Matplotlib Version: 2.0.2\n",
      "Numpy Version: 1.12.1\n",
      "Pandas Version: 0.20.3\n"
     ]
    }
   ],
   "source": [
    "import numpy as np\n",
    "import sklearn\n",
    "import matplotlib\n",
    "import pandas as pd\n",
    "import sys\n",
    "libraries = (('Matplotlib', matplotlib), ('Numpy', np), ('Pandas', pd))\n",
    "\n",
    "print(\"Python Version:\", sys.version, '\\n')\n",
    "for lib in libraries:\n",
    "    print('{0} Version: {1}'.format(lib[0], lib[1].__version__))"
   ]
  },
  {
   "cell_type": "code",
   "execution_count": 3,
   "metadata": {
    "ExecuteTime": {
     "end_time": "2018-03-21T16:10:45.369498Z",
     "start_time": "2018-03-21T16:10:45.362657Z"
    },
    "collapsed": true
   },
   "outputs": [],
   "source": [
    "a = [1,2,3]\n",
    "b = [2,3,4]"
   ]
  },
  {
   "cell_type": "code",
   "execution_count": 4,
   "metadata": {
    "ExecuteTime": {
     "end_time": "2018-03-21T16:10:45.929631Z",
     "start_time": "2018-03-21T16:10:45.920671Z"
    }
   },
   "outputs": [],
   "source": [
    "def pandas_to_numpy(x):\n",
    "    \"\"\"\n",
    "    Checks if the input is a Dataframe or series, converts to numpy matrix for\n",
    "    calculation purposes.\n",
    "    ---\n",
    "    Input: X (array, dataframe, or series)\n",
    "    Output: X (array)\n",
    "    \"\"\"\n",
    "    if type(x) == type(pd.DataFrame()) or type(x) == type(pd.Series()):\n",
    "        return x.as_matrix()\n",
    "    if type(x) == type(np.array([1,2])):\n",
    "        return x\n",
    "    return np.array(x) "
   ]
  },
  {
   "cell_type": "code",
   "execution_count": 5,
   "metadata": {
    "ExecuteTime": {
     "end_time": "2018-03-21T16:10:46.848734Z",
     "start_time": "2018-03-21T16:10:46.837585Z"
    }
   },
   "outputs": [
    {
     "data": {
      "text/plain": [
       "3"
      ]
     },
     "execution_count": 5,
     "metadata": {},
     "output_type": "execute_result"
    }
   ],
   "source": [
    "def manhattan_distance(vec1, vec2):\n",
    "    \"\"\"\n",
    "    Manhattan distance measures the distance along\n",
    "    each direction and sums them together.\n",
    "    \"\"\"\n",
    "    vec1 = pandas_to_numpy(vec1)\n",
    "    vec2 = pandas_to_numpy(vec2)\n",
    "    return np.sum(np.abs(vec1-vec2))\n",
    "\n",
    "manhattan_distance(a,b)"
   ]
  },
  {
   "cell_type": "code",
   "execution_count": 6,
   "metadata": {
    "ExecuteTime": {
     "end_time": "2018-03-21T16:10:47.719344Z",
     "start_time": "2018-03-21T16:10:47.709302Z"
    }
   },
   "outputs": [
    {
     "data": {
      "text/plain": [
       "1.7320508075688772"
      ]
     },
     "execution_count": 6,
     "metadata": {},
     "output_type": "execute_result"
    }
   ],
   "source": [
    "def euclidean_distance(vec1, vec2):\n",
    "    \"\"\"\n",
    "    Calculating the Euclidean distance which is\n",
    "    the more traditional method for distance \n",
    "    calculation. sqrt((x1-x2)^2 + (y1-y2)^2 + ...)\n",
    "    \"\"\"\n",
    "    vec1 = pandas_to_numpy(vec1)\n",
    "    vec2 = pandas_to_numpy(vec2)\n",
    "    return np.sqrt(np.sum((vec1-vec2)**2))\n",
    "\n",
    "euclidean_distance(a,b)"
   ]
  },
  {
   "cell_type": "code",
   "execution_count": 8,
   "metadata": {
    "ExecuteTime": {
     "end_time": "2018-03-21T16:11:11.290846Z",
     "start_time": "2018-03-21T16:11:11.277724Z"
    }
   },
   "outputs": [
    {
     "name": "stdout",
     "output_type": "stream",
     "text": [
      "0.9925833339709303\n",
      "1.0\n"
     ]
    }
   ],
   "source": [
    "def cosine_similarity_without_numpy(vec1, vec2):\n",
    "    \"\"\"\n",
    "    Calculates the angular similarity of two vectors.\n",
    "    Does so by calculating cos(theta) between the vectors\n",
    "    using the dot product.\n",
    "    \n",
    "    cos_sim = A dot B/(magnitude(A)*magnitude(B))\n",
    "    \"\"\"\n",
    "    dot_product=0\n",
    "    vec1_sum_sq = 0\n",
    "    vec2_sum_sq = 0\n",
    "    for idx, val in enumerate(vec1):\n",
    "        dot_product += val*vec2[idx]\n",
    "        vec1_sum_sq += val*val\n",
    "        vec2_sum_sq += vec2[idx]*vec2[idx]\n",
    "    return dot_product/(vec1_sum_sq**0.5*vec2_sum_sq**0.5)\n",
    "\n",
    "print(cosine_similarity_without_numpy(a,b))\n",
    "print(cosine_similarity_without_numpy(a, [i-1 for i in b]))"
   ]
  },
  {
   "cell_type": "code",
   "execution_count": 10,
   "metadata": {
    "ExecuteTime": {
     "end_time": "2018-03-21T16:11:26.421841Z",
     "start_time": "2018-03-21T16:11:26.408675Z"
    }
   },
   "outputs": [
    {
     "name": "stdout",
     "output_type": "stream",
     "text": [
      "0.992583333971\n",
      "1.0\n"
     ]
    }
   ],
   "source": [
    "def cosine_similarity(vec1,vec2):\n",
    "    \"\"\"\n",
    "    Calculates the angular similarity of two vectors.\n",
    "    Does so by calculating cos(theta) between the vectors\n",
    "    using the dot product.\n",
    "    \n",
    "    cos_sim = A dot B/(magnitude(A)*magnitude(B))\n",
    "    \"\"\"\n",
    "    vec1 = pandas_to_numpy(vec1)\n",
    "    vec2 = pandas_to_numpy(vec2)\n",
    "    dot_product = np.dot(vec1, vec2)\n",
    "    vec1_norm = np.linalg.norm(vec1)\n",
    "    vec2_norm = np.linalg.norm(vec2)\n",
    "    return dot_product/(vec1_norm* vec2_norm)\n",
    "\n",
    "print(cosine_similarity(a,b))\n",
    "print(cosine_similarity(a,[i-1 for i in b]))"
   ]
  },
  {
   "cell_type": "code",
   "execution_count": 12,
   "metadata": {
    "ExecuteTime": {
     "end_time": "2018-03-21T16:12:27.516595Z",
     "start_time": "2018-03-21T16:12:27.459764Z"
    }
   },
   "outputs": [
    {
     "name": "stdout",
     "output_type": "stream",
     "text": [
      "0.089016054916\n",
      "0.0\n",
      "0.5\n",
      "0.367879441171\n"
     ]
    }
   ],
   "source": [
    "def gaussian_kernel(vec1, vec2, bandwidth=1.):\n",
    "    \"\"\"\n",
    "    Returns the Gaussian kernel relationship between two\n",
    "    vectors. The Gaussian kernel assumes a bandwidth that\n",
    "    defines the \"width\" of the Gaussian used to determine\n",
    "    the relationship between the two points.\n",
    "    \"\"\"\n",
    "    dist = euclidean_distance(vec1, vec2)\n",
    "    norm = 1/(np.sqrt(2*np.pi*bandwidth**2))\n",
    "    return norm*np.exp(-dist**2/(2*bandwidth**2))\n",
    "\n",
    "def uniform_kernel(vec1, vec2, threshold_range=1, value=0.5):\n",
    "    \"\"\"\n",
    "    Returns a value if the two provided vectors are\n",
    "    within threshold range of each other. In normal\n",
    "    implementation, the integration of value over the\n",
    "    whole range should be 1.\n",
    "    \"\"\"\n",
    "    distance = euclidean_distance(vec1, vec2)\n",
    "    if distance <= threshold_range:\n",
    "        probs = value\n",
    "    else:\n",
    "        probs = 0.\n",
    "    return probs\n",
    "\n",
    "def rbf_kernel(vec1, vec2, gamma=None):\n",
    "    \"\"\"\n",
    "    The RBF, or radial basis function, kernel\n",
    "    is similar to the gaussian kernel. However,\n",
    "    it has a different scaling factor, using\n",
    "    gamma instead of the bandwidth for normalization\n",
    "    and width scaling. Gamma defaults to 1/dimensions\n",
    "    unless otherwise specified.d\n",
    "    \"\"\"\n",
    "    if not gamma:\n",
    "        gamma = 1/len(vec1)\n",
    "    distance = euclidean_distance(vec1, vec2)**2\n",
    "    distance *= -gamma\n",
    "    return np.exp(distance)\n",
    "\n",
    "print(gaussian_kernel(a,b))\n",
    "print(uniform_kernel(a,b))\n",
    "print(uniform_kernel(a,[i-1 for i in b]))\n",
    "print(rbf_kernel(a,b))"
   ]
  },
  {
   "cell_type": "code",
   "execution_count": null,
   "metadata": {
    "collapsed": true
   },
   "outputs": [],
   "source": []
  }
 ],
 "metadata": {
  "kernelspec": {
   "display_name": "Python [default]",
   "language": "python",
   "name": "python3"
  },
  "language_info": {
   "codemirror_mode": {
    "name": "ipython",
    "version": 3
   },
   "file_extension": ".py",
   "mimetype": "text/x-python",
   "name": "python",
   "nbconvert_exporter": "python",
   "pygments_lexer": "ipython3",
   "version": "3.6.2"
  },
  "toc": {
   "nav_menu": {},
   "number_sections": true,
   "sideBar": true,
   "skip_h1_title": false,
   "toc_cell": false,
   "toc_position": {},
   "toc_section_display": "block",
   "toc_window_display": false
  }
 },
 "nbformat": 4,
 "nbformat_minor": 2
}
