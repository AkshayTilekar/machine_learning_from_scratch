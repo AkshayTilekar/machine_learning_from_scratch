{
 "cells": [
  {
   "cell_type": "markdown",
   "metadata": {},
   "source": [
    "# Latent Semantic Indexing"
   ]
  },
  {
   "cell_type": "markdown",
   "metadata": {},
   "source": [
    "Z. W. Miller - Copyright 2018"
   ]
  },
  {
   "cell_type": "code",
   "execution_count": 1,
   "metadata": {
    "ExecuteTime": {
     "end_time": "2018-03-27T01:28:52.038560Z",
     "start_time": "2018-03-27T01:28:51.195673Z"
    },
    "collapsed": true
   },
   "outputs": [],
   "source": [
    "import numpy as np\n",
    "import random\n",
    "import matplotlib.pyplot as plt\n",
    "import pandas as pd\n",
    "import math\n",
    "import scipy\n",
    "%matplotlib inline\n",
    "plt.style.use('seaborn')"
   ]
  },
  {
   "cell_type": "code",
   "execution_count": 2,
   "metadata": {
    "ExecuteTime": {
     "end_time": "2018-03-27T01:28:52.293885Z",
     "start_time": "2018-03-27T01:28:52.041062Z"
    }
   },
   "outputs": [
    {
     "name": "stdout",
     "output_type": "stream",
     "text": [
      "Python Version: 3.6.2 |Anaconda custom (64-bit)| (default, Sep 21 2017, 18:29:43) \n",
      "[GCC 4.2.1 Compatible Clang 4.0.1 (tags/RELEASE_401/final)] \n",
      "\n",
      "Matplotlib Version: 2.0.2\n",
      "Numpy Version: 1.12.1\n",
      "Pandas Version: 0.20.3\n",
      "Scipy Version: 0.19.1\n",
      "Sklearn Version: 0.19.0\n"
     ]
    }
   ],
   "source": [
    "import sklearn\n",
    "import matplotlib\n",
    "import sys\n",
    "libraries = (('Matplotlib', matplotlib), ('Numpy', np), ('Pandas', pd), ('Scipy', scipy), ('Sklearn', sklearn))\n",
    "\n",
    "print(\"Python Version:\", sys.version, '\\n')\n",
    "for lib in libraries:\n",
    "    print('{0} Version: {1}'.format(lib[0], lib[1].__version__))"
   ]
  },
  {
   "cell_type": "code",
   "execution_count": 3,
   "metadata": {
    "ExecuteTime": {
     "end_time": "2018-03-27T01:28:52.447140Z",
     "start_time": "2018-03-27T01:28:52.297572Z"
    },
    "collapsed": true
   },
   "outputs": [],
   "source": [
    "import numpy as np\n",
    "\n",
    "class latent_semantic_indexing:\n",
    "    \n",
    "    def __init__(self, num_topics=5):\n",
    "        \"\"\"\n",
    "        Latent semantic indexing uses matrix decomposition\n",
    "        techniques to reduce the large feature space associated\n",
    "        with text analysis into a smaller \"topic\" space which\n",
    "        by exploiting SVD's ability to find correlations in\n",
    "        features and combine them into super-dimensions made\n",
    "        of the correlated columns. In the text analysis, that \n",
    "        means if the original features are word, LSI will \n",
    "        find words that tend to be in the same document together\n",
    "        and group them as unique topics. \n",
    "        \"\"\"\n",
    "        self.num_topics = num_topics\n",
    "        \n",
    "    def fit(self, X):\n",
    "        \"\"\"\n",
    "        Using SVD as the base of the algorithm (we use numpy since \n",
    "        it's faster than our method), we do a dimensionality\n",
    "        reduction. Remember that V is an expression of the new\n",
    "        dimensions in terms of the old columns. If we do count\n",
    "        vectorizer, this is an expression of topics in terms of\n",
    "        ngrams. We'll use this to extract our topics. We can also\n",
    "        cast new documents into topic space using the V matrix.\n",
    "        \"\"\"\n",
    "        X = self.convert_to_array(X)\n",
    "        self.U, self.sigma, self.V = np.linalg.svd(X)\n",
    "        self.V = self.V[:self.num_topics,:]\n",
    "        self.sigma = self.sigma[:self.num_topics]\n",
    "        self.U = self.U[:,:self.num_topics]\n",
    "        \n",
    "    def transform(self, X):\n",
    "        \"\"\"\n",
    "        Since V is a conversion of columns to the lower\n",
    "        dimensional space, we can just use matrix \n",
    "        multiplication to cast any new data into that \n",
    "        space.\n",
    "        ---\n",
    "        Input: X, data matrix (dataframe, array, list of lists)\n",
    "        \"\"\"\n",
    "        X = self.convert_to_array(X)\n",
    "        return np.dot(X, self.V.T)\n",
    "    \n",
    "    def fit_transform(self, X):\n",
    "        \"\"\"\n",
    "        Fit on X and then transform X and return it as vectors.\n",
    "        \"\"\"\n",
    "        self.fit(X)\n",
    "        return self.transform(X)\n",
    "    \n",
    "    def print_topics(self, X, id_to_word=None, num_words_per_topics=10):\n",
    "        \"\"\"\n",
    "        For each topic created in the SVD decomposition,\n",
    "        iterate through the strongest contributors (positive\n",
    "        or negative), and print out those words. Requires a \n",
    "        column number to word dictionary, otherwise just prints\n",
    "        the column number for the strong correlations.\n",
    "        \"\"\"\n",
    "        for idx, row in enumerate(self.V):\n",
    "            sorted_word_ids = np.argsort(row)[-num_words_per_topics:]\n",
    "            print(\"--- Topic \", idx, \" ---\")\n",
    "            words_to_print = \"\"\n",
    "            for word_id in sorted_word_ids:\n",
    "                if id_to_word != None:\n",
    "                    words_to_print += id_to_word[word_id]\n",
    "                    words_to_print += ', '\n",
    "                else:\n",
    "                    words_to_print += \"Column \"\n",
    "                    words_to_print += str(word_id)\n",
    "                    words_to_print += ', '\n",
    "            print(words_to_print[:-2])\n",
    "    \n",
    "    def pandas_to_numpy(self, x):\n",
    "        \"\"\"\n",
    "        Checks if the input is a Dataframe or series, converts to numpy matrix for\n",
    "        calculation purposes.\n",
    "        ---\n",
    "        Input: X (array, dataframe, or series)\n",
    "        Output: X (array)\n",
    "        \"\"\"\n",
    "        if type(x) == type(pd.DataFrame()) or type(x) == type(pd.Series()):\n",
    "            return x.as_matrix()\n",
    "        if type(x) == type(np.array([1,2])):\n",
    "            return x\n",
    "        return np.array(x) \n",
    "    \n",
    "    def handle_1d_data(self,x):\n",
    "        \"\"\"\n",
    "        Converts 1 dimensional data into a series of rows with 1 columns\n",
    "        instead of 1 row with many columns.\n",
    "        \"\"\"\n",
    "        if x.ndim == 1:\n",
    "            x = x.reshape(-1,1)\n",
    "        return x\n",
    "    \n",
    "    def convert_to_array(self, x):\n",
    "        \"\"\"\n",
    "        Takes in an input and converts it to a numpy array\n",
    "        and then checks if it needs to be reshaped for us\n",
    "        to use it properly\n",
    "        \"\"\"\n",
    "        x = self.pandas_to_numpy(x)\n",
    "        x = self.handle_1d_data(x)\n",
    "        return x\n",
    "                        "
   ]
  },
  {
   "cell_type": "code",
   "execution_count": 4,
   "metadata": {
    "ExecuteTime": {
     "end_time": "2018-03-27T01:28:53.170239Z",
     "start_time": "2018-03-27T01:28:52.806737Z"
    },
    "collapsed": true
   },
   "outputs": [],
   "source": [
    "import numpy as np\n",
    "from collections import Counter\n",
    "from string import punctuation\n",
    "\n",
    "class count_vectorizer:\n",
    "    \n",
    "    def __init__(self, max_features=None, ngrams = (1,1), tokenizer=None, remove_stopwords=False):\n",
    "        \"\"\"\n",
    "        Count vectorizer reads the text provided, tokenizes it\n",
    "        with the provided tokenizer (or the default), then generates\n",
    "        ngrams keeping track of all ngrams as the vocabulary.\n",
    "        Then it takes provided texts and converts them into vectors\n",
    "        by counting the appearance of each ngram and tracking that\n",
    "        for every document. \n",
    "        ---\n",
    "        KWargs:\n",
    "        max_features: how many ngrams to allow in the vector, using the\n",
    "        most common features first. If None, defaults to using all\n",
    "        ngrams (int)\n",
    "        ngrams: how many tokens to combine to form features. First element\n",
    "        of tuple is starting point, second is ending point.\n",
    "        tokenizer: what function to use to create tokens (must return \n",
    "        list of tokens)\n",
    "        \"\"\"\n",
    "        self.max_features = max_features\n",
    "        self.vocabulary = {}\n",
    "        self.ngrams = ngrams\n",
    "        if tokenizer == None:\n",
    "            self.tokenizer = self.tokenize\n",
    "        else:\n",
    "            self.tokenizer = tokenizer\n",
    "        self.remove_stopwords = remove_stopwords\n",
    "        self.stopwords = {'ourselves', 'hers', 'between', 'yourself', 'but', 'again', \n",
    "                          'there', 'about', 'once', 'during', 'out', 'very', 'having', \n",
    "                          'with', 'they', 'own', 'an', 'be', 'some', 'for', 'do', 'its', \n",
    "                          'yours', 'such', 'into', 'of', 'most', 'itself', 'other', 'off', \n",
    "                          'is', 's', 'am', 'or', 'who', 'as', 'from', 'him', 'each', 'the', \n",
    "                          'themselves', 'until', 'below', 'are', 'we', 'these', 'your', \n",
    "                          'his', 'through', 'don', 'nor', 'me', 'were', 'her', 'more', \n",
    "                          'himself', 'this', 'down', 'should', 'our', 'their', 'while', \n",
    "                          'above', 'both', 'up', 'to', 'ours', 'had', 'she', 'all', 'no', \n",
    "                          'when', 'at', 'any', 'before', 'them', 'same', 'and', 'been', \n",
    "                          'have', 'in', 'will', 'on', 'does', 'yourselves', 'then', 'that', \n",
    "                          'because', 'what', 'over', 'why', 'so', 'can', 'did', 'not', 'now', \n",
    "                          'under', 'he', 'you', 'herself', 'has', 'just', 'where', 'too', 'only', \n",
    "                          'myself', 'which', 'those', 'i', 'after', 'few', 'whom', 't', 'being', \n",
    "                          'if', 'theirs', 'my', 'against', 'a', 'by', 'doing', 'it', 'how', 'further', \n",
    "                          'was', 'here', 'than'}\n",
    "        \n",
    "    def token_generator(self, X):\n",
    "        \"\"\"\n",
    "        Generator that returns joined tokens as a single\n",
    "        string to act as a feature. It generates the tokens\n",
    "        by iterating through the allowed ngrams and combining\n",
    "        the appropriate number of tokens into a string.\n",
    "        \"\"\"\n",
    "        for i in range(self.ngrams[0],self.ngrams[1]+1):\n",
    "            for ix, _ in enumerate(X):\n",
    "                if ix+i < len(X)+1:\n",
    "                    yield ' '.join(X[ix:ix+i])\n",
    "    \n",
    "    def tokenize(self, X):\n",
    "        \"\"\"\n",
    "        Simple tokenizer that removes punctuation,\n",
    "        lowercases the text, and breaks on spaces.\n",
    "        Also removes stopwords and numeric values\n",
    "        from being treated as words.\n",
    "        \"\"\"\n",
    "        for symbol in punctuation:\n",
    "            X = X.replace(symbol,'')\n",
    "        final_token_list = [] \n",
    "        for token in X.lower().split():\n",
    "            if self.remove_stopwords:\n",
    "                if not self.check_stopwords(token):\n",
    "                    try:\n",
    "                        int(token)\n",
    "                        float(token)\n",
    "                    except:\n",
    "                        final_token_list.append(token)  \n",
    "            else:\n",
    "                final_token_list.append(token)\n",
    "        return final_token_list\n",
    "        \n",
    "    def check_stopwords(self, token):\n",
    "        \"\"\"\n",
    "        Checks if the token is in our list of common\n",
    "        stopwords, and returns a boolean.\n",
    "        \"\"\"\n",
    "        return token in self.stopwords\n",
    "    \n",
    "    def fit(self, X):\n",
    "        \"\"\"\n",
    "        Go through all provided training documents and\n",
    "        create the list of vocabulary for known documents\n",
    "        by looking at all ngrams and tracking how often\n",
    "        those ngrams appear. If max_features is defined,\n",
    "        only keep the most common tokens. Afterward,\n",
    "        generate a token_to_id mapper and an id_to_token\n",
    "        mapper.\n",
    "        \"\"\"\n",
    "        for document in X:\n",
    "            tokens = self.tokenizer(document)\n",
    "            for token in self.token_generator(tokens):\n",
    "                if token in self.vocabulary.keys():\n",
    "                    self.vocabulary[token] += 1\n",
    "                else:\n",
    "                    self.vocabulary[token] = 1\n",
    "        \n",
    "        if self.max_features != None:\n",
    "            temp_vocab = {}\n",
    "            for key, value in Counter(self.vocabulary).most_common(self.max_features):\n",
    "                temp_vocab[key] = value\n",
    "            self.vocabulary = temp_vocab\n",
    "            del temp_vocab\n",
    "            \n",
    "        self.token_to_id = {ky: ix for ix, ky in enumerate(sorted(self.vocabulary.keys()))}\n",
    "        self.id_to_token = {ix: ky for ix, ky in enumerate(sorted(self.vocabulary.keys()))}\n",
    "        \n",
    "        \n",
    "    def transform(self, X):\n",
    "        \"\"\"\n",
    "        Go through all provided documents and use the known\n",
    "        vocabulary to track how often each ngram appears in\n",
    "        the document. At the end, stack all of the generated\n",
    "        document vectors together. Skip the initial vector that\n",
    "        all 0's, which is just there to act as a template.\n",
    "        \"\"\"\n",
    "        vectorized_docs = np.zeros(len(self.vocabulary.keys()))\n",
    "        for document in X:\n",
    "            tokens = self.tokenizer(document)\n",
    "            vectorized_doc = np.zeros(len(self.vocabulary.keys()))\n",
    "            for token in self.token_generator(tokens):\n",
    "                if token in self.vocabulary:\n",
    "                    word_id = self.token_to_id[token]\n",
    "                    vectorized_doc[word_id] += 1\n",
    "            vectorized_docs = np.vstack((vectorized_docs,vectorized_doc))\n",
    "        return vectorized_docs[1:]\n",
    "    \n",
    "    def fit_transform(self, X):\n",
    "        \"\"\"\n",
    "        Fit on X and then transform X and return it as vectors.\n",
    "        \"\"\"\n",
    "        self.fit(X)\n",
    "        return self.transform(X)\n",
    "                        "
   ]
  },
  {
   "cell_type": "code",
   "execution_count": 5,
   "metadata": {
    "ExecuteTime": {
     "end_time": "2018-03-27T01:28:53.992967Z",
     "start_time": "2018-03-27T01:28:53.988873Z"
    },
    "collapsed": true
   },
   "outputs": [],
   "source": [
    "cv = count_vectorizer(max_features=200, ngrams=(1,2), remove_stopwords=True)"
   ]
  },
  {
   "cell_type": "code",
   "execution_count": 6,
   "metadata": {
    "ExecuteTime": {
     "end_time": "2018-03-27T01:28:56.694619Z",
     "start_time": "2018-03-27T01:28:55.113667Z"
    },
    "collapsed": true
   },
   "outputs": [],
   "source": [
    "from sklearn import datasets\n",
    "\n",
    "categories = ['alt.atheism', 'comp.graphics', 'rec.sport.baseball']\n",
    "ng_train = datasets.fetch_20newsgroups(subset='train', \n",
    "                                       categories=categories, \n",
    "                                       remove=('headers', \n",
    "                                               'footers', 'quotes'))\n",
    "data = ng_train.data"
   ]
  },
  {
   "cell_type": "code",
   "execution_count": 7,
   "metadata": {
    "ExecuteTime": {
     "end_time": "2018-03-27T01:28:59.632849Z",
     "start_time": "2018-03-27T01:28:57.254332Z"
    },
    "collapsed": true
   },
   "outputs": [],
   "source": [
    "X = cv.fit_transform(data)"
   ]
  },
  {
   "cell_type": "code",
   "execution_count": 8,
   "metadata": {
    "ExecuteTime": {
     "end_time": "2018-03-27T01:28:59.981938Z",
     "start_time": "2018-03-27T01:28:59.634965Z"
    },
    "collapsed": true
   },
   "outputs": [],
   "source": [
    "lsi = latent_semantic_indexing(num_topics=6)\n",
    "lsi.fit(X)"
   ]
  },
  {
   "cell_type": "code",
   "execution_count": 9,
   "metadata": {
    "ExecuteTime": {
     "end_time": "2018-03-27T01:29:00.191754Z",
     "start_time": "2018-03-27T01:29:00.171723Z"
    }
   },
   "outputs": [
    {
     "name": "stdout",
     "output_type": "stream",
     "text": [
      "--- Topic  0  ---\n",
      "season, players, hes, games, last year, pitching, baseball, league, id, won\n",
      "--- Topic  1  ---\n",
      "files, version, color, programs, format, images, image, file, gif, jpeg\n",
      "--- Topic  2  ---\n",
      "people, one, see, dont, file, jesus, atheists, god, gif, jpeg\n",
      "--- Topic  3  ---\n",
      "may, exist, atheist, many, religion, believe, religious, atheism, god, atheists\n",
      "--- Topic  4  ---\n",
      "three, god, set, display, software, one, using, data, jesus, image\n",
      "--- Topic  5  ---\n",
      "course, even, said, see, religion, atheism, religious, many, atheists, jesus\n"
     ]
    }
   ],
   "source": [
    "lsi.print_topics(lsi.transform(X), id_to_word=cv.id_to_token)"
   ]
  },
  {
   "cell_type": "code",
   "execution_count": null,
   "metadata": {
    "collapsed": true
   },
   "outputs": [],
   "source": []
  }
 ],
 "metadata": {
  "kernelspec": {
   "display_name": "Python [default]",
   "language": "python",
   "name": "python3"
  },
  "language_info": {
   "codemirror_mode": {
    "name": "ipython",
    "version": 3
   },
   "file_extension": ".py",
   "mimetype": "text/x-python",
   "name": "python",
   "nbconvert_exporter": "python",
   "pygments_lexer": "ipython3",
   "version": "3.6.2"
  },
  "toc": {
   "nav_menu": {},
   "number_sections": true,
   "sideBar": true,
   "skip_h1_title": false,
   "toc_cell": false,
   "toc_position": {},
   "toc_section_display": "block",
   "toc_window_display": false
  }
 },
 "nbformat": 4,
 "nbformat_minor": 2
}
