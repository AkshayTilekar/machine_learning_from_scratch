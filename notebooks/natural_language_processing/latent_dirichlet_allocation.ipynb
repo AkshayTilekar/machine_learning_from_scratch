{
 "cells": [
  {
   "cell_type": "markdown",
   "metadata": {},
   "source": [
    "# Latent Dirichlet Allocation"
   ]
  },
  {
   "cell_type": "code",
   "execution_count": 1,
   "metadata": {
    "ExecuteTime": {
     "end_time": "2018-03-16T17:39:14.713904Z",
     "start_time": "2018-03-16T17:39:14.108108Z"
    },
    "collapsed": true
   },
   "outputs": [],
   "source": [
    "import numpy as np\n",
    "import random\n",
    "import matplotlib.pyplot as plt\n",
    "import pandas as pd\n",
    "import math\n",
    "import scipy\n",
    "%matplotlib inline\n",
    "plt.style.use('seaborn')"
   ]
  },
  {
   "cell_type": "code",
   "execution_count": 2,
   "metadata": {
    "ExecuteTime": {
     "end_time": "2018-03-16T17:39:14.919467Z",
     "start_time": "2018-03-16T17:39:14.716643Z"
    }
   },
   "outputs": [
    {
     "name": "stdout",
     "output_type": "stream",
     "text": [
      "Python Version: 3.6.2 |Anaconda custom (64-bit)| (default, Sep 21 2017, 18:29:43) \n",
      "[GCC 4.2.1 Compatible Clang 4.0.1 (tags/RELEASE_401/final)] \n",
      "\n",
      "Matplotlib Version: 2.0.2\n",
      "Numpy Version: 1.12.1\n",
      "Pandas Version: 0.20.3\n",
      "Scipy Version: 0.19.1\n",
      "Sklearn Version: 0.19.0\n"
     ]
    }
   ],
   "source": [
    "import sklearn\n",
    "import matplotlib\n",
    "import sys\n",
    "libraries = (('Matplotlib', matplotlib), ('Numpy', np), ('Pandas', pd), ('Scipy', scipy), ('Sklearn', sklearn))\n",
    "\n",
    "print(\"Python Version:\", sys.version, '\\n')\n",
    "for lib in libraries:\n",
    "    print('{0} Version: {1}'.format(lib[0], lib[1].__version__))"
   ]
  },
  {
   "cell_type": "code",
   "execution_count": 179,
   "metadata": {
    "ExecuteTime": {
     "end_time": "2018-03-16T18:53:00.626352Z",
     "start_time": "2018-03-16T18:52:59.687428Z"
    },
    "collapsed": true
   },
   "outputs": [],
   "source": [
    "import numpy as np\n",
    "from string import punctuation\n",
    "\n",
    "class latent_dirichlet_allocation:\n",
    "    \n",
    "    def __init__(self, num_topics=2, num_iter=5, alpha=1, eta=0.001, tokenizer=None, \n",
    "                 remove_stopwords=False, verbose=False):\n",
    "        \"\"\"\n",
    "        Latent Dirichlet Allocation is based on the idea of being \n",
    "        able to generate documents. The idea is that every doc is \n",
    "        made of a series of topics and each topic is made of a \n",
    "        series of words. If one wanted to generate a document, we\n",
    "        could just randomly choose a topic, then choose a word from\n",
    "        that topic. In practice, we want to do the reverse, which is\n",
    "        to extract a set of topics given a corpus of docs. To do that\n",
    "        we'll rely on Gibbs Sampling, which is a Monte Carlo style method\n",
    "        of assigning every word a topic, then iteratively looping\n",
    "        through all the words and deciding, what topic is this more likely\n",
    "        to belong to given what we know about the topics right now using\n",
    "        a Bayesian understanding of the process. For the process we will\n",
    "        assume the prior distribution is a Dirichlet distribtution. This\n",
    "        module also has tokenization built in.\n",
    "        ---\n",
    "        KWargs:\n",
    "        num_topics: how many topics to look for\n",
    "        num_iter: how many times to iteratively assign topics (more\n",
    "        iterations leads to better topics, which a decaying return)\n",
    "        alpha: Hyperparameter that sets information about the \n",
    "        Dirichlet prior. In general, the larger this is, the more\n",
    "        narrow we assume the topics to be and the harder it is to find\n",
    "        unique topics.\n",
    "        eta: Hyperparameter that causes more \"randomness\" to the topic\n",
    "        distribution while assigning. This causes topics to not get stuck\n",
    "        in \"all the same topic\" ruts.\n",
    "        tokenizer: allows the user to use their own tokenizer. If None,\n",
    "        uses default tokenizer\n",
    "        remove_stopwords: flag to choose whether to keep common words or not.\n",
    "        If False, it will be easy to get topics that are just articles and other\n",
    "        common words.\n",
    "        verbose: flag to set level of printing. If True, prints every time a \n",
    "        word changes topics.\n",
    "        \"\"\"\n",
    "        self.num_topics = num_topics\n",
    "        self.num_iter = num_iter\n",
    "        if tokenizer == None:\n",
    "            self.tokenizer = self.tokenize\n",
    "        else:\n",
    "            self.tokenizer = tokenizer\n",
    "        self.alpha = alpha\n",
    "        self.eta = eta\n",
    "        self.verbose = verbose\n",
    "        self.remove_stopwords = remove_stopwords\n",
    "        self.vocabulary = {}\n",
    "        self.id_to_vocabulary = {}\n",
    "        self.stopwords = {'ourselves', 'hers', 'between', 'yourself', 'but', 'again', \n",
    "                          'there', 'about', 'once', 'during', 'out', 'very', 'having', \n",
    "                          'with', 'they', 'own', 'an', 'be', 'some', 'for', 'do', 'its', \n",
    "                          'yours', 'such', 'into', 'of', 'most', 'itself', 'other', 'off', \n",
    "                          'is', 's', 'am', 'or', 'who', 'as', 'from', 'him', 'each', 'the', \n",
    "                          'themselves', 'until', 'below', 'are', 'we', 'these', 'your', \n",
    "                          'his', 'through', 'don', 'nor', 'me', 'were', 'her', 'more', \n",
    "                          'himself', 'this', 'down', 'should', 'our', 'their', 'while', \n",
    "                          'above', 'both', 'up', 'to', 'ours', 'had', 'she', 'all', 'no', \n",
    "                          'when', 'at', 'any', 'before', 'them', 'same', 'and', 'been', \n",
    "                          'have', 'in', 'will', 'on', 'does', 'yourselves', 'then', 'that', \n",
    "                          'because', 'what', 'over', 'why', 'so', 'can', 'did', 'not', 'now', \n",
    "                          'under', 'he', 'you', 'herself', 'has', 'just', 'where', 'too', 'only', \n",
    "                          'myself', 'which', 'those', 'i', 'after', 'few', 'whom', 't', 'being', \n",
    "                          'if', 'theirs', 'my', 'against', 'a', 'by', 'doing', 'it', 'how', 'further', \n",
    "                          'was', 'here', 'than'}\n",
    "        \n",
    "    def fit(self, X):\n",
    "        \"\"\"\n",
    "        Tokenizes the documents, then creates several lookup\n",
    "        tables between words and ids. Assigns ever word a random\n",
    "        topic. Then uses Gibbs sampling to loop through the \n",
    "        documents and update the topics assigned to each word\n",
    "        using Bayes rule and a Dirichlet prior. The Bayes rule\n",
    "        stuff is tucked in the calculation of p_topics. Once the\n",
    "        word is updated, updates the data used for choosing word\n",
    "        topics. \n",
    "        \"\"\"\n",
    "        # tokenize\n",
    "        tokenized_docs = [self.tokenizer(x) for x in X]\n",
    "        \n",
    "        # create a token to id mapper\n",
    "        idx = 0\n",
    "        for doc in tokenized_docs:\n",
    "            for token in doc:\n",
    "                if token not in self.vocabulary:\n",
    "                    self.vocabulary[token] = idx\n",
    "                    idx += 1\n",
    "                    \n",
    "        # create the reverse mapper\n",
    "        for entry in self.vocabulary.items():\n",
    "            self.id_to_vocabulary[entry[1]] = entry[0]\n",
    "        \n",
    "        # convert docs to ids\n",
    "        docs_as_ids = []\n",
    "        token_topics = []\n",
    "        \n",
    "        # Setup arrays to store information needed to calculate priors\n",
    "        # word_topic counts how often each word is assigned to each topic\n",
    "        # doc_topic counts how much of each topic is in each document\n",
    "        word_topic = np.zeros((self.num_topics, len(self.vocabulary)))\n",
    "        doc_topic = np.zeros((len(tokenized_docs), self.num_topics))\n",
    "        \n",
    "        # assign a random topic to each token in each document and\n",
    "        # update the arrays for calculating priors.\n",
    "        for doc_id, doc in enumerate(tokenized_docs):\n",
    "            temp_document = []\n",
    "            temp_topic_assignments = []\n",
    "            for token in doc:\n",
    "                random_topic = np.random.randint(0,self.num_topics)\n",
    "                token_id = self.vocabulary[token]\n",
    "                temp_document.append(token_id)\n",
    "                temp_topic_assignments.append(random_topic)\n",
    "                word_topic[random_topic][token_id] += 1\n",
    "                doc_topic[doc_id][random_topic] += 1\n",
    "                \n",
    "            docs_as_ids.append(temp_document)\n",
    "            token_topics.append(temp_topic_assignments)\n",
    "            \n",
    "        \n",
    "        # iterative method for doing LDA via Gibbs-Sampling\n",
    "        for iteration in range(self.num_iter):\n",
    "            for doc_id, doc in enumerate(docs_as_ids):\n",
    "                for token_position, token_id in enumerate(doc):\n",
    "                    # Find the current topic and remove counts from that so a \n",
    "                    # word can't vote on what topic itself should be\n",
    "                    topic_of_token = token_topics[doc_id][token_position]\n",
    "                    doc_topic[doc_id][topic_of_token] -= 1\n",
    "                    word_topic[topic_of_token][token_id] -= 1\n",
    "                    \n",
    "                    # Calculate the probability of the word belonging\n",
    "                    # to each topic assuming a Dirichlet Prior for the topics\n",
    "                    denom_1 = np.sum(doc_topic[doc_id]) + self.alpha*self.num_topics\n",
    "                    denom_2 = np.sum(word_topic, axis=1) + self.eta*len(self.vocabulary)\n",
    "                    p_topics = (word_topic[:,token_id]+self.eta)/(denom_2*(doc_topic[doc_id]+self.alpha))/denom_1\n",
    "                    p_topics = p_topics/np.sum(p_topics)\n",
    "                    \n",
    "                    # Given the probs for each topic, randomly choose a topic\n",
    "                    # weighted by those probabilities\n",
    "                    new_topic = np.random.multinomial(1, p_topics) #returns an array of size p_topics\n",
    "                    new_topic = np.argmax(new_topic)\n",
    "                    \n",
    "                    # Assign the topic to that word and update all of the\n",
    "                    # information needed to calculate priors\n",
    "                    token_topics[doc_id][token_position] = new_topic\n",
    "                    doc_topic[doc_id][new_topic] += 1\n",
    "                    word_topic[new_topic][token_id] += 1\n",
    "                    if topic_of_token != new_topic and self.verbose:\n",
    "                        print(\"TOPIC CHANGE for Doc %i, Token %i: %i -> %i\"%(doc_id, token_position,\n",
    "                                                                             topic_of_token, new_topic))\n",
    "        # Normalize the understanding of the documents and topics to \n",
    "        # sum to 1, and store for later usage when converting documents.\n",
    "        self.doc_topics = self.normalize_by_row(doc_topic)\n",
    "        self.word_topic = self.normalize_by_row(word_topic)\n",
    "        \n",
    "    def normalize_by_row(self, matrix):\n",
    "        \"\"\"\n",
    "        Takes in a matrix of values and normalizes\n",
    "        such that each row will sum to 1.\n",
    "        \"\"\"\n",
    "        return (matrix.T/np.sum(matrix.T, axis=0)).T\n",
    "        \n",
    "    def tokenize(self, X):\n",
    "        \"\"\"\n",
    "        Simple tokenizer that removes punctuation,\n",
    "        lowercases the text, and breaks on spaces.\n",
    "        Also removes stopwords and numeric values\n",
    "        from being treated as words.\n",
    "        \"\"\"\n",
    "        for symbol in punctuation:\n",
    "            X = X.replace(symbol,'')\n",
    "        final_token_list = [] \n",
    "        for token in X.lower().split():\n",
    "            if self.remove_stopwords:\n",
    "                if not self.check_stopwords(token):\n",
    "                    try:\n",
    "                        int(token)\n",
    "                        float(token)\n",
    "                    except:\n",
    "                        final_token_list.append(token)  \n",
    "            else:\n",
    "                final_token_list.append(token)\n",
    "        return final_token_list\n",
    "    \n",
    "    def check_stopwords(self, token):\n",
    "        \"\"\"\n",
    "        Checks if the token is in our list of common\n",
    "        stopwords, and returns a boolean.\n",
    "        \"\"\"\n",
    "        return token in self.stopwords\n",
    "    \n",
    "    def print_topics(self, num_words_per_topics=10):\n",
    "        \"\"\"\n",
    "        For each topic created in the Gibbs sampling\n",
    "        find the words that have the largest probability\n",
    "        of belonging to that topic and print them.\n",
    "        \"\"\"\n",
    "        for idx, row in enumerate(self.word_topic):\n",
    "            sorted_word_ids = np.argsort(row)[-num_words_per_topics:]\n",
    "            print(\"--- Topic \", idx, \" ---\")\n",
    "            words_to_print = \"\"\n",
    "            for word_id in reversed(sorted_word_ids):\n",
    "                if self.id_to_vocabulary != None:\n",
    "                    words_to_print += self.id_to_vocabulary[word_id]\n",
    "                    words_to_print += ', '\n",
    "                else:\n",
    "                    words_to_print += \"Column \"\n",
    "                    words_to_print += str(word_id)\n",
    "                    words_to_print += ', '\n",
    "            print(words_to_print[:-2])\n",
    "            \n",
    "    def transform(self, X):\n",
    "        \"\"\"\n",
    "        Take new set of documents X and figure out how much of \n",
    "        each topic they contain.\n",
    "        \"\"\"\n",
    "        \n",
    "        # tokenize the new documents and create an array\n",
    "        # to store the amount of each topic in the documents\n",
    "        tokenized_docs = [self.tokenizer(x) for x in X]\n",
    "        new_doc_topics = np.zeros((len(X), self.num_topics))\n",
    "        \n",
    "        # Loop through documents and tokens in each document\n",
    "        # add up the \"amount\" that each token in the doc belongs \n",
    "        # to each topic. Return that as the understanding of the\n",
    "        # new documents in the latent topic space.\n",
    "        for doc_id, doc in enumerate(tokenized_docs):\n",
    "            for token in doc:\n",
    "                try:\n",
    "                    id_of_token = self.vocabulary[token]\n",
    "                except KeyError: # if token not in vocab\n",
    "                    continue\n",
    "                new_doc_topics[doc_id] += self.word_topic.T[id_of_token]\n",
    "        new_doc_topics = self.normalize_by_row(new_doc_topics)\n",
    "        return new_doc_topics\n",
    "    \n",
    "    def pandas_to_numpy(self, x):\n",
    "        \"\"\"\n",
    "        Checks if the input is a Dataframe or series, converts to numpy matrix for\n",
    "        calculation purposes.\n",
    "        ---\n",
    "        Input: X (array, dataframe, or series)\n",
    "        Output: X (array)\n",
    "        \"\"\"\n",
    "        if type(x) == type(pd.DataFrame()) or type(x) == type(pd.Series()):\n",
    "            return x.as_matrix()\n",
    "        if type(x) == type(np.array([1,2])):\n",
    "            return x\n",
    "        return np.array(x) \n",
    "    \n",
    "    def handle_1d_data(self,x):\n",
    "        \"\"\"\n",
    "        Converts 1 dimensional data into a series of rows with 1 columns\n",
    "        instead of 1 row with many columns.\n",
    "        \"\"\"\n",
    "        if x.ndim == 1:\n",
    "            x = x.reshape(-1,1)\n",
    "        return x\n",
    "    \n",
    "    def convert_to_array(self, x):\n",
    "        \"\"\"\n",
    "        Takes in an input and converts it to a numpy array\n",
    "        and then checks if it needs to be reshaped for us\n",
    "        to use it properly\n",
    "        \"\"\"\n",
    "        x = self.pandas_to_numpy(x)\n",
    "        x = self.handle_1d_data(x)\n",
    "        return x\n",
    "                        "
   ]
  },
  {
   "cell_type": "code",
   "execution_count": 180,
   "metadata": {
    "ExecuteTime": {
     "end_time": "2018-03-16T18:53:01.976054Z",
     "start_time": "2018-03-16T18:53:00.628279Z"
    },
    "collapsed": true
   },
   "outputs": [],
   "source": [
    "from sklearn import datasets\n",
    "\n",
    "categories = ['alt.atheism', 'comp.graphics', 'rec.sport.baseball']\n",
    "ng_train = datasets.fetch_20newsgroups(subset='train', \n",
    "                                       categories=categories, \n",
    "                                       remove=('headers', \n",
    "                                               'footers', 'quotes'))\n",
    "data = ng_train.data"
   ]
  },
  {
   "cell_type": "code",
   "execution_count": 211,
   "metadata": {
    "ExecuteTime": {
     "end_time": "2018-03-16T19:07:06.561158Z",
     "start_time": "2018-03-16T19:04:49.654832Z"
    }
   },
   "outputs": [
    {
     "name": "stderr",
     "output_type": "stream",
     "text": [
      "/Users/zachariahmiller/anaconda3/lib/python3.6/site-packages/ipykernel/__main__.py:106: RuntimeWarning: invalid value encountered in true_divide\n"
     ]
    }
   ],
   "source": [
    "lda = latent_dirichlet_allocation(num_topics=5,num_iter=15, remove_stopwords=True, alpha=.01)\n",
    "doc_topics = lda.fit(data)"
   ]
  },
  {
   "cell_type": "code",
   "execution_count": 212,
   "metadata": {
    "ExecuteTime": {
     "end_time": "2018-03-16T19:07:06.575698Z",
     "start_time": "2018-03-16T19:07:06.564158Z"
    }
   },
   "outputs": [
    {
     "name": "stdout",
     "output_type": "stream",
     "text": [
      "--- Topic  0  ---\n",
      "one, also, another, software, dont, package, right, get, argument, available\n",
      "--- Topic  1  ---\n",
      "dont, anyone, data, system, good, however, year, would, time, get\n",
      "--- Topic  2  ---\n",
      "one, see, would, im, years, could, jpeg, many, c, god\n",
      "--- Topic  3  ---\n",
      "would, files, even, graphics, way, think, like, know, atheists, dont\n",
      "--- Topic  4  ---\n",
      "say, good, many, file, image, would, well, people, think, number\n"
     ]
    }
   ],
   "source": [
    "lda.print_topics(num_words_per_topics=10)"
   ]
  },
  {
   "cell_type": "code",
   "execution_count": 213,
   "metadata": {
    "ExecuteTime": {
     "end_time": "2018-03-16T19:07:07.338535Z",
     "start_time": "2018-03-16T19:07:06.577957Z"
    }
   },
   "outputs": [
    {
     "name": "stderr",
     "output_type": "stream",
     "text": [
      "/Users/zachariahmiller/anaconda3/lib/python3.6/site-packages/ipykernel/__main__.py:106: RuntimeWarning: invalid value encountered in true_divide\n"
     ]
    },
    {
     "data": {
      "image/png": "[encoded data removed]",
      "text/plain": [
       "<matplotlib.figure.Figure at 0x10fdda5f8>"
      ]
     },
     "metadata": {},
     "output_type": "display_data"
    }
   ],
   "source": [
    "latent_space_documents = lda.transform(data)\n",
    "plt.scatter(latent_space_documents[:,4],latent_space_documents[:,1], alpha=0.5);"
   ]
  },
  {
   "cell_type": "code",
   "execution_count": 217,
   "metadata": {
    "ExecuteTime": {
     "end_time": "2018-03-16T19:11:34.205119Z",
     "start_time": "2018-03-16T19:11:30.338667Z"
    }
   },
   "outputs": [
    {
     "name": "stderr",
     "output_type": "stream",
     "text": [
      "/Users/zachariahmiller/anaconda3/lib/python3.6/site-packages/sklearn/decomposition/online_lda.py:532: DeprecationWarning: The default value for 'learning_method' will be changed from 'online' to 'batch' in the release 0.20. This warning was introduced in 0.18.\n",
      "  DeprecationWarning)\n"
     ]
    },
    {
     "data": {
      "text/plain": [
       "LatentDirichletAllocation(batch_size=128, doc_topic_prior=None,\n",
       "             evaluate_every=-1, learning_decay=0.7, learning_method=None,\n",
       "             learning_offset=10.0, max_doc_update_iter=100, max_iter=10,\n",
       "             mean_change_tol=0.001, n_components=5, n_jobs=1,\n",
       "             n_topics=None, perp_tol=0.1, random_state=None,\n",
       "             topic_word_prior=None, total_samples=1000000.0, verbose=0)"
      ]
     },
     "execution_count": 217,
     "metadata": {},
     "output_type": "execute_result"
    }
   ],
   "source": [
    "from sklearn.decomposition import LatentDirichletAllocation\n",
    "from sklearn.feature_extraction.text import CountVectorizer\n",
    "\n",
    "cv = CountVectorizer(stop_words='english')\n",
    "X = cv.fit_transform(data)\n",
    "ld_sk = LatentDirichletAllocation(n_components=5, max_iter=10)\n",
    "ld_sk.fit(X)"
   ]
  },
  {
   "cell_type": "code",
   "execution_count": 218,
   "metadata": {
    "ExecuteTime": {
     "end_time": "2018-03-16T19:11:35.830479Z",
     "start_time": "2018-03-16T19:11:35.492316Z"
    }
   },
   "outputs": [
    {
     "data": {
      "image/png": "[encoded data removed]",
      "text/plain": [
       "<matplotlib.figure.Figure at 0x118d90dd8>"
      ]
     },
     "metadata": {},
     "output_type": "display_data"
    }
   ],
   "source": [
    "latent_space_documents = ld_sk.transform(X)\n",
    "plt.scatter(latent_space_documents[:,2],latent_space_documents[:,4], alpha=0.5);"
   ]
  },
  {
   "cell_type": "code",
   "execution_count": 219,
   "metadata": {
    "ExecuteTime": {
     "end_time": "2018-03-16T19:11:36.504078Z",
     "start_time": "2018-03-16T19:11:36.470281Z"
    }
   },
   "outputs": [
    {
     "name": "stdout",
     "output_type": "stream",
     "text": [
      "Topic #0: graphics edu data ftp pub 3d image package available software\n",
      "Topic #1: year game good 00 team think don games just like\n",
      "Topic #2: p2 den p3 333 p1 col int radius op_rows op_cols\n",
      "Topic #3: god people don just does think know like say atheism\n",
      "Topic #4: image jpeg file color files gif images use program display\n",
      "\n"
     ]
    }
   ],
   "source": [
    "def print_top_words(model, feature_names, n_top_words):\n",
    "    for topic_idx, topic in enumerate(model.components_):\n",
    "        message = \"Topic #%d: \" % topic_idx\n",
    "        message += \" \".join([feature_names[i]\n",
    "                             for i in topic.argsort()[:-n_top_words - 1:-1]])\n",
    "        print(message)\n",
    "    print()\n",
    "cv_feature_names = cv.get_feature_names()\n",
    "print_top_words(ld_sk, cv_feature_names, 10)"
   ]
  },
  {
   "cell_type": "code",
   "execution_count": null,
   "metadata": {
    "collapsed": true
   },
   "outputs": [],
   "source": []
  }
 ],
 "metadata": {
  "kernelspec": {
   "display_name": "Python [default]",
   "language": "python",
   "name": "python3"
  },
  "language_info": {
   "codemirror_mode": {
    "name": "ipython",
    "version": 3
   },
   "file_extension": ".py",
   "mimetype": "text/x-python",
   "name": "python",
   "nbconvert_exporter": "python",
   "pygments_lexer": "ipython3",
   "version": "3.6.2"
  },
  "toc": {
   "nav_menu": {},
   "number_sections": true,
   "sideBar": true,
   "skip_h1_title": false,
   "toc_cell": false,
   "toc_position": {},
   "toc_section_display": "block",
   "toc_window_display": false
  }
 },
 "nbformat": 4,
 "nbformat_minor": 2
}
