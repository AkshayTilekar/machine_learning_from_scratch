{
 "cells": [
  {
   "cell_type": "markdown",
   "metadata": {},
   "source": [
    "# Count Vectorizer (for NLP)"
   ]
  },
  {
   "cell_type": "markdown",
   "metadata": {},
   "source": [
    "Z. W. Miller - Copyright 2018"
   ]
  },
  {
   "cell_type": "code",
   "execution_count": 147,
   "metadata": {
    "ExecuteTime": {
     "end_time": "2018-03-12T00:23:57.248033Z",
     "start_time": "2018-03-12T00:23:57.231258Z"
    },
    "collapsed": true
   },
   "outputs": [],
   "source": [
    "import numpy as np\n",
    "import random\n",
    "import matplotlib.pyplot as plt\n",
    "import pandas as pd\n",
    "import math\n",
    "import scipy\n",
    "%matplotlib inline\n",
    "plt.style.use('seaborn')"
   ]
  },
  {
   "cell_type": "code",
   "execution_count": 148,
   "metadata": {
    "ExecuteTime": {
     "end_time": "2018-03-12T00:23:57.446444Z",
     "start_time": "2018-03-12T00:23:57.432895Z"
    }
   },
   "outputs": [
    {
     "name": "stdout",
     "output_type": "stream",
     "text": [
      "Python Version: 3.6.2 |Anaconda custom (64-bit)| (default, Sep 21 2017, 18:29:43) \n",
      "[GCC 4.2.1 Compatible Clang 4.0.1 (tags/RELEASE_401/final)] \n",
      "\n",
      "Matplotlib Version: 2.0.2\n",
      "Numpy Version: 1.12.1\n",
      "Pandas Version: 0.20.3\n",
      "Scipy Version: 0.19.1\n",
      "Sklearn Version: 0.19.0\n"
     ]
    }
   ],
   "source": [
    "import sklearn\n",
    "import matplotlib\n",
    "import sys\n",
    "libraries = (('Matplotlib', matplotlib), ('Numpy', np), ('Pandas', pd), ('Scipy', scipy), ('Sklearn', sklearn))\n",
    "\n",
    "print(\"Python Version:\", sys.version, '\\n')\n",
    "for lib in libraries:\n",
    "    print('{0} Version: {1}'.format(lib[0], lib[1].__version__))"
   ]
  },
  {
   "cell_type": "code",
   "execution_count": 12,
   "metadata": {
    "ExecuteTime": {
     "end_time": "2018-03-12T14:29:50.227290Z",
     "start_time": "2018-03-12T14:29:49.856322Z"
    },
    "collapsed": true
   },
   "outputs": [],
   "source": [
    "import numpy as np\n",
    "from collections import Counter\n",
    "from string import punctuation\n",
    "\n",
    "class count_vectorizer:\n",
    "    \n",
    "    def __init__(self, max_features=None, ngrams = (1,1), tokenizer=None, remove_stopwords=False):\n",
    "        \"\"\"\n",
    "        Count vectorizer reads the text provided, tokenizes it\n",
    "        with the provided tokenizer (or the default), then generates\n",
    "        ngrams keeping track of all ngrams as the vocabulary.\n",
    "        Then it takes provided texts and converts them into vectors\n",
    "        by counting the appearance of each ngram and tracking that\n",
    "        for every document. \n",
    "        ---\n",
    "        KWargs:\n",
    "        max_features: how many ngrams to allow in the vector, using the\n",
    "        most common features first. If None, defaults to using all\n",
    "        ngrams (int)\n",
    "        ngrams: how many tokens to combine to form features. First element\n",
    "        of tuple is starting point, second is ending point.\n",
    "        tokenizer: what function to use to create tokens (must return \n",
    "        list of tokens)\n",
    "        remove_stopwords: whether to include very common english words that\n",
    "        do not add much value due to their commonness.\n",
    "        \"\"\"\n",
    "        self.max_features = max_features\n",
    "        self.vocabulary = {}\n",
    "        self.ngrams = ngrams\n",
    "        if tokenizer == None:\n",
    "            self.tokenizer = self.tokenize\n",
    "        else:\n",
    "            self.tokenizer = tokenizer\n",
    "        self.remove_stopwords = remove_stopwords\n",
    "        self.stopwords = {'ourselves', 'hers', 'between', 'yourself', 'but', 'again', \n",
    "                          'there', 'about', 'once', 'during', 'out', 'very', 'having', \n",
    "                          'with', 'they', 'own', 'an', 'be', 'some', 'for', 'do', 'its', \n",
    "                          'yours', 'such', 'into', 'of', 'most', 'itself', 'other', 'off', \n",
    "                          'is', 's', 'am', 'or', 'who', 'as', 'from', 'him', 'each', 'the', \n",
    "                          'themselves', 'until', 'below', 'are', 'we', 'these', 'your', \n",
    "                          'his', 'through', 'don', 'nor', 'me', 'were', 'her', 'more', \n",
    "                          'himself', 'this', 'down', 'should', 'our', 'their', 'while', \n",
    "                          'above', 'both', 'up', 'to', 'ours', 'had', 'she', 'all', 'no', \n",
    "                          'when', 'at', 'any', 'before', 'them', 'same', 'and', 'been', \n",
    "                          'have', 'in', 'will', 'on', 'does', 'yourselves', 'then', 'that', \n",
    "                          'because', 'what', 'over', 'why', 'so', 'can', 'did', 'not', 'now', \n",
    "                          'under', 'he', 'you', 'herself', 'has', 'just', 'where', 'too', 'only', \n",
    "                          'myself', 'which', 'those', 'i', 'after', 'few', 'whom', 't', 'being', \n",
    "                          'if', 'theirs', 'my', 'against', 'a', 'by', 'doing', 'it', 'how', 'further', \n",
    "                          'was', 'here', 'than'}\n",
    "        \n",
    "    def token_generator(self, X):\n",
    "        \"\"\"\n",
    "        Generator that returns joined tokens as a single\n",
    "        string to act as a feature. It generates the tokens\n",
    "        by iterating through the allowed ngrams and combining\n",
    "        the appropriate number of tokens into a string.\n",
    "        \"\"\"\n",
    "        for i in range(self.ngrams[0],self.ngrams[1]+1):\n",
    "            for ix, _ in enumerate(X):\n",
    "                if ix+i < len(X)+1:\n",
    "                    yield ' '.join(X[ix:ix+i])\n",
    "    \n",
    "    def tokenize(self, X):\n",
    "        \"\"\"\n",
    "        Simple tokenizer that removes punctuation,\n",
    "        lowercases the text, and breaks on spaces.\n",
    "        Also removes stopwords and numeric values\n",
    "        from being treated as words.\n",
    "        \"\"\"\n",
    "        for symbol in punctuation:\n",
    "            X = X.replace(symbol,'')\n",
    "        final_token_list = [] \n",
    "        for token in X.lower().split():\n",
    "            if self.remove_stopwords:\n",
    "                if not self.check_stopwords(token):\n",
    "                    try:\n",
    "                        int(token)\n",
    "                        float(token)\n",
    "                    except:\n",
    "                        final_token_list.append(token)  \n",
    "            else:\n",
    "                final_token_list.append(token)\n",
    "        return final_token_list\n",
    "        \n",
    "    def check_stopwords(self, token):\n",
    "        \"\"\"\n",
    "        Checks if the token is in our list of common\n",
    "        stopwords, and returns a boolean.\n",
    "        \"\"\"\n",
    "        return token in self.stopwords\n",
    "    \n",
    "    def fit(self, X):\n",
    "        \"\"\"\n",
    "        Go through all provided training documents and\n",
    "        create the list of vocabulary for known documents\n",
    "        by looking at all ngrams and tracking how often\n",
    "        those ngrams appear. If max_features is defined,\n",
    "        only keep the most common tokens. Afterward,\n",
    "        generate a token_to_id mapper and an id_to_token\n",
    "        mapper.\n",
    "        \"\"\"\n",
    "        for document in X:\n",
    "            tokens = self.tokenizer(document)\n",
    "            for token in self.token_generator(tokens):\n",
    "                if token in self.vocabulary.keys():\n",
    "                    self.vocabulary[token] += 1\n",
    "                else:\n",
    "                    self.vocabulary[token] = 1\n",
    "        \n",
    "        if self.max_features != None:\n",
    "            temp_vocab = {}\n",
    "            for key, value in Counter(self.vocabulary).most_common(self.max_features):\n",
    "                temp_vocab[key] = value\n",
    "            self.vocabulary = temp_vocab\n",
    "            del temp_vocab\n",
    "            \n",
    "        self.token_to_id = {ky: ix for ix, ky in enumerate(sorted(self.vocabulary.keys()))}\n",
    "        self.id_to_token = {ix: ky for ix, ky in enumerate(sorted(self.vocabulary.keys()))}\n",
    "        \n",
    "        \n",
    "    def transform(self, X):\n",
    "        \"\"\"\n",
    "        Go through all provided documents and use the known\n",
    "        vocabulary to track how often each ngram appears in\n",
    "        the document. At the end, stack all of the generated\n",
    "        document vectors together. Skip the initial vector that\n",
    "        all 0's, which is just there to act as a template.\n",
    "        \"\"\"\n",
    "        vectorized_docs = np.zeros(len(self.vocabulary.keys()))\n",
    "        for document in X:\n",
    "            tokens = self.tokenizer(document)\n",
    "            vectorized_doc = np.zeros(len(self.vocabulary.keys()))\n",
    "            for token in self.token_generator(tokens):\n",
    "                if token in self.vocabulary:\n",
    "                    word_id = self.token_to_id[token]\n",
    "                    vectorized_doc[word_id] += 1\n",
    "            vectorized_docs = np.vstack((vectorized_docs,vectorized_doc))\n",
    "        return vectorized_docs[1:]\n",
    "    \n",
    "    def fit_transform(self, X):\n",
    "        \"\"\"\n",
    "        Fit on X and then transform X and return it as vectors.\n",
    "        \"\"\"\n",
    "        self.fit(X)\n",
    "        return self.transform(X)\n",
    "                        "
   ]
  },
  {
   "cell_type": "code",
   "execution_count": 13,
   "metadata": {
    "ExecuteTime": {
     "end_time": "2018-03-12T14:29:50.498687Z",
     "start_time": "2018-03-12T14:29:50.493817Z"
    },
    "collapsed": true
   },
   "outputs": [],
   "source": [
    "cv = count_vectorizer(ngrams=(1,3), max_features=None)\n",
    "data = ['bob went to the store','dana, did not go to the store']\n",
    "cv.fit(data)"
   ]
  },
  {
   "cell_type": "code",
   "execution_count": 14,
   "metadata": {
    "ExecuteTime": {
     "end_time": "2018-03-12T14:29:51.139955Z",
     "start_time": "2018-03-12T14:29:51.132266Z"
    }
   },
   "outputs": [
    {
     "data": {
      "text/plain": [
       "{'bob': 1,\n",
       " 'bob went': 1,\n",
       " 'bob went to': 1,\n",
       " 'dana': 1,\n",
       " 'dana did': 1,\n",
       " 'dana did not': 1,\n",
       " 'did': 1,\n",
       " 'did not': 1,\n",
       " 'did not go': 1,\n",
       " 'go': 1,\n",
       " 'go to': 1,\n",
       " 'go to the': 1,\n",
       " 'not': 1,\n",
       " 'not go': 1,\n",
       " 'not go to': 1,\n",
       " 'store': 2,\n",
       " 'the': 2,\n",
       " 'the store': 2,\n",
       " 'to': 2,\n",
       " 'to the': 2,\n",
       " 'to the store': 2,\n",
       " 'went': 1,\n",
       " 'went to': 1,\n",
       " 'went to the': 1}"
      ]
     },
     "execution_count": 14,
     "metadata": {},
     "output_type": "execute_result"
    }
   ],
   "source": [
    "cv.vocabulary"
   ]
  },
  {
   "cell_type": "code",
   "execution_count": 15,
   "metadata": {
    "ExecuteTime": {
     "end_time": "2018-03-12T14:29:56.858625Z",
     "start_time": "2018-03-12T14:29:56.850074Z"
    }
   },
   "outputs": [
    {
     "data": {
      "text/plain": [
       "array([[ 1.,  1.,  1.,  0.,  0.,  0.,  0.,  0.,  0.,  0.,  0.,  0.,  0.,\n",
       "         0.,  0.,  1.,  1.,  1.,  1.,  1.,  1.,  1.,  1.,  1.],\n",
       "       [ 0.,  0.,  0.,  1.,  1.,  1.,  1.,  1.,  1.,  1.,  1.,  1.,  1.,\n",
       "         1.,  1.,  1.,  1.,  1.,  1.,  1.,  1.,  0.,  0.,  0.]])"
      ]
     },
     "execution_count": 15,
     "metadata": {},
     "output_type": "execute_result"
    }
   ],
   "source": [
    "cv.transform(data)"
   ]
  },
  {
   "cell_type": "code",
   "execution_count": 16,
   "metadata": {
    "ExecuteTime": {
     "end_time": "2018-03-12T14:29:57.542164Z",
     "start_time": "2018-03-12T14:29:57.531388Z"
    }
   },
   "outputs": [
    {
     "data": {
      "text/plain": [
       "matrix([[1, 1, 1, 0, 0, 0, 0, 0, 0, 0, 0, 0, 0, 0, 0, 1, 1, 1, 1, 1, 1, 1,\n",
       "         1, 1],\n",
       "        [0, 0, 0, 1, 1, 1, 1, 1, 1, 1, 1, 1, 1, 1, 1, 1, 1, 1, 1, 1, 1, 0,\n",
       "         0, 0]])"
      ]
     },
     "execution_count": 16,
     "metadata": {},
     "output_type": "execute_result"
    }
   ],
   "source": [
    "from sklearn.feature_extraction.text import CountVectorizer\n",
    "\n",
    "cv_sk = CountVectorizer(max_features=None, ngram_range=(1,3))\n",
    "cv_sk.fit(data)\n",
    "cv_sk.transform(data).todense()"
   ]
  },
  {
   "cell_type": "code",
   "execution_count": 17,
   "metadata": {
    "ExecuteTime": {
     "end_time": "2018-03-12T14:29:58.443115Z",
     "start_time": "2018-03-12T14:29:58.436147Z"
    }
   },
   "outputs": [
    {
     "data": {
      "text/plain": [
       "True"
      ]
     },
     "execution_count": 17,
     "metadata": {},
     "output_type": "execute_result"
    }
   ],
   "source": [
    "np.allclose(cv_sk.transform(data).todense(), cv.transform(data))"
   ]
  },
  {
   "cell_type": "markdown",
   "metadata": {},
   "source": [
    "# Now let's turn on stopwords"
   ]
  },
  {
   "cell_type": "code",
   "execution_count": 18,
   "metadata": {
    "ExecuteTime": {
     "end_time": "2018-03-12T14:30:30.501467Z",
     "start_time": "2018-03-12T14:30:30.496382Z"
    },
    "collapsed": true
   },
   "outputs": [],
   "source": [
    "cv = count_vectorizer(ngrams=(1,3), max_features=None, remove_stopwords=True)\n",
    "data = ['bob went to the store','dana, did not go to the store']\n",
    "cv.fit(data)"
   ]
  },
  {
   "cell_type": "code",
   "execution_count": 19,
   "metadata": {
    "ExecuteTime": {
     "end_time": "2018-03-12T14:30:37.982926Z",
     "start_time": "2018-03-12T14:30:37.969743Z"
    }
   },
   "outputs": [
    {
     "data": {
      "text/plain": [
       "{'bob': 1,\n",
       " 'bob went': 1,\n",
       " 'bob went store': 1,\n",
       " 'dana': 1,\n",
       " 'dana go': 1,\n",
       " 'dana go store': 1,\n",
       " 'go': 1,\n",
       " 'go store': 1,\n",
       " 'store': 2,\n",
       " 'went': 1,\n",
       " 'went store': 1}"
      ]
     },
     "execution_count": 19,
     "metadata": {},
     "output_type": "execute_result"
    }
   ],
   "source": [
    "cv.vocabulary"
   ]
  },
  {
   "cell_type": "code",
   "execution_count": 26,
   "metadata": {
    "ExecuteTime": {
     "end_time": "2018-03-12T14:31:21.358323Z",
     "start_time": "2018-03-12T14:31:21.352830Z"
    },
    "collapsed": true
   },
   "outputs": [],
   "source": [
    "cv = count_vectorizer(ngrams=(1,3), max_features=3, remove_stopwords=True)\n",
    "data = ['bob went to the store','dana, did not go to the store']\n",
    "cv.fit(data)"
   ]
  },
  {
   "cell_type": "code",
   "execution_count": 27,
   "metadata": {
    "ExecuteTime": {
     "end_time": "2018-03-12T14:31:21.766085Z",
     "start_time": "2018-03-12T14:31:21.759261Z"
    }
   },
   "outputs": [
    {
     "data": {
      "text/plain": [
       "{'bob': 1, 'store': 2, 'went': 1}"
      ]
     },
     "execution_count": 27,
     "metadata": {},
     "output_type": "execute_result"
    }
   ],
   "source": [
    "cv.vocabulary"
   ]
  },
  {
   "cell_type": "code",
   "execution_count": null,
   "metadata": {
    "collapsed": true
   },
   "outputs": [],
   "source": []
  }
 ],
 "metadata": {
  "kernelspec": {
   "display_name": "Python [default]",
   "language": "python",
   "name": "python3"
  },
  "language_info": {
   "codemirror_mode": {
    "name": "ipython",
    "version": 3
   },
   "file_extension": ".py",
   "mimetype": "text/x-python",
   "name": "python",
   "nbconvert_exporter": "python",
   "pygments_lexer": "ipython3",
   "version": "3.6.2"
  },
  "toc": {
   "nav_menu": {},
   "number_sections": true,
   "sideBar": true,
   "skip_h1_title": false,
   "toc_cell": false,
   "toc_position": {},
   "toc_section_display": "block",
   "toc_window_display": false
  }
 },
 "nbformat": 4,
 "nbformat_minor": 2
}
