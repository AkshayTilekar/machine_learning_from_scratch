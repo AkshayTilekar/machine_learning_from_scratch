{
 "cells": [
  {
   "cell_type": "markdown",
   "metadata": {},
   "source": [
    "# Random Forest (an extension on the Decision Tree Class)"
   ]
  },
  {
   "cell_type": "code",
   "execution_count": 1,
   "metadata": {
    "ExecuteTime": {
     "end_time": "2017-10-16T14:12:54.452094Z",
     "start_time": "2017-10-16T14:12:53.915705Z"
    },
    "collapsed": true
   },
   "outputs": [],
   "source": [
    "import numpy as np\n",
    "import random\n",
    "import matplotlib.pyplot as plt\n",
    "import pandas as pd\n",
    "import math\n",
    "import scipy\n",
    "%matplotlib inline\n",
    "plt.style.use('seaborn')"
   ]
  },
  {
   "cell_type": "code",
   "execution_count": 2,
   "metadata": {
    "ExecuteTime": {
     "end_time": "2017-10-16T12:35:54.390524Z",
     "start_time": "2017-10-16T12:35:54.293634Z"
    }
   },
   "outputs": [
    {
     "name": "stdout",
     "output_type": "stream",
     "text": [
      "Python Version: 3.6.2 |Anaconda, Inc.| (default, Sep 21 2017, 18:29:43) \n",
      "[GCC 4.2.1 Compatible Clang 4.0.1 (tags/RELEASE_401/final)] \n",
      "\n",
      "Matplotlib Version: 2.0.2\n",
      "Numpy Version: 1.13.1\n",
      "Pandas Version: 0.20.3\n"
     ]
    }
   ],
   "source": [
    "import numpy as np\n",
    "import sklearn\n",
    "import matplotlib\n",
    "import pandas as pd\n",
    "import sys\n",
    "libraries = (('Matplotlib', matplotlib), ('Numpy', np), ('Pandas', pd))\n",
    "\n",
    "print(\"Python Version:\", sys.version, '\\n')\n",
    "for lib in libraries:\n",
    "    print('{0} Version: {1}'.format(lib[0], lib[1].__version__))"
   ]
  },
  {
   "cell_type": "code",
   "execution_count": 2,
   "metadata": {
    "ExecuteTime": {
     "end_time": "2017-10-16T14:12:55.805157Z",
     "start_time": "2017-10-16T14:12:55.492195Z"
    },
    "collapsed": true
   },
   "outputs": [],
   "source": [
    "import sys \n",
    "sys.path.append('../modules')\n",
    "from decision_tree_classifier import decision_tree_classifier\n",
    "import collections\n",
    "import pandas as pd\n",
    "import numpy as np\n",
    "\n",
    "class random_forest_classifier:\n",
    "    \n",
    "    def __init__(self, n_trees = 10, max_depth=None, n_features='sqrt', mode='rfnode', seed=None):\n",
    "        \"\"\"\n",
    "        Random Forest Classifier uses bootstrapping and column randomization\n",
    "        to generate n_trees different datasets and then applies a decision \n",
    "        tree to each dataset. The final prediction is an ensemble of all created trees.\n",
    "        ---\n",
    "        Params:\n",
    "        n_trees (int): number of bootstrapped trees to grow for ensembling\n",
    "        max_depth (int): maximum number of splits to make in each tree)\n",
    "        n_features: The number of columns to include in the models. \n",
    "                    Options: numeric value (e.g. 4 => 4 columns used)\n",
    "                             \"sqrt\" (square root of the number of cols in input data)\n",
    "                             \"div3\" (number of input cols divided by 3)\n",
    "        mode: If mode='rfnode' the column randomization happens at each node. Otherwise\n",
    "              Each tree gets one randomized set of columns for all nodes in that tree.\n",
    "        seed: Random seed to allow for reproducibility.\n",
    "        \"\"\"\n",
    "        self.n_trees = n_trees\n",
    "        self.max_depth = max_depth\n",
    "        self.n_features = n_features\n",
    "        self.tree_filter_pairs = []\n",
    "        self.mode = mode\n",
    "        if seed:\n",
    "            self._seed = seed\n",
    "            np.random.seed(seed)\n",
    "        \n",
    "    def find_number_of_columns(self, X):\n",
    "        \"\"\"\n",
    "        Uses the user input for n_features to decide how many columns should\n",
    "        be included in each model. Uses the shape of X to decide the final number\n",
    "        if 'sqrt' is called. \n",
    "        ---\n",
    "        Input: X (array, dataframe, or series)\n",
    "        \"\"\"\n",
    "        if isinstance(self.n_features, int):\n",
    "            return self.n_features\n",
    "        if self.n_features == 'sqrt':\n",
    "            return int(np.sqrt(X.shape[1])+0.5)\n",
    "        if self.n_features == 'div3':\n",
    "            return int(X.shape[1]/3+0.5)\n",
    "        else:\n",
    "            raise ValueError(\"Invalid n_features selection\")\n",
    "    \n",
    "    def get_bagged_data(self, X, y):\n",
    "        \"\"\"\n",
    "        Chooses random rows to populate a bootstrapped dataset, with replacement.\n",
    "        Maintains the correlation between X and y\n",
    "        ---\n",
    "        Input: X, y (arrays)\n",
    "        Outputs: randomized X,y (arrays)\n",
    "        \"\"\"\n",
    "        index = np.random.choice(np.arange(len(X)),len(X))\n",
    "        return X[index], y[index]\n",
    "    \n",
    "    def randomize_columns(self,X):\n",
    "        \"\"\"\n",
    "        Chooses a set of columns to keep from the input data. These are\n",
    "        randomly drawn, according the number requested by the user. The data\n",
    "        is filtered and only the allowed columns are returned, along with the\n",
    "        filter. \n",
    "        ---\n",
    "        Input: X (array)\n",
    "        Output: filtered_X (array), filter (array)\n",
    "        \"\"\"\n",
    "        num_col = self.find_number_of_columns(X)\n",
    "        filt = np.random.choice(np.arange(0,X.shape[1]),num_col,replace=False)\n",
    "        filtered_X = self.apply_filter(X, filt)\n",
    "        return filtered_X, filt\n",
    "    \n",
    "    def apply_filter(self, X, filt):\n",
    "        \"\"\"\n",
    "        Given X and a filter, only the columns matching the index values\n",
    "        in filter are returned.\n",
    "        ---\n",
    "        Input: X (array), filter (array of column IDs)\n",
    "        Output: filtered_X (array)\n",
    "        \"\"\"\n",
    "        filtered_X = X.T[filt]\n",
    "        return filtered_X.T\n",
    "    \n",
    "    def pandas_to_numpy(self, x):\n",
    "        \"\"\"\n",
    "        Checks if the input is a Dataframe or series, converts to numpy matrix for\n",
    "        calculation purposes.\n",
    "        ---\n",
    "        Input: X (array, dataframe, or series)\n",
    "        Output: X (array)\n",
    "        \"\"\"\n",
    "        if type(x) == type(pd.DataFrame()) or type(x) == type(pd.Series()):\n",
    "            return x.as_matrix()\n",
    "        if type(x) == type(np.array([1,2])):\n",
    "            return x\n",
    "        return np.array(x)\n",
    "    \n",
    "    def fit(self, X, y):\n",
    "        \"\"\"\n",
    "        Generates the bootstrapped data, decides which column to keep,\n",
    "        and then uses the decision tree class to build a model on each \n",
    "        bootstrapped and column-randomized dataset. Each tree is stored \n",
    "        as part of the model for later use, along with the appropriate\n",
    "        filter - which is needed to filter new data for use with the model.\n",
    "        ---\n",
    "        Input: X, y (arrays, dataframe, or series)\n",
    "        \"\"\"\n",
    "        X = self.pandas_to_numpy(X)\n",
    "        y = self.pandas_to_numpy(y)\n",
    "        try:\n",
    "            self.base_filt = [x for x in range(X.shape[1])]\n",
    "        except IndexError:\n",
    "            self.base_filt = [0]\n",
    "        for _ in range(self.n_trees):\n",
    "            filt = self.base_filt\n",
    "            bagX, bagy = self.get_bagged_data(X,y)\n",
    "            if self.mode == 'rftree':\n",
    "                bagX, filt = self.randomize_columns(bagX)\n",
    "            new_tree = decision_tree_classifier(self.max_depth, mode=self.mode, n_features=self.n_features)\n",
    "            new_tree.fit(bagX, bagy)\n",
    "            self.tree_filter_pairs.append((new_tree, filt))\n",
    "    \n",
    "    def predict(self, X):\n",
    "        \"\"\"\n",
    "        Uses the list of tree models built in the fit, doing a predict with each\n",
    "        model. The associated filter is applied to X, so the model sees the columns\n",
    "        it has learned about. The final prediction uses the mode of all the trees \n",
    "        predictions.\n",
    "        ---\n",
    "        Input: X (array, dataframe, or series)\n",
    "        Output: Class ID (int)\n",
    "        \"\"\"\n",
    "        X = self.pandas_to_numpy(X)\n",
    "        self.predicts = []\n",
    "        for tree, filt in self.tree_filter_pairs:\n",
    "            filtered_X = self.apply_filter(X, filt)\n",
    "            self.predicts.append(tree.predict(filtered_X))\n",
    "        self.pred_by_row = np.array(self.predicts).T\n",
    "        \n",
    "        ensemble_predict = []\n",
    "        for row in self.pred_by_row:\n",
    "            ensemble_predict.append(collections.Counter(row).most_common(1)[0][0])\n",
    "        return ensemble_predict\n",
    "    \n",
    "    def score(self, X, y):\n",
    "        \"\"\"\n",
    "        Uses the predict method to measure the accuracy of the model.\n",
    "        ---\n",
    "        In: X (list or array), feature matrix; y (list or array) labels\n",
    "        Out: accuracy (float)\n",
    "        \"\"\"\n",
    "        pred = self.predict(X)\n",
    "        correct = 0\n",
    "        for i,j in zip(y,pred):\n",
    "            if i == j:\n",
    "                correct+=1\n",
    "        return float(correct)/float(len(y))"
   ]
  },
  {
   "cell_type": "markdown",
   "metadata": {},
   "source": [
    "# Let's try it out with the Iris dataset"
   ]
  },
  {
   "cell_type": "code",
   "execution_count": 3,
   "metadata": {
    "ExecuteTime": {
     "end_time": "2017-10-16T14:12:57.666661Z",
     "start_time": "2017-10-16T14:12:57.662265Z"
    },
    "collapsed": true
   },
   "outputs": [],
   "source": [
    "def get_data():\n",
    "    from sklearn.datasets import load_iris\n",
    "    iris = load_iris()\n",
    "    return iris.data, iris.target"
   ]
  },
  {
   "cell_type": "code",
   "execution_count": 4,
   "metadata": {
    "ExecuteTime": {
     "end_time": "2017-10-16T14:12:58.196017Z",
     "start_time": "2017-10-16T14:12:57.944009Z"
    },
    "collapsed": true
   },
   "outputs": [],
   "source": [
    "X,y = get_data()"
   ]
  },
  {
   "cell_type": "code",
   "execution_count": 5,
   "metadata": {
    "ExecuteTime": {
     "end_time": "2017-10-16T14:12:58.416435Z",
     "start_time": "2017-10-16T14:12:58.409756Z"
    },
    "collapsed": true
   },
   "outputs": [],
   "source": [
    "from data_splitting import train_test_split\n",
    "X_train, X_test, y_train, y_test = train_test_split(X,y,test_size=0.3)"
   ]
  },
  {
   "cell_type": "code",
   "execution_count": 6,
   "metadata": {
    "ExecuteTime": {
     "end_time": "2017-10-16T14:12:59.668291Z",
     "start_time": "2017-10-16T14:12:58.800059Z"
    },
    "collapsed": true
   },
   "outputs": [],
   "source": [
    "rf = random_forest_classifier(n_trees=25, n_features='sqrt', mode='rfnode', seed=42)\n",
    "rf.fit(X_train, y_train)"
   ]
  },
  {
   "cell_type": "code",
   "execution_count": 7,
   "metadata": {
    "ExecuteTime": {
     "end_time": "2017-10-16T14:13:01.527827Z",
     "start_time": "2017-10-16T14:13:00.441184Z"
    }
   },
   "outputs": [
    {
     "name": "stdout",
     "output_type": "stream",
     "text": [
      "[1 0 1 2 2 1 1 2 1 1 1 1 1 1 1 1 1 1 0 1 0 2 0 1 2] 1\n",
      "[1 1 1 1 1 1 2 1 1 1 2 1 1 1 1 1 1 1 1 1 1 1 1 1 1] 1\n",
      "[1 0 1 1 1 1 1 1 0 1 1 1 1 1 1 1 1 0 1 1 0 1 1 1 1] 1\n",
      "[1 1 0 1 1 1 1 1 1 1 1 1 1 1 1 1 1 1 1 1 1 1 1 1 1] 1\n",
      "[1 1 1 1 1 1 1 1 1 1 1 1 1 1 1 1 1 1 1 1 1 1 1 1 1] 1\n",
      "[1 1 1 1 1 1 1 1 1 1 1 1 1 1 1 1 1 1 1 1 1 1 1 1 1] 1\n",
      "[2 2 2 2 2 2 2 2 2 2 2 2 2 2 2 2 2 2 2 2 2 2 2 2 2] 2\n",
      "[2 2 2 2 2 2 2 2 2 2 2 2 2 2 2 2 2 2 2 2 2 2 2 2 2] 2\n",
      "[2 2 2 2 2 2 2 2 2 2 2 2 2 2 2 2 2 2 2 2 2 2 2 2 2] 2\n",
      "[1 2 2 2 2 2 2 2 2 2 2 2 2 1 1 2 2 2 1 2 1 2 1 2 2] 2\n",
      "[2 2 2 2 2 2 2 2 2 2 2 2 2 2 2 2 2 2 2 2 2 2 2 2 2] 2\n",
      "[1 1 2 1 1 1 2 1 2 2 1 2 2 1 1 1 2 2 1 2 1 1 1 2 1] 1\n"
     ]
    }
   ],
   "source": [
    "preds = rf.predict(X_test)\n",
    "for i,j in zip(preds[10:40:2], rf.pred_by_row[10:40:2]):\n",
    "    print(j,i)"
   ]
  },
  {
   "cell_type": "markdown",
   "metadata": {},
   "source": [
    "Make sure each node is getting randomized properly in rfnode mode."
   ]
  },
  {
   "cell_type": "code",
   "execution_count": 29,
   "metadata": {
    "ExecuteTime": {
     "end_time": "2017-10-16T14:31:56.581980Z",
     "start_time": "2017-10-16T14:31:56.568388Z"
    }
   },
   "outputs": [
    {
     "name": "stdout",
     "output_type": "stream",
     "text": [
      "[1 2]\n",
      "[3 0]\n",
      "[2 3]\n",
      "[3 2]\n",
      "[1 3]\n",
      "[0 2]\n",
      "[2 3]\n",
      "[0 3]\n",
      "[0 1]\n",
      "[0 3]\n",
      "[3 2]\n",
      "[2 3]\n",
      "[3 0]\n",
      "[2 3]\n",
      "[3 2]\n",
      "[0 2]\n",
      "[1 2]\n",
      "[1 0]\n",
      "[2 0]\n",
      "[1 3]\n",
      "[0 2]\n",
      "[0 1]\n",
      "[0 2]\n",
      "[3 0]\n",
      "[0 2]\n"
     ]
    }
   ],
   "source": [
    "for tr in rf.tree_filter_pairs:\n",
    "    print(tr[0].tree.filt)\n",
    "        "
   ]
  },
  {
   "cell_type": "code",
   "execution_count": 9,
   "metadata": {
    "ExecuteTime": {
     "end_time": "2017-10-16T12:36:11.731498Z",
     "start_time": "2017-10-16T12:36:10.019663Z"
    }
   },
   "outputs": [
    {
     "data": {
      "text/plain": [
       "1.0"
      ]
     },
     "execution_count": 9,
     "metadata": {},
     "output_type": "execute_result"
    }
   ],
   "source": [
    "rf.score(X_test,y_test)"
   ]
  },
  {
   "cell_type": "code",
   "execution_count": 53,
   "metadata": {
    "ExecuteTime": {
     "end_time": "2017-10-16T12:21:52.362735Z",
     "start_time": "2017-10-16T12:19:08.618202Z"
    },
    "collapsed": true
   },
   "outputs": [],
   "source": [
    "accs = []\n",
    "for n in range(1,100,5):\n",
    "    rf = random_forest_classifier(n_trees=n, mode='rfnode')\n",
    "    rf.fit(X_train, y_train)\n",
    "    accs.append(rf.score(X_test, y_test))"
   ]
  },
  {
   "cell_type": "code",
   "execution_count": 54,
   "metadata": {
    "ExecuteTime": {
     "end_time": "2017-10-16T12:21:52.510100Z",
     "start_time": "2017-10-16T12:21:52.364724Z"
    }
   },
   "outputs": [
    {
     "data": {
      "image/png": "[encoded data removed]",
      "text/plain": [
       "<matplotlib.figure.Figure at 0x1a1977a940>"
      ]
     },
     "metadata": {},
     "output_type": "display_data"
    }
   ],
   "source": [
    "plt.plot(range(1,100,5),accs,'r')\n",
    "plt.xlabel(\"Num. Trees\")\n",
    "plt.ylabel(\"Accuracy Score\")\n",
    "plt.title(\"Accuracy vs Num Trees (Mean Acc: %.3f)\"%round(np.mean(accs),3));"
   ]
  },
  {
   "cell_type": "markdown",
   "metadata": {},
   "source": [
    "# Now let's play with some more complicated data"
   ]
  },
  {
   "cell_type": "code",
   "execution_count": 55,
   "metadata": {
    "ExecuteTime": {
     "end_time": "2017-10-16T12:22:09.106361Z",
     "start_time": "2017-10-16T12:22:09.096922Z"
    },
    "collapsed": true
   },
   "outputs": [],
   "source": [
    "from sklearn.datasets import load_wine\n",
    "X = load_wine().data\n",
    "y = load_wine().target"
   ]
  },
  {
   "cell_type": "code",
   "execution_count": 56,
   "metadata": {
    "ExecuteTime": {
     "end_time": "2017-10-16T12:22:09.652611Z",
     "start_time": "2017-10-16T12:22:09.648100Z"
    },
    "collapsed": true
   },
   "outputs": [],
   "source": [
    "from data_splitting import train_test_split\n",
    "X_train, X_test, y_train, y_test = train_test_split(X,y,test_size=0.3)"
   ]
  },
  {
   "cell_type": "code",
   "execution_count": 57,
   "metadata": {
    "ExecuteTime": {
     "end_time": "2017-10-16T12:22:11.821969Z",
     "start_time": "2017-10-16T12:22:10.067475Z"
    }
   },
   "outputs": [
    {
     "data": {
      "text/plain": [
       "0.9482758620689655"
      ]
     },
     "execution_count": 57,
     "metadata": {},
     "output_type": "execute_result"
    }
   ],
   "source": [
    "rf = random_forest_classifier(n_trees=10, mode='rfnode')\n",
    "rf.fit(X_train, y_train)\n",
    "rf.score(X_test, y_test)"
   ]
  },
  {
   "cell_type": "code",
   "execution_count": 58,
   "metadata": {
    "ExecuteTime": {
     "end_time": "2017-10-16T12:22:11.839781Z",
     "start_time": "2017-10-16T12:22:11.824914Z"
    }
   },
   "outputs": [
    {
     "data": {
      "text/plain": [
       "0.29310344827586204"
      ]
     },
     "execution_count": 58,
     "metadata": {},
     "output_type": "execute_result"
    }
   ],
   "source": [
    "from sklearn.dummy import DummyClassifier\n",
    "dc = DummyClassifier()\n",
    "dc.fit(X_train, y_train)\n",
    "dc.score(X_test, y_test)"
   ]
  },
  {
   "cell_type": "code",
   "execution_count": 59,
   "metadata": {
    "ExecuteTime": {
     "end_time": "2017-10-16T12:25:07.268572Z",
     "start_time": "2017-10-16T12:22:27.258246Z"
    },
    "collapsed": true
   },
   "outputs": [],
   "source": [
    "accs = []\n",
    "for n in range(1,100,5):\n",
    "    rf = random_forest_classifier(n_trees=n, mode='rfnode', seed=42)\n",
    "    rf.fit(X_train, y_train)\n",
    "    accs.append(rf.score(X_test, y_test))"
   ]
  },
  {
   "cell_type": "code",
   "execution_count": 60,
   "metadata": {
    "ExecuteTime": {
     "end_time": "2017-10-16T12:25:07.413795Z",
     "start_time": "2017-10-16T12:25:07.270528Z"
    }
   },
   "outputs": [
    {
     "data": {
      "image/png": "[encoded data removed]",
      "text/plain": [
       "<matplotlib.figure.Figure at 0x1a11160be0>"
      ]
     },
     "metadata": {},
     "output_type": "display_data"
    }
   ],
   "source": [
    "plt.plot(range(1,100,5),accs,'r')\n",
    "plt.xlabel(\"Num. Trees\")\n",
    "plt.ylabel(\"Accuracy Score\")\n",
    "plt.title(\"Accuracy vs Num Trees (Mean Acc: %.3f)\"%round(np.mean(accs),3));"
   ]
  },
  {
   "cell_type": "markdown",
   "metadata": {
    "collapsed": true
   },
   "source": [
    "# Now let's look at a few trees to see whether they're all being built the same way."
   ]
  },
  {
   "cell_type": "code",
   "execution_count": 61,
   "metadata": {
    "ExecuteTime": {
     "end_time": "2017-10-16T12:25:20.603213Z",
     "start_time": "2017-10-16T12:25:20.596094Z"
    },
    "collapsed": true
   },
   "outputs": [],
   "source": [
    "X,y = get_data()\n",
    "from data_splitting import train_test_split\n",
    "X_train, X_test, y_train, y_test = train_test_split(X,y,test_size=0.3)"
   ]
  },
  {
   "cell_type": "code",
   "execution_count": 62,
   "metadata": {
    "ExecuteTime": {
     "end_time": "2017-10-16T12:25:26.854547Z",
     "start_time": "2017-10-16T12:25:26.657178Z"
    },
    "collapsed": true
   },
   "outputs": [],
   "source": [
    "rf = random_forest_classifier(n_trees=5, n_features='sqrt', mode='rfnode')\n",
    "rf.fit(X_train, y_train)"
   ]
  },
  {
   "cell_type": "code",
   "execution_count": 63,
   "metadata": {
    "ExecuteTime": {
     "end_time": "2017-10-16T12:25:27.500433Z",
     "start_time": "2017-10-16T12:25:27.449885Z"
    },
    "scrolled": false
   },
   "outputs": [
    {
     "name": "stdout",
     "output_type": "stream",
     "text": [
      "--- Tree 0 --- \n",
      "\n",
      "Column 3 : 1.8? \n",
      "--- True:  Column 2 : 5.0? \n",
      "------ True:  {2: 35}\n",
      "------ False:  {1: 1}\n",
      "--- False:  Column 3 : 1.0? \n",
      "------ True:  Column 0 : 6.3? \n",
      "--------- True:  Column 2 : 5.1? \n",
      "------------ True:  {2: 2}\n",
      "------------ False:  {1: 12}\n",
      "--------- False:  {1: 23}\n",
      "------ False:  {0: 27}\n",
      "\n",
      "\n",
      "\n",
      "--- Tree 1 --- \n",
      "\n",
      "Column 3 : 0.4? \n",
      "--- True:  Column 2 : 5.3? \n",
      "------ True:  {2: 21}\n",
      "------ False:  Column 0 : 5.5? \n",
      "--------- True:  Column 3 : 1.8? \n",
      "------------ True:  Column 2 : 4.9? \n",
      "--------------- True:  {2: 5}\n",
      "--------------- False:  Column 1 : 3.2? \n",
      "------------------ True:  {1: 1}\n",
      "------------------ False:  {2: 1}\n",
      "------------ False:  Column 1 : 2.8? \n",
      "--------------- True:  Column 2 : 5.1? \n",
      "------------------ True:  {2: 2}\n",
      "------------------ False:  Column 3 : 1.3? \n",
      "--------------------- True:  {1: 19}\n",
      "--------------------- False:  {0: 1}\n",
      "--------------- False:  {1: 16}\n",
      "--------- False:  Column 2 : 3.3? \n",
      "------------ True:  Column 0 : 5.0? \n",
      "--------------- True:  {1: 2}\n",
      "--------------- False:  {2: 1}\n",
      "------------ False:  {0: 3}\n",
      "--- False:  {0: 28}\n",
      "\n",
      "\n",
      "\n",
      "--- Tree 2 --- \n",
      "\n",
      "Column 0 : 5.5? \n",
      "--- True:  Column 3 : 1.8? \n",
      "------ True:  {2: 34}\n",
      "------ False:  Column 2 : 3.5? \n",
      "--------- True:  Column 3 : 1.5? \n",
      "------------ True:  Column 2 : 5.1? \n",
      "--------------- True:  Column 0 : 6.3? \n",
      "------------------ True:  {2: 2}\n",
      "------------------ False:  {1: 3}\n",
      "--------------- False:  {1: 8}\n",
      "------------ False:  {1: 23}\n",
      "--------- False:  {0: 2}\n",
      "--- False:  Column 3 : 1.7? \n",
      "------ True:  {2: 1}\n",
      "------ False:  {0: 27}\n",
      "\n",
      "\n",
      "\n",
      "--- Tree 3 --- \n",
      "\n",
      "Column 2 : 5.0? \n",
      "--- True:  {2: 37}\n",
      "--- False:  Column 0 : 5.5? \n",
      "------ True:  Column 0 : 6.2? \n",
      "--------- True:  {1: 10}\n",
      "--------- False:  Column 3 : 1.8? \n",
      "------------ True:  {2: 5}\n",
      "------------ False:  Column 2 : 3.5? \n",
      "--------------- True:  {1: 12}\n",
      "--------------- False:  {0: 3}\n",
      "------ False:  {0: 33}\n",
      "\n",
      "\n",
      "\n",
      "--- Tree 4 --- \n",
      "\n",
      "Column 3 : 1.8? \n",
      "--- True:  Column 0 : 6.2? \n",
      "------ True:  {2: 28}\n",
      "------ False:  Column 1 : 3.2? \n",
      "--------- True:  {1: 1}\n",
      "--------- False:  {2: 5}\n",
      "--- False:  Column 3 : 1.0? \n",
      "------ True:  Column 2 : 5.1? \n",
      "--------- True:  Column 1 : 2.8? \n",
      "------------ True:  {2: 1}\n",
      "------------ False:  {1: 1}\n",
      "--------- False:  {1: 35}\n",
      "------ False:  {0: 29}\n",
      "\n",
      "\n",
      "\n"
     ]
    }
   ],
   "source": [
    "for i, tree in enumerate(rf.tree_filter_pairs):\n",
    "    print(\"--- Tree %i ---\"%i,\"\\n\")\n",
    "    tree[0].print_tree()\n",
    "    print(\"\\n\\n\")"
   ]
  },
  {
   "cell_type": "code",
   "execution_count": null,
   "metadata": {
    "collapsed": true
   },
   "outputs": [],
   "source": []
  }
 ],
 "metadata": {
  "kernelspec": {
   "display_name": "Python [conda root]",
   "language": "python",
   "name": "conda-root-py"
  },
  "language_info": {
   "codemirror_mode": {
    "name": "ipython",
    "version": 3
   },
   "file_extension": ".py",
   "mimetype": "text/x-python",
   "name": "python",
   "nbconvert_exporter": "python",
   "pygments_lexer": "ipython3",
   "version": "3.6.2"
  },
  "toc": {
   "nav_menu": {},
   "number_sections": true,
   "sideBar": true,
   "skip_h1_title": false,
   "toc_cell": false,
   "toc_position": {},
   "toc_section_display": "block",
   "toc_window_display": false
  }
 },
 "nbformat": 4,
 "nbformat_minor": 2
}
