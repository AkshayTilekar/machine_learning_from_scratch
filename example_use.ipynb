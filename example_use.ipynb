{
 "cells": [
  {
   "cell_type": "code",
   "execution_count": 1,
   "metadata": {
    "ExecuteTime": {
     "end_time": "2017-12-12T20:39:53.887650Z",
     "start_time": "2017-12-12T20:39:53.517679Z"
    },
    "collapsed": true
   },
   "outputs": [],
   "source": [
    "import pandas as pd\n",
    "import numpy as np\n",
    "from zwml.datasets import make_regression\n",
    "from zwml.linear_models import linear_regression"
   ]
  },
  {
   "cell_type": "code",
   "execution_count": 2,
   "metadata": {
    "ExecuteTime": {
     "end_time": "2017-12-12T20:39:53.894571Z",
     "start_time": "2017-12-12T20:39:53.889936Z"
    },
    "collapsed": true
   },
   "outputs": [],
   "source": [
    "mr = make_regression()\n",
    "X,y = mr.build_dataset()"
   ]
  },
  {
   "cell_type": "code",
   "execution_count": 3,
   "metadata": {
    "ExecuteTime": {
     "end_time": "2017-12-12T20:39:54.278266Z",
     "start_time": "2017-12-12T20:39:54.275538Z"
    },
    "collapsed": true
   },
   "outputs": [],
   "source": [
    "lr = linear_regression()"
   ]
  },
  {
   "cell_type": "code",
   "execution_count": 4,
   "metadata": {
    "ExecuteTime": {
     "end_time": "2017-12-12T20:39:54.765134Z",
     "start_time": "2017-12-12T20:39:54.692023Z"
    }
   },
   "outputs": [],
   "source": [
    "lr.fit(X, y)"
   ]
  },
  {
   "cell_type": "code",
   "execution_count": 5,
   "metadata": {
    "ExecuteTime": {
     "end_time": "2017-12-12T20:39:55.723199Z",
     "start_time": "2017-12-12T20:39:55.708847Z"
    }
   },
   "outputs": [
    {
     "data": {
      "text/plain": [
       "-2.6936885524933518"
      ]
     },
     "execution_count": 5,
     "metadata": {},
     "output_type": "execute_result"
    }
   ],
   "source": [
    "lr.score(X, y)"
   ]
  },
  {
   "cell_type": "code",
   "execution_count": 7,
   "metadata": {
    "ExecuteTime": {
     "end_time": "2017-12-12T20:40:02.458728Z",
     "start_time": "2017-12-12T20:40:02.455186Z"
    }
   },
   "outputs": [],
   "source": [
    "preds = lr.predict(X)"
   ]
  },
  {
   "cell_type": "code",
   "execution_count": 9,
   "metadata": {
    "ExecuteTime": {
     "end_time": "2017-12-12T20:40:06.726006Z",
     "start_time": "2017-12-12T20:40:06.600486Z"
    }
   },
   "outputs": [
    {
     "data": {
      "image/png": "[encoded data removed]",
      "text/plain": [
       "<matplotlib.figure.Figure at 0x10d5e4c18>"
      ]
     },
     "metadata": {},
     "output_type": "display_data"
    }
   ],
   "source": [
    "import matplotlib.pyplot as plt\n",
    "%matplotlib inline\n",
    "\n",
    "plt.scatter(lr.predict(X),y);"
   ]
  },
  {
   "cell_type": "code",
   "execution_count": 10,
   "metadata": {
    "ExecuteTime": {
     "end_time": "2017-12-12T20:40:18.516589Z",
     "start_time": "2017-12-12T20:40:18.512983Z"
    },
    "collapsed": true
   },
   "outputs": [],
   "source": [
    "new_X = mr.muck_up_data(X, add_nan=False)"
   ]
  },
  {
   "cell_type": "code",
   "execution_count": 12,
   "metadata": {
    "ExecuteTime": {
     "end_time": "2017-12-12T20:40:45.224438Z",
     "start_time": "2017-12-12T20:40:45.220747Z"
    },
    "collapsed": true
   },
   "outputs": [],
   "source": [
    "from zwml.linear_models import sgd_regressor\n",
    "sgd = sgd_regressor(regularize=None)"
   ]
  },
  {
   "cell_type": "code",
   "execution_count": 13,
   "metadata": {
    "ExecuteTime": {
     "end_time": "2017-12-12T20:40:53.962667Z",
     "start_time": "2017-12-12T20:40:53.863189Z"
    },
    "collapsed": true
   },
   "outputs": [],
   "source": [
    "sgd.fit(new_X, y)"
   ]
  },
  {
   "cell_type": "code",
   "execution_count": 14,
   "metadata": {
    "ExecuteTime": {
     "end_time": "2017-12-12T20:40:59.330378Z",
     "start_time": "2017-12-12T20:40:59.325268Z"
    }
   },
   "outputs": [
    {
     "data": {
      "text/plain": [
       "-0.010383706913208874"
      ]
     },
     "execution_count": 14,
     "metadata": {},
     "output_type": "execute_result"
    }
   ],
   "source": [
    "sgd.score(new_X,y)"
   ]
  },
  {
   "cell_type": "code",
   "execution_count": 15,
   "metadata": {
    "ExecuteTime": {
     "end_time": "2017-12-12T20:41:11.253884Z",
     "start_time": "2017-12-12T20:41:11.125307Z"
    }
   },
   "outputs": [
    {
     "data": {
      "image/png": "[encoded data removed]",
      "text/plain": [
       "<matplotlib.figure.Figure at 0x10d8e77f0>"
      ]
     },
     "metadata": {},
     "output_type": "display_data"
    }
   ],
   "source": [
    "plt.scatter(sgd.predict(new_X),y);"
   ]
  },
  {
   "cell_type": "code",
   "execution_count": null,
   "metadata": {
    "collapsed": true
   },
   "outputs": [],
   "source": []
  }
 ],
 "metadata": {
  "kernelspec": {
   "display_name": "Python [default]",
   "language": "python",
   "name": "python3"
  },
  "language_info": {
   "codemirror_mode": {
    "name": "ipython",
    "version": 3
   },
   "file_extension": ".py",
   "mimetype": "text/x-python",
   "name": "python",
   "nbconvert_exporter": "python",
   "pygments_lexer": "ipython3",
   "version": "3.6.2"
  },
  "toc": {
   "nav_menu": {},
   "number_sections": true,
   "sideBar": true,
   "skip_h1_title": false,
   "toc_cell": false,
   "toc_position": {},
   "toc_section_display": "block",
   "toc_window_display": false
  }
 },
 "nbformat": 4,
 "nbformat_minor": 2
}
