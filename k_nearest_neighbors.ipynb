{
 "cells": [
  {
   "cell_type": "markdown",
   "metadata": {},
   "source": [
    "# K-Nearest Neighbor Classifier"
   ]
  },
  {
   "cell_type": "code",
   "execution_count": 1,
   "metadata": {
    "ExecuteTime": {
     "end_time": "2017-10-09T21:53:34.504486Z",
     "start_time": "2017-10-09T21:53:34.053355Z"
    },
    "collapsed": true
   },
   "outputs": [],
   "source": [
    "import numpy as np\n",
    "import random\n",
    "import matplotlib.pyplot as plt\n",
    "import pandas as pd\n",
    "import math\n",
    "import scipy\n",
    "%matplotlib inline\n",
    "plt.style.use('seaborn')"
   ]
  },
  {
   "cell_type": "code",
   "execution_count": 4,
   "metadata": {
    "ExecuteTime": {
     "end_time": "2017-10-09T21:45:33.464270Z",
     "start_time": "2017-10-09T21:45:33.453857Z"
    }
   },
   "outputs": [
    {
     "name": "stdout",
     "output_type": "stream",
     "text": [
      "Python Version: 3.6.2 |Anaconda, Inc.| (default, Sep 21 2017, 18:29:43) \n",
      "[GCC 4.2.1 Compatible Clang 4.0.1 (tags/RELEASE_401/final)] \n",
      "\n",
      "Matplotlib Version: 2.0.2\n",
      "Numpy Version: 1.13.1\n",
      "Pandas Version: 0.20.3\n",
      "Scipy Version: 0.19.1\n",
      "Sklearn Version: 0.19.0\n"
     ]
    }
   ],
   "source": [
    "import sklearn\n",
    "import matplotlib\n",
    "import sys\n",
    "libraries = (('Matplotlib', matplotlib), ('Numpy', np), ('Pandas', pd), ('Scipy', scipy), ('Sklearn', sklearn))\n",
    "\n",
    "print(\"Python Version:\", sys.version, '\\n')\n",
    "for lib in libraries:\n",
    "    print('{0} Version: {1}'.format(lib[0], lib[1].__version__))"
   ]
  },
  {
   "cell_type": "code",
   "execution_count": 2,
   "metadata": {
    "ExecuteTime": {
     "end_time": "2017-10-09T21:53:36.585388Z",
     "start_time": "2017-10-09T21:53:36.580903Z"
    },
    "collapsed": true
   },
   "outputs": [],
   "source": [
    "def get_data():\n",
    "    from sklearn.datasets import load_iris\n",
    "    iris = load_iris()\n",
    "    return iris.data, iris.target"
   ]
  },
  {
   "cell_type": "code",
   "execution_count": 171,
   "metadata": {
    "ExecuteTime": {
     "end_time": "2017-10-09T22:42:56.993723Z",
     "start_time": "2017-10-09T22:42:56.775442Z"
    }
   },
   "outputs": [],
   "source": [
    "import math\n",
    "import numpy as np\n",
    "import copy\n",
    "import collections\n",
    "\n",
    "class KNearestNeighbors:\n",
    "    \n",
    "    def __init__(self, n_neighbors=5):\n",
    "        \"\"\"\n",
    "        KNearestNeighbors is a distance based classifier that returns\n",
    "        predictions based on the nearest points in the feature space.\n",
    "        ---\n",
    "        In: n_neighbors (int) - how many closest neighbors do we consider\n",
    "        \"\"\"\n",
    "        self.k = int(n_neighbors)\n",
    "        self.X = None\n",
    "        self.y = None\n",
    "        \n",
    "    def fit(self, X, y):\n",
    "        \"\"\"\n",
    "        Makes a copy of the training data that can live within the class.\n",
    "        Thus, the model can be serialized and used away from the original\n",
    "        training data. \n",
    "        ---\n",
    "        In: X (features), y (labels); both np.array or pandas dataframe/series\n",
    "        \"\"\"\n",
    "        self.X = copy.copy(self.pandas_to_numpy(X))\n",
    "        self.y = copy.copy(self.pandas_to_numpy(y))\n",
    "        \n",
    "    def pandas_to_numpy(self, x):\n",
    "        \"\"\"\n",
    "        Checks if the input is a Dataframe or series, converts to numpy matrix for\n",
    "        calculation purposes.\n",
    "        ---\n",
    "        Input: X (array, dataframe, or series)\n",
    "        \n",
    "        Output: X (array)\n",
    "        \"\"\"\n",
    "        if type(x) == type(pd.DataFrame()) or type(x) == type(pd.Series()):\n",
    "            return x.as_matrix()\n",
    "        if type(x) == type(np.array([1,2])):\n",
    "            return x\n",
    "        return np.array(x)\n",
    "    \n",
    "    def predict(self, X):\n",
    "        \"\"\"\n",
    "        Iterates through all points to predict, calculating the distance\n",
    "        to all of the training points. It then passes that to a sorting function\n",
    "        which returns the most common vote of the n_neighbors (k) closest training\n",
    "        points.\n",
    "        ___\n",
    "        In: new data to predict (np.array, pandas series/dataframe)\n",
    "        Out: predictions (np.array)\n",
    "        \"\"\"\n",
    "        X = self.pandas_to_numpy(X)\n",
    "        results = []\n",
    "        for x in X:\n",
    "            local_results = []\n",
    "            for (x2,y) in zip(self.X,self.y):\n",
    "                local_results.append([self.dist_between_points(x,x2),y])\n",
    "            results.append(self.get_final_predict(local_results))\n",
    "        return np.array(results).reshape(-1,1)\n",
    "            \n",
    "    def get_final_predict(self,results):\n",
    "        \"\"\"\n",
    "        Takes a list of [distance, label] pairs and sorts by distance,\n",
    "        returning the mode vote for the n_neighbors (k) closest votes. \n",
    "        ---\n",
    "        In: [[distance, label]] list of lists\n",
    "        Output: class label (int)\n",
    "        \"\"\"\n",
    "        results = sorted(results, key=lambda x: x[0])\n",
    "        dists, votes = zip(*results)\n",
    "        return collections.Counter(votes[:self.k]).most_common(1)[0][0]\n",
    "\n",
    "    def dist_between_points(self, a, b):\n",
    "        \"\"\"\n",
    "        Calculates the distance between two vectors.\n",
    "        ---\n",
    "        Inputs: a,b (np.arrays)\n",
    "        Outputs: distance (float)\"\"\"\n",
    "        assert np.array(a).shape == np.array(b).shape\n",
    "        return np.sqrt(np.sum((a-b)**2))\n",
    "    \n",
    "    def score(self, X, y):\n",
    "        \"\"\"\n",
    "        Uses the predict method to measure the accuracy of the model.\n",
    "        ---\n",
    "        In: X (list or array), feature matrix; y (list or array) labels\n",
    "        Out: accuracy (float)\n",
    "        \"\"\"\n",
    "        pred = self.predict(X)\n",
    "        correct = 0\n",
    "        for i,j in zip(y,pred):\n",
    "            if i == j:\n",
    "                correct+=1\n",
    "        return float(correct)/float(len(y))"
   ]
  },
  {
   "cell_type": "code",
   "execution_count": 172,
   "metadata": {
    "ExecuteTime": {
     "end_time": "2017-10-09T22:42:59.068519Z",
     "start_time": "2017-10-09T22:42:59.063581Z"
    }
   },
   "outputs": [],
   "source": [
    "X,y = get_data()"
   ]
  },
  {
   "cell_type": "code",
   "execution_count": 137,
   "metadata": {
    "ExecuteTime": {
     "end_time": "2017-10-09T22:29:04.774399Z",
     "start_time": "2017-10-09T22:29:04.760387Z"
    }
   },
   "outputs": [],
   "source": [
    "def shuffle_data(X, y):\n",
    "    assert len(X) == len(y)\n",
    "    permute = np.random.permutation(len(y))\n",
    "    return X[permute], y[permute]\n",
    "\n",
    "def train_test_split_manual(X, y, test_size=0.3):\n",
    "    nX, ny = shuffle_data(X,y)\n",
    "    split_index = int(len(X)*test_size)\n",
    "    testX = nX[:split_index]\n",
    "    trainX = nX[split_index:]\n",
    "    testy = ny[:split_index]\n",
    "    trainy = ny[split_index:]\n",
    "    return trainX, testX, trainy, testy"
   ]
  },
  {
   "cell_type": "code",
   "execution_count": 173,
   "metadata": {
    "ExecuteTime": {
     "end_time": "2017-10-09T22:43:01.436515Z",
     "start_time": "2017-10-09T22:43:01.432572Z"
    },
    "collapsed": true
   },
   "outputs": [],
   "source": [
    "x_train, x_test, y_train, y_test = train_test_split_manual(X,y,test_size=0.3)"
   ]
  },
  {
   "cell_type": "code",
   "execution_count": 174,
   "metadata": {
    "ExecuteTime": {
     "end_time": "2017-10-09T22:43:01.921943Z",
     "start_time": "2017-10-09T22:43:01.842975Z"
    }
   },
   "outputs": [
    {
     "data": {
      "text/plain": [
       "1.0"
      ]
     },
     "execution_count": 174,
     "metadata": {},
     "output_type": "execute_result"
    }
   ],
   "source": [
    "knn = KNearestNeighbors(n_neighbors=5)\n",
    "knn.fit(x_train,y_train)\n",
    "knn.score(x_test,y_test)"
   ]
  },
  {
   "cell_type": "code",
   "execution_count": 175,
   "metadata": {
    "ExecuteTime": {
     "end_time": "2017-10-09T22:43:05.150446Z",
     "start_time": "2017-10-09T22:43:05.141789Z"
    }
   },
   "outputs": [
    {
     "data": {
      "text/plain": [
       "1.0"
      ]
     },
     "execution_count": 175,
     "metadata": {},
     "output_type": "execute_result"
    }
   ],
   "source": [
    "from sklearn.neighbors import KNeighborsClassifier\n",
    "\n",
    "sk_knn = KNeighborsClassifier(n_neighbors=5)\n",
    "sk_knn.fit(x_train,y_train)\n",
    "sk_knn.score(x_test,y_test)"
   ]
  },
  {
   "cell_type": "code",
   "execution_count": 176,
   "metadata": {
    "ExecuteTime": {
     "end_time": "2017-10-09T22:43:08.416140Z",
     "start_time": "2017-10-09T22:43:06.995844Z"
    }
   },
   "outputs": [
    {
     "data": {
      "image/png": "[encoded data removed]",
      "text/plain": [
       "<matplotlib.figure.Figure at 0x10e745a90>"
      ]
     },
     "metadata": {},
     "output_type": "display_data"
    }
   ],
   "source": [
    "myscore = []\n",
    "skscore = []\n",
    "for k in range(1,55)[::2]:\n",
    "    knn = KNearestNeighbors(n_neighbors=k)\n",
    "    knn.fit(x_train,y_train)\n",
    "    myscore.append(knn.score(x_test,y_test))\n",
    "    sk_knn = KNeighborsClassifier(n_neighbors=k)\n",
    "    sk_knn.fit(x_train,y_train)\n",
    "    skscore.append(sk_knn.score(x_test,y_test))\n",
    "    \n",
    "plt.plot(range(1,55)[::2],myscore,'r-',lw=4,label=\"kNN Scratch\")\n",
    "plt.plot(range(1,55)[::2],skscore,'-k',label=\"kNN SkLearn\")\n",
    "plt.legend(loc=\"lower left\", fontsize=16);"
   ]
  },
  {
   "cell_type": "code",
   "execution_count": null,
   "metadata": {
    "collapsed": true
   },
   "outputs": [],
   "source": []
  }
 ],
 "metadata": {
  "kernelspec": {
   "display_name": "Python [conda root]",
   "language": "python",
   "name": "conda-root-py"
  },
  "language_info": {
   "codemirror_mode": {
    "name": "ipython",
    "version": 3
   },
   "file_extension": ".py",
   "mimetype": "text/x-python",
   "name": "python",
   "nbconvert_exporter": "python",
   "pygments_lexer": "ipython3",
   "version": "3.6.2"
  },
  "toc": {
   "nav_menu": {},
   "number_sections": true,
   "sideBar": true,
   "skip_h1_title": false,
   "toc_cell": false,
   "toc_position": {},
   "toc_section_display": "block",
   "toc_window_display": false
  }
 },
 "nbformat": 4,
 "nbformat_minor": 2
}
